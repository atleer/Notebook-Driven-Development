{
 "cells": [
  {
   "cell_type": "code",
   "execution_count": null,
   "id": "c39b4147-d26b-4f4d-8150-9ab4fba72b42",
   "metadata": {},
   "outputs": [],
   "source": [
    "# !pip install pandas hvplot"
   ]
  },
  {
   "cell_type": "code",
   "execution_count": null,
   "id": "b0ae7f2e-9ed1-4dee-8b73-d39fffef0113",
   "metadata": {},
   "outputs": [],
   "source": [
    "import pandas as pd\n",
    "import hvplot.pandas"
   ]
  },
  {
   "cell_type": "markdown",
   "id": "8752caf7-dda1-4faa-92e8-12ac74b55dde",
   "metadata": {},
   "source": [
    "# Jupyter Notebooks To Make Advanced Analysis Documents\n",
    "\n",
    "Jupyter Notebooks are a powerful tool to combine your code and add analysis documentation all in the same document.\n",
    "In this session, we start by understanding the basic unit of a Jupyter notebook known as cell.\n",
    "Then we look into some of the advanced ways to integrate text based explanations into analysis document.\n",
    "Now that we are familiar with the structure of Jupyter notebook, we move on to looking at the data itself within a notebook using `Pandas`.\n",
    "Finally, we use `hvPlot` to add visualizations.\n",
    "\n",
    "To make things easier, you can use the following shortcut table to quickly navigate and edit Jupyter notebook.\n",
    "\n",
    "| **Category**               | **Shortcut**              | **Action**                                         |\n",
    "|----------------------------|---------------------------|---------------------------------------------------|\n",
    "| **Cell Operations**         | `Shift + Enter`           | Run the current cell and move to the next         |\n",
    "|                            | `Ctrl + Enter`            | Run the current cell but stay on the same cell    |\n",
    "|                            | `Ctrl + Shift + -`        | Split the current cell at the cursor              |\n",
    "| **Cell Insertion and Deletion** | `Esc + A`             | Insert a new cell above                           |\n",
    "|                            | `Esc + B`                 | Insert a new cell below                           |\n",
    "|                            | `Esc + D + D`             | Delete the current cell                           |\n",
    "|                            | `Esc + Z`                 | Undo cell deletion                                |\n",
    "| **Cell Type Conversion**    | `Esc + M`                 | Convert the current cell to Markdown              |\n",
    "|                            | `Esc + Y`                 | Convert the current cell to Code                  |\n",
    "|                            | `Esc + R`                 | Convert the current cell to Raw                   |\n",
    "| **Editing and Saving**      | `Ctrl + S`                | Save the notebook                                 |\n",
    "|                            | `Ctrl + /`                | Toggle comment on the selected code line(s)       |\n",
    "\n",
    "---\n"
   ]
  },
  {
   "cell_type": "markdown",
   "id": "2ef4e08f-36fb-4496-b893-fb3dc1bfcc73",
   "metadata": {},
   "source": [
    "## Cell Types and Cell Modes\n",
    "\n",
    "Cell is a basic unit of Jupyter notebook. It is where we write, execute, and organize our code and notes. There are three types of cells in Jupyter.\n",
    "\n",
    "![Cell Type](img/cell_mode.png)\n",
    "\n",
    "- **Code Cells**: Execute code and display the resulting output below the cell.\n",
    "- **Markdown Cells**: Render formatted text for documentation, using Markdown syntax.\n",
    "- **Raw Cells**: Contain raw, unprocessed text meant for export without modification.\n",
    "\n",
    "There are two types of cell modes: Command mode and Edit mode. Basically, command mode lets you change your cell at the notebook level while edit mode lets you change the contents of the cell. \n",
    "\n",
    "| Mode          | How to Access                | What Can Be Done                                  |\n",
    "|---------------|------------------------------|---------------------------------------------------|\n",
    "| **Command Mode** | Press **Esc** or click outside the cell | Manage cells: Add, delete, copy, paste, move cells. |\n",
    "| **Edit Mode**    | Press **Enter** or click inside the cell | Edit cell content: Type, modify text/code, format. |"
   ]
  },
  {
   "cell_type": "markdown",
   "id": "fd78dc16-7dd6-4e1a-bcf8-f693c276512e",
   "metadata": {},
   "source": [
    "**Example** In a code cell, type 1+1 and execute the cell (Ctrl+Enter). What do you see?"
   ]
  },
  {
   "cell_type": "code",
   "execution_count": null,
   "id": "ef074ba8-542c-4a29-a24c-b22d02c29991",
   "metadata": {},
   "outputs": [],
   "source": [
    "1+1"
   ]
  },
  {
   "cell_type": "markdown",
   "id": "95b59b3b-efbc-471d-8e63-a578de7a10ba",
   "metadata": {},
   "source": [
    "Jupyter evaluates the arithmetic expression and displays the result 2. \n",
    "Since it's an expression, the output is captured and numbered as Out[1]: 2. where the square brackets hold the execution count. \n",
    "If you execute the same cell again, it will change.\n",
    "\n",
    "Type in \"Hello\" in a code cell and execute it. Do you still see the ouput number?"
   ]
  },
  {
   "cell_type": "code",
   "execution_count": null,
   "id": "798cc0a4-95e6-45c4-8f59-953d998538ad",
   "metadata": {},
   "outputs": [],
   "source": [
    "\"Hello\""
   ]
  },
  {
   "cell_type": "markdown",
   "id": "a52e8b70-19d9-4b16-9bf4-c1e8a80151a1",
   "metadata": {},
   "source": [
    "You will see it as \"Hello\" is still considered a string expression in Jupyter and evaluated. \n",
    "Now, let's use a Python print() function to display hello.\n",
    "\n",
    "Type `print(\"Hello\")` in a code cell. Any difference?"
   ]
  },
  {
   "cell_type": "code",
   "execution_count": null,
   "id": "069c1b23-3352-46d3-9e03-c4fdee041ca6",
   "metadata": {},
   "outputs": [],
   "source": [
    "print('Hello')"
   ]
  },
  {
   "cell_type": "markdown",
   "id": "eab476d6-c610-4d7f-93c2-83b5763af514",
   "metadata": {},
   "source": [
    "Unlike expressions, print() doesn't return a value, so no output number is assigned, and the result appears as console output without a corresponding Out[] number. \n",
    "\n",
    "**Example** Assign value of 10 to variable a and execute the code cell."
   ]
  },
  {
   "cell_type": "code",
   "execution_count": null,
   "id": "6fcaa3d0-bf93-42ae-9af2-bb4fad02e2f5",
   "metadata": {},
   "outputs": [],
   "source": [
    "a=10"
   ]
  },
  {
   "cell_type": "markdown",
   "id": "74e9808f-c34e-4abe-a16b-906e96c76385",
   "metadata": {},
   "source": [
    "This is an assignment statement. \n",
    "It assigns the value 10 to the variable a. \n",
    "Since assignment statements don’t produce output by themselves, there is no result displayed or numbered output.\n",
    "\n",
    "If you want to see an output, type \n",
    "```\n",
    "a=10\n",
    "a\n",
    "```"
   ]
  },
  {
   "cell_type": "code",
   "execution_count": null,
   "id": "29d3fe64-6484-4a6b-8b35-c2e7e109fbe1",
   "metadata": {},
   "outputs": [],
   "source": [
    "a=10\n",
    "a"
   ]
  },
  {
   "cell_type": "markdown",
   "id": "0a95c7f3-07d9-4dff-bec6-2f7ac0509c42",
   "metadata": {},
   "source": [
    "After assigning a = 10 in the previous cell, entering just a evaluates the variable and returns its value, 10. \n",
    "This is treated as an expression, so Jupyter displays the result and assigns the output number.\n",
    "\n",
    "Assign \n",
    "\n",
    "`10 to a` and `10 to b`\n",
    "\n",
    "Add a and b \n",
    "\n",
    "Execute the cell"
   ]
  },
  {
   "cell_type": "code",
   "execution_count": null,
   "id": "30ca5636-1082-4ca5-87d6-ea2984b903fb",
   "metadata": {},
   "outputs": [],
   "source": [
    "a=10\n",
    "b=10\n",
    "a+b"
   ]
  },
  {
   "cell_type": "markdown",
   "id": "f02629a7-1d32-4b2a-85c2-c0d3232b82d1",
   "metadata": {},
   "source": [
    "Let's see a small example of markdown cell. \n",
    "\n",
    "**Example** Type 1+1 in a markdown cell"
   ]
  },
  {
   "cell_type": "markdown",
   "id": "8b957e46-9be3-4dc2-8f9b-a017042f501c",
   "metadata": {},
   "source": [
    "1 + 1"
   ]
  },
  {
   "cell_type": "markdown",
   "id": "7fcb911d-a5d4-46e3-9f45-30120c883012",
   "metadata": {},
   "source": [
    "It does not do anything as markdown cells are not evaluated. \n",
    "They are only for formatting texts\n",
    "\n",
    "Try `print(\"hello\")` in markdown. What do you expect?"
   ]
  },
  {
   "cell_type": "markdown",
   "id": "da59d3ec-b26b-466c-a1ae-23462108000b",
   "metadata": {},
   "source": [
    "print(\"hello\")"
   ]
  },
  {
   "cell_type": "markdown",
   "id": "727fc50a-c419-4f64-ace0-902f2f4ea0f4",
   "metadata": {},
   "source": [
    "**Example** Type 1+1 in Raw cell"
   ]
  },
  {
   "cell_type": "raw",
   "id": "f2c7407f-71f6-4e3e-9c94-ee9cc2109cb2",
   "metadata": {},
   "source": [
    "1 + 1"
   ]
  },
  {
   "cell_type": "markdown",
   "id": "cdd4fe57-9ede-4e98-a035-6f7bb93690f2",
   "metadata": {},
   "source": [
    "Nothing? Same as Markdown? Then why Raw? \n",
    "Raw cells display content exactly as it is written, with no formatting, processing, or interpretation. \n",
    "They are typically used when you want to export the notebook in a specific way or preserve unformatted text. \n",
    "Markdown cells process the content, apply markdown formatting, and display it in a rendered form.\n",
    "\n",
    "Lets summarize the three types of cells with the below exercises\n",
    "\n",
    "**Example** Type the below code in a code cell. \n",
    "```python\n",
    "#### this is in code\n",
    "```"
   ]
  },
  {
   "cell_type": "code",
   "execution_count": null,
   "id": "624b64bd-7f47-4665-b1e7-ff0767458522",
   "metadata": {},
   "outputs": [],
   "source": [
    "#### this is in code"
   ]
  },
  {
   "cell_type": "markdown",
   "id": "2b0ed8d2-2bec-485d-8c9a-8e43829e70d8",
   "metadata": {},
   "source": [
    "This executes like a code cell. \n",
    "In Python, any line starting with `#` is not executed. \n",
    "These are called comments.\n",
    "\n",
    "Type `#### this is in markdown` in markdown cell"
   ]
  },
  {
   "cell_type": "markdown",
   "id": "4e2fbeb7-8fff-4d92-a6aa-b811a00c53a0",
   "metadata": {},
   "source": [
    "# This is in markdown"
   ]
  },
  {
   "cell_type": "markdown",
   "id": "ba70ad06-1e68-4c80-8e93-9dbd09dfb384",
   "metadata": {},
   "source": [
    "Markdown renders anything after # as a heading. \n",
    "So you see the same text in large font size. \n",
    "\n",
    "Type '#### this is raw' in raw cell"
   ]
  },
  {
   "cell_type": "raw",
   "id": "8ba9fc7e-ce90-46e9-a31b-7f28646da644",
   "metadata": {},
   "source": [
    "#### this is raw"
   ]
  },
  {
   "cell_type": "markdown",
   "id": "09498535-769b-4da4-a640-5f55bd119939",
   "metadata": {},
   "source": [
    "Here the text is not formatted. \n",
    "\n",
    "---"
   ]
  },
  {
   "cell_type": "markdown",
   "id": "c580554a-40d8-4465-b754-d1813364686b",
   "metadata": {},
   "source": [
    "## Markdown\n",
    "\n",
    "Markdown in Jupyter Notebooks is a great tool for formatting text, embedding images, and organizing information.\n",
    "\n",
    "You can create headings using # symbols for different levels. \n",
    "More number of # preceding the heading text, smaller is the font size. \n",
    "\n",
    "**Example** Create a markdown cell that looks like this\n",
    "# This is level 1 heading\n",
    "\n",
    "Hint: \n",
    "```markdown\n",
    "# This is level 1 heading\n",
    "```"
   ]
  },
  {
   "cell_type": "markdown",
   "id": "710c0923-3a9c-4c43-8d6f-8676ff5fc4d8",
   "metadata": {},
   "source": [
    "--- *your code here*"
   ]
  },
  {
   "cell_type": "markdown",
   "id": "5e0ead1c-70b2-4d28-952d-5332a01c1bed",
   "metadata": {},
   "source": [
    "Create a level 2 heading\n",
    "\n",
    "<h2>This is a level 2 heading</h2>"
   ]
  },
  {
   "cell_type": "markdown",
   "id": "6eab09aa-5048-46e6-88a6-55f289c9ec82",
   "metadata": {},
   "source": [
    "--- *your code here*"
   ]
  },
  {
   "cell_type": "markdown",
   "id": "b415a0f2-dbcb-44ed-a0e2-f298aad1dbf3",
   "metadata": {},
   "source": [
    "Create a level 6 heading\n",
    "\n",
    "<h2>This is a level 6 heading</h2>"
   ]
  },
  {
   "cell_type": "markdown",
   "id": "7fb695e7-516d-4c43-8713-aeb1c7722652",
   "metadata": {},
   "source": [
    "--- your code here"
   ]
  },
  {
   "cell_type": "markdown",
   "id": "c4e2c195-f1bb-43ba-9d52-ff18235e2464",
   "metadata": {},
   "source": [
    "You can also make the text bold, italics, or both.\n",
    "\n",
    "**Example** Make text bold\n",
    "\n",
    "```markdown\n",
    "**This is Bold**\n",
    "```"
   ]
  },
  {
   "cell_type": "markdown",
   "id": "e16c853a-3fc3-405d-b446-822618353170",
   "metadata": {},
   "source": [
    "--- your code here"
   ]
  },
  {
   "cell_type": "markdown",
   "id": "5d31117a-9783-4eae-833d-5911b1f7a249",
   "metadata": {},
   "source": [
    "Display below text by using only one `*` instead of two on either side of the text.\n",
    "\n",
    "<i>This is italics</i>"
   ]
  },
  {
   "cell_type": "markdown",
   "id": "144803b9-66d8-4bfa-847c-e04b06fa82ae",
   "metadata": {},
   "source": [
    "--- your code here"
   ]
  },
  {
   "cell_type": "markdown",
   "id": "5d05ce92-2903-4db8-8569-8b7c3d67994c",
   "metadata": {},
   "source": [
    "Display below text by using *** on either side of the text\n",
    "\n",
    "<b><i>This is bold and italics</b></i>"
   ]
  },
  {
   "cell_type": "markdown",
   "id": "4638a248-9e22-4200-ac9e-207b514cf288",
   "metadata": {},
   "source": [
    "--- your code here"
   ]
  },
  {
   "cell_type": "markdown",
   "id": "83138dcb-8c51-45d6-8f26-f81fd7dd9ef1",
   "metadata": {},
   "source": [
    "Making ordered and unordered lists in Jupyter notebook is quite simple.\n",
    "\n",
    "**Example** Make an unordered list of three programming languages\n",
    "```markdown\n",
    "- Python\n",
    "- Julia\n",
    "- R\n",
    "```"
   ]
  },
  {
   "cell_type": "markdown",
   "id": "08776d33-2f11-4ab6-8084-87b151f511fa",
   "metadata": {},
   "source": [
    "--- your code here"
   ]
  },
  {
   "cell_type": "markdown",
   "id": "d11f2fba-f06d-428a-be9d-47e9ae9178dc",
   "metadata": {},
   "source": [
    "You can also use *, or + to create unordered lists. \n",
    "Make an unordered list of your three favorite fruits using `*`"
   ]
  },
  {
   "cell_type": "markdown",
   "id": "5eca9c0a-22b1-4f98-b1cf-da43f22eb9a1",
   "metadata": {},
   "source": [
    "--- your code here"
   ]
  },
  {
   "cell_type": "markdown",
   "id": "4a6cf224-a2f8-4929-b0bb-e206f688d312",
   "metadata": {},
   "source": [
    "Make an unordered list of your favorite vegetables using +"
   ]
  },
  {
   "cell_type": "markdown",
   "id": "a908336e-d464-4ace-84ba-747135feec68",
   "metadata": {},
   "source": [
    "--- your code here"
   ]
  },
  {
   "cell_type": "markdown",
   "id": "25c3e8b8-7712-4983-9822-19eab168d6eb",
   "metadata": {},
   "source": [
    "Order your favorite vegetables starting from most favorite using `1` to `3` to number your list."
   ]
  },
  {
   "cell_type": "markdown",
   "id": "a21c0a5f-b2b0-44b1-a35a-b0a75421eb3b",
   "metadata": {},
   "source": [
    "--- your code here"
   ]
  },
  {
   "cell_type": "markdown",
   "id": "71ca10c3-9997-4e38-95a8-47e740fab3c5",
   "metadata": {},
   "source": [
    "Create this list in markdown\n",
    "\n",
    "<ul>\n",
    "  <li>First item\n",
    "    <ul>\n",
    "      <li>Sub-item 1\n",
    "        <ul>\n",
    "          <li>Sub-sub-item 1</li>\n",
    "          <li>Sub-sub-item 2</li>\n",
    "        </ul>\n",
    "      </li>\n",
    "      <li>Sub-item 2</li>\n",
    "    </ul>\n",
    "  </li>\n",
    "  <li>Second item\n",
    "    <ul>\n",
    "      <li>Sub-item 1\n",
    "        <ul>\n",
    "          <li>Sub-sub-item 1</li>\n",
    "        </ul>\n",
    "      </li>\n",
    "      <li>Sub-item 2</li>\n",
    "    </ul>\n",
    "  </li>\n",
    "</ul>\n"
   ]
  },
  {
   "cell_type": "markdown",
   "id": "61772e54-6c11-47ec-a213-b6cb5f4fc55b",
   "metadata": {},
   "source": [
    "--- your code here\n",
    "\n",
    "```markdown\n",
    "- First item\n",
    "  - Sub-item 1\n",
    "    - Sub-sub-item 1\n",
    "    - Sub-sub-item 2\n",
    "  - Sub-item 2\n",
    "- Second item\n",
    "  - Sub-item 1\n",
    "    - Sub-sub-item 1\n",
    "  - Sub-item 2\n",
    "```"
   ]
  },
  {
   "cell_type": "markdown",
   "id": "4556cb76-f708-4309-8bb9-a52964310ce8",
   "metadata": {},
   "source": [
    "Create this list\n",
    "\n",
    "1. First item (ordered)\n",
    "   - Sub-item 1 (unordered)\n",
    "     - Sub-sub-item 1 (unordered)\n",
    "     - Sub-sub-item 2 (unordered)\n",
    "   - Sub-item 2 (unordered)\n",
    "2. Second item (ordered)\n",
    "   1. Sub-item 1 (ordered)\n",
    "      - Sub-sub-item 1 (unordered)\n",
    "      - Sub-sub-item 2 (unordered)\n",
    "   2. Sub-item 2 (ordered)\n",
    "3. Third item (ordered)\n",
    "   - Sub-item 1 (unordered)\n",
    "   - Sub-item 2 (unordered)\n",
    "     1. Sub-sub-item 1 (ordered)\n",
    "     2. Sub-sub-item 2 (ordered)\n"
   ]
  },
  {
   "cell_type": "markdown",
   "id": "3c3596d1-30bb-470d-bca3-ab1398872b4d",
   "metadata": {},
   "source": [
    "--- your code here\n",
    "\n",
    "```markdown\n",
    "1. First item (ordered)\n",
    "   - Sub-item 1 (unordered)\n",
    "     - Sub-sub-item 1 (unordered)\n",
    "     - Sub-sub-item 2 (unordered)\n",
    "   - Sub-item 2 (unordered)\n",
    "2. Second item (ordered)\n",
    "   1. Sub-item 1 (ordered)\n",
    "      - Sub-sub-item 1 (unordered)\n",
    "      - Sub-sub-item 2 (unordered)\n",
    "   2. Sub-item 2 (ordered)\n",
    "3. Third item (ordered)\n",
    "   - Sub-item 1 (unordered)\n",
    "   - Sub-item 2 (unordered)\n",
    "     1. Sub-sub-item 1 (ordered)\n",
    "     2. Sub-sub-item 2 (ordered)\n",
    "```"
   ]
  },
  {
   "cell_type": "markdown",
   "id": "be98952a-0026-4918-8446-3e9af45a6ccf",
   "metadata": {},
   "source": [
    "You can add hyperlinks. \n",
    "\n",
    "```markdown\n",
    "[The Name You Want To See](https://abc.com)\n",
    "```\n",
    "\n",
    "Add a link to your favorite website"
   ]
  },
  {
   "cell_type": "markdown",
   "id": "307a9c99-a20f-43fd-a22b-8f34f2b1f011",
   "metadata": {},
   "source": [
    "```markdown\n",
    "[Google](wwww.google.com)\n",
    "```"
   ]
  },
  {
   "cell_type": "markdown",
   "id": "07befbfd-84b1-46a4-a5e3-004600fff6a7",
   "metadata": {},
   "source": [
    "Adding images is almost the same syntax\n",
    "\n",
    "```markdown\n",
    "![Sample Image](path/to/image.png)\n",
    "```\n",
    "\n",
    "**Example** Type in the below text in markdown cell \n",
    "```markdown\n",
    "![iBehave](img/iBehave_Logo.png)\n",
    "```"
   ]
  },
  {
   "cell_type": "markdown",
   "id": "13c45052-28ec-4fde-b0cd-a6ccdfd0f184",
   "metadata": {},
   "source": [
    "--- your code here"
   ]
  },
  {
   "cell_type": "markdown",
   "id": "7d9e6675-eaf0-4c5c-bdbb-8ab599654417",
   "metadata": {},
   "source": [
    "Have a mathematical equation? No problem. You can use latex to write equations. Type the below code into markdown and see how it renders\n",
    "\n",
    "```markdown\n",
    "$E = mc^2$\n",
    "```"
   ]
  },
  {
   "cell_type": "markdown",
   "id": "660de112-5c1e-49ff-a503-f4fcdd4d729d",
   "metadata": {},
   "source": [
    "--- your code here"
   ]
  },
  {
   "cell_type": "markdown",
   "id": "57896b8c-d4d8-4109-9109-57687ca557a6",
   "metadata": {},
   "source": [
    "Want to make a table?\n",
    "\n",
    "```markdown\n",
    "| Column 1 | Column 2 |\n",
    "|----------|----------|\n",
    "| Value 1  | Value 2  |\n",
    "| Value 3  | Value 4  |\n",
    "```\n",
    "\n",
    "Make a table in the below cell with two columns and three rows"
   ]
  },
  {
   "cell_type": "markdown",
   "id": "04455ef6-e376-4fb5-afe0-a86994074fe8",
   "metadata": {},
   "source": [
    "--- your code here"
   ]
  },
  {
   "cell_type": "markdown",
   "id": "9ee28527-f8cd-4c13-bb01-b3b9f86296b0",
   "metadata": {},
   "source": [
    "Want to display a block of code in markdown? You can do so by enclosing your code within ```\n",
    "\n",
    "**Example** Show syntax of printing hello world in Python (Press enter on this cell to see the code)\n",
    "```python\n",
    "print(\"Hello, world!\")\n",
    "```"
   ]
  },
  {
   "cell_type": "markdown",
   "id": "109f252f-c520-46b0-af94-13a32e045d2f",
   "metadata": {},
   "source": [
    "--- your code here"
   ]
  },
  {
   "cell_type": "markdown",
   "id": "c456a355-337e-47cc-8342-e43b5614beb3",
   "metadata": {},
   "source": [
    "---"
   ]
  },
  {
   "cell_type": "markdown",
   "id": "74cdd806-0bd1-4c3c-943f-e32e3e3bc4da",
   "metadata": {},
   "source": [
    "## Reading in Data and Seeing it: Pandas\n",
    "\n",
    "`Pandas` is a popular Python library for tabular data analysis. Jupyter notebooks can display pandas data known as Dataframes in a simple tabular format making it easy to 'see' our data. Let's see how these tables appear in Jupyter notebooks.\n",
    "\n",
    "In this notebook, we'll get our first look at the experiment we'll be analyzing in this course; curated data from the [Steinmetz et al, 2019 paper](https://www.nature.com/articles/s41586-019-1787-x).\n",
    "\n",
    "The data we'll be using in this notebook is focused on three CSV files, each containing sessions from a different stretch of data collection. They contain trial-level data from the experiment:\n",
    "\n",
    "```\n",
    "steinmetz_winter2016.csv\n",
    "steinmetz_summer2017.csv\n",
    "steinmetz_winter2017.csv\n",
    "```\n",
    "\n",
    "**Run the below code to get the datasets downloaded to the `data` folder."
   ]
  },
  {
   "cell_type": "code",
   "execution_count": null,
   "id": "8498af5f-9cac-48be-80b5-3ac99c5b9910",
   "metadata": {},
   "outputs": [],
   "source": [
    "import sys\n",
    "sys.path.append('src')\n",
    "import sciebo\n",
    "\n",
    "sciebo.download_file('https://uni-bonn.sciebo.de/s/G5rdvTsoESXolF4', 'data/steinmetz_winter2017.csv')\n",
    "sciebo.download_file('https://uni-bonn.sciebo.de/s/xKAG9nqHyWmXBBI', 'data/steinmetz_winter2016.csv')\n",
    "sciebo.download_file('https://uni-bonn.sciebo.de/s/XLDoTQQoDdFLhlz', 'data/steinmetz_summer2017.csv')"
   ]
  },
  {
   "cell_type": "markdown",
   "id": "c770ae22-c7a7-4fc3-991b-a4cd37e508e4",
   "metadata": {},
   "source": [
    "**Example** Load the Winter 2016 dataset and preview the first 3 rows of the data"
   ]
  },
  {
   "cell_type": "code",
   "execution_count": null,
   "id": "997217d5-43e6-400f-9015-6c0ef3ee465f",
   "metadata": {},
   "outputs": [],
   "source": [
    "df1 = pd.read_csv('data/steinmetz_winter2016.csv')\n",
    "df1.head(3)"
   ]
  },
  {
   "cell_type": "markdown",
   "id": "e0dcf7bb-be41-48ad-a20d-6f483fa622da",
   "metadata": {},
   "source": [
    "Load the Winter 2017 Dataset and preview the first 5 rows of the data"
   ]
  },
  {
   "cell_type": "code",
   "execution_count": null,
   "id": "08e58228-07db-4ebc-8e37-a39deb998c60",
   "metadata": {},
   "outputs": [],
   "source": [
    "df2 = pd.read_csv('data/steinmetz_winter2017.csv')\n",
    "df2.head(5)"
   ]
  },
  {
   "cell_type": "markdown",
   "id": "d09f3dbe-7547-43cd-80fc-30f7776c85c9",
   "metadata": {},
   "source": [
    "Load the Summer 2017 Dataset and preview the last 4 rows of the data"
   ]
  },
  {
   "cell_type": "code",
   "execution_count": null,
   "id": "0544f9db-2120-45d9-b4b8-12557133fe7c",
   "metadata": {},
   "outputs": [],
   "source": [
    "df3 = pd.read_csv('data/steinmetz_summer2017.csv')\n",
    "df3.tail(4)"
   ]
  },
  {
   "cell_type": "markdown",
   "id": "c986be17-3c51-45f3-b87c-70ba2eb47b4d",
   "metadata": {},
   "source": [
    "**Example** Display basic structural information of Winter 2016"
   ]
  },
  {
   "cell_type": "code",
   "execution_count": null,
   "id": "63dcbfaf-5059-4012-bc7f-aa0f2e204f98",
   "metadata": {},
   "outputs": [],
   "source": [
    "df1.info()"
   ]
  },
  {
   "cell_type": "markdown",
   "id": "04325388-b998-406a-aa3f-30742b97773d",
   "metadata": {},
   "source": [
    "Display basic structural information of Winter 2017"
   ]
  },
  {
   "cell_type": "code",
   "execution_count": null,
   "id": "ff434cb9-1e4b-4e94-a509-11252d4fdbc2",
   "metadata": {},
   "outputs": [],
   "source": [
    "df2.info()"
   ]
  },
  {
   "cell_type": "markdown",
   "id": "78f17f8b-fe23-4b4b-a4ee-30f758aeb03a",
   "metadata": {},
   "source": [
    "Display basic structural information of Summer 2017"
   ]
  },
  {
   "cell_type": "code",
   "execution_count": null,
   "id": "cb44dbda-fb5c-4dba-96ac-8c041a56a2fd",
   "metadata": {},
   "outputs": [],
   "source": [
    "df3.info()"
   ]
  },
  {
   "cell_type": "markdown",
   "id": "e340e651-ac19-411a-8965-b376a96e95c1",
   "metadata": {},
   "source": [
    "**Example** Generate descriptive statistics of Winter 2016"
   ]
  },
  {
   "cell_type": "code",
   "execution_count": null,
   "id": "aff28d68-132c-4645-b339-4d3cfe096f3f",
   "metadata": {},
   "outputs": [],
   "source": [
    "df1.describe()"
   ]
  },
  {
   "cell_type": "markdown",
   "id": "f608cccb-ef42-48f3-8e23-596c93d3dfca",
   "metadata": {},
   "source": [
    "Generate descriptive statistics of Winter 2017"
   ]
  },
  {
   "cell_type": "code",
   "execution_count": null,
   "id": "7e5746e0-6df9-43d1-8d0c-aee833a1e73b",
   "metadata": {},
   "outputs": [],
   "source": [
    "df2.describe()"
   ]
  },
  {
   "cell_type": "markdown",
   "id": "ef92b14e-e7ca-4cec-865b-f400fca67f34",
   "metadata": {},
   "source": [
    "Generate descriptive statistics of Summer 2017"
   ]
  },
  {
   "cell_type": "code",
   "execution_count": null,
   "id": "3421ecce-2fd7-4587-b5f2-04b21658f2c0",
   "metadata": {},
   "outputs": [],
   "source": [
    "df3.describe()"
   ]
  },
  {
   "cell_type": "markdown",
   "id": "c6717033-de02-4ea5-be7a-fddd41550273",
   "metadata": {},
   "source": [
    "---"
   ]
  },
  {
   "cell_type": "markdown",
   "id": "26605b4c-e2ff-4621-8e4d-904eafe7c703",
   "metadata": {},
   "source": [
    "## Visualizations in Jupyter: HvPlot\n",
    "\n",
    "`hvPlot` is a plotting library that works directly with Pandas dataframe to make interactive plots. \n",
    "Let's get some practice with `hvPlot`.\n",
    "\n",
    "**Example** Make a histogram of `response_time` of Winter 2016"
   ]
  },
  {
   "cell_type": "code",
   "execution_count": null,
   "id": "2d48e20e-4837-4a31-9ab8-5b176b87d1c9",
   "metadata": {},
   "outputs": [],
   "source": [
    "df1.hvplot.hist('response_time')"
   ]
  },
  {
   "cell_type": "markdown",
   "id": "c9e12230-d3ff-4487-8c09-b0a8c9eb4754",
   "metadata": {},
   "source": [
    "The plot shows up as cell output. On the right side of the plot, there are options to interact with the plot.\n",
    "\n",
    "Make a histogram of `feedback_time` of Winter 2017 and \n",
    "1. Pan the plot using `Pan` option\n",
    "2. Refresh the plot using `Reset` option\n",
    "\n",
    "You can see the names of the options by hovering your mouse over it."
   ]
  },
  {
   "cell_type": "code",
   "execution_count": null,
   "id": "4e79d8e6-2169-4ecf-b84e-61ed605aada7",
   "metadata": {},
   "outputs": [],
   "source": [
    "df2.hvplot.hist('feedback_time')"
   ]
  },
  {
   "cell_type": "markdown",
   "id": "a69f964d-cb29-4359-ac17-5dfb85cbb9e2",
   "metadata": {},
   "source": [
    "Make a scatter plot of `response_time` with `feedback_time` of Summer 2017 and \n",
    "\n",
    "1. Zoom into a section of your interest using `Box Zoom`\n",
    "2. Save the plot with `Save`\n",
    "3. Reset the plot and `Save`"
   ]
  },
  {
   "cell_type": "code",
   "execution_count": null,
   "id": "66f03fdd-b5d5-49dc-83ec-19c31404808a",
   "metadata": {},
   "outputs": [],
   "source": [
    "df3.hvplot.scatter(x='response_time', y='feedback_time')"
   ]
  }
 ],
 "metadata": {
  "kernelspec": {
   "display_name": "Python 3 (ipykernel)",
   "language": "python",
   "name": "python3"
  },
  "language_info": {
   "codemirror_mode": {
    "name": "ipython",
    "version": 3
   },
   "file_extension": ".py",
   "mimetype": "text/x-python",
   "name": "python",
   "nbconvert_exporter": "python",
   "pygments_lexer": "ipython3",
   "version": "3.12.7"
  }
 },
 "nbformat": 4,
 "nbformat_minor": 5
}
