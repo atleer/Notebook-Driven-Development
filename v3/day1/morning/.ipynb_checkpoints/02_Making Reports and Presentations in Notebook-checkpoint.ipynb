{
 "cells": [
  {
   "cell_type": "markdown",
   "id": "da423b58-fd7d-49b2-9877-3e4abb215a1d",
   "metadata": {
    "editable": true,
    "slideshow": {
     "slide_type": ""
    },
    "tags": []
   },
   "source": [
    "# Making Reports and Presentations in Jupyter Notebook\n",
    "\n",
    "Creating reports and presentations directly from Jupyter notebooks is helpful because it keeps everything—code, data, and explanations—in one place. \n",
    "You don’t have to move things between different programs, so your results and graphs are always up-to-date and consistent. \n",
    "Jupyter lets you export your work into formats like PDFs or slides, which makes sharing easier. \n",
    "This approach saves time, avoids mistakes, and makes it simpler to explain complex information."
   ]
  },
  {
   "cell_type": "markdown",
   "id": "1c4545b4-2a03-4e90-8188-2f1bc4c6b486",
   "metadata": {},
   "source": [
    "## Making Reports"
   ]
  },
  {
   "cell_type": "code",
   "execution_count": 1,
   "id": "6cadf3d3-46cc-4b09-aa3e-bc81d3eadfff",
   "metadata": {},
   "outputs": [],
   "source": [
    "a = 10\n",
    "b = 100"
   ]
  },
  {
   "cell_type": "markdown",
   "id": "7f156cf4-0f35-4e7d-ada2-30910574e474",
   "metadata": {},
   "source": [
    "The results are\n",
    "\n",
    "$c=a+b$"
   ]
  },
  {
   "cell_type": "code",
   "execution_count": 2,
   "id": "3eb1748b-af16-4e6f-a1b2-711665bd8d4a",
   "metadata": {},
   "outputs": [],
   "source": [
    "c = a + b"
   ]
  },
  {
   "cell_type": "markdown",
   "id": "55450076-2fbe-4d7b-a89e-1b2f77a42973",
   "metadata": {
    "editable": true,
    "slideshow": {
     "slide_type": ""
    },
    "tags": []
   },
   "source": [
    "Export as HTML. Open it and examine how it looks.\n",
    "\n",
    "<img src=\"img/export.png\" alt=\"export\" width=\"300\"/>"
   ]
  },
  {
   "cell_type": "markdown",
   "id": "798d0002-28c1-4652-9598-4dddb7a52007",
   "metadata": {},
   "source": [
    "Export as Markdown for text-based report. Examine how it looks? \n",
    "\n",
    "1. How do code cells appear?\n",
    "2. How do markdown cells appear?\n",
    "3. How does latex cell appear?"
   ]
  },
  {
   "cell_type": "markdown",
   "id": "a392ad97-0048-4468-94cb-646f2745b8e1",
   "metadata": {
    "editable": true,
    "slideshow": {
     "slide_type": ""
    },
    "tags": []
   },
   "source": [
    "(Optional) Export as PDF for scientific reports\n",
    "\n",
    "You will need to do the following before\n",
    "\n",
    "1. Install [texlive](https://www.tug.org/texlive/) \n",
    "2. ```python\n",
    "   pip install nbconvert pandoc\n",
    "   ```\n",
    "\n",
    "***Installing `texlive` takes a lot of time. So, while it is going on, feel free to continue with the next section.***"
   ]
  },
  {
   "cell_type": "markdown",
   "id": "1193ba5f-6e93-429a-9b55-eb39c70c8424",
   "metadata": {
    "editable": true,
    "slideshow": {
     "slide_type": ""
    },
    "tags": []
   },
   "source": [
    "---"
   ]
  },
  {
   "cell_type": "markdown",
   "id": "b952fcd9-2ec1-41d3-ba3e-fb40c2ff5c30",
   "metadata": {
    "editable": true,
    "slideshow": {
     "slide_type": ""
    },
    "tags": []
   },
   "source": [
    "## Making Presentations\n",
    "\n",
    "Create a new jupyter notebook called `Presentation.ipynb` and follow the below exercises"
   ]
  },
  {
   "cell_type": "markdown",
   "id": "807ebfe8-18a2-4332-ac34-30261e350890",
   "metadata": {
    "editable": true,
    "slideshow": {
     "slide_type": ""
    },
    "tags": []
   },
   "source": [
    "**Example** Make a markdown slide cell that says \"# Data Analysis\". Examine in slide show.\n",
    "\n",
    "1. Click on the cell\n",
    "2. Click on the gear icon to open `Common Tools`\n",
    "3. Select `Slide` from the drop down in `Slide Type`\n",
    "4. File -> Save and Export as -> Reveal.js\n",
    "\n",
    "\n",
    "<img src=\"img/slide.png\" alt=\"slide\" width=\"200\"/>"
   ]
  },
  {
   "cell_type": "markdown",
   "id": "93563916-bc69-4a84-ac8c-efbcbf34ca51",
   "metadata": {
    "editable": true,
    "slideshow": {
     "slide_type": ""
    },
    "tags": []
   },
   "source": [
    "**Exercise** Make a markdown slide cell that says \"## Made for: NDD course\" and examine it in slide show."
   ]
  },
  {
   "cell_type": "markdown",
   "id": "6585e536-7a7e-49b1-8e2b-79345b026c5f",
   "metadata": {
    "editable": true,
    "slideshow": {
     "slide_type": ""
    },
    "tags": []
   },
   "source": [
    "**Exercise** Make a markdown slide cell that says \"**Table of Contents**\" and examine it in slide show."
   ]
  },
  {
   "cell_type": "markdown",
   "id": "5eea2f18-749c-4196-9cbe-085ee5d902b9",
   "metadata": {
    "editable": true,
    "slideshow": {
     "slide_type": ""
    },
    "tags": []
   },
   "source": [
    "A fragment is a part of a cell that we want to reveal incrementally, in multiple steps, within the same slide. \n",
    "This helps us control the flow of information, allowing us to reveal additional content in the same slide gradually, rather than showing everything at once.\n",
    "\n",
    "**Exercise** Make a markdown fragment that says \"1. Starting Code\" and examine it in slide show."
   ]
  },
  {
   "cell_type": "markdown",
   "id": "62198239-5d27-418f-a118-d611fcf0d852",
   "metadata": {
    "editable": true,
    "slideshow": {
     "slide_type": ""
    },
    "tags": []
   },
   "source": [
    "**Exercise** Make a markdown fragment that says \"2. Statistics\" and examine it in slide show."
   ]
  },
  {
   "cell_type": "markdown",
   "id": "e918754b-9949-4d12-8cc4-ad4b9c4fcf80",
   "metadata": {
    "editable": true,
    "slideshow": {
     "slide_type": ""
    },
    "tags": []
   },
   "source": [
    "**Exercise** Make a markdown fragment that says \"3. Visualization\" and examine it in slide show."
   ]
  },
  {
   "cell_type": "markdown",
   "id": "be6df98a-d165-439e-b557-13c0e86002e4",
   "metadata": {
    "editable": true,
    "slideshow": {
     "slide_type": ""
    },
    "tags": []
   },
   "source": [
    "---"
   ]
  },
  {
   "cell_type": "markdown",
   "id": "faab4b8f-7900-4652-9e06-5343c2e64f8a",
   "metadata": {
    "editable": true,
    "slideshow": {
     "slide_type": ""
    },
    "tags": []
   },
   "source": [
    "When you are preparing a slideshow, you might have cells in your notebook that contain additional code, details, or notes that are important for your workflow but not relevant to the actual presentation. \n",
    "Marking these cells as \"skip\" ensures they are not displayed during the presentation, while still keeping them in the notebook.\n",
    "\n",
    "**Exercise** Add the below code in a cell in Presentation notebook and mark it as `skip`.\n",
    "\n",
    "```python\n",
    "import pandas as pd\n",
    "```"
   ]
  },
  {
   "cell_type": "markdown",
   "id": "dda32594-33ec-481b-bb31-848052bc19c1",
   "metadata": {
    "editable": true,
    "slideshow": {
     "slide_type": ""
    },
    "tags": []
   },
   "source": [
    "**Exercise** Add the below code in a cell in Presentation notebook and mark it as `skip`.\n",
    "\n",
    "```python\n",
    "import hvplot.pandas\n",
    "```"
   ]
  },
  {
   "cell_type": "markdown",
   "id": "619ad9a3-ecaf-4ae9-9f9b-7a249c3791cf",
   "metadata": {
    "editable": true,
    "slideshow": {
     "slide_type": ""
    },
    "tags": []
   },
   "source": [
    "**Exercise** Add the below code in a cell in Presentation notebook and mark it as `skip`.\n",
    "\n",
    "```python\n",
    "import sys\n",
    "sys.path.append('src')\n",
    "import sciebo\n",
    "\n",
    "sciebo.download_file('https://uni-bonn.sciebo.de/s/G5rdvTsoESXolF4', 'data/steinmetz_winter2017.csv')\n",
    "```"
   ]
  },
  {
   "cell_type": "markdown",
   "id": "4a922e99-a496-4e97-a661-9ed4bb482f08",
   "metadata": {
    "editable": true,
    "slideshow": {
     "slide_type": ""
    },
    "tags": []
   },
   "source": [
    "---"
   ]
  },
  {
   "cell_type": "markdown",
   "id": "1a25e68f-f458-408e-8172-5367d679c34a",
   "metadata": {
    "editable": true,
    "slideshow": {
     "slide_type": ""
    },
    "tags": []
   },
   "source": [
    "Sub-slide is a secondary slide that appears under the current slide, providing more details or elaboration on a point introduced in the main slide. \n",
    "It behaves like a sub-section under the main slide"
   ]
  },
  {
   "cell_type": "markdown",
   "id": "46b7296e-7a0a-47f5-9108-722da4e91490",
   "metadata": {
    "editable": true,
    "slideshow": {
     "slide_type": ""
    },
    "tags": []
   },
   "source": [
    "**Exercise** Create a slide cell in Presentation that says \"### Starting Code\". Create sub-slice cells for each of line in below code and examine it in slide show\n",
    "\n",
    "```python\n",
    "df = pd.read_csv(\"data/steinmetz_winter2017.csv\")\n",
    "df.head(10)\n",
    "```"
   ]
  },
  {
   "cell_type": "markdown",
   "id": "b746257e-f688-45c0-a37f-356c719c188f",
   "metadata": {
    "editable": true,
    "slideshow": {
     "slide_type": ""
    },
    "tags": []
   },
   "source": [
    "**Exercise** Create a slide cell in Presentation that says \"### Statistics\". Create sub-slide cells for each of line in below code and examine it in slide show\n",
    "\n",
    "```python\n",
    "df[\"response_time\"].mean()\n",
    "df[\"feedback_time\"].mean()\n",
    "df[[\"response_time\", \"feedback_time\"]].agg([\"mean\", \"std\"])\n",
    "```"
   ]
  },
  {
   "cell_type": "markdown",
   "id": "20e92c3c-7c3f-4f6f-9ba3-5ef47514c23b",
   "metadata": {
    "editable": true,
    "slideshow": {
     "slide_type": ""
    },
    "tags": []
   },
   "source": [
    "**Exercise** Create a slide cell in Presentation that says \"### Visualization\". Create sub-slide cells for each of line in below code and examine it in slide show\n",
    "\n",
    "```python\n",
    "df[\"response_time\"].plot.box()\n",
    "df[\"feedback_time\"].plot.box()\n",
    "```"
   ]
  },
  {
   "cell_type": "markdown",
   "id": "f30afff7-4613-40d1-a7b4-514f6cffa975",
   "metadata": {
    "editable": true,
    "slideshow": {
     "slide_type": ""
    },
    "tags": []
   },
   "source": [
    "---"
   ]
  }
 ],
 "metadata": {
  "kernelspec": {
   "display_name": "Python 3 (ipykernel)",
   "language": "python",
   "name": "python3"
  },
  "language_info": {
   "codemirror_mode": {
    "name": "ipython",
    "version": 3
   },
   "file_extension": ".py",
   "mimetype": "text/x-python",
   "name": "python",
   "nbconvert_exporter": "python",
   "pygments_lexer": "ipython3",
   "version": "3.12.7"
  }
 },
 "nbformat": 4,
 "nbformat_minor": 5
}
