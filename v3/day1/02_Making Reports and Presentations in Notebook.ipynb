{
 "cells": [
  {
   "cell_type": "markdown",
   "id": "da423b58-fd7d-49b2-9877-3e4abb215a1d",
   "metadata": {},
   "source": [
    "# Making Reports and Presentations in Jupyter Notebook\n",
    "\n",
    "Creating reports and presentations directly from Jupyter notebooks is helpful because it keeps everything—code, data, and explanations—in one place. \n",
    "You don’t have to move things between different programs, so your results and graphs are always up-to-date and consistent. \n",
    "Jupyter lets you export your work into formats like PDFs or slides, which makes sharing easier. \n",
    "This approach saves time, avoids mistakes, and makes it simpler to explain complex information."
   ]
  },
  {
   "cell_type": "markdown",
   "id": "1c4545b4-2a03-4e90-8188-2f1bc4c6b486",
   "metadata": {},
   "source": [
    "## Making Reports"
   ]
  },
  {
   "cell_type": "code",
   "execution_count": 2,
   "id": "6cadf3d3-46cc-4b09-aa3e-bc81d3eadfff",
   "metadata": {},
   "outputs": [],
   "source": [
    "a = 10\n",
    "b = 100"
   ]
  },
  {
   "cell_type": "markdown",
   "id": "7f156cf4-0f35-4e7d-ada2-30910574e474",
   "metadata": {},
   "source": [
    "The results are\n",
    "\n",
    "$c=a+b$"
   ]
  },
  {
   "cell_type": "code",
   "execution_count": 3,
   "id": "3eb1748b-af16-4e6f-a1b2-711665bd8d4a",
   "metadata": {},
   "outputs": [],
   "source": [
    "c = a + b"
   ]
  },
  {
   "cell_type": "markdown",
   "id": "55450076-2fbe-4d7b-a89e-1b2f77a42973",
   "metadata": {},
   "source": [
    "Export as HTML. Open it and examine how it looks.\n",
    "\n",
    "<img src=\"img/export.png\" alt=\"export\" width=\"300\"/>"
   ]
  },
  {
   "cell_type": "markdown",
   "id": "798d0002-28c1-4652-9598-4dddb7a52007",
   "metadata": {},
   "source": [
    "Export as Markdown for text-based report. Examine how it looks? \n",
    "\n",
    "1. How do code cells appear?\n",
    "2. How do markdown cells appear?\n",
    "3. How does latex cell appear?"
   ]
  },
  {
   "cell_type": "markdown",
   "id": "a392ad97-0048-4468-94cb-646f2745b8e1",
   "metadata": {},
   "source": [
    "(Optional) Export as PDF for scientific reports\n",
    "\n",
    "You will need to do the following before\n",
    "\n",
    "1. Install [texlive](https://www.tug.org/texlive/) \n",
    "2. ```python\n",
    "   pip install nbconvert pandoc\n",
    "   ```\n",
    "\n",
    "***Installing `texlive` takes a lot of time. So, while it is going on, feel free to continue with the next section.***"
   ]
  },
  {
   "cell_type": "markdown",
   "id": "1193ba5f-6e93-429a-9b55-eb39c70c8424",
   "metadata": {},
   "source": [
    "---"
   ]
  }
 ],
 "metadata": {
  "kernelspec": {
   "display_name": "Python 3 (ipykernel)",
   "language": "python",
   "name": "python3"
  },
  "language_info": {
   "codemirror_mode": {
    "name": "ipython",
    "version": 3
   },
   "file_extension": ".py",
   "mimetype": "text/x-python",
   "name": "python",
   "nbconvert_exporter": "python",
   "pygments_lexer": "ipython3",
   "version": "3.12.7"
  }
 },
 "nbformat": 4,
 "nbformat_minor": 5
}
