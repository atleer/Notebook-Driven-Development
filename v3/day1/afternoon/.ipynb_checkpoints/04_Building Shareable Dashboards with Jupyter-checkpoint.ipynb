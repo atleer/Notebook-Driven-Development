{
 "cells": [
  {
   "cell_type": "markdown",
   "id": "7d0d6491-c47d-4ae0-b55f-98b37d7ca22f",
   "metadata": {},
   "source": [
    "# Sharing Dashboards Built In Jupyter Notebooks"
   ]
  },
  {
   "cell_type": "markdown",
   "id": "6435b24d-ac6c-404b-816d-e731d70336a3",
   "metadata": {},
   "source": [
    "**Exercise 1**"
   ]
  },
  {
   "cell_type": "markdown",
   "id": "0db54d2f-d41e-4215-928d-4de66d4dc3e2",
   "metadata": {},
   "source": [
    "Launch a new terminal \n",
    "\n",
    "1. **File -> New -> Terminal**.\n",
    "2. If Windows, type `cmd` and Enter.\n",
    "3. Type `git clone https://github.com/sangeethankumar/ndd_app_exercise.git`"
   ]
  },
  {
   "cell_type": "markdown",
   "id": "0c256497-eac1-4b03-97db-70c7e150cacc",
   "metadata": {},
   "source": [
    "In the File Explorer, \n",
    "\n",
    "1. Open `app.ipynb`\n",
    "2. Run all the cells\n",
    "3. Preview with Panel"
   ]
  },
  {
   "cell_type": "markdown",
   "id": "3eda5fbd-da94-491d-a014-1a55de10f23c",
   "metadata": {},
   "source": [
    "In the terminal type\n",
    "\n",
    "1. Navigate to where you cloned the repo by `cd path/to/ndd_exercise`\n",
    "2. Serve the app \n",
    "```bash\n",
    "panel serve app.ipynb\n",
    "```\n",
    "3. In the terminal, you will see a link next to `Bokeh app running at`. If you click on it, you can see the app on your browser."
   ]
  },
  {
   "cell_type": "markdown",
   "id": "8a34961e-ac02-4f1d-b801-03ca05c4efba",
   "metadata": {},
   "source": [
    "---"
   ]
  },
  {
   "cell_type": "markdown",
   "id": "3285d510-033d-4cf2-a2fa-014c158fb9d0",
   "metadata": {},
   "source": [
    "**Exercise 2**\n",
    "\n",
    "1. Create a notebook called `app_name.ipynb` where `name` is your name.\n",
    "2. Add the below code to read the dataset and confirm that it runs.\n",
    "```python\n",
    "\n",
    "import panel as pn\n",
    "pn.extension()\n",
    "\n",
    "import pandas as pd\n",
    "import hvplot.pandas\n",
    "import panel.widgets as pnw\n",
    "\n",
    "df = pd.read_csv(\"https://uni-bonn.sciebo.de/s/QcC6e3LXiNlNl0X/download\")\n",
    "df.head()\n",
    "```\n",
    "3. Create a dashboard such that\n",
    "    1. Layout has three tabs\n",
    "    2. First tab shows data table\n",
    "    3. Second tab shows some statistics\n",
    "    4. Third tab shows some visualization\n",
    "\n",
    "4. Preview the dashboard within Notebook\n",
    "\n",
    "5. Serve the app from the terminal,\n",
    "```bash\n",
    "panel serve app_name.ipynb\n",
    "```\n",
    "6. At the top of the notebook, describe how to serve the app in a markdown cell"
   ]
  },
  {
   "cell_type": "markdown",
   "id": "266bba29-acd2-4d1f-b806-9dc355e6c745",
   "metadata": {},
   "source": [
    "**Exercise 3**\n",
    "\n",
    "1. Create a public github repo\n",
    "2. Upload `app_name.ipynb` to the repo\n",
    "3. Share the link to the repo with your breakout room"
   ]
  },
  {
   "cell_type": "markdown",
   "id": "42943532-ca8c-4d77-8182-b4741caf351e",
   "metadata": {},
   "source": [
    "**Exercise 4**\n",
    "\n",
    "1. Obtain a link for an app on github repo from your breakout room partner.\n",
    "2. Type `git clone repo_link` where `repo_link` is the link to the repo.\n",
    "3. Run their `app_name.ipynb` in your jupyter lab environment.\n",
    "4. Preview with panel\n",
    "5. Based on the instructions on their notebook, use the terminal to serve their app."
   ]
  }
 ],
 "metadata": {
  "kernelspec": {
   "display_name": "Python 3 (ipykernel)",
   "language": "python",
   "name": "python3"
  },
  "language_info": {
   "codemirror_mode": {
    "name": "ipython",
    "version": 3
   },
   "file_extension": ".py",
   "mimetype": "text/x-python",
   "name": "python",
   "nbconvert_exporter": "python",
   "pygments_lexer": "ipython3",
   "version": "3.12.7"
  }
 },
 "nbformat": 4,
 "nbformat_minor": 5
}
