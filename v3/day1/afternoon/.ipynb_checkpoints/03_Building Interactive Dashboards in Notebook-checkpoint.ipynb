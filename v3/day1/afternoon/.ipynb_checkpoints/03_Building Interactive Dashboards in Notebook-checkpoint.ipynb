{
 "cells": [
  {
   "cell_type": "code",
   "execution_count": null,
   "id": "5d6b9105-c48a-477f-a73d-3dd3bbb6746b",
   "metadata": {},
   "outputs": [],
   "source": [
    "# !pip install panel hvplot pandas"
   ]
  },
  {
   "cell_type": "code",
   "execution_count": null,
   "id": "1b21517b-e87d-487b-82ec-94c7e264efbe",
   "metadata": {},
   "outputs": [],
   "source": [
    "import panel as pn\n",
    "pn.extension()\n",
    "\n",
    "import pandas as pd\n",
    "import hvplot.pandas\n",
    "import panel.widgets as pnw"
   ]
  },
  {
   "cell_type": "markdown",
   "id": "eaeedf0b-5f74-4a46-a8b1-e49620a2ef9f",
   "metadata": {
    "panel-layout": {
     "height": 174.13351440429688,
     "visible": true,
     "width": 100
    }
   },
   "source": [
    "# Interactive Dashboards in Jupyter Notebooks\n",
    "\n",
    "As researchers, we often need to visualize and present our findings in an engaging way. \n",
    "While code is important for analysis, we do not always want to show it all the time as our results are often data-centric and not code-centric. \n",
    "Dashboards can help us interact with and explore data in real-time, highlighting important insights. \n",
    "In this notebook, we will explore the process of designing interactive layouts and integrating widgets in Jupyter notebooks using Panel.\n",
    "\n",
    "**Run the below code to get access to datasets used in this notebook**"
   ]
  },
  {
   "cell_type": "code",
   "execution_count": null,
   "id": "81633e0a-96e1-4be9-bef6-527485164e0c",
   "metadata": {
    "editable": true,
    "panel-layout": {
     "height": 0,
     "visible": true,
     "width": 100
    },
    "slideshow": {
     "slide_type": ""
    },
    "tags": []
   },
   "outputs": [],
   "source": [
    "import sys\n",
    "sys.path.append('src')\n",
    "import sciebo\n",
    "\n",
    "sciebo.download_file('https://uni-bonn.sciebo.de/s/G5rdvTsoESXolF4', 'data/steinmetz_winter2017.csv')\n",
    "sciebo.download_file('https://uni-bonn.sciebo.de/s/xKAG9nqHyWmXBBI', 'data/steinmetz_winter2016.csv')\n",
    "sciebo.download_file('https://uni-bonn.sciebo.de/s/XLDoTQQoDdFLhlz', 'data/steinmetz_summer2017.csv')"
   ]
  },
  {
   "cell_type": "markdown",
   "id": "ba8b4a37-7afa-4599-b4d1-82dc2f36b3c3",
   "metadata": {
    "panel-layout": {
     "height": 50.82386016845703,
     "visible": true,
     "width": 100
    }
   },
   "source": [
    "## Explorer For Quick-Look Of Data\n",
    "\n",
    "Many Python plotting libraries that support interactive dashboard building are built to work with Jupyter notebooks because notebooks render dynamic visualizations directly within the notebook interface. \n",
    "It allows for real-time interaction with the data through widgets and sliders, enabling users to explore and analyze data.\n",
    "These interactive visualization update when parameters are tweaked.\n",
    "\n",
    "We first explore capabilities of notebook to render interactive elements by making use of `hvplot`'s `explorer` method."
   ]
  },
  {
   "cell_type": "markdown",
   "id": "f9daef1a-01b7-4938-8ada-99453a69754c",
   "metadata": {
    "panel-layout": {
     "height": 51.12215805053711,
     "visible": true,
     "width": 100
    }
   },
   "source": [
    "**Example** Plot a histogram of Winter 2016 dataset using explorer's interactive feature."
   ]
  },
  {
   "cell_type": "code",
   "execution_count": null,
   "id": "97c96789-8cb3-42cc-8183-0ed0b5ebc87f",
   "metadata": {
    "editable": true,
    "panel-layout": {
     "height": 0,
     "visible": true,
     "width": 100
    },
    "slideshow": {
     "slide_type": ""
    },
    "tags": []
   },
   "outputs": [],
   "source": [
    "df1 = pd.read_csv('data/steinmetz_winter2016.csv')\n",
    "df1[[\"feedback_time\"]].hvplot.explorer()"
   ]
  },
  {
   "cell_type": "markdown",
   "id": "a6708ecb-1068-450c-bb06-6bd320abad07",
   "metadata": {
    "panel-layout": {
     "height": 0,
     "visible": true,
     "width": 100
    }
   },
   "source": [
    "Plot a histogram of Winter 2017 dataset using explorer's interactive feature."
   ]
  },
  {
   "cell_type": "code",
   "execution_count": null,
   "id": "126e4330-721b-4fb8-9f73-97759b9b5ddf",
   "metadata": {},
   "outputs": [],
   "source": [
    "df2 = pd.read_csv('data/steinmetz_winter2017.csv')\n",
    "df2[[\"feedback_time\"]].hvplot.explorer()"
   ]
  },
  {
   "cell_type": "markdown",
   "id": "1d32ddaa-f67a-406b-9c12-6bf9a894efe2",
   "metadata": {
    "panel-layout": {
     "height": 0,
     "visible": true,
     "width": 100
    }
   },
   "source": [
    "Plot a histogram of Summer 2017 dataset using explorer's interactive feature."
   ]
  },
  {
   "cell_type": "code",
   "execution_count": null,
   "id": "fe282dca-ffcc-40be-bf92-744336f184c7",
   "metadata": {
    "scrolled": true
   },
   "outputs": [],
   "source": [
    "df3 = pd.read_csv('data/steinmetz_summer2017.csv')\n",
    "df3[[\"feedback_time\"]].hvplot.explorer()"
   ]
  },
  {
   "cell_type": "markdown",
   "id": "325e0acc-4e67-4c81-a8b3-78d4458d9314",
   "metadata": {},
   "source": [
    "**Example** Plot a scatter plot of feedback time with response time of Winter 2016 dataset using explorer's interactive feature. Add a suitable title"
   ]
  },
  {
   "cell_type": "code",
   "execution_count": null,
   "id": "5ab38df2-6689-4d46-a25b-83de0696f831",
   "metadata": {},
   "outputs": [],
   "source": [
    "df1 = pd.read_csv('data/steinmetz_winter2016.csv')\n",
    "df1[[\"response_time\", \"feedback_time\"]].hvplot.explorer()"
   ]
  },
  {
   "cell_type": "markdown",
   "id": "83e93bf2-896a-496b-aec1-e572a489c554",
   "metadata": {},
   "source": [
    "Plot a scatter plot of feedback time with response time of Winter 2017 dataset using explorer's interactive feature. Change X and Y labels."
   ]
  },
  {
   "cell_type": "code",
   "execution_count": null,
   "id": "eb261ff5-b50b-4055-96d6-5131b444fedc",
   "metadata": {},
   "outputs": [],
   "source": [
    "df2 = pd.read_csv('data/steinmetz_winter2017.csv')\n",
    "df2[[\"response_time\", \"feedback_time\"]].hvplot.explorer()"
   ]
  },
  {
   "cell_type": "markdown",
   "id": "ae805988-a4dc-4f2d-b5a4-3183b865ec95",
   "metadata": {},
   "source": [
    "Plot a scatter plot of feedback time with response time of Summer 2017 dataset using explorer's interactive feature. See what is in the `Code` tab."
   ]
  },
  {
   "cell_type": "code",
   "execution_count": null,
   "id": "45aa2082-a8a0-4bb9-b874-6e0a2c733293",
   "metadata": {},
   "outputs": [],
   "source": [
    "df3 = pd.read_csv('data/steinmetz_summer2017.csv')\n",
    "df3[[\"response_time\", \"feedback_time\"]].hvplot.explorer()"
   ]
  },
  {
   "cell_type": "markdown",
   "id": "f3a4405f-9348-47f8-93e8-47bdd1b90812",
   "metadata": {},
   "source": [
    "**Example** Plot a box plot of response times of Winter 2016 data split by response_type. \n",
    "\n",
    "Select `response_type` in the `By` section "
   ]
  },
  {
   "cell_type": "code",
   "execution_count": null,
   "id": "118f9827-7227-4653-a4e0-645f2f5d5af8",
   "metadata": {},
   "outputs": [],
   "source": [
    "df1 = pd.read_csv('data/steinmetz_winter2016.csv')\n",
    "df1[[\"response_type\", \"response_time\", \"feedback_time\"]].hvplot.explorer()"
   ]
  },
  {
   "cell_type": "markdown",
   "id": "0a0c91e3-b79f-4ff2-b0ee-86a2325da44f",
   "metadata": {},
   "source": [
    "Plot a box plot of feedback times of Winter 2017 data split by response_type. "
   ]
  },
  {
   "cell_type": "code",
   "execution_count": null,
   "id": "c892b56a-22a6-43f2-8e4b-2e383644574c",
   "metadata": {},
   "outputs": [],
   "source": [
    "df2 = pd.read_csv('data/steinmetz_winter2017.csv')\n",
    "df2[[\"response_type\", \"response_time\", \"feedback_time\"]].hvplot.explorer()"
   ]
  },
  {
   "cell_type": "markdown",
   "id": "36838af1-f2e7-4bbb-82b5-05ee486f468d",
   "metadata": {},
   "source": [
    "Plot a box plot of feedback times of Summer 2017 data split by feedback_type. "
   ]
  },
  {
   "cell_type": "code",
   "execution_count": null,
   "id": "adcf0eb3-0ca6-450b-80ad-4899f3fe70e7",
   "metadata": {},
   "outputs": [],
   "source": [
    "df3 = pd.read_csv('data/steinmetz_summer2017.csv')\n",
    "df3[[\"feedback_type\", \"response_time\", \"feedback_time\"]].hvplot.explorer()"
   ]
  },
  {
   "cell_type": "markdown",
   "id": "a002e249-a366-4516-ac0d-b8c27c9d6768",
   "metadata": {},
   "source": [
    "**Example** Plot a box plot of response times of a response types selected from drop down menu of Winter 2016 data."
   ]
  },
  {
   "cell_type": "code",
   "execution_count": null,
   "id": "f29c9717-51dc-4108-9ae9-a162a6f79df3",
   "metadata": {},
   "outputs": [],
   "source": [
    "df1 = pd.read_csv('data/steinmetz_winter2016.csv')\n",
    "df1[[\"mouse\", \"response_type\", \"response_time\", \"feedback_time\"]].hvplot.explorer()"
   ]
  },
  {
   "cell_type": "markdown",
   "id": "e708fca2-75b9-4299-a860-e700cf6596df",
   "metadata": {},
   "source": [
    "Plot a box plot of feedback times of a mouse selected from drop down menu of Winter 2017 data."
   ]
  },
  {
   "cell_type": "code",
   "execution_count": null,
   "id": "3b4461d0-cf9f-4498-bde7-4799788d6867",
   "metadata": {},
   "outputs": [],
   "source": [
    "df2 = pd.read_csv('data/steinmetz_winter2017.csv')\n",
    "df2[[\"mouse\", \"response_type\", \"response_time\", \"feedback_time\"]].hvplot.explorer()"
   ]
  },
  {
   "cell_type": "markdown",
   "id": "4abe4dac-44ee-4024-a6c3-1a95ed1f12a1",
   "metadata": {},
   "source": [
    "Plot a box plot of feedback times of a mouse selected from drop down menu of Winter 2017 data and split by feedback types."
   ]
  },
  {
   "cell_type": "code",
   "execution_count": null,
   "id": "472fdd23-6f30-43ff-9e52-5be564e0f900",
   "metadata": {},
   "outputs": [],
   "source": [
    "df3 = pd.read_csv('data/steinmetz_summer2017.csv')\n",
    "df3[[\"mouse\", \"response_type\", \"feedback_type\", \"response_time\", \"feedback_time\"]].hvplot.explorer()"
   ]
  },
  {
   "cell_type": "markdown",
   "id": "7ecdcc16-9770-4ccd-9d4a-0caff82954ac",
   "metadata": {
    "panel-layout": {
     "height": 0,
     "visible": true,
     "width": 100
    }
   },
   "source": [
    "## Dashboard Building Process in Notebook"
   ]
  },
  {
   "cell_type": "markdown",
   "id": "7a0ebf1b-e31e-4120-8dfa-21bc9e0cd09b",
   "metadata": {
    "panel-layout": {
     "height": 0,
     "visible": true,
     "width": 100
    }
   },
   "source": [
    "**Example** Data"
   ]
  },
  {
   "cell_type": "code",
   "execution_count": null,
   "id": "61ae68a0-98d9-469a-8151-f2e735b0390a",
   "metadata": {},
   "outputs": [],
   "source": []
  },
  {
   "cell_type": "code",
   "execution_count": null,
   "id": "9cfd637e-2653-4b62-ab59-546d1604ca09",
   "metadata": {},
   "outputs": [],
   "source": []
  },
  {
   "cell_type": "code",
   "execution_count": null,
   "id": "16e3ae72-d608-4b1c-909f-c6a448a0f354",
   "metadata": {},
   "outputs": [],
   "source": []
  },
  {
   "cell_type": "markdown",
   "id": "7edaf704-685b-4243-a5a2-49431ebcc5cd",
   "metadata": {
    "panel-layout": {
     "height": 0,
     "visible": true,
     "width": 100
    }
   },
   "source": [
    "**Example** Plots"
   ]
  },
  {
   "cell_type": "code",
   "execution_count": null,
   "id": "bec73d5f-cdd1-4b73-adff-d40ad9a0eb8b",
   "metadata": {},
   "outputs": [],
   "source": []
  },
  {
   "cell_type": "code",
   "execution_count": null,
   "id": "51276145-2e95-4ba2-b417-637a13763863",
   "metadata": {},
   "outputs": [],
   "source": []
  },
  {
   "cell_type": "code",
   "execution_count": null,
   "id": "bf7814ac-5b08-46b2-aa4a-bffcb3e44952",
   "metadata": {},
   "outputs": [],
   "source": []
  },
  {
   "cell_type": "markdown",
   "id": "5b0399ba-4a92-4137-85ef-0c399d65667a",
   "metadata": {
    "panel-layout": {
     "height": 0,
     "visible": true,
     "width": 100
    }
   },
   "source": [
    "**Example** Arranging with `hvplot`"
   ]
  },
  {
   "cell_type": "code",
   "execution_count": null,
   "id": "07683b27-6315-47a5-bfff-1b6b9fab3649",
   "metadata": {},
   "outputs": [],
   "source": []
  },
  {
   "cell_type": "code",
   "execution_count": null,
   "id": "46625cb0-1dc6-4a1a-ba9b-dfa25654aae3",
   "metadata": {},
   "outputs": [],
   "source": []
  },
  {
   "cell_type": "code",
   "execution_count": null,
   "id": "776f066d-ebca-424e-9009-1f5e9501ecb7",
   "metadata": {},
   "outputs": [],
   "source": []
  },
  {
   "cell_type": "markdown",
   "id": "b6ff512f-d57f-44de-aa63-e3ea9cb50129",
   "metadata": {
    "panel-layout": {
     "height": 0,
     "visible": true,
     "width": 100
    }
   },
   "source": [
    "## Adding Interactivity with Dashboard"
   ]
  },
  {
   "cell_type": "markdown",
   "id": "68054258-3417-4651-83f4-46bb767e95dc",
   "metadata": {
    "panel-layout": {
     "height": 0,
     "visible": true,
     "width": 100
    }
   },
   "source": [
    "**Example** Data (slider)"
   ]
  },
  {
   "cell_type": "code",
   "execution_count": null,
   "id": "2f30ab77-88e4-4135-91ca-623c275f8d3f",
   "metadata": {},
   "outputs": [],
   "source": []
  },
  {
   "cell_type": "code",
   "execution_count": null,
   "id": "6a011ab8-7296-47df-a3df-d946b8f11b2e",
   "metadata": {},
   "outputs": [],
   "source": []
  },
  {
   "cell_type": "code",
   "execution_count": null,
   "id": "dce9274a-9e2b-4ebe-9b1f-22039c08213d",
   "metadata": {},
   "outputs": [],
   "source": []
  },
  {
   "cell_type": "markdown",
   "id": "2b703d99-8ad8-4bbc-b35e-5f75ffce03df",
   "metadata": {
    "panel-layout": {
     "height": 0,
     "visible": true,
     "width": 100
    }
   },
   "source": [
    "**Example** Plots (select With hvplot)"
   ]
  },
  {
   "cell_type": "code",
   "execution_count": null,
   "id": "b967e8d3-8bd7-4d9d-8c18-f1764eca3dd4",
   "metadata": {},
   "outputs": [],
   "source": []
  },
  {
   "cell_type": "code",
   "execution_count": null,
   "id": "39e56219-b28e-445d-a868-1202db4e28cd",
   "metadata": {},
   "outputs": [],
   "source": []
  },
  {
   "cell_type": "code",
   "execution_count": null,
   "id": "2a5e8002-38be-4174-be55-5e19db03421c",
   "metadata": {},
   "outputs": [],
   "source": []
  },
  {
   "cell_type": "markdown",
   "id": "6f2e0147-25cf-43e2-9083-81a11689c086",
   "metadata": {
    "panel-layout": {
     "height": 0,
     "visible": true,
     "width": 100
    }
   },
   "source": [
    "**Example** Plots (select With Panel)"
   ]
  },
  {
   "cell_type": "code",
   "execution_count": null,
   "id": "d10d4c96-a317-4326-9ef4-f678062a7ddd",
   "metadata": {},
   "outputs": [],
   "source": []
  },
  {
   "cell_type": "code",
   "execution_count": null,
   "id": "897e414d-81be-4322-8bff-04bd7ebf36e9",
   "metadata": {},
   "outputs": [],
   "source": []
  },
  {
   "cell_type": "code",
   "execution_count": null,
   "id": "0e45400e-ff11-4d80-b8d2-8906e56ffd26",
   "metadata": {},
   "outputs": [],
   "source": []
  },
  {
   "cell_type": "markdown",
   "id": "adba1b10-9b0f-4587-9ff0-6eb9b7580b1c",
   "metadata": {
    "panel-layout": {
     "height": 0,
     "visible": true,
     "width": 100
    }
   },
   "source": [
    "**Example** Plots (Radio buttons)"
   ]
  },
  {
   "cell_type": "markdown",
   "id": "e5b16bd0-5f93-4e85-aa31-0eaff8a63c0f",
   "metadata": {
    "panel-layout": {
     "height": 0,
     "visible": true,
     "width": 100
    }
   },
   "source": [
    "## Previewing and Serving Our App With Panel"
   ]
  },
  {
   "cell_type": "markdown",
   "id": "c53a4b20-03fb-4c56-bb3a-c4cbc89d88d2",
   "metadata": {
    "panel-layout": {
     "height": 0,
     "visible": true,
     "width": 100
    }
   },
   "source": [
    "**Example** "
   ]
  },
  {
   "cell_type": "code",
   "execution_count": null,
   "id": "f057c08e-9dc8-480a-b054-0968471c201a",
   "metadata": {},
   "outputs": [],
   "source": []
  },
  {
   "cell_type": "code",
   "execution_count": null,
   "id": "2b30975e-0947-4f50-b154-cd6994fcdb36",
   "metadata": {},
   "outputs": [],
   "source": []
  },
  {
   "cell_type": "code",
   "execution_count": null,
   "id": "dc9e196d-7099-4233-9ecd-3faee1f5f3ab",
   "metadata": {},
   "outputs": [],
   "source": []
  },
  {
   "cell_type": "code",
   "execution_count": null,
   "id": "525b1d8c-be50-4a8f-8833-a922aeeebfef",
   "metadata": {},
   "outputs": [],
   "source": []
  }
 ],
 "metadata": {
  "kernelspec": {
   "display_name": "Python 3 (ipykernel)",
   "language": "python",
   "name": "python3"
  },
  "language_info": {
   "codemirror_mode": {
    "name": "ipython",
    "version": 3
   },
   "file_extension": ".py",
   "mimetype": "text/x-python",
   "name": "python",
   "nbconvert_exporter": "python",
   "pygments_lexer": "ipython3",
   "version": "3.12.7"
  },
  "panel-cell-order": [
   "eaeedf0b-5f74-4a46-a8b1-e49620a2ef9f",
   "81633e0a-96e1-4be9-bef6-527485164e0c",
   "ba8b4a37-7afa-4599-b4d1-82dc2f36b3c3",
   "f9daef1a-01b7-4938-8ada-99453a69754c",
   "97c96789-8cb3-42cc-8183-0ed0b5ebc87f",
   "a6708ecb-1068-450c-bb06-6bd320abad07",
   "1d32ddaa-f67a-406b-9c12-6bf9a894efe2",
   "7ecdcc16-9770-4ccd-9d4a-0caff82954ac",
   "7a0ebf1b-e31e-4120-8dfa-21bc9e0cd09b",
   "7edaf704-685b-4243-a5a2-49431ebcc5cd",
   "5b0399ba-4a92-4137-85ef-0c399d65667a",
   "b6ff512f-d57f-44de-aa63-e3ea9cb50129",
   "68054258-3417-4651-83f4-46bb767e95dc",
   "2b703d99-8ad8-4bbc-b35e-5f75ffce03df",
   "6f2e0147-25cf-43e2-9083-81a11689c086",
   "adba1b10-9b0f-4587-9ff0-6eb9b7580b1c",
   "e5b16bd0-5f93-4e85-aa31-0eaff8a63c0f",
   "c53a4b20-03fb-4c56-bb3a-c4cbc89d88d2"
  ]
 },
 "nbformat": 4,
 "nbformat_minor": 5
}
