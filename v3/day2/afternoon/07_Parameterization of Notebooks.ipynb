{
 "cells": [
  {
   "cell_type": "code",
   "execution_count": null,
   "id": "590edc4e-528a-4894-a57f-e453414dd7fe",
   "metadata": {},
   "outputs": [],
   "source": [
    "# !pip install papermill pandas hvplot"
   ]
  },
  {
   "cell_type": "code",
   "execution_count": 1,
   "id": "7a09b36f-1c95-4736-a574-bc1270c9718e",
   "metadata": {},
   "outputs": [],
   "source": [
    "import papermill as pm\n",
    "import glob"
   ]
  },
  {
   "cell_type": "markdown",
   "id": "02a3850d-f649-49dd-9b93-820b6ddb76b4",
   "metadata": {},
   "source": [
    "# Parameterization of Notebooks\n",
    "\n",
    "Parameterizing Jupyter notebooks means making them flexible so you can easily change input values, like datasets, without having to edit the code each time. \n",
    "This is helpful when you need to run the same analysis or process with different data. \n",
    "It saves time and avoids mistakes because you don’t have to rewrite anything. \n",
    "Instead, you can just set the new inputs and run the notebook again for different tasks or data."
   ]
  },
  {
   "cell_type": "markdown",
   "id": "e7eea061-652d-42db-8b3e-f11678c2db05",
   "metadata": {},
   "source": [
    "## Passing in Parameters To Notebooks With Papermill\n",
    "\n",
    "Papermill helps with parameterizing Jupyter notebooks by allowing us to inject new inputs (parameters) into a notebook before running it. \n",
    "Parameters have placeholders in the template notebook, and when we run Papermill, it fills those placeholders with the actual values we provide. \n",
    "Papermill then executes the entire notebook with the new inputs, saving the results in a new output notebook. \n",
    "This makes it easy to reuse the same notebook for different data or settings, automating tasks like batch processing, reporting, or experimentation with different variables.\n",
    "\n",
    "For this example we will use two notebooks: `notebook_1.ipynb` (access data from a remote url and prepares a processed csv file) and `notebook_2.ipynb` (needs processed csv for analysis)\n",
    "\n",
    "Run the below code to access notebooks. Feel free to go through the notebooks."
   ]
  },
  {
   "cell_type": "code",
   "execution_count": 2,
   "id": "8905a80e-3db1-46a0-a4e6-ab25ec79e6e1",
   "metadata": {},
   "outputs": [
    {
     "name": "stderr",
     "output_type": "stream",
     "text": [
      "Downloading parameterization/notebook_1.ipynb: 100%|██████████████████████████████████████| 4.92k/4.92k [00:00<?, ?B/s]\n",
      "Downloading parameterization/notebook_2.ipynb: 100%|██████████████████████████████████████| 2.05k/2.05k [00:00<?, ?B/s]\n"
     ]
    }
   ],
   "source": [
    "import sys\n",
    "sys.path.append('src')\n",
    "import sciebo\n",
    "\n",
    "sciebo.download_file('https://uni-bonn.sciebo.de/s/bHyVzeE8yGAzD5S', 'parameterization/notebook_1.ipynb')\n",
    "sciebo.download_file('https://uni-bonn.sciebo.de/s/xS6Skp6IOO0DhDI', 'parameterization/notebook_2.ipynb')"
   ]
  },
  {
   "cell_type": "markdown",
   "id": "54950fb2-794d-4005-b446-3b05ece867f8",
   "metadata": {},
   "source": [
    "**Example** In `notebook_1.ipynb`, tag the cell containing the below variables as `parameters`. \n",
    "\n",
    "| **Parameter**   | **Description**                   | **Type**  |\n",
    "|-----------------|-----------------------------------|-----------|\n",
    "| `input_csv_url`     | url of input CSV file        | String    |\n",
    "| `output_csv`    | Path to save the processed CSV    | String    |\n",
    "| `num_rows_display`    | Number of rows to display    | Integer    |\n",
    "\n",
    "To make papermill know that a cell contains parameters\n",
    "\n",
    "1. Put all parameters in a single cell before any other cell that uses them\n",
    "2. Click on the cell and then the gear icon next to the notebook\n",
    "3. Type `parameters` within Cell Tags\n",
    "\n",
    "It has been done for `notebook_1.ipynb`. "
   ]
  },
  {
   "cell_type": "markdown",
   "id": "22960974-531e-4582-90fa-3bf06f0cdc5a",
   "metadata": {},
   "source": [
    "In `notebook_2.ipynb`, tag the cell containing the below variables as `parameters`.\n",
    "\n",
    "| **Parameter**      | **Description**                   | **Type**  |\n",
    "|--------------------|-----------------------------------|-----------|\n",
    "| `processed_csv`    | Path to the processed CSV file    | String    |\n"
   ]
  },
  {
   "cell_type": "markdown",
   "id": "337cf8ce-f930-4465-967d-6513084e3d4c",
   "metadata": {},
   "source": [
    "**Example** Run `notebook_1.csv` specifying that the output should be called `processed_run_1.csv`"
   ]
  },
  {
   "cell_type": "code",
   "execution_count": 4,
   "id": "e89fedb5-a479-4b80-87a6-efa2a52676ac",
   "metadata": {},
   "outputs": [
    {
     "name": "stderr",
     "output_type": "stream",
     "text": [
      "c:\\Users\\sangeetha\\anaconda3\\envs\\ndd\\Lib\\site-packages\\tqdm\\auto.py:21: TqdmWarning: IProgress not found. Please update jupyter and ipywidgets. See https://ipywidgets.readthedocs.io/en/stable/user_install.html\n",
      "  from .autonotebook import tqdm as notebook_tqdm\n",
      "Executing: 100%|█████████████████████████████████████████████████████████████████████| 12/12 [00:03<00:00,  3.33cell/s]\n"
     ]
    }
   ],
   "source": [
    "params = dict(output_csv = \"processed_run_1.csv\")\n",
    "pm.execute_notebook(\n",
    "    'parameterization/notebook_1.ipynb',\n",
    "    'output_notebook_run_1.ipynb',\n",
    "    parameters = params\n",
    ");"
   ]
  },
  {
   "cell_type": "markdown",
   "id": "b3567134-514a-4502-a2fe-6b83e077a026",
   "metadata": {},
   "source": [
    "When you open output_notebook_run_1.ipynb, you will see that it is the same as the input notebook with an addition of one more cell with our injected parameters right beneath the cell tagged as parameters.\n",
    "\n",
    "Run `notebook_1.ipynb` specifying that the output should be called `processed_run_2.csv`"
   ]
  },
  {
   "cell_type": "code",
   "execution_count": 6,
   "id": "8cfec4ca-0337-44c1-b33e-5ac69a23b440",
   "metadata": {},
   "outputs": [
    {
     "name": "stderr",
     "output_type": "stream",
     "text": [
      "Executing: 100%|█████████████████████████████████████████████████████████████████████| 12/12 [00:03<00:00,  3.53cell/s]\n"
     ]
    }
   ],
   "source": [
    "params = dict(output_csv = \"processed_run_2.csv\")\n",
    "pm.execute_notebook(\n",
    "    'parameterization/notebook_1.ipynb',\n",
    "    'output_notebook_run_2.ipynb',\n",
    "    parameters = params\n",
    ");"
   ]
  },
  {
   "cell_type": "markdown",
   "id": "09fbad04-2c60-4522-8e42-44ae7eb901fb",
   "metadata": {},
   "source": [
    "Let's assume that we have a new dataset stored remotely in `url=\"https://uni-bonn.sciebo.de/s/W7BDPZefE53j7sy/download\"`. \n",
    "We want to process that data the same way with `notebook_1.ipynb`.\n",
    "\n",
    "Run `notebook_1.ipynb` specifying the remote source is now in `https://uni-bonn.sciebo.de/s/W7BDPZefE53j7sy/download`"
   ]
  },
  {
   "cell_type": "code",
   "execution_count": 9,
   "id": "38e3b49c-b28c-4e96-b4ae-4b6b722af0f1",
   "metadata": {},
   "outputs": [
    {
     "name": "stderr",
     "output_type": "stream",
     "text": [
      "Executing: 100%|█████████████████████████████████████████████████████████████████████| 12/12 [00:02<00:00,  4.03cell/s]\n"
     ]
    }
   ],
   "source": [
    "params = dict(input_csv_url = \"https://uni-bonn.sciebo.de/s/W7BDPZefE53j7sy/download\")\n",
    "pm.execute_notebook(\n",
    "    'parameterization/notebook_1.ipynb',\n",
    "    'parameterization/output_notebook_run_3.ipynb',\n",
    "    parameters = params\n",
    ");"
   ]
  }
 ],
 "metadata": {
  "kernelspec": {
   "display_name": "Python 3 (ipykernel)",
   "language": "python",
   "name": "python3"
  },
  "language_info": {
   "codemirror_mode": {
    "name": "ipython",
    "version": 3
   },
   "file_extension": ".py",
   "mimetype": "text/x-python",
   "name": "python",
   "nbconvert_exporter": "python",
   "pygments_lexer": "ipython3",
   "version": "3.12.7"
  }
 },
 "nbformat": 4,
 "nbformat_minor": 5
}
