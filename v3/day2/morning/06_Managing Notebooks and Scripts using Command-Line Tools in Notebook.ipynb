{
 "cells": [
  {
   "cell_type": "code",
   "execution_count": 1,
   "id": "42876d32-5d40-40f4-abad-ce46f1e23851",
   "metadata": {},
   "outputs": [],
   "source": [
    "# !pip install papermill nbconvert jupytext pandoc"
   ]
  },
  {
   "cell_type": "code",
   "execution_count": 2,
   "id": "c7396ea5-e22d-4568-bcc6-c949dd7204fd",
   "metadata": {},
   "outputs": [],
   "source": [
    "import pandas as pd"
   ]
  },
  {
   "cell_type": "markdown",
   "id": "8bcc4f64-54d2-4b67-8810-18214284da75",
   "metadata": {},
   "source": [
    "# Managing Notebooks and Scripts using Command-Line Tools in Jupyter\n",
    "\n",
    "In this notebook we learn how to use command-line tools inside Jupyter notebooks to make our work easier and more efficient. \n",
    "We start by learning how to run command-line commands, like managing files or installing software, directly from the notebook. \n",
    "Then, we explore how to run entire notebooks from the command line, which helps when we need to automate tasks. \n",
    "We also see how to turn regular Python scripts into notebooks, making them easier version control with Git. \n",
    "Lastly, we see how to convert notebooks into other formats, like HTML or PDF from command line tools, so they can be shared with others."
   ]
  },
  {
   "cell_type": "markdown",
   "id": "e8a26f42-2c0e-4757-a4be-6896a9abceb4",
   "metadata": {},
   "source": [
    "## Running Command-Line Commands in Jupyter\n",
    "\n",
    "A command line is a text-based interface that allows users to interact with their computer’s operating system by typing commands, rather than using graphical interfaces.\n",
    "In this interface, users can navigate directories, manage files, run programs, and perform a wide range of tasks by typing specific commands.\n",
    "Popular command-line environments include Bash (common in Linux and macOS) and the Windows Command Prompt or PowerShell.\n",
    "\n",
    "As researchers we may need to use command-line for file management (move, rename, delete, or organize datasets), automate repeating tasks that may involve external tools, install software etc. \n",
    "\n",
    "Incorporating command-line commands into our analysis notebooks allows us to integrate external tools, automate repeating tasks, and manage data all within the same environment. \n",
    "\n",
    "**Run below code to downlaod data for this section. You do not have to know the contents of the file as we are only learning how to manage files**"
   ]
  },
  {
   "cell_type": "code",
   "execution_count": 3,
   "id": "1996a51c-b4c8-4170-8893-c19d40b24163",
   "metadata": {},
   "outputs": [
    {
     "name": "stderr",
     "output_type": "stream",
     "text": [
      "Downloading magic_commands/text_config.txt: 100%|███████████████████████████████████████████| 79.0/79.0 [00:00<?, ?B/s]\n",
      "Downloading magic_commands/python_config.py: 100%|██████████████████████████████████████████| 80.0/80.0 [00:00<?, ?B/s]\n",
      "Downloading magic_commands/notebook_config.ipynb: 100%|████████████████████████████| 2.41k/2.41k [00:00<00:00, 171kB/s]\n"
     ]
    }
   ],
   "source": [
    "import sys\n",
    "sys.path.append('src')\n",
    "import sciebo\n",
    "\n",
    "sciebo.download_file('https://uni-bonn.sciebo.de/s/yDiGZT44SXLvK5r', 'magic_commands/text_config.txt')\n",
    "sciebo.download_file('https://uni-bonn.sciebo.de/s/apw9RMXjgfhQaK5', 'magic_commands/python_config.py')\n",
    "sciebo.download_file('https://uni-bonn.sciebo.de/s/lwVMGbzKQXFuIax', 'magic_commands/notebook_config.ipynb')"
   ]
  },
  {
   "cell_type": "markdown",
   "id": "a605215f-2769-4b39-bb7f-4b0b113e8f8d",
   "metadata": {},
   "source": [
    "**Example** Install `pandas`"
   ]
  },
  {
   "cell_type": "code",
   "execution_count": 4,
   "id": "5fe656bc-129a-41f2-8a69-b4ae6b943f1c",
   "metadata": {},
   "outputs": [],
   "source": [
    "# !pip install pandas"
   ]
  },
  {
   "cell_type": "markdown",
   "id": "0d956b96-f449-44b9-bab6-871bb1abc912",
   "metadata": {},
   "source": [
    "Install `numpy`"
   ]
  },
  {
   "cell_type": "code",
   "execution_count": 5,
   "id": "02b334e3-29c7-49d6-889a-7b2287dd78f0",
   "metadata": {},
   "outputs": [],
   "source": [
    "# !pip install numpy"
   ]
  },
  {
   "cell_type": "markdown",
   "id": "8b5edc6a-f6ed-4b54-a6b4-ca74a531a502",
   "metadata": {},
   "source": [
    "Install seaborn"
   ]
  },
  {
   "cell_type": "code",
   "execution_count": 6,
   "id": "21ed7160-20d1-46e9-93f8-d2c70f4f2782",
   "metadata": {},
   "outputs": [],
   "source": [
    "# !pip install seaborn"
   ]
  },
  {
   "cell_type": "markdown",
   "id": "bfc7c6b2-c365-4a5b-80d1-640d6d8fcc18",
   "metadata": {},
   "source": [
    "You can use any option that comes along with the command-line command"
   ]
  },
  {
   "cell_type": "markdown",
   "id": "7a2569b3-858d-40b0-9c91-1d8fc62e3cec",
   "metadata": {},
   "source": [
    "**Example** Upgrade matplotlib"
   ]
  },
  {
   "cell_type": "code",
   "execution_count": 7,
   "id": "351bb5ba-89eb-44ac-b1bd-333264432974",
   "metadata": {},
   "outputs": [],
   "source": [
    "# !pip install --upgrade matplotlib"
   ]
  },
  {
   "cell_type": "markdown",
   "id": "48fdf38d-e7c9-465d-9632-ba157c52181f",
   "metadata": {},
   "source": [
    "Upgrade seaborn"
   ]
  },
  {
   "cell_type": "code",
   "execution_count": 8,
   "id": "a2ecb8b4-6ff4-42e1-ad95-9813bab29e72",
   "metadata": {},
   "outputs": [],
   "source": [
    "# !pip install seaborn"
   ]
  },
  {
   "cell_type": "markdown",
   "id": "b1368d5c-e13c-4fbc-a85f-ec7230137931",
   "metadata": {},
   "source": [
    "Upgrade nbformat"
   ]
  },
  {
   "cell_type": "code",
   "execution_count": 9,
   "id": "43aa83ed-1111-424e-92d9-bde1bdc61365",
   "metadata": {},
   "outputs": [],
   "source": [
    "# !pip install --upgrade nbformat"
   ]
  },
  {
   "cell_type": "markdown",
   "id": "437b2134-9d62-47cb-8b45-a67164de0c97",
   "metadata": {},
   "source": [
    "**Example** Create a new directory called `data_1`"
   ]
  },
  {
   "cell_type": "code",
   "execution_count": 10,
   "id": "3c1ddcdf-9e9d-4aa9-9cee-bd744f176f7e",
   "metadata": {},
   "outputs": [],
   "source": [
    "!mkdir data_1"
   ]
  },
  {
   "cell_type": "markdown",
   "id": "7876eec0-cf45-49ae-89a9-9b375043a221",
   "metadata": {},
   "source": [
    "Create a new directory `data_2`"
   ]
  },
  {
   "cell_type": "code",
   "execution_count": 11,
   "id": "ae8bff92-d2cd-416e-8e72-011b9bc796dc",
   "metadata": {},
   "outputs": [],
   "source": [
    "!mkdir data_2"
   ]
  },
  {
   "cell_type": "markdown",
   "id": "dd185198-f5b6-4e25-a003-2a6e362057de",
   "metadata": {},
   "source": [
    "Create a new directory `data_1/data_1_sub`\n",
    "\n",
    "(`data_1\\data_1_sub` for windows machines)"
   ]
  },
  {
   "cell_type": "code",
   "execution_count": 12,
   "id": "359f1dc0-ed2a-4ca5-9324-db1e5e6195ce",
   "metadata": {},
   "outputs": [],
   "source": [
    "!mkdir data_1\\data_1_sub"
   ]
  },
  {
   "cell_type": "markdown",
   "id": "5a54e792-8afb-4963-8b88-84475be0c969",
   "metadata": {},
   "source": [
    "We can run Linux command-line commands within a cell using %%bash\n",
    "\n",
    "**Example** Copy `magic_commands/hello.py` to `data_1` directory"
   ]
  },
  {
   "cell_type": "code",
   "execution_count": 13,
   "id": "af6b8ae4-4cde-4530-ab03-9ce13e3edcba",
   "metadata": {},
   "outputs": [],
   "source": [
    "%%bash\n",
    "cp magic_commands/python_config.py data_1/python_config.py"
   ]
  },
  {
   "cell_type": "markdown",
   "id": "654ba857-6673-499a-811a-902f492f3cea",
   "metadata": {},
   "source": [
    "Copy `magic_commands/text_config.txt` to `data_1`"
   ]
  },
  {
   "cell_type": "code",
   "execution_count": 14,
   "id": "a41c71d7-7416-4c4b-b8a0-70fac5e764bb",
   "metadata": {},
   "outputs": [],
   "source": [
    "%%bash\n",
    "cp magic_commands/text_config.txt data_1/text_config.txt"
   ]
  },
  {
   "cell_type": "markdown",
   "id": "5b0872bb-66eb-4ceb-ada0-3f43a0e05b05",
   "metadata": {},
   "source": [
    "Copy `magic_commands/notebook_config.ipynb` to `data_1/data_1_sub` with a name `nb_config.ipynb`"
   ]
  },
  {
   "cell_type": "code",
   "execution_count": 15,
   "id": "a57def14-dbd1-4168-b266-b4ee6f82abc8",
   "metadata": {},
   "outputs": [],
   "source": [
    "%%bash\n",
    "cp magic_commands/notebook_config.ipynb data_1/data_1_sub/nb_config.ipynb"
   ]
  },
  {
   "cell_type": "markdown",
   "id": "15ac97a7-8355-44ea-9d9f-9a44844f0923",
   "metadata": {},
   "source": [
    "Let's practice deleting files and folders. **Always be cautious when deleting any file**\n",
    "\n",
    "**Example** Delete `data_1/text_config.txt` file. (Only file)"
   ]
  },
  {
   "cell_type": "code",
   "execution_count": 16,
   "id": "4a18a6a1-e4ce-48a0-97ce-50b5e95694e5",
   "metadata": {},
   "outputs": [],
   "source": [
    "%%bash\n",
    "rm data_1/text_config.txt"
   ]
  },
  {
   "cell_type": "markdown",
   "id": "f48aefca-d19d-4e41-835f-a3890787f98f",
   "metadata": {},
   "source": [
    "Delete `data_1/python_config.txt` (Only file)"
   ]
  },
  {
   "cell_type": "code",
   "execution_count": 17,
   "id": "14c573a0-7d5e-416c-8868-71a74dbb9b7f",
   "metadata": {},
   "outputs": [],
   "source": [
    "%%bash\n",
    "rm data_1/python_config.py"
   ]
  },
  {
   "cell_type": "markdown",
   "id": "ab460ad8-1e82-4ef0-aef7-ebe0ad8edbae",
   "metadata": {},
   "source": [
    "Delete `data_2` directory"
   ]
  },
  {
   "cell_type": "code",
   "execution_count": 18,
   "id": "e027268a-a966-4877-a3de-d660e49b4501",
   "metadata": {},
   "outputs": [],
   "source": [
    "%%bash\n",
    "rmdir data_2"
   ]
  },
  {
   "cell_type": "markdown",
   "id": "508613d6-3805-4ca4-8731-b444134799da",
   "metadata": {},
   "source": [
    "Delete `data_1` including sub-directories"
   ]
  },
  {
   "cell_type": "markdown",
   "id": "2224c9ef-cc94-4100-956f-b2a12edc7c89",
   "metadata": {},
   "source": [
    "---"
   ]
  },
  {
   "cell_type": "markdown",
   "id": "d7e2ddba-c6b7-484b-bf92-7b83518ae117",
   "metadata": {},
   "source": [
    "## Executing Notebooks from Command Line\n",
    "\n",
    "Running a notebook from command-line can be useful to automate execution of Jupyter notebook as part of a workflow or pipeline.\n",
    "It can help us integrate it with task scheduling tools to perform routine tasks without manually opening and running the notebook.\n",
    "Another use would be when dealing with multiple notebooks, running from command-line allows for batch processing enabling us to execute several notebooks sequentially without manually interacting with each one.\n",
    "\n",
    "Here we will look into a tool called `papermill` that can execute notebooks from command-line. We will also see how to execute notebooks sequentially and in parallel. For this, we use three notebooks\n",
    "\n",
    "1. `analysis_workflow/1_data_access.ipynb`: Prepares the dataset `steinmetz_active.csv`\n",
    "2. `analysis_workflow/2_contrast_level.ipynb`: Uses `steinmetz_active.csv` for contrast level analysis\n",
    "3. `analysis_workflow/3_mouse_analysis.ipynb`: Uses `steinmetz_active.csv` for mouse analysis\n",
    "\n",
    "\n",
    "Notebooks 2 and 3 are not dependent on each other.\n",
    "Both use the output from `notebook 1` for their analysis. \n",
    "\n",
    "**Run below code to downlaod data for this section. You do not have to know the contents of the file as we are only learning how to execute notebooks from command-line**"
   ]
  },
  {
   "cell_type": "code",
   "execution_count": 19,
   "id": "59b563ea-cf01-46f5-bb55-53bab4b8fd17",
   "metadata": {},
   "outputs": [
    {
     "name": "stderr",
     "output_type": "stream",
     "text": [
      "Downloading execute_notebooks/1_data_access.ipynb: 100%|███████████████████████████| 26.0k/26.0k [00:00<00:00, 683kB/s]\n",
      "Downloading execute_notebooks/2_contrast_level.ipynb: 100%|███████████████████████| 93.0k/93.0k [00:00<00:00, 1.10MB/s]\n",
      "Downloading execute_notebooks/3_mouse_analysis.ipynb: 100%|████████████████████████| 84.1k/84.1k [00:00<00:00, 882kB/s]\n"
     ]
    }
   ],
   "source": [
    "import sys\n",
    "sys.path.append('src')\n",
    "import sciebo\n",
    "\n",
    "sciebo.download_file('https://uni-bonn.sciebo.de/s/sqOWyThRHtrwDNH', 'execute_notebooks/1_data_access.ipynb')\n",
    "sciebo.download_file('https://uni-bonn.sciebo.de/s/iHXsgis2cTJ52rj', 'execute_notebooks/2_contrast_level.ipynb')\n",
    "sciebo.download_file('https://uni-bonn.sciebo.de/s/IC2NHoU7EOcsoMK', 'execute_notebooks/3_mouse_analysis.ipynb')"
   ]
  },
  {
   "cell_type": "markdown",
   "id": "dabf7941-b2a7-44e2-b79a-f3dc0a074ea0",
   "metadata": {},
   "source": [
    "**Example** Execute `execute_notebooks/1_data_access.ipynb` as `output.ipynb` and examine it. Was any other file generated from this?"
   ]
  },
  {
   "cell_type": "code",
   "execution_count": 20,
   "id": "431aebbe-757c-4ba5-8eac-cb380f3f5484",
   "metadata": {},
   "outputs": [
    {
     "name": "stderr",
     "output_type": "stream",
     "text": [
      "Input Notebook:  execute_notebooks/1_data_access.ipynb\n",
      "Output Notebook: output.ipynb\n",
      "\n",
      "Executing:   0%|          | 0/12 [00:00<?, ?cell/s]Executing notebook with kernel: python3\n",
      "\n",
      "Executing:   8%|8         | 1/12 [00:01<00:17,  1.62s/cell]\n",
      "Executing:  17%|#6        | 2/12 [00:01<00:08,  1.18cell/s]\n",
      "Executing:  33%|###3      | 4/12 [00:03<00:07,  1.10cell/s]\n",
      "Executing: 100%|##########| 12/12 [00:04<00:00,  2.90cell/s]\n"
     ]
    }
   ],
   "source": [
    "!papermill execute_notebooks/1_data_access.ipynb output.ipynb"
   ]
  },
  {
   "cell_type": "markdown",
   "id": "3b2c4268-79ad-4d47-a09c-6dd13a61462b",
   "metadata": {},
   "source": [
    "It has created the `steinmetz_active.csv` file. `output.ipynb` file is the same\n",
    "\n",
    "Execute `execute_notebooks/2_contrast_level.ipynb` as `output.ipynb` and examine the output."
   ]
  },
  {
   "cell_type": "code",
   "execution_count": 21,
   "id": "1328b0b1-57ba-428c-ab39-fcf727f9e590",
   "metadata": {},
   "outputs": [
    {
     "name": "stderr",
     "output_type": "stream",
     "text": [
      "Input Notebook:  execute_notebooks/2_contrast_level.ipynb\n",
      "Output Notebook: output.ipynb\n",
      "\n",
      "Executing:   0%|          | 0/18 [00:00<?, ?cell/s]Executing notebook with kernel: python3\n",
      "\n",
      "Executing:   6%|5         | 1/18 [00:01<00:21,  1.27s/cell]\n",
      "Executing:  11%|#1        | 2/18 [00:03<00:28,  1.77s/cell]\n",
      "Executing:  72%|#######2  | 13/18 [00:03<00:00,  5.51cell/s]\n",
      "Executing: 100%|##########| 18/18 [00:03<00:00,  8.17cell/s]\n",
      "Executing: 100%|##########| 18/18 [00:04<00:00,  4.44cell/s]\n"
     ]
    }
   ],
   "source": [
    "!papermill execute_notebooks/2_contrast_level.ipynb output.ipynb"
   ]
  },
  {
   "cell_type": "markdown",
   "id": "1ac9c23d-51d3-4a5e-bb9f-18c90d3e2907",
   "metadata": {},
   "source": [
    "Execute `execute_notebooks/3_mouse_analysis.ipynb` as `output.ipynb` and the output."
   ]
  },
  {
   "cell_type": "code",
   "execution_count": 22,
   "id": "31d82c8d-d817-4b36-9966-3a8e4b2fb713",
   "metadata": {},
   "outputs": [
    {
     "name": "stderr",
     "output_type": "stream",
     "text": [
      "Input Notebook:  execute_notebooks/3_mouse_analysis.ipynb\n",
      "Output Notebook: output.ipynb\n",
      "\n",
      "Executing:   0%|          | 0/12 [00:00<?, ?cell/s]Executing notebook with kernel: python3\n",
      "\n",
      "Executing:   8%|8         | 1/12 [00:01<00:18,  1.69s/cell]\n",
      "Executing:  17%|#6        | 2/12 [00:03<00:19,  1.94s/cell]\n",
      "Executing: 100%|##########| 12/12 [00:03<00:00,  4.55cell/s]\n",
      "Executing: 100%|##########| 12/12 [00:04<00:00,  2.71cell/s]\n"
     ]
    }
   ],
   "source": [
    "!papermill execute_notebooks/3_mouse_analysis.ipynb output.ipynb"
   ]
  },
  {
   "cell_type": "markdown",
   "id": "baf4edfe-c280-42e0-ac2c-5ee1730077dc",
   "metadata": {},
   "source": [
    "Delete `data_analysis/steinmetz_active.csv` file.\n",
    "\n",
    "Execute `execute_notebooks/3_mouse_analysis.ipynb` as `output.ipynb` and examine `output.ipynb` directory. What do you see?"
   ]
  },
  {
   "cell_type": "code",
   "execution_count": 23,
   "id": "979869f4-055a-43de-94ce-a8459d53d91a",
   "metadata": {},
   "outputs": [],
   "source": [
    "# !papermill execute_notebooks/3_mouse_analysis.ipynb output.ipynb"
   ]
  },
  {
   "cell_type": "markdown",
   "id": "f515468a-f138-4460-b9ab-89797378c391",
   "metadata": {},
   "source": [
    "It gives an error in the output of the cell. \n",
    "In `data_analysis/output.ipynb`, you will see a huge error in red on top of the notebook and another red text before the cell where it encountered an error."
   ]
  },
  {
   "cell_type": "markdown",
   "id": "4cf8db1f-ee49-4243-8451-836dc4995ca2",
   "metadata": {},
   "source": [
    "If you are not interested in creating an output file\n",
    "\n",
    "**Example** Execute `execute_notebooks/1_data_access.ipynb` inplace"
   ]
  },
  {
   "cell_type": "code",
   "execution_count": 24,
   "id": "50ced1b2-1c3b-4062-9a00-db5cc9c93f71",
   "metadata": {},
   "outputs": [
    {
     "name": "stderr",
     "output_type": "stream",
     "text": [
      "Input Notebook:  execute_notebooks/1_data_access.ipynb\n",
      "Output Notebook: execute_notebooks/1_data_access.ipynb\n",
      "\n",
      "Executing:   0%|          | 0/12 [00:00<?, ?cell/s]Executing notebook with kernel: python3\n",
      "\n",
      "Executing:   8%|8         | 1/12 [00:01<00:17,  1.59s/cell]\n",
      "Executing:  17%|#6        | 2/12 [00:01<00:08,  1.21cell/s]\n",
      "Executing:  33%|###3      | 4/12 [00:03<00:05,  1.38cell/s]\n",
      "Executing: 100%|##########| 12/12 [00:03<00:00,  5.93cell/s]\n",
      "Executing: 100%|##########| 12/12 [00:03<00:00,  3.36cell/s]\n"
     ]
    }
   ],
   "source": [
    "!papermill execute_notebooks/1_data_access.ipynb execute_notebooks/1_data_access.ipynb"
   ]
  },
  {
   "cell_type": "markdown",
   "id": "3938e5f0-712c-48ff-8252-5b1158043518",
   "metadata": {},
   "source": [
    "Execute `execute_notebooks/2_contrast_level.ipynb` in place"
   ]
  },
  {
   "cell_type": "code",
   "execution_count": 25,
   "id": "31529d63-89db-4a54-ae3b-974192942145",
   "metadata": {},
   "outputs": [
    {
     "name": "stderr",
     "output_type": "stream",
     "text": [
      "Input Notebook:  execute_notebooks/2_contrast_level.ipynb\n",
      "Output Notebook: execute_notebooks/2_contrast_level.ipynb\n",
      "\n",
      "Executing:   0%|          | 0/18 [00:00<?, ?cell/s]Executing notebook with kernel: python3\n",
      "\n",
      "Executing:   6%|5         | 1/18 [00:01<00:28,  1.68s/cell]\n",
      "Executing:  11%|#1        | 2/18 [00:03<00:31,  1.97s/cell]\n",
      "Executing:  78%|#######7  | 14/18 [00:03<00:00,  5.40cell/s]\n",
      "Executing: 100%|##########| 18/18 [00:04<00:00,  4.09cell/s]\n"
     ]
    }
   ],
   "source": [
    "!papermill execute_notebooks/2_contrast_level.ipynb execute_notebooks/2_contrast_level.ipynb"
   ]
  },
  {
   "cell_type": "markdown",
   "id": "300543f0-52eb-4dce-8d0d-8195163500cf",
   "metadata": {},
   "source": [
    "Execute `execute_notebooks/3_mouse_analysis.ipynb` as `execute_notebooks/3_mouse_analysis.ipynb`"
   ]
  },
  {
   "cell_type": "code",
   "execution_count": 26,
   "id": "347f9b34-2e46-40fe-99e0-98ebef5b1640",
   "metadata": {},
   "outputs": [
    {
     "name": "stderr",
     "output_type": "stream",
     "text": [
      "Input Notebook:  execute_notebooks/3_mouse_analysis.ipynb\n",
      "Output Notebook: execute_notebooks/3_mouse_analysis.ipynb\n",
      "\n",
      "Executing:   0%|          | 0/12 [00:00<?, ?cell/s]Executing notebook with kernel: python3\n",
      "\n",
      "Executing:   8%|8         | 1/12 [00:01<00:18,  1.72s/cell]\n",
      "Executing:  17%|#6        | 2/12 [00:03<00:19,  1.90s/cell]\n",
      "Executing: 100%|##########| 12/12 [00:03<00:00,  4.62cell/s]\n",
      "Executing: 100%|##########| 12/12 [00:04<00:00,  2.82cell/s]\n"
     ]
    }
   ],
   "source": [
    "!papermill execute_notebooks/3_mouse_analysis.ipynb execute_notebooks/3_mouse_analysis.ipynb"
   ]
  },
  {
   "cell_type": "markdown",
   "id": "aa9c2208-8268-42f2-9ca9-7ca2ee3bb4d1",
   "metadata": {},
   "source": [
    "**Example** Execute `1_data_access.ipynb` and `2_contrast_level.ipynb` sequentially"
   ]
  },
  {
   "cell_type": "code",
   "execution_count": 27,
   "id": "55f4a798-2f8b-4f8c-8fe5-2780ec64c1c0",
   "metadata": {},
   "outputs": [
    {
     "name": "stderr",
     "output_type": "stream",
     "text": [
      "Input Notebook:  execute_notebooks/1_data_access.ipynb\n",
      "Output Notebook: output_1.ipynb\n",
      "\n",
      "Executing:   0%|          | 0/12 [00:00<?, ?cell/s]Executing notebook with kernel: python3\n",
      "\n",
      "Executing:   8%|8         | 1/12 [00:01<00:13,  1.20s/cell]\n",
      "Executing:  17%|#6        | 2/12 [00:01<00:06,  1.50cell/s]\n",
      "Executing:  33%|###3      | 4/12 [00:02<00:05,  1.56cell/s]\n",
      "Executing: 100%|##########| 12/12 [00:03<00:00,  3.87cell/s]\n",
      "Input Notebook:  execute_notebooks/2_contrast_level.ipynb\n",
      "Output Notebook: output_2.ipynb\n",
      "\n",
      "Executing:   0%|          | 0/18 [00:00<?, ?cell/s]Executing notebook with kernel: python3\n",
      "\n",
      "Executing:   6%|5         | 1/18 [00:01<00:28,  1.65s/cell]\n",
      "Executing:  11%|#1        | 2/18 [00:03<00:30,  1.91s/cell]\n",
      "Executing:  78%|#######7  | 14/18 [00:03<00:00,  5.54cell/s]\n",
      "Executing: 100%|##########| 18/18 [00:07<00:00,  2.44cell/s]\n"
     ]
    }
   ],
   "source": [
    "!papermill execute_notebooks/1_data_access.ipynb output_1.ipynb\n",
    "!papermill execute_notebooks/2_contrast_level.ipynb output_2.ipynb"
   ]
  },
  {
   "cell_type": "markdown",
   "id": "7d981c37-f314-4d72-be5f-8989362249b4",
   "metadata": {},
   "source": [
    "Execute `1_data_access.ipynb` and `3_mouse_analysis.ipynb` sequentially"
   ]
  },
  {
   "cell_type": "code",
   "execution_count": 28,
   "id": "2679ec8f-4169-430f-bde4-45bf2fa1fdc0",
   "metadata": {},
   "outputs": [
    {
     "name": "stderr",
     "output_type": "stream",
     "text": [
      "Input Notebook:  execute_notebooks/1_data_access.ipynb\n",
      "Output Notebook: output_1.ipynb\n",
      "\n",
      "Executing:   0%|          | 0/12 [00:00<?, ?cell/s]Executing notebook with kernel: python3\n",
      "\n",
      "Executing:   8%|8         | 1/12 [00:01<00:17,  1.61s/cell]\n",
      "Executing:  17%|#6        | 2/12 [00:01<00:08,  1.20cell/s]\n",
      "Executing:  33%|###3      | 4/12 [00:03<00:05,  1.45cell/s]\n",
      "Executing: 100%|##########| 12/12 [00:03<00:00,  6.21cell/s]\n",
      "Executing: 100%|##########| 12/12 [00:03<00:00,  3.58cell/s]\n",
      "Input Notebook:  execute_notebooks/3_mouse_analysis.ipynb\n",
      "Output Notebook: output_3.ipynb\n",
      "\n",
      "Executing:   0%|          | 0/12 [00:00<?, ?cell/s]Executing notebook with kernel: python3\n",
      "\n",
      "Executing:   8%|8         | 1/12 [00:01<00:18,  1.66s/cell]\n",
      "Executing:  17%|#6        | 2/12 [00:03<00:18,  1.88s/cell]\n",
      "Executing: 100%|##########| 12/12 [00:03<00:00,  4.67cell/s]\n",
      "Executing: 100%|##########| 12/12 [00:04<00:00,  2.86cell/s]\n"
     ]
    }
   ],
   "source": [
    "!papermill execute_notebooks/1_data_access.ipynb output_1.ipynb\n",
    "!papermill execute_notebooks/3_mouse_analysis.ipynb output_3.ipynb"
   ]
  },
  {
   "cell_type": "markdown",
   "id": "b80e51f8-7596-4f7a-871a-270abcdd0eb4",
   "metadata": {},
   "source": [
    "Execute all the three notebooks one after the other"
   ]
  },
  {
   "cell_type": "code",
   "execution_count": 29,
   "id": "5d550f71-4317-4a74-b9eb-f19c3d53729c",
   "metadata": {},
   "outputs": [
    {
     "name": "stderr",
     "output_type": "stream",
     "text": [
      "Input Notebook:  execute_notebooks/1_data_access.ipynb\n",
      "Output Notebook: output_1.ipynb\n",
      "\n",
      "Executing:   0%|          | 0/12 [00:00<?, ?cell/s]Executing notebook with kernel: python3\n",
      "\n",
      "Executing:   8%|8         | 1/12 [00:01<00:17,  1.61s/cell]\n",
      "Executing:  17%|#6        | 2/12 [00:01<00:08,  1.14cell/s]\n",
      "Executing:  33%|###3      | 4/12 [00:03<00:05,  1.41cell/s]\n",
      "Executing: 100%|##########| 12/12 [00:03<00:00,  3.39cell/s]\n",
      "Input Notebook:  execute_notebooks/2_contrast_level.ipynb\n",
      "Output Notebook: output_2.ipynb\n",
      "\n",
      "Executing:   0%|          | 0/18 [00:00<?, ?cell/s]Executing notebook with kernel: python3\n",
      "\n",
      "Executing:   6%|5         | 1/18 [00:01<00:28,  1.68s/cell]\n",
      "Executing:  11%|#1        | 2/18 [00:05<00:42,  2.68s/cell]\n",
      "Executing:  61%|######1   | 11/18 [00:05<00:02,  3.09cell/s]\n",
      "Executing: 100%|##########| 18/18 [00:05<00:00,  5.73cell/s]Assertion failed: Connection reset by peer [10054] (C:\\Users\\runneradmin\\AppData\\Local\\Temp\\tmpbhr87oaq\\build\\_deps\\bundled_libzmq-src\\src\\signaler.cpp:345)\n",
      "\n",
      "Executing: 100%|##########| 18/18 [00:07<00:00,  2.40cell/s]\n",
      "Input Notebook:  execute_notebooks/3_mouse_analysis.ipynb\n",
      "Output Notebook: output_3.ipynb\n",
      "\n",
      "Executing:   0%|          | 0/12 [00:00<?, ?cell/s]Executing notebook with kernel: python3\n",
      "\n",
      "Executing:   8%|8         | 1/12 [00:01<00:18,  1.66s/cell]\n",
      "Executing:  17%|#6        | 2/12 [00:04<00:22,  2.24s/cell]\n",
      "Executing:  92%|#########1| 11/12 [00:04<00:00,  3.68cell/s]\n",
      "Executing: 100%|##########| 12/12 [00:04<00:00,  2.41cell/s]\n"
     ]
    }
   ],
   "source": [
    "!papermill execute_notebooks/1_data_access.ipynb output_1.ipynb\n",
    "!papermill execute_notebooks/2_contrast_level.ipynb output_2.ipynb\n",
    "!papermill execute_notebooks/3_mouse_analysis.ipynb output_3.ipynb"
   ]
  }
 ],
 "metadata": {
  "kernelspec": {
   "display_name": "Python 3 (ipykernel)",
   "language": "python",
   "name": "python3"
  },
  "language_info": {
   "codemirror_mode": {
    "name": "ipython",
    "version": 3
   },
   "file_extension": ".py",
   "mimetype": "text/x-python",
   "name": "python",
   "nbconvert_exporter": "python",
   "pygments_lexer": "ipython3",
   "version": "3.12.7"
  }
 },
 "nbformat": 4,
 "nbformat_minor": 5
}
