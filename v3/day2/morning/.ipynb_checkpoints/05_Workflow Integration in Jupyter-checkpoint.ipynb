{
 "cells": [
  {
   "cell_type": "code",
   "execution_count": null,
   "id": "d044e165-28e5-4fce-8074-f72437fa4c14",
   "metadata": {},
   "outputs": [],
   "source": [
    "# !pip install import-ipynb"
   ]
  },
  {
   "cell_type": "markdown",
   "id": "87f0a5f2-8fc6-4f45-b083-9be35de4e12a",
   "metadata": {},
   "source": [
    "# Workflow Integration in Jupyter\n",
    "\n",
    "Research projects are often involve complex processes with multiple steps that are interconnected. \n",
    "Each of these steps might focus on a specific part of the analysis, such as data cleaning, model building, or visualization.\n",
    "While these steps can be developed and run separately, they are usually not independent; one step may depend on the outcome of a previous step.\n",
    "For instance, before you can build a model, you might need results from data preprocessing or specific configuration settings.\n",
    "\n",
    "In Jupyter notebooks, there are various scenarios where one notebook might need to use content from another notebook.\n",
    "Sometimes, you might want to run an entire notebook to make sure everything works in sequence.\n",
    "At other times, you may only need to pull in specific parts of another notebook, such as a function, a configuration setting, or a block of code.\n",
    "Jupyter provides several built-in and external tools to handle these scenarios efficiently.\n",
    "In this notebook, we will explore how to use these tools to manage complex workflows such that notebooks can either run entire sequences or access just the specific content they need, making the research process more efficient and organized.\n",
    "\n",
    "We start by looking at magic commands to manage notebooks, how to sequence of notebooks from another notebook, how to import contents of notebook like it was a script, and end by practicing setting up a configuration notebook. "
   ]
  },
  {
   "cell_type": "code",
   "execution_count": null,
   "id": "f3bfec62-c416-4b37-a473-278428533048",
   "metadata": {},
   "outputs": [],
   "source": [
    "import sys\n",
    "sys.path.append('src')\n",
    "import sciebo\n",
    "\n",
    "sciebo.download_file('https://uni-bonn.sciebo.de/s/yDiGZT44SXLvK5r', 'magic_commands/text_config.txt')\n",
    "sciebo.download_file('https://uni-bonn.sciebo.de/s/apw9RMXjgfhQaK5', 'magic_commands/python_config.py')\n",
    "sciebo.download_file('https://uni-bonn.sciebo.de/s/lwVMGbzKQXFuIax', 'magic_commands/notebook_config.ipynb')"
   ]
  },
  {
   "cell_type": "markdown",
   "id": "b3b71ec8-2e2d-4926-acd8-e56f087e5a6c",
   "metadata": {},
   "source": [
    "\n",
    "## Line Magic Commands\n",
    "\n",
    "Magic commands in Jupyter notebooks are special commands that provide a convenient way to perform certain tasks and control the behavior of the Jupyter environment. They start with a %. These commands are designed to facilitate tasks such as running scripts, timing execution, and integrating with other environments or languages.\n",
    "\n",
    "When we are developing an code as researchers, we are mainly concerned with how long an analysis runs and how to store and load results. In this section, let's focus on some of Jupyter magic commands that let's us do just that.\n",
    "\n",
    "**Example** Measure how long it takes to sum numbers from 1 to 100"
   ]
  },
  {
   "cell_type": "code",
   "execution_count": null,
   "id": "01eaa0d4-a6e4-427d-8275-8b9145a543cb",
   "metadata": {},
   "outputs": [],
   "source": [
    "%timeit sum(range(100))"
   ]
  },
  {
   "cell_type": "markdown",
   "id": "542b520b-3ec2-42f1-b864-a323cab23946",
   "metadata": {},
   "source": [
    "You might be surprised that it took longer than to just run the code. That is because `%timeit` runs the line of code multiple times with a lot of iterations in each run to get a reliable estimation of the execution time. The output you see here will look something like this\n",
    "\n",
    "`651 ns ± 11.4 ns per loop (mean ± std. dev. of 7 runs, 1,000,000 loops each)`\n",
    "\n",
    "Here's what it means:\n",
    "\n",
    "| **Number/Value**      | **Explanation**                                                                                                                                   |\n",
    "|-----------------------|---------------------------------------------------------------------------------------------------------------------------------------------------|\n",
    "| `651 ns`              | The mean (average) execution time of the code per loop. The unit here is nanoseconds (ns), meaning it took an average of 651 nanoseconds per loop. |\n",
    "| `± 11.4 ns`           | The standard deviation of the execution time. It indicates the variability in the execution time across different runs. In this case, it varies by 11.4 nanoseconds. |\n",
    "| `7 runs`              | The number of times `%timeit` ran the test. In this case, the test was executed 7 times to gather the statistics for the mean and standard deviation. |\n",
    "| `1,000,000 loops each`| The number of iterations (loops) that were executed per run. Here, the code was repeated 1,000,000 times in each of the 7 runs to get a more accurate timing. |\n",
    "\n",
    "\n",
    "Measure how long it takes to sum numbers from 1 to 1000"
   ]
  },
  {
   "cell_type": "code",
   "execution_count": null,
   "id": "34dfd657-20f2-4a09-a9d9-52c86bc13561",
   "metadata": {},
   "outputs": [],
   "source": [
    "%timeit sum(range(1000))"
   ]
  },
  {
   "cell_type": "markdown",
   "id": "8ac29c35-e300-43d8-b0fe-7d71f0d54239",
   "metadata": {},
   "source": [
    "Measure how long it takes to sum numbers from 1 to 100000"
   ]
  },
  {
   "cell_type": "code",
   "execution_count": null,
   "id": "458a673a-f096-4b90-9e8a-c7edbe0907ad",
   "metadata": {},
   "outputs": [],
   "source": [
    "%timeit sum(range(100000))"
   ]
  },
  {
   "cell_type": "markdown",
   "id": "a20ccda6-7ed4-435e-8c2d-c7bde73a51be",
   "metadata": {},
   "source": [
    "Do you notice that number of loops reduced as the code took longer to execute? \n",
    "This is because `%timeit` automatically adjusts the number of loops to ensure an accurate measurement based on the how quickly the code being tested runs. \n",
    "\n",
    "**Example** Measure how long it takes to sum numbers from 1 to 100 with 1000 loops per iteration"
   ]
  },
  {
   "cell_type": "code",
   "execution_count": null,
   "id": "4ac38366-cfce-4166-8c09-daf98462a6cf",
   "metadata": {},
   "outputs": [],
   "source": [
    "%timeit -n 1000 sum(range(100))"
   ]
  },
  {
   "cell_type": "markdown",
   "id": "2b18b5be-6776-44a6-9c76-16f07bf17468",
   "metadata": {},
   "source": [
    "Measure how long it takes to sum numbers from 1 to 100 with 10000 loops per iteration"
   ]
  },
  {
   "cell_type": "code",
   "execution_count": null,
   "id": "c792ed4e-2133-4740-9e38-f01882076f83",
   "metadata": {},
   "outputs": [],
   "source": [
    "%timeit -n 10000 sum(range(100))"
   ]
  },
  {
   "cell_type": "markdown",
   "id": "c777c64e-88d9-4e07-b268-37146a5fa7c9",
   "metadata": {},
   "source": [
    "Measure how long it takes to sum numbers from 1 to 100 with 5 iterations.\n",
    "\n",
    "Hint: Use -r to set number of iterations"
   ]
  },
  {
   "cell_type": "code",
   "execution_count": null,
   "id": "4e38d836-8510-48b6-85b0-fedb784e1cc9",
   "metadata": {},
   "outputs": [],
   "source": [
    "%timeit -r 5 sum(range(100))"
   ]
  },
  {
   "cell_type": "markdown",
   "id": "80ee96c0-5c90-4b4e-9fa6-e815811522ee",
   "metadata": {},
   "source": [
    "Measure how long it takes to sum numbers from 1 to 100 with 5 iterations and 1000 loops per iteration"
   ]
  },
  {
   "cell_type": "code",
   "execution_count": null,
   "id": "d6fa68ec-58db-48f6-9758-4413f00dcffe",
   "metadata": {},
   "outputs": [],
   "source": [
    "%timeit -r 5 -n 1000 sum(range(100))"
   ]
  },
  {
   "cell_type": "markdown",
   "id": "db3bcc99-407d-458f-a644-fcd41f0bc7eb",
   "metadata": {},
   "source": [
    "In the below exercises, let's practice loading contents of another file. \n",
    "\n",
    "**Example** Load contents of `magic_commands/text_config` file"
   ]
  },
  {
   "cell_type": "code",
   "execution_count": null,
   "id": "089d3750-9a1f-4985-9dca-9bcdeef0e00f",
   "metadata": {},
   "outputs": [],
   "source": [
    "%load magic_commands/text_config.txt"
   ]
  },
  {
   "cell_type": "markdown",
   "id": "a8e9c632-8527-4ba1-9d7b-627791e1c676",
   "metadata": {},
   "source": [
    "As soon as you execute the cell with %load, the following happens\n",
    "\n",
    "1. %load command itself is turned into a comment\n",
    "2. Below the comment, the contents of the file gets loaded\n",
    "3. You can edit it and then execute the line\n",
    "\n",
    "Load contents of `magic_commands/python_config` file"
   ]
  },
  {
   "cell_type": "code",
   "execution_count": null,
   "id": "5c825eb2-60fe-4c7f-869f-ed5aa58160cc",
   "metadata": {},
   "outputs": [],
   "source": [
    "%load magic_commands/python_config.py\n"
   ]
  },
  {
   "cell_type": "markdown",
   "id": "331585fd-98e3-402e-b46b-1e136170dddb",
   "metadata": {},
   "source": [
    "It can also work with other notebooks. It loads the whole notebook.\n",
    "\n",
    "Load contents of `magic_commands/notebook_config.ipynb`"
   ]
  },
  {
   "cell_type": "code",
   "execution_count": null,
   "id": "51d8f68a-e82f-4563-82dc-70a9d7ac9f3c",
   "metadata": {},
   "outputs": [],
   "source": [
    "%load magic_commands/notebook_config.ipynb"
   ]
  },
  {
   "cell_type": "markdown",
   "id": "b9280c04-f8d6-41f2-907f-fa60ae24665f",
   "metadata": {},
   "source": [
    "**Example** Store \"Mice Visual Cortex Analysis\" as `project_name` so any notebook can access it"
   ]
  },
  {
   "cell_type": "code",
   "execution_count": null,
   "id": "88d18f91-6499-4c89-aa86-c3e66c8cd6b1",
   "metadata": {},
   "outputs": [],
   "source": [
    "project_name = 'Mice Visual Cortex Analysis'\n",
    "%store project_name"
   ]
  },
  {
   "cell_type": "markdown",
   "id": "6cba6d12-b74b-45c2-b2b3-c0cac4d8dd36",
   "metadata": {},
   "source": [
    "Now this variable is stored on the disk in ~/.ipython. \n",
    "It will be available to all jupyter notebooks as long as the notebooks are run in same environment\n",
    "\n",
    "Store 123456 as `project_id` so any notebook can access it"
   ]
  },
  {
   "cell_type": "code",
   "execution_count": null,
   "id": "2f00700e-2e65-414f-a4fb-c451301c39d6",
   "metadata": {},
   "outputs": [],
   "source": [
    "project_id = 123456\n",
    "%store project_id"
   ]
  },
  {
   "cell_type": "markdown",
   "id": "61a987ec-02a3-4ef1-ad22-4b82153dfc9b",
   "metadata": {},
   "source": [
    "Store \"Genius Lab\" as `lab_name` so any notebook can access it."
   ]
  },
  {
   "cell_type": "code",
   "execution_count": null,
   "id": "5e51f4bd-f94b-483b-864b-db573405420c",
   "metadata": {},
   "outputs": [],
   "source": [
    "lab_name = \"Genius lab\"\n",
    "%store lab_name"
   ]
  },
  {
   "cell_type": "markdown",
   "id": "ee96d98b-f054-470e-91a0-ead51523cc49",
   "metadata": {},
   "source": [
    "**Example** In another notebook, retrieve `project_name`"
   ]
  },
  {
   "cell_type": "code",
   "execution_count": null,
   "id": "583314ce-4ac7-4517-ac76-a5c01b88bfc1",
   "metadata": {},
   "outputs": [],
   "source": [
    "%store -r project_id\n",
    "project_id"
   ]
  },
  {
   "cell_type": "markdown",
   "id": "c787d29e-39fa-40a2-82d8-8662f9e1c68c",
   "metadata": {},
   "source": [
    "In another notebook, retrieve `lab_name`"
   ]
  },
  {
   "cell_type": "code",
   "execution_count": null,
   "id": "34580240-a672-4192-b1bb-d9ceb4f37a8a",
   "metadata": {},
   "outputs": [],
   "source": [
    "%store -r lab_name\n",
    "lab_name"
   ]
  },
  {
   "cell_type": "markdown",
   "id": "7f41f744-b7f2-4cda-b5b3-85aa426577a8",
   "metadata": {},
   "source": [
    "In another notebook, retrieve `project_id`"
   ]
  },
  {
   "cell_type": "code",
   "execution_count": null,
   "id": "593acb83-6fb4-462f-8b81-7f91c38fdcb3",
   "metadata": {},
   "outputs": [],
   "source": [
    "%store -r project_id\n",
    "project_id"
   ]
  },
  {
   "cell_type": "markdown",
   "id": "81661973-3ead-4c35-a967-c57446ce6044",
   "metadata": {},
   "source": [
    "## Cell Magic Commands\n",
    "\n",
    "Line magic commands run only on one line of code. \n",
    "However, when we are dealing with writing contents of a cell to a file, or timing a whole block of code, Jupyter provides Cell Magic Commands that start with `%%` which runs on whole cell.\n",
    "\n",
    "Let's look into some cell magic commands that run on entire cell.\n",
    "\n",
    "**Example** Measure how long it takes to sum numbers upto 1000 with loop. "
   ]
  },
  {
   "cell_type": "code",
   "execution_count": null,
   "id": "f6a37da2-ce1c-4df9-aaaa-d49635648938",
   "metadata": {},
   "outputs": [],
   "source": [
    "%%time\n",
    "result = 0\n",
    "for i in range(1000):\n",
    "    result += i"
   ]
  },
  {
   "cell_type": "markdown",
   "id": "440e448d-68bc-4f19-b534-657b66598425",
   "metadata": {},
   "source": [
    "Measure how long it takes to sum numbers upto 10000000 with loop."
   ]
  },
  {
   "cell_type": "code",
   "execution_count": null,
   "id": "cd1b1db8-ad6c-40d1-8947-047c29db5078",
   "metadata": {},
   "outputs": [],
   "source": [
    "%%time\n",
    "result = 0\n",
    "for i in range(10000000):\n",
    "    result += i"
   ]
  },
  {
   "cell_type": "markdown",
   "id": "1255ec62-23c0-466e-8671-f7e538c14f31",
   "metadata": {},
   "source": [
    "You can also use it for single line of code as long as the code is below `%%time`\n",
    "\n",
    "Measure how long it takes to sum numbers upto 10000000 without loop."
   ]
  },
  {
   "cell_type": "code",
   "execution_count": null,
   "id": "f2685dc3-0798-4625-993b-da23b3b146fb",
   "metadata": {},
   "outputs": [],
   "source": [
    "%%time \n",
    "sum(range(10000000))"
   ]
  },
  {
   "cell_type": "markdown",
   "id": "22f2c655-6555-40ad-b593-b007d767c058",
   "metadata": {},
   "source": [
    "We might also want to write contents of a single cell into a file of its own. \n",
    "This can be useful when you write functions or have a list of variables that you want to store as a python script to access later on.\n",
    "\n",
    "**Example** Store `experiment_name`, `num_mice`, `num_neuropixels` in a file called `experiment_info.txt`"
   ]
  },
  {
   "cell_type": "code",
   "execution_count": null,
   "id": "000bbf96-aed7-4b75-9d15-72710cff6771",
   "metadata": {},
   "outputs": [],
   "source": [
    "%%writefile experiment_info.txt\n",
    "experiment_name = \"Mice Visual Cortex\"\n",
    "num_mice = 25\n",
    "num_neuropixels = 300"
   ]
  },
  {
   "cell_type": "markdown",
   "id": "15206b43-b72f-4665-b6d1-9c1191c26ff7",
   "metadata": {},
   "source": [
    "Store `experiment_name`, `num_mice`, `num_neuropixels` in a file called `experiment_info.py`"
   ]
  },
  {
   "cell_type": "code",
   "execution_count": null,
   "id": "a326c8ec-5400-48eb-9ebf-6f4bfbb4d504",
   "metadata": {},
   "outputs": [],
   "source": [
    "%%writefile experiment_info.py\n",
    "experiment_name = \"Mice Visual Cortex\"\n",
    "num_mice = 25\n",
    "num_neuropixels = 300"
   ]
  },
  {
   "cell_type": "markdown",
   "id": "7d9a2fdb-a8e1-44c7-a7d7-941f12dfd284",
   "metadata": {},
   "source": [
    "Add `num_electrodes` to `experiment_info.py`\n",
    "\n",
    "Hint: Use -a"
   ]
  },
  {
   "cell_type": "code",
   "execution_count": null,
   "id": "003ac7b9-02b4-4c6c-bf46-612f1d50344a",
   "metadata": {},
   "outputs": [],
   "source": [
    "%%writefile -a experiment_info.py\n",
    "num_electrodes = 100"
   ]
  },
  {
   "cell_type": "markdown",
   "id": "108e4581-f278-4c93-b1ba-f7d503783aad",
   "metadata": {},
   "source": [
    "Sometimes the output can be too long and cluttering. \n",
    "We can deal with that by storing the output in a variable without displaying it on the screen\n",
    "\n",
    "**Example** `print(\"Hello World\")` but do not display the out"
   ]
  },
  {
   "cell_type": "code",
   "execution_count": null,
   "id": "13207bef-0f25-484f-aab9-576f7b1514a0",
   "metadata": {},
   "outputs": [],
   "source": [
    "%%capture output\n",
    "print(\"Hello World\")"
   ]
  },
  {
   "cell_type": "code",
   "execution_count": null,
   "id": "945cf341-448e-48eb-8b2a-b5042ae1b2aa",
   "metadata": {},
   "outputs": [],
   "source": [
    "output.stdout, output.stderr"
   ]
  },
  {
   "cell_type": "markdown",
   "id": "20f3a370-f8a0-4173-9975-147289f7b864",
   "metadata": {},
   "source": [
    "Here the display is captured in stdout and if there are any errors, they are captured in stderr\n",
    "\n",
    "print(\"Hello\") and print(\"World\") in two separate lines but do not display the output"
   ]
  },
  {
   "cell_type": "code",
   "execution_count": null,
   "id": "a13a0dee-2971-4d86-9cb6-c5faeb49a932",
   "metadata": {},
   "outputs": [],
   "source": [
    "%%capture output\n",
    "print(\"Hello\")\n",
    "print(\"World\")"
   ]
  },
  {
   "cell_type": "code",
   "execution_count": null,
   "id": "27b0996b-a45e-48ff-a4af-a79d81d88554",
   "metadata": {},
   "outputs": [],
   "source": [
    "output.stdout"
   ]
  },
  {
   "cell_type": "markdown",
   "id": "5a6e01e6-3b9e-4081-b5c3-7ca3d0e9b46d",
   "metadata": {},
   "source": [
    "`1+2` on one line and `5*3` on another. But no display"
   ]
  },
  {
   "cell_type": "code",
   "execution_count": null,
   "id": "a80eb971-040a-401d-8289-83ad87993d0e",
   "metadata": {},
   "outputs": [],
   "source": [
    "%%capture output\n",
    "1+2\n",
    "5*3"
   ]
  },
  {
   "cell_type": "code",
   "execution_count": null,
   "id": "3fa71bc8-7d21-4921-8fb7-eceb995bb64f",
   "metadata": {},
   "outputs": [],
   "source": [
    "output.stdout, output.stderr"
   ]
  },
  {
   "cell_type": "markdown",
   "id": "5fd28835-ef5e-4c40-99a4-01847c86a754",
   "metadata": {},
   "source": [
    "The reason you're seeing ('', '') for both output.stdout and output.stderr is that neither 1 + 2 nor 5 * 3 produces any standard output or error. \n",
    "These expressions are evaluated, but unless you explicitly use print() or raise an exception, there is no output to capture."
   ]
  }
 ],
 "metadata": {
  "kernelspec": {
   "display_name": "Python 3 (ipykernel)",
   "language": "python",
   "name": "python3"
  },
  "language_info": {
   "codemirror_mode": {
    "name": "ipython",
    "version": 3
   },
   "file_extension": ".py",
   "mimetype": "text/x-python",
   "name": "python",
   "nbconvert_exporter": "python",
   "pygments_lexer": "ipython3",
   "version": "3.12.7"
  }
 },
 "nbformat": 4,
 "nbformat_minor": 5
}
