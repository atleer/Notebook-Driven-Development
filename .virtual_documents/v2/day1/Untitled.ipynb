import pandas as pd
import hvplot.pandas


df = pd.read_csv('data/steinmetz_all.csv')





df.head(5)





df['mouse'].unique()





df['mouse'].value_counts()





df.hvplot.bar(x='mouse', y='feedback_time')





df.hvplot.bar(x='mouse', y='feedback_time', by='feedback_type')
