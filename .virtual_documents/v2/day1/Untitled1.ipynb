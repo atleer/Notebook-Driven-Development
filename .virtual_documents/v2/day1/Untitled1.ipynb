import panel as pn
pn.extension()


import pandas as pd
import hvplot.pandas


df = pd.read_csv("data/steinmetz_all.csv")
df = df.dropna(subset=['response_time', 'feedback_time'])


table = df.head(3)
layout = pn.Row(df.hvplot.hist('response_time'))
layout.servable()
