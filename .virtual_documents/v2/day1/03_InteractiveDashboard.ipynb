# !pip install panel hvplot pandas


import panel as pn
pn.extension()


import pandas as pd
import hvplot.pandas
import panel.widgets as pnw


df = pd.read_csv("data/steinmetz_all.csv")
df = df.dropna(subset=['response_time', 'feedback_time'])











pane = pn.panel("Title")
pane





pane = pn.panel("## Title")
pane





pane = pn.panel("# Title")
pane





pane1 = pn.panel("# Data Analysis")
pane1





pane2 = pn.panel("Name")
pane2





pane3 = pn.panel("Date")
pane3





data_row1 = df[["mouse", "response_time", "feedback_time"]].head(7)
data_row2 = df[["mouse", "response_time", "feedback_time"]].tail(7)
data_row = pn.Row(data_row1, data_row2)
data_row





data_row1 = df[["mouse", "response_time", "feedback_time"]].head(5)
data_row2 = df[["mouse", "response_time", "feedback_time"]].tail(5)
data_row = pn.Row(data_row1, data_row2)
data_row





data_row1 = df[["mouse", "response_time", "feedback_time"]].head(3)
data_row2 = df[["mouse", "response_time", "feedback_time"]].tail(3)
data_row = pn.Row(data_row1, data_row2)
data_row





plot_1 = df.hvplot.hist("response_time")
plot_2 = df.hvplot.hist("feedback_time")
plot = pn.Column(plot_1, plot_2)
plot





plot_1 = df.hvplot.hist("response_time")
plot_2 = df.hvplot.hist("feedback_time")
plot = pn.Row(plot_1, plot_2)
plot





col1 = pn.panel("#### Histograms")
col2 = df.hvplot.hist("response_time")
hist_col = pn.Column(col1, col2)
hist_col





col1 = pn.panel("#### Histograms")
col2 = df.hvplot.hist("response_time") + df.hvplot.hist("feedback_time")
hist_col = pn.Column(col1, col2)
hist_col





col1 = pn.panel("#### Box Plots")
col2 = df.hvplot.box("response_time") + df.hvplot.box("feedback_time")
box_col = pn.Column(col1, col2)
box_col





col1 = pn.panel("#### Bar Plots")
col2 = df.hvplot.bar("mouse","response_time") + df.hvplot.bar("mouse","feedback_time")
bar_col = pn.Column(col1, col2)
bar_col





row_layout = pn.Row(data_row, hist_col, box_col, bar_col)
row_layout





col_layout = pn.Column(data_row, hist_col, box_col, bar_col)
col_layout





tab_layout = pn.Tabs(data_row, hist_col, box_col, bar_col)
tab_layout





tab_layout = pn.Tabs(
    ("Data", data_row), 
    ("Histograms", hist_col), 
    ("Box Plots", box_col), 
    ("Bar Plot", bar_col)
    )
tab_layout





layout = pn.Column(pane1, pane2, pane3, tab_layout).servable();


layout.clear();








plot_1 = df.hvplot.hist('response_time', groupby='mouse')
plot = pn.Row(plot_1)
plot





plot_1 = df.hvplot.hist('feedback_time', groupby='mouse')
plot = pn.Row(plot_1)
plot





plot_1 = df.hvplot.scatter('feedback_time', 'response_time', groupby='mouse')
plot = pn.Row(plot_1)
plot





plot_1 = df.hvplot.hist('response_time', groupby='mouse')
plot_2 = df.hvplot.hist('feedback_time', groupby='mouse')
response_time = pn.Column(plot_1, plot_2)
response_time





plot_1 = df.hvplot.hist('response_time', groupby='mouse')
plot_2 = df.hvplot.hist('feedback_time', groupby='mouse')
plot = pn.Row(plot_1, plot_2)
plot





plot_1 = df.hvplot.hist('response_time', groupby='mouse')
plot_2 = df.hvplot.hist('feedback_time', groupby='mouse')
plot_3 = df.hvplot.scatter('feedback_time', 'response_time', groupby='mouse')
viz = pn.Column(plot_1, plot_2, plot_3)
viz





plot_1 = df.hvplot.hist('response_time', groupby='mouse')
plot_2 = df.hvplot.hist('feedback_time', groupby='mouse')
plot_3 = df.hvplot.scatter('feedback_time', 'response_time', groupby='mouse')
hist = pn.Row(plot_1, plot_2) 
viz = pn.Column(hist, plot_3)
viz





plot_1 = df.hvplot.hist('response_time', groupby='mouse')
plot_2 = df.hvplot.hist('feedback_time', groupby='mouse')
plot_3 = df.hvplot.scatter('feedback_time', 'response_time', groupby='mouse')
hist = pn.Row(plot_1, plot_2) 
viz = pn.Column(plot_3, hist)
viz





plot_1 = df.hvplot.hist('response_time', groupby='mouse')
plot_2 = df.hvplot.hist('feedback_time', groupby='mouse')
plot_3 = df.hvplot.scatter('feedback_time', 'response_time', groupby='mouse')
hist = pn.Row(plot_1, plot_2) 
viz = pn.Tabs(
    ("Histograms", hist), 
    ("Scatter Plot", plot_3)
)
viz


layout = viz.servable();


layout.clear()








interactive_df = df.interactive()
slider = pnw.IntSlider(name='Num Rows', start=0, end=len(df))
table = interactive_df.head(slider)
table





interactive_df = df.interactive()
slider = pnw.IntSlider(name='Num Rows', start=0, end=100)
table = interactive_df.head(slider)
table





interactive_df = df.interactive()
slider = pnw.IntSlider(name='Num Rows', start=3, end=10)
table = interactive_df.head(slider)
table





interactive_df = df.interactive()
select = pnw.Select(name='Select', options=['response_time','feedback_time'])
stats = interactive_df[select].describe()
stats





interactive_df = df.interactive()
select = pnw.DiscreteSlider(name='Select', options=['response_time', 'feedback_time'])
stats = interactive_df[select].describe()
stats





interactive_df = df.interactive()
radio_button_group = pnw.RadioButtonGroup(name='Select', options=['response_time', 'feedback_time'])
stats = interactive_df[radio_button_group].describe()
stats





interactive_df = df.interactive()
slider = pnw.IntSlider(name='Num Rows', start=3, end=10)
radio_button_group = pnw.RadioButtonGroup(name='Select', options=['response_time', 'feedback_time'])
table = interactive_df.head(slider)
stats = interactive_df[radio_button_group].describe()
plot = interactive_df[radio_button_group].hvplot.box()

layout = pn.Row(table, stats, plot)
layout






interactive_df = df.interactive()
slider = pnw.IntSlider(name='Num Rows', start=3, end=10)
radio_button_group = pnw.RadioButtonGroup(name='Select', options=['response_time', 'feedback_time'])
table = interactive_df.head(slider)
stats = interactive_df[radio_button_group].describe()
plot = interactive_df[radio_button_group].hvplot.box()

layout = pn.Column(table, stats, plot)
layout






interactive_df = df.interactive()
slider = pnw.IntSlider(name='Num Rows', start=3, end=10)
radio_button_group = pnw.RadioButtonGroup(name='Select', options=['response_time', 'feedback_time'])
table = interactive_df.head(slider)
stats = interactive_df[radio_button_group].describe()
plot = interactive_df[radio_button_group].hvplot.box()

layout = pn.Column(table, pn.Row(stats, plot))
layout






layout.servable();


layout.clear()








# Define widgets
checkbox = pn.widgets.Checkbox(name='Line Plot', value=True)

@pn.depends(checkbox.param.value)
def checkbox_plot(value):
    plot_type = 'line' if value else 'scatter'
    return df.hvplot(x='response_time', y='feedback_time', kind=plot_type).opts(title=f"Line Plot? {value}")

layout = pn.Row(checkbox, checkbox_plot)
layout



checkbox = pn.widgets.Checkbox(name='Color red', value=True)

@pn.depends(checkbox.param.value)
def checkbox_plot(value):
    color = 'r' if value else 'b'
    plot1 = df.hvplot(x='response_time', y='feedback_time', kind='scatter', color=color).opts(title=f"Color Red? {value}")
    plot2 = df.hvplot(x='response_time', y='reaction_time', kind='scatter', color=color).opts(title=f"Color Red? {value}")
    return (plot1 + plot2).opts(shared_axes=False)

layout = pn.Row(checkbox, checkbox_plot)
layout

