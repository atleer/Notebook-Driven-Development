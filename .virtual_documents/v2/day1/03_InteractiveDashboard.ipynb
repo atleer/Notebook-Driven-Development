# !pip install panel hvplot pandas


import panel as pn
pn.extension()


import pandas as pd
import hvplot.pandas


df = pd.read_csv("data/steinmetz_all.csv")














pane = pn.panel("Title")
pane





pane = pn.panel("## Title")
pane





pane = pn.panel("# Title")
pane





pane = pn.panel("# Data Analysis")
pane.servable();





pane = pn.panel("Name")
pane.servable();





pane = pn.panel("Date")
pane.servable();





data_row1 = df[["mouse", "response_time", "feedback_time"]].head(7)
data_row2 = df[["mouse", "response_time", "feedback_time"]].tail(7)
data_row = pn.Row(data_row1, data_row2)
data_row





data_row1 = df[["mouse", "response_time", "feedback_time"]].head(5)
data_row2 = df[["mouse", "response_time", "feedback_time"]].tail(5)
data_row = pn.Row(data_row1, data_row2)
data_row





data_row1 = df[["mouse", "response_time", "feedback_time"]].head(3)
data_row2 = df[["mouse", "response_time", "feedback_time"]].tail(3)
data_row = pn.Row(data_row1, data_row2)
data_row








col1 = pn.panel("#### Histograms")
col2 = df.hvplot.hist("response_time") + df.hvplot.hist("feedback_time")
hist_col = pn.Column(col1, col2)
hist_col





col1 = pn.panel("#### Box Plots")
col2 = df.hvplot.box("response_time") + df.hvplot.box("feedback_time")
box_col = pn.Column(col1, col2)
box_col





col1 = pn.panel("#### Bar Plots")
col2 = df.hvplot.bar("mouse","response_time") + df.hvplot.bar("mouse","feedback_time")
bar_col = pn.Column(col1, col2)
bar_col





row_layout = pn.Row(data_row, hist_col, box_col, bar_col)
row_layout.show();





col_layout = pn.Column(data_row, hist_col, box_col, bar_col)
col_layout.show();





tab_layout = pn.Tabs(data_row, hist_col, box_col, bar_col)
tab_layout.show();





tab_layout = pn.Tabs(
    ("Data", data_row), 
    ("Histograms", hist_col), 
    ("Box Plots", box_col), 
    ("Bar Plot", bar_col)
    )
tab_layout.show();





pn.serve(pn.Column(pane, tab_layout));












