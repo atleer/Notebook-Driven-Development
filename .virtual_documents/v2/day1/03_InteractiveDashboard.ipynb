# !pip install panel hvplot pandas


import panel as pn
pn.extension()


import pandas as pd
import hvplot.pandas


df = pd.read_csv("data/steinmetz_all.csv")














pane = pn.panel("Title")
pane





pane = pn.panel("## Title")
pane





pane = pn.panel("# Title")
pane





pane1 = pn.panel("# Data Analysis")
pane1.servable();





pane2 = pn.panel("Name")
pane2.servable();





pane3 = pn.panel("Date")
pane3.servable();





data_row1 = df[["mouse", "response_time", "feedback_time"]].head(7)
data_row2 = df[["mouse", "response_time", "feedback_time"]].tail(7)
data_row = pn.Row(data_row1, data_row2)
data_row





data_row1 = df[["mouse", "response_time", "feedback_time"]].head(5)
data_row2 = df[["mouse", "response_time", "feedback_time"]].tail(5)
data_row = pn.Row(data_row1, data_row2)
data_row





data_row1 = df[["mouse", "response_time", "feedback_time"]].head(3)
data_row2 = df[["mouse", "response_time", "feedback_time"]].tail(3)
data_row = pn.Row(data_row1, data_row2)
data_row





plot_1 = df.hvplot.hist("response_time")
plot_2 = df.hvplot.hist("feedback_time")
plot = pn.Column(plot_1, plot_2)
plot





plot_1 = df.hvplot.hist("response_time")
plot_2 = df.hvplot.hist("feedback_time")
plot = pn.Row(plot_1, plot_2)
plot





col1 = pn.panel("#### Histograms")
col2 = df.hvplot.hist("response_time")
hist_col = pn.Column(col1, col2)
hist_col





col1 = pn.panel("#### Histograms")
col2 = df.hvplot.hist("response_time") + df.hvplot.hist("feedback_time")
hist_col = pn.Column(col1, col2)
hist_col





col1 = pn.panel("#### Box Plots")
col2 = df.hvplot.box("response_time") + df.hvplot.box("feedback_time")
box_col = pn.Column(col1, col2)
box_col





col1 = pn.panel("#### Bar Plots")
col2 = df.hvplot.bar("mouse","response_time") + df.hvplot.bar("mouse","feedback_time")
bar_col = pn.Column(col1, col2)
bar_col





row_layout = pn.Row(data_row, hist_col, box_col, bar_col)
row_layout





col_layout = pn.Column(data_row, hist_col, box_col, bar_col)
col_layout.show();





tab_layout = pn.Tabs(data_row, hist_col, box_col, bar_col)
tab_layout.show();





tab_layout = pn.Tabs(
    ("Data", data_row), 
    ("Histograms", hist_col), 
    ("Box Plots", box_col), 
    ("Bar Plot", bar_col)
    )
tab_layout.show();





pn.serve(pn.Column(pane1, pane2, pane3, tab_layout));








plot_1 = df.hvplot.hist('response_time', groupby='mouse')
plot_2 = df.hvplot.hist('feedback_time', groupby='mouse')
response_time = pn.Row(plot_1, plot_2)
response_time





plot_1 = df.hvplot.hist('response_time', groupby='mouse')
plot_2 = df.hvplot.hist('feedback_time', groupby='mouse')
response_time = pn.Column(plot_1, plot_2)
response_time





plot_1 = df.hvplot.hist('response_time', groupby='mouse')
plot_2 = df.hvplot.hist('feedback_time', groupby='mouse')
response_time = pn.Tabs(
    ("Response Times", plot_1), 
    ("Feedback Times", plot_2)
)
response_time













































