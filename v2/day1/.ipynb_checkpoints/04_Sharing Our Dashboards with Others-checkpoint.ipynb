{
 "cells": [
  {
   "cell_type": "markdown",
   "id": "a15998d3-1e5b-4fd5-baee-dbec93aa0c2b",
   "metadata": {},
   "source": [
    "## Project: Make and Share a Panel Application on GitHub\n",
    "\n",
    "\r\n",
    "1. **Starter Code**: Begin with the provided notebook that includes starter code.  \r\n",
    "   - Add a **Title** with your name and date.\r\n",
    "   - Create a **visualization of your choice**.\r\n",
    "   - Arrange the components in a **layout** of your choice.\r\n",
    "   \r\n",
    "2. **Test Your Dashboard**:  \r\n",
    "   - Test each component of your dashboard individually and experiment with layouts.  \r\n",
    "   - Finalize your dashboard and, on the last line of the notebook, add:  \r\n",
    "     ```python\r\n",
    "     layout.servable()\r\n",
    "     ```\r\n",
    "\r\n",
    "3. **Run Your Dashboard**:  \r\n",
    "   - From the terminal, run:  \r\n",
    "     ```\r\n",
    "     panel serve notebook.ipynb\r\n",
    "     ```\r\n",
    "\r\n",
    "4. **Upload to GitHub**:  \r\n",
    "   - Add your notebook to a **public GitHub repository**.\r\n",
    "   - Include a **README** with instructions on how to run `panel serve`.\r\n",
    "\r\n",
    "5. **Review a Peer’s Dashboard**:  \r\n",
    "   - Clone someone else's app repo on **JupyterLab**.\r\n",
    "   - Follow their README instructions to run the notebook and prev"
   ]
  },
  {
   "cell_type": "markdown",
   "id": "873bfd74-cad0-4b06-8744-4eafed7ed48b",
   "metadata": {},
   "source": [
    "---"
   ]
  },
  {
   "cell_type": "markdown",
   "id": "9a5ff2a8-fc4b-4b2a-b961-fe6a35d11132",
   "metadata": {},
   "source": [
    "### Some Pandas commands\n",
    "\n",
    "\r\n",
    "| **Pandas Command**           | **What It Does**                                      | **Example with Output**                                                                                                                                 |\r\n",
    "|------------------------------|------------------------------------------------------|--------------------------------------------------------------------------------------------------------------------------------------------------------|\r\n",
    "| `pd.read_csv('file.csv')`     | Reads a CSV file into a DataFrame.                   | `df = pd.read_csv('data.csv')`<br> Output: A DataFrame with the contents of the CSV.                                                                  |\r\n",
    "| `df.head()`                   | Displays the first 5 rows of the DataFrame.          | `df.head()`<br> Output: The first 5 rows of the DataFrame.                                                                                            |\r\n",
    "| `df.info()`                   | Provides summary information about the DataFrame.    | `df.info()`<br> Output: Data types, non-null counts, and memory usage.                                                                                |\r\n",
    "| `df.describe()`               | Generates descriptive statistics.                    | `df.describe()`<br> Output: Count, mean, std, min, 25%, 50%, 75%, max for numerical columns.                                                          |\r\n",
    "| `df['col']`                   | Accesses a single column as a Series.                | `df['Age']`<br> Output: Series of values in the 'Age' column.                                                                                         |\r\n",
    "| `df[['col1', 'col2']]`        | Accesses multiple columns as a DataFrame.            | `df[['Name', 'Age']]`<br> Output: DataFrame with 'Name' and 'Age' columns.                                                                                    |\r\n",
    "| `df['col'].unique()`          | Returns unique values of a column.                   | `df['Country'].unique()`<br> Output: Array of unique values from the 'Country' column.                                                                |\r\n",
    "| `df['col'].value_counts()`    | Counts the occurrences of each unique value.         | `df['Gender'].value_counts()`<br> Output: Count of unique values in the 'Gender' column.                                            s or additional commands!"
   ]
  },
  {
   "cell_type": "markdown",
   "id": "900fe3c4-af11-4551-a3a3-29248cc72b60",
   "metadata": {},
   "source": [
    "---"
   ]
  },
  {
   "cell_type": "markdown",
   "id": "99e13fa2-203c-4b51-9462-34ef6a20ca73",
   "metadata": {},
   "source": [
    "### Some hvplot commands\n",
    "\n",
    "\n",
    "\r\n",
    "| **hvPlot Command**                        | **What It Does**                                                    | **Example with Output**                                                                                                                       |\r\n",
    "|-------------------------------------------|---------------------------------------------------------------------|-----------------------------------------------------------------------------------------------------------------------------------------------|\r\n",
    "| `df.hvplot.line(x='col1', y='col2')`      | Creates a line plot.                                                | `df.hvplot.line(x='Year', y='Sales')`<br> Output: A line plot with 'Year' on the x-axis and 'Sales' on the y-axis.                            |\r\n",
    "| `df.hvplot.scatter(x='col1', y='col2')`   | Creates a scatter plot.                                             | `df.hvplot.scatter(x='Height', y='Weight')`<br> Output: A scatter plot of 'Height' vs 'Weight'.                                                |\r\n",
    "| `df.hvplot.bar(x='col1', y='col2')`       | Creates a bar plot.                                                 | `df.hvplot.bar(x='Country', y='GDP')`<br> Output: A bar plot showing 'Country' on the x-axis and 'GDP' on the y-axis.                          |\r\n",
    "| `df.hvplot.hist('col')`                   | Creates a histogram.                                                | `df.hvplot.hist('Age')`<br> Output: A histogram of 'Age' with bin frequencies.                                                                 |\r\n",
    "| `df.hvplot.area(x='col1', y='col2')`      | Creates an area plot.                                               | `df.hvplot.area(x='Year', y='Revenue')`<br> Output: An area plot showing the 'Revenue' over 'Year'.                                            |\r\n",
    "| `df.hvplot.box(y='col')`                  | Creates a box plot.                                                 | `df.hvplot.box(y='Age')`<br> Output: A box plot for 'Age' distribution.                                                                       |\r\n",
    "| `df.hvplot.violin(y='col')`               | Creates a violin plot.                                              | `df.hvplot.violin(y='Income')`<br> Output: A violin plot showing the distribution of 'Income'.                                                 |\r\n",
    "| `df.hvplot.hexbin(x='col1', y='col2')`    | Creates a hexbin plot (2D histogram).                               | `df.hvplot.hexbin(x='Longitude', y='Latitude')`<br> Output: A hexbin plot showing density of points across 'Longitude' and 'Latitude'.          |\r\n",
    "| `df.hvplot.heatmap(x='col1', y='col2')`   | Creates a heatmap.                                                  | `df.hvplot.heatmap(x='Month', y='Product', C='Sales')`<br> Output: A heatmap showing 'Sales' for different 'Months' and 'Products'.            |\r\n",
    "| `df.hvplot.kde(y='col')`                  | Creates a kernel density estimate (KDE) plot.                       | `df.hvplot.kde(y='Salary')`<br> Output: A KDE plot showing the probability density of 'Salary'.                                                |\r\n",
    "| `df.hvplot.bivariate(x='col1', y='col2')` | Creates a bivariate distribution plot.                              | `df.hvplot.bivariate(x='Income', y='Expenditure')`<br> Output: A bivariate plot showing the joint distribution of 'Income' and 'Expls or specific examples!"
   ]
  },
  {
   "cell_type": "code",
   "execution_count": null,
   "id": "ac565f35-dd7a-4c15-8702-a2a5d62fda30",
   "metadata": {},
   "outputs": [],
   "source": []
  }
 ],
 "metadata": {
  "kernelspec": {
   "display_name": "Python 3 (ipykernel)",
   "language": "python",
   "name": "python3"
  },
  "language_info": {
   "codemirror_mode": {
    "name": "ipython",
    "version": 3
   },
   "file_extension": ".py",
   "mimetype": "text/x-python",
   "name": "python",
   "nbconvert_exporter": "python",
   "pygments_lexer": "ipython3",
   "version": "3.11.7"
  }
 },
 "nbformat": 4,
 "nbformat_minor": 5
}
