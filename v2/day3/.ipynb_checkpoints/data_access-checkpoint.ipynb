{
 "cells": [
  {
   "cell_type": "code",
   "execution_count": 1,
   "id": "904e9a00-4e21-435b-8d67-7550266c0daf",
   "metadata": {},
   "outputs": [],
   "source": [
    "import pandas as pd"
   ]
  },
  {
   "cell_type": "markdown",
   "id": "6b5b2f1c-7fd8-41a2-b785-9478bef16653",
   "metadata": {},
   "source": [
    "The below function is written to download a csv file from the url.\n",
    "\n",
    "The data contained in the CSV file has two columns\n",
    "\n",
    "Mouse: Name of the mouse in the experiment\n",
    "Count: Number of trials\n",
    "\n",
    "There are 10 mice in total. "
   ]
  },
  {
   "cell_type": "code",
   "execution_count": 2,
   "id": "faa5c143-b751-44e8-881d-37dfd765c0af",
   "metadata": {},
   "outputs": [],
   "source": [
    "def download_data_1(url, output_csv):\n",
    "    df = pd.read_csv(url)\n",
    "    df.to_csv(output_csv, index=False)"
   ]
  }
 ],
 "metadata": {
  "kernelspec": {
   "display_name": "Python 3 (ipykernel)",
   "language": "python",
   "name": "python3"
  },
  "language_info": {
   "codemirror_mode": {
    "name": "ipython",
    "version": 3
   },
   "file_extension": ".py",
   "mimetype": "text/x-python",
   "name": "python",
   "nbconvert_exporter": "python",
   "pygments_lexer": "ipython3",
   "version": "3.12.7"
  }
 },
 "nbformat": 4,
 "nbformat_minor": 5
}
