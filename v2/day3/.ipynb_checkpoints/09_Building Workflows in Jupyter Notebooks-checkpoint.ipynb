{
 "cells": [
  {
   "cell_type": "code",
   "execution_count": 23,
   "id": "0cd5ef71-34ae-4721-b5f8-1c0fba3fb05e",
   "metadata": {},
   "outputs": [],
   "source": [
    "# !pip install doit"
   ]
  },
  {
   "cell_type": "code",
   "execution_count": 24,
   "id": "54c67264-3377-4c90-880b-6fa91b3f7202",
   "metadata": {},
   "outputs": [],
   "source": [
    "from doit import load_ipython_extension\n",
    "load_ipython_extension()"
   ]
  },
  {
   "cell_type": "markdown",
   "id": "f801d2c9-8318-4532-bca9-2ed0f661ed7f",
   "metadata": {},
   "source": [
    "# Building Workflows in Jupyter Notebooks"
   ]
  },
  {
   "cell_type": "markdown",
   "id": "48469ef3-4986-4053-a756-6953c3e4d79d",
   "metadata": {},
   "source": [
    "## Functions\n",
    "\n",
    "Functions are reusable blocks of code that perform a specific task. \n",
    "They help organize code, make it more readable, and allow you to avoid repetition by encapsulating logic that can be called multiple times throughout a program.\n",
    "\n",
    "A function is defined using the def keyword followed by the function name and parentheses `()`. \n",
    "The code that performs the task is placed inside the function body, indented under the function definition\n",
    "\n",
    "```python\n",
    "def function_name(parameters):  # definition, name, parameters\n",
    "    # body\n",
    "    return value  # return (optional)\n",
    "```"
   ]
  },
  {
   "cell_type": "markdown",
   "id": "bcc031b7-26a5-4eee-8fa6-48965ce0a757",
   "metadata": {},
   "source": [
    "**Example** Make a function called `download_data` the replaces the below code:\n",
    "\n",
    "```python\n",
    "url = \"https://uni-bonn.sciebo.de/s/FYJPmdTyPo1qwRX/download\"\n",
    "output_csv = \"data/data.csv\"\n",
    "df = pd.read_csv(url)\n",
    "df.to_csv(output_csv, index=False)\n",
    "```"
   ]
  },
  {
   "cell_type": "code",
   "execution_count": 8,
   "id": "6daccec5-1fa4-4df1-bb28-aabe20fb841a",
   "metadata": {},
   "outputs": [],
   "source": [
    "def download_data():\n",
    "    url = \"https://uni-bonn.sciebo.de/s/FYJPmdTyPo1qwRX/download\"\n",
    "    output_csv = \"data/data.csv\"\n",
    "    df = pd.read_csv(url)\n",
    "    df.to_csv(output_csv, index=False)"
   ]
  },
  {
   "cell_type": "code",
   "execution_count": null,
   "id": "e95b0573-b436-4255-b0a5-cb2cdd752b87",
   "metadata": {},
   "outputs": [],
   "source": [
    "# download_data()"
   ]
  },
  {
   "cell_type": "markdown",
   "id": "92648ad5-3466-4c6a-bede-c22dd6e58ee9",
   "metadata": {},
   "source": [
    "Make a function called `calculate_stats` that replaces the below code\n",
    "\n",
    "```python\n",
    "csv_file = \"data/data.csv\"\n",
    "output_csv = \"data/data_stats.csv\"\n",
    "df = pd.read_csv(csv_file)\n",
    "df_stat = df.describe().reset_index()\n",
    "df_stat.to_csv(output_csv, index=False)\n",
    "```"
   ]
  },
  {
   "cell_type": "code",
   "execution_count": 9,
   "id": "21039584-e52d-4976-8116-6bb5cb09c811",
   "metadata": {},
   "outputs": [],
   "source": [
    "def calculate_stats():\n",
    "    csv_file = \"data/data.csv\"\n",
    "    output_csv = \"data/data_stats.csv\"\n",
    "    df = pd.read_csv(csv_file)\n",
    "    df_stat = df.describe().reset_index()\n",
    "    df_stat.to_csv(output_csv, index=False)"
   ]
  },
  {
   "cell_type": "code",
   "execution_count": null,
   "id": "d96b21ea-31ce-44e5-9825-b1048269c802",
   "metadata": {},
   "outputs": [],
   "source": [
    "# calculate_stats()"
   ]
  },
  {
   "cell_type": "markdown",
   "id": "e42f8d00-2c55-4602-9ccf-7ad91964638d",
   "metadata": {},
   "source": [
    "Make a function called `create_visualization` that replaces the below code\n",
    "\n",
    "```python\n",
    "csv_file = \"data/data.csv\"\n",
    "hist_col_name = 'response_time'\n",
    "df = pd.read_csv(csv_file)\n",
    "df[hist_col_name].hvplot.hist()\n",
    "```"
   ]
  },
  {
   "cell_type": "code",
   "execution_count": 10,
   "id": "e375cb85-c454-4a24-b4a3-d362876172e2",
   "metadata": {},
   "outputs": [],
   "source": [
    "def create_vizualization():\n",
    "    csv_file = \"data/data.csv\"\n",
    "    hist_col_name = 'response_time'\n",
    "    df = pd.read_csv(csv_file)\n",
    "    df[hist_col_name].hvplot.hist()"
   ]
  },
  {
   "cell_type": "markdown",
   "id": "1307dc8a-5fdc-4cac-8c40-3539adae4d89",
   "metadata": {},
   "source": [
    "**Example** Make `url` a parameter in `download_data` function"
   ]
  },
  {
   "cell_type": "code",
   "execution_count": 16,
   "id": "4f3d69c2-48f8-40e5-a713-bb4522161b86",
   "metadata": {},
   "outputs": [],
   "source": [
    "def download_data(url):\n",
    "    output_csv = \"data/data.csv\"\n",
    "    df = pd.read_csv(url)\n",
    "    df.to_csv(output_csv, index=False)"
   ]
  },
  {
   "cell_type": "code",
   "execution_count": null,
   "id": "4529ad43-d944-4bf0-b832-1a6b266b7464",
   "metadata": {},
   "outputs": [],
   "source": [
    "# download_data(\"https://uni-bonn.sciebo.de/s/FYJPmdTyPo1qwRX/download\")"
   ]
  },
  {
   "cell_type": "markdown",
   "id": "7bad3550-551c-499a-96ff-48994dd03665",
   "metadata": {},
   "source": [
    "Make `csv_file` a parameter in `calculate_stats` function"
   ]
  },
  {
   "cell_type": "code",
   "execution_count": 17,
   "id": "a9f2d855-f3bc-4021-ae43-99ce4b48fe37",
   "metadata": {},
   "outputs": [],
   "source": [
    "def calculate_stats(csv_file):\n",
    "    output_csv = \"data/data_stats.csv\"\n",
    "    df = pd.read_csv(csv_file)\n",
    "    df_stat = df.describe().reset_index()\n",
    "    df_stat.to_csv(output_csv, index=False)"
   ]
  },
  {
   "cell_type": "code",
   "execution_count": 19,
   "id": "2571a0e3-fe4e-463c-bc64-1b27c444e35b",
   "metadata": {},
   "outputs": [],
   "source": [
    "# calculate_stats(\"data/data.csv\")"
   ]
  },
  {
   "cell_type": "markdown",
   "id": "f4cc9120-a01d-4669-8208-bb35449371ea",
   "metadata": {},
   "source": [
    "Make `csv_file` a parameter in `create_visualization` function"
   ]
  },
  {
   "cell_type": "code",
   "execution_count": 18,
   "id": "fec55d5f-a509-4dbe-a37c-c0b772948d2a",
   "metadata": {},
   "outputs": [],
   "source": [
    "def create_vizualization(csv_file):\n",
    "    hist_col_name = 'response_time'\n",
    "    df = pd.read_csv(csv_file)\n",
    "    df[hist_col_name].hvplot.hist()"
   ]
  },
  {
   "cell_type": "code",
   "execution_count": 20,
   "id": "2d8d6cc4-158c-4428-890c-07b1e40e3988",
   "metadata": {},
   "outputs": [],
   "source": [
    "# calculate_stats(\"data/data.csv\")"
   ]
  },
  {
   "cell_type": "markdown",
   "id": "5ea52550-3204-4c50-807f-94358be7e3bf",
   "metadata": {},
   "source": [
    "**Example** Make `url` and `output_csv` as parameters in `download_data` function"
   ]
  },
  {
   "cell_type": "code",
   "execution_count": 11,
   "id": "fb99910d-ee10-44fe-aafc-53acbc93f647",
   "metadata": {},
   "outputs": [],
   "source": [
    "def download_data(url, output_csv):\n",
    "    df = pd.read_csv(url)\n",
    "    df.to_csv(output_csv, index=False)"
   ]
  },
  {
   "cell_type": "markdown",
   "id": "08c0e001-645f-407a-8833-dff1645d1651",
   "metadata": {},
   "source": [
    "Make `csv_file` and `output_csv` as parameters in `calculate_stats` function"
   ]
  },
  {
   "cell_type": "code",
   "execution_count": 12,
   "id": "627f7c01-4d94-4077-a736-69d168c06861",
   "metadata": {},
   "outputs": [],
   "source": [
    "def calculate_stats(csv_file, output_csv):\n",
    "    df = pd.read_csv(csv_file)\n",
    "    df_stat = df.describe().reset_index()\n",
    "    df_stat.to_csv(output_csv, index=False)"
   ]
  },
  {
   "cell_type": "markdown",
   "id": "f160c060-faf9-41bb-b6bf-4ea87dcefd4c",
   "metadata": {},
   "source": [
    "Make `csv_file` and `hist_col_name` as parameters in `create_visualization` function"
   ]
  },
  {
   "cell_type": "code",
   "execution_count": 15,
   "id": "8679a5f2-4e6c-4480-a1ac-e8a67d89e315",
   "metadata": {},
   "outputs": [],
   "source": [
    "def create_vizualization(csv_file, hist_col_name):\n",
    "    df = pd.read_csv(csv_file)\n",
    "    df[hist_col_name].hvplot.hist()"
   ]
  },
  {
   "cell_type": "markdown",
   "id": "c5df85f9-bd80-4104-896f-dd2e44f59c1b",
   "metadata": {},
   "source": [
    "## Building Workflows Within A Jupyter Notebook"
   ]
  },
  {
   "cell_type": "markdown",
   "id": "d6f1e7cc-0550-4945-a62d-6d93e7246ddd",
   "metadata": {},
   "source": [
    "**Example** no argument"
   ]
  },
  {
   "cell_type": "code",
   "execution_count": 21,
   "id": "dc5b3d73-c0b1-4556-8b10-a32081b3f723",
   "metadata": {},
   "outputs": [],
   "source": [
    "def task_download_data():\n",
    "    def download_data():\n",
    "        url = \"https://uni-bonn.sciebo.de/s/FYJPmdTyPo1qwRX/download\"\n",
    "        output_csv = \"data/data.csv\"\n",
    "        df = pd.read_csv(url)\n",
    "        df.to_csv(output_csv, index=False)\n",
    "    \n",
    "    return {\n",
    "        'actions': [download_data],\n",
    "    }"
   ]
  },
  {
   "cell_type": "code",
   "execution_count": 25,
   "id": "ae93f8ac-f2fd-4d3d-a0bb-430f88d51ab1",
   "metadata": {},
   "outputs": [
    {
     "name": "stdout",
     "output_type": "stream",
     "text": [
      "download_data   \n"
     ]
    }
   ],
   "source": [
    "%doit list"
   ]
  },
  {
   "cell_type": "code",
   "execution_count": 26,
   "id": "670be9ee-1335-49e5-bc57-ca84cde4bb12",
   "metadata": {},
   "outputs": [],
   "source": [
    "def task_stats():\n",
    "    def calculate_stats():\n",
    "        csv_file = \"data/data.csv\"\n",
    "        output_csv = \"data/data_stats.csv\"\n",
    "        df = pd.read_csv(csv_file)\n",
    "        df_stat = df.describe().reset_index()\n",
    "        df_stat.to_csv(output_csv, index=False)    \n",
    "    return {\n",
    "        'actions': [calculate_stats],\n",
    "    }"
   ]
  },
  {
   "cell_type": "code",
   "execution_count": 27,
   "id": "f7979a79-b89b-414f-aaa8-7de216ebb574",
   "metadata": {},
   "outputs": [
    {
     "name": "stdout",
     "output_type": "stream",
     "text": [
      "download_data   \n",
      "stats           \n"
     ]
    }
   ],
   "source": [
    "%doit list"
   ]
  },
  {
   "cell_type": "code",
   "execution_count": 28,
   "id": "09f5855b-34df-45ef-920a-821c21a5af2f",
   "metadata": {},
   "outputs": [],
   "source": [
    "def task_plot():\n",
    "    def create_vizualization():\n",
    "        csv_file = \"data/data.csv\"\n",
    "        hist_col_name = 'response_time'\n",
    "        df = pd.read_csv(csv_file)\n",
    "        df[hist_col_name].hvplot.hist()\n",
    "    return {\n",
    "        'actions': [create_vizualization],\n",
    "    }"
   ]
  },
  {
   "cell_type": "code",
   "execution_count": 29,
   "id": "da0dcf80-51ea-4761-bfae-732af2b1c047",
   "metadata": {},
   "outputs": [
    {
     "name": "stdout",
     "output_type": "stream",
     "text": [
      "download_data   \n",
      "plot            \n",
      "stats           \n"
     ]
    }
   ],
   "source": [
    "%doit list"
   ]
  },
  {
   "cell_type": "markdown",
   "id": "12ce1657-dd79-4f28-a378-25f77593e3c5",
   "metadata": {},
   "source": [
    "**Example** single argument"
   ]
  },
  {
   "cell_type": "code",
   "execution_count": 30,
   "id": "352d8e6d-76af-40a5-a37a-527944ce9726",
   "metadata": {},
   "outputs": [],
   "source": [
    "def task_download_data():\n",
    "    def download_data(url):\n",
    "        output_csv = \"data/data.csv\"\n",
    "        df = pd.read_csv(url)\n",
    "        df.to_csv(output_csv, index=False)\n",
    "    \n",
    "    return {\n",
    "        'actions': [(download_data, ['\"https://uni-bonn.sciebo.de/s/FYJPmdTyPo1qwRX/download\"'])],\n",
    "    }"
   ]
  },
  {
   "cell_type": "code",
   "execution_count": 32,
   "id": "8a9151f2-1815-4778-a71f-d6592fa603b2",
   "metadata": {},
   "outputs": [],
   "source": [
    "# "
   ]
  },
  {
   "cell_type": "code",
   "execution_count": 35,
   "id": "55269e1e-119d-4f3e-97d6-77ad82068a6c",
   "metadata": {},
   "outputs": [],
   "source": [
    "def task_stats():\n",
    "    def calculate_stats(csv_file):\n",
    "        output_csv = \"data/data_stats.csv\"\n",
    "        df = pd.read_csv(csv_file)\n",
    "        df_stat = df.describe().reset_index()\n",
    "        df_stat.to_csv(output_csv, index=False)\n",
    "    return {\n",
    "        'actions': [(calculate_stats, [\"data/data.csv\"])],\n",
    "    }"
   ]
  },
  {
   "cell_type": "code",
   "execution_count": 33,
   "id": "667424ac-eca7-456a-83d1-4588779209be",
   "metadata": {},
   "outputs": [],
   "source": [
    "# "
   ]
  },
  {
   "cell_type": "code",
   "execution_count": 36,
   "id": "4c7764fe-59d3-48a0-a484-05ff909843c7",
   "metadata": {},
   "outputs": [],
   "source": [
    "def task_plot():\n",
    "    def create_vizualization(csv_file):\n",
    "        hist_col_name = 'response_time'\n",
    "        df = pd.read_csv(csv_file)\n",
    "        df[hist_col_name].hvplot.hist()\n",
    "    return {\n",
    "        'actions': [(create_vizualization, [\"data/data.csv\"])],\n",
    "    }"
   ]
  },
  {
   "cell_type": "code",
   "execution_count": 34,
   "id": "78b561b4-a6e8-44d6-ad60-44009d4b9fa7",
   "metadata": {},
   "outputs": [],
   "source": [
    "# "
   ]
  },
  {
   "cell_type": "markdown",
   "id": "8b3ae2bc-2eb5-42cd-81f3-bd913e4c4e2a",
   "metadata": {},
   "source": [
    "**Example** multiple arguments"
   ]
  },
  {
   "cell_type": "code",
   "execution_count": 41,
   "id": "a478460d-ac82-4018-b777-e8472d0a9c69",
   "metadata": {},
   "outputs": [],
   "source": [
    "def task_download_data():\n",
    "    def download_data(url, output_csv):\n",
    "        df = pd.read_csv(url)\n",
    "        df.to_csv(output_csv, index=False)\n",
    "    \n",
    "    return {\n",
    "        'actions': [(download_data, [\"https://uni-bonn.sciebo.de/s/FYJPmdTyPo1qwRX/download\", \"data/data.csv\"])],\n",
    "    }"
   ]
  },
  {
   "cell_type": "code",
   "execution_count": 37,
   "id": "f2f26efe-b9d1-4d69-bcfd-1205b783d1cb",
   "metadata": {},
   "outputs": [],
   "source": [
    "# "
   ]
  },
  {
   "cell_type": "code",
   "execution_count": 42,
   "id": "a2d842eb-0e1f-4d6f-b7e7-af596a8066b3",
   "metadata": {},
   "outputs": [],
   "source": [
    "def task_stats():\n",
    "    def calculate_stats(csv_file, output_csv):\n",
    "        df = pd.read_csv(csv_file)\n",
    "        df_stat = df.describe().reset_index()\n",
    "        df_stat.to_csv(output_csv, index=False)\n",
    "    return {\n",
    "        'actions': [(calculate_stats, [\"data/data.csv\", \"data/data_stats.csv\"])],\n",
    "    }"
   ]
  },
  {
   "cell_type": "code",
   "execution_count": 38,
   "id": "7624b825-2777-40e1-947e-fdec11e69787",
   "metadata": {},
   "outputs": [],
   "source": [
    "# "
   ]
  },
  {
   "cell_type": "code",
   "execution_count": 43,
   "id": "0a9aabc0-c27d-490f-b24e-64754182aec8",
   "metadata": {},
   "outputs": [],
   "source": [
    "def task_plot():\n",
    "    def create_vizualization(csv_file, hist_col_name):\n",
    "        df = pd.read_csv(csv_file)\n",
    "        df[hist_col_name].hvplot.hist()\n",
    "    return {\n",
    "        'actions': [(create_vizualization, [\"data/data.csv\", 'response_time'])],\n",
    "    }"
   ]
  },
  {
   "cell_type": "code",
   "execution_count": 40,
   "id": "341599c5-46d3-4797-bf64-c15108a0a53e",
   "metadata": {},
   "outputs": [],
   "source": [
    "# "
   ]
  },
  {
   "cell_type": "markdown",
   "id": "c72d8049-a82e-408f-8967-3a5394f5c97a",
   "metadata": {},
   "source": [
    "## File Dependency\n",
    "\n",
    "```python\n",
    "\n",
    "def task_create_csv():\n",
    "    def create_file():\n",
    "        df = pd.DataFrame({\n",
    "            'A': np.random.randint(1, 100, 10),\n",
    "            'B': np.random.randint(1, 100, 10),\n",
    "            'C': np.random.randint(1, 100, 10)\n",
    "        })\n",
    "        df.to_csv('data.csv', index=False)\n",
    "    \n",
    "    return {\n",
    "        'actions': [create_file],\n",
    "    }\n",
    "\n",
    "def task_stats():\n",
    "    def calculate_stats():\n",
    "        df = pd.read_csv('data.csv')\n",
    "        stats = df.describe()\n",
    "        stats.to_csv('stats.csv')\n",
    "        print(stats)\n",
    "    \n",
    "    return {\n",
    "        'actions': [calculate_stats],\n",
    "        'file_dep': ['data.csv'],\n",
    "    }\n",
    "\n",
    "def task_plot():\n",
    "    def create_plot():\n",
    "        df = pd.read_csv('data.csv')\n",
    "        df.plot(kind='bar')\n",
    "        plt.savefig('plot.png')\n",
    "        print(\"Plot saved as plot.png\")\n",
    "    \n",
    "    return {\n",
    "        'actions': [create_plot],\n",
    "        'file_dep': ['data.csv'],\n",
    "    }\n",
    "```"
   ]
  },
  {
   "cell_type": "markdown",
   "id": "8d1e0c94-36b1-4e7c-b3b8-a3041289b51c",
   "metadata": {},
   "source": [
    "## Targets\n",
    "\n",
    "```python\n",
    "def task_create_csv():\n",
    "    def create_file():\n",
    "        df = pd.DataFrame({\n",
    "            'A': np.random.randint(1, 100, 10),\n",
    "            'B': np.random.randint(1, 100, 10),\n",
    "            'C': np.random.randint(1, 100, 10)\n",
    "        })\n",
    "        df.to_csv('data.csv', index=False)\n",
    "        print(\"CSV file created\")\n",
    "    \n",
    "    return {\n",
    "        'actions': [create_file],\n",
    "        'targets': ['data.csv']\n",
    "    }\n",
    "\n",
    "def task_stats():\n",
    "    def calculate_stats():\n",
    "        df = pd.read_csv('data.csv')\n",
    "        stats = df.describe()\n",
    "        stats.to_csv('stats.csv')\n",
    "        print(stats)\n",
    "    \n",
    "    return {\n",
    "        'actions': [calculate_stats],\n",
    "        'file_dep': ['data.csv'],\n",
    "        'targets': ['stats.csv']\n",
    "    }\n",
    "\n",
    "def task_plot():\n",
    "    def create_plot():\n",
    "        df = pd.read_csv('data.csv')\n",
    "        df.plot(kind='bar')\n",
    "        plt.savefig('plot.png')\n",
    "        print(\"Plot saved as plot.png\")\n",
    "    \n",
    "    return {\n",
    "        'actions': [create_plot],\n",
    "        'file_dep': ['data.csv'],\n",
    "        'targets': ['plot.png']\n",
    "    }\n",
    "```"
   ]
  }
 ],
 "metadata": {
  "kernelspec": {
   "display_name": "Python 3 (ipykernel)",
   "language": "python",
   "name": "python3"
  },
  "language_info": {
   "codemirror_mode": {
    "name": "ipython",
    "version": 3
   },
   "file_extension": ".py",
   "mimetype": "text/x-python",
   "name": "python",
   "nbconvert_exporter": "python",
   "pygments_lexer": "ipython3",
   "version": "3.12.7"
  }
 },
 "nbformat": 4,
 "nbformat_minor": 5
}
