{
 "cells": [
  {
   "cell_type": "markdown",
   "id": "f801d2c9-8318-4532-bca9-2ed0f661ed7f",
   "metadata": {},
   "source": [
    "# Building Workflows in Jupyter Notebooks"
   ]
  },
  {
   "cell_type": "markdown",
   "id": "48469ef3-4986-4053-a756-6953c3e4d79d",
   "metadata": {},
   "source": [
    "## Functions\n",
    "\n",
    "```python\n",
    "def create_file():\n",
    "    df = pd.DataFrame({\n",
    "        'A': np.random.randint(1, 100, 10),\n",
    "        'B': np.random.randint(1, 100, 10),\n",
    "        'C': np.random.randint(1, 100, 10)\n",
    "    })\n",
    "    df.to_csv('data.csv', index=False)\n",
    "    print(\"CSV file created\")\n",
    "\n",
    "def calculate_stats():\n",
    "    df = pd.read_csv('data.csv')\n",
    "    stats = df.describe()\n",
    "    stats.to_csv('stats.csv')\n",
    "\n",
    "def create_plot():\n",
    "    df = pd.read_csv('data.csv')\n",
    "    df.plot(kind='bar')\n",
    "    plt.savefig('plot.png')\n",
    "```"
   ]
  },
  {
   "cell_type": "markdown",
   "id": "bcc031b7-26a5-4eee-8fa6-48965ce0a757",
   "metadata": {},
   "source": [
    "**Example** no argument function"
   ]
  },
  {
   "cell_type": "code",
   "execution_count": 8,
   "id": "6daccec5-1fa4-4df1-bb28-aabe20fb841a",
   "metadata": {},
   "outputs": [],
   "source": [
    "def download_data():\n",
    "    url = \"https://uni-bonn.sciebo.de/s/FYJPmdTyPo1qwRX/download\"\n",
    "    output_csv = \"data/data.csv\"\n",
    "    df = pd.read_csv(url)\n",
    "    df.to_csv(output_csv, index=False)"
   ]
  },
  {
   "cell_type": "code",
   "execution_count": 9,
   "id": "21039584-e52d-4976-8116-6bb5cb09c811",
   "metadata": {},
   "outputs": [],
   "source": [
    "def calculate_stats():\n",
    "    csv_file = \"data/data.csv\"\n",
    "    output_csv = \"data/data_stats.csv\"\n",
    "    df = pd.read_csv(csv_file)\n",
    "    df_stat = df.describe().reset_index()\n",
    "    df_stat.to_csv(output_csv, index=False)"
   ]
  },
  {
   "cell_type": "code",
   "execution_count": 10,
   "id": "e375cb85-c454-4a24-b4a3-d362876172e2",
   "metadata": {},
   "outputs": [],
   "source": [
    "def create_vizualization():\n",
    "    csv_file = \"data/data.csv\"\n",
    "    hist_col_name = 'response_time'\n",
    "    df = pd.read_csv(csv_file)\n",
    "    df[hist_col_name].hvplot.hist()"
   ]
  },
  {
   "cell_type": "markdown",
   "id": "1307dc8a-5fdc-4cac-8c40-3539adae4d89",
   "metadata": {},
   "source": [
    "**Example** single argument function"
   ]
  },
  {
   "cell_type": "code",
   "execution_count": 5,
   "id": "4f3d69c2-48f8-40e5-a713-bb4522161b86",
   "metadata": {},
   "outputs": [],
   "source": [
    "def download_data(url):\n",
    "    output_csv = \"data/data.csv\"\n",
    "    df = pd.read_csv(url)\n",
    "    df.to_csv(output_csv, index=False)"
   ]
  },
  {
   "cell_type": "code",
   "execution_count": 6,
   "id": "a9f2d855-f3bc-4021-ae43-99ce4b48fe37",
   "metadata": {},
   "outputs": [],
   "source": [
    "def calculate_stats(csv_file):\n",
    "    output_csv = \"data/data_stats.csv\"\n",
    "    df = pd.read_csv(csv_file)\n",
    "    df_stat = df.describe().reset_index()\n",
    "    df_stat.to_csv(output_csv, index=False)"
   ]
  },
  {
   "cell_type": "code",
   "execution_count": 7,
   "id": "fec55d5f-a509-4dbe-a37c-c0b772948d2a",
   "metadata": {},
   "outputs": [],
   "source": [
    "def create_vizualization(csv_file):\n",
    "    hist_col_name = 'response_time'\n",
    "    df = pd.read_csv(csv_file)\n",
    "    df[hist_col_name].hvplot.hist()"
   ]
  },
  {
   "cell_type": "markdown",
   "id": "5ea52550-3204-4c50-807f-94358be7e3bf",
   "metadata": {},
   "source": [
    "**Example** multiple argument functions"
   ]
  },
  {
   "cell_type": "code",
   "execution_count": 11,
   "id": "fb99910d-ee10-44fe-aafc-53acbc93f647",
   "metadata": {},
   "outputs": [],
   "source": [
    "def download_data(url, output_csv):\n",
    "    df = pd.read_csv(url)\n",
    "    df.to_csv(output_csv, index=False)"
   ]
  },
  {
   "cell_type": "code",
   "execution_count": 12,
   "id": "627f7c01-4d94-4077-a736-69d168c06861",
   "metadata": {},
   "outputs": [],
   "source": [
    "def calculate_stats(csv_file, output_csv):\n",
    "    df = pd.read_csv(csv_file)\n",
    "    df_stat = df.describe().reset_index()\n",
    "    df_stat.to_csv(output_csv, index=False)"
   ]
  },
  {
   "cell_type": "code",
   "execution_count": 14,
   "id": "8679a5f2-4e6c-4480-a1ac-e8a67d89e315",
   "metadata": {},
   "outputs": [
    {
     "ename": "IndentationError",
     "evalue": "unindent does not match any outer indentation level (<string>, line 3)",
     "output_type": "error",
     "traceback": [
      "\u001b[1;36m  File \u001b[1;32m<string>:3\u001b[1;36m\u001b[0m\n\u001b[1;33m    df[hist_col_name].hvplot.hist()\u001b[0m\n\u001b[1;37m                                   ^\u001b[0m\n\u001b[1;31mIndentationError\u001b[0m\u001b[1;31m:\u001b[0m unindent does not match any outer indentation level\n"
     ]
    }
   ],
   "source": [
    "def create_vizualization(csv_file, hist_col_name):\n",
    "    df = pd.read_csv(csv_file)\n",
    "    df[hist_col_name].hvplot.hist()"
   ]
  },
  {
   "cell_type": "markdown",
   "id": "c5df85f9-bd80-4104-896f-dd2e44f59c1b",
   "metadata": {},
   "source": [
    "## Building Workflows Within A Jupyter Notebook\n",
    "\n",
    "import pandas as pd\n",
    "import numpy as np\n",
    "import matplotlib.pyplot as plt\n",
    "\n",
    "```python\n",
    "def task_create_csv():\n",
    "    def create_file():\n",
    "        df = pd.DataFrame({\n",
    "            'A': np.random.randint(1, 100, 10),\n",
    "            'B': np.random.randint(1, 100, 10),\n",
    "            'C': np.random.randint(1, 100, 10)\n",
    "        })\n",
    "        df.to_csv('data.csv', index=False)\n",
    "    \n",
    "    return {\n",
    "        'actions': [create_file],\n",
    "    }\n",
    "\n",
    "def task_stats():\n",
    "    def calculate_stats():\n",
    "        df = pd.read_csv('data.csv')\n",
    "        stats = df.describe()\n",
    "        stats.to_csv('stats.csv')\n",
    "    \n",
    "    return {\n",
    "        'actions': [calculate_stats],\n",
    "    }\n",
    "\n",
    "def task_plot():\n",
    "    def create_plot():\n",
    "        df = pd.read_csv('data.csv')\n",
    "        df.plot(kind='bar')\n",
    "        plt.savefig('plot.png')\n",
    "    \n",
    "    return {\n",
    "        'actions': [create_plot],\n",
    "    }\n",
    "```"
   ]
  },
  {
   "cell_type": "markdown",
   "id": "c72d8049-a82e-408f-8967-3a5394f5c97a",
   "metadata": {},
   "source": [
    "## File Dependency\n",
    "\n",
    "```python\n",
    "\n",
    "def task_create_csv():\n",
    "    def create_file():\n",
    "        df = pd.DataFrame({\n",
    "            'A': np.random.randint(1, 100, 10),\n",
    "            'B': np.random.randint(1, 100, 10),\n",
    "            'C': np.random.randint(1, 100, 10)\n",
    "        })\n",
    "        df.to_csv('data.csv', index=False)\n",
    "    \n",
    "    return {\n",
    "        'actions': [create_file],\n",
    "    }\n",
    "\n",
    "def task_stats():\n",
    "    def calculate_stats():\n",
    "        df = pd.read_csv('data.csv')\n",
    "        stats = df.describe()\n",
    "        stats.to_csv('stats.csv')\n",
    "        print(stats)\n",
    "    \n",
    "    return {\n",
    "        'actions': [calculate_stats],\n",
    "        'file_dep': ['data.csv'],\n",
    "    }\n",
    "\n",
    "def task_plot():\n",
    "    def create_plot():\n",
    "        df = pd.read_csv('data.csv')\n",
    "        df.plot(kind='bar')\n",
    "        plt.savefig('plot.png')\n",
    "        print(\"Plot saved as plot.png\")\n",
    "    \n",
    "    return {\n",
    "        'actions': [create_plot],\n",
    "        'file_dep': ['data.csv'],\n",
    "    }\n",
    "```"
   ]
  },
  {
   "cell_type": "markdown",
   "id": "8d1e0c94-36b1-4e7c-b3b8-a3041289b51c",
   "metadata": {},
   "source": [
    "## Targets\n",
    "\n",
    "```python\n",
    "def task_create_csv():\n",
    "    def create_file():\n",
    "        df = pd.DataFrame({\n",
    "            'A': np.random.randint(1, 100, 10),\n",
    "            'B': np.random.randint(1, 100, 10),\n",
    "            'C': np.random.randint(1, 100, 10)\n",
    "        })\n",
    "        df.to_csv('data.csv', index=False)\n",
    "        print(\"CSV file created\")\n",
    "    \n",
    "    return {\n",
    "        'actions': [create_file],\n",
    "        'targets': ['data.csv']\n",
    "    }\n",
    "\n",
    "def task_stats():\n",
    "    def calculate_stats():\n",
    "        df = pd.read_csv('data.csv')\n",
    "        stats = df.describe()\n",
    "        stats.to_csv('stats.csv')\n",
    "        print(stats)\n",
    "    \n",
    "    return {\n",
    "        'actions': [calculate_stats],\n",
    "        'file_dep': ['data.csv'],\n",
    "        'targets': ['stats.csv']\n",
    "    }\n",
    "\n",
    "def task_plot():\n",
    "    def create_plot():\n",
    "        df = pd.read_csv('data.csv')\n",
    "        df.plot(kind='bar')\n",
    "        plt.savefig('plot.png')\n",
    "        print(\"Plot saved as plot.png\")\n",
    "    \n",
    "    return {\n",
    "        'actions': [create_plot],\n",
    "        'file_dep': ['data.csv'],\n",
    "        'targets': ['plot.png']\n",
    "    }\n",
    "```"
   ]
  }
 ],
 "metadata": {
  "kernelspec": {
   "display_name": "Python 3 (ipykernel)",
   "language": "python",
   "name": "python3"
  },
  "language_info": {
   "codemirror_mode": {
    "name": "ipython",
    "version": 3
   },
   "file_extension": ".py",
   "mimetype": "text/x-python",
   "name": "python",
   "nbconvert_exporter": "python",
   "pygments_lexer": "ipython3",
   "version": "3.12.7"
  }
 },
 "nbformat": 4,
 "nbformat_minor": 5
}
