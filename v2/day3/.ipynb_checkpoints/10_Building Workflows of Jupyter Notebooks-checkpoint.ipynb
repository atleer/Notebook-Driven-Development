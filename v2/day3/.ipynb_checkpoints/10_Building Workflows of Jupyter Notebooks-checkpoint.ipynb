{
 "cells": [
  {
   "cell_type": "markdown",
   "id": "23427035-d10a-4f36-8bf3-b8d3310daa50",
   "metadata": {},
   "source": [
    "# Building Workflows of Jupyter Notebooks"
   ]
  },
  {
   "cell_type": "markdown",
   "id": "5ed1884a-0d64-4951-8786-9a557381bdb7",
   "metadata": {},
   "source": [
    "## Sequential Workflow\n",
    "\n",
    "```python\n",
    "def task_download_data():\n",
    "    return {\n",
    "        'actions': ['python download_data.py'],\n",
    "        'targets': ['data.csv'],\n",
    "    }\n",
    "\n",
    "def task_process_data():\n",
    "    return {\n",
    "        'file_dep': ['data.csv'],\n",
    "        'actions': ['python process_data.py'],\n",
    "        'targets': ['processed_data.csv'],\n",
    "    }\n",
    "\n",
    "def task_visualize_data():\n",
    "    return {\n",
    "        'file_dep': ['processed_data.csv'],\n",
    "        'actions': ['python visualize_data.py'],\n",
    "        'targets': ['visualization.png'],\n",
    "    }\n",
    "```"
   ]
  },
  {
   "cell_type": "markdown",
   "id": "91266b88-8507-45e3-8a8e-ce5e295263d1",
   "metadata": {},
   "source": [
    "## Batch Workflow\n",
    "\n",
    "```python\n",
    "def task_download_data():\n",
    "    return {\n",
    "        'actions': ['python download_data.py'],\n",
    "        'targets': ['data1.csv', 'data2.csv', 'data3.csv'],\n",
    "    }\n",
    "\n",
    "def task_process_all_data():\n",
    "    return {\n",
    "        'file_dep': ['data1.csv', 'data2.csv', 'data3.csv'],\n",
    "        'actions': ['python process_data.py'],\n",
    "        'targets': ['processed_data1.csv', 'processed_data2.csv', 'processed_data3.csv'],\n",
    "    }\n",
    "\n",
    "def task_visualize_all_data():\n",
    "    return {\n",
    "        'file_dep': ['processed_data1.csv', 'processed_data2.csv', 'processed_data3.csv'],\n",
    "        'actions': ['python visualize_data.py'],\n",
    "        'targets': ['visualization1.png', 'visualization2.png', 'visualization3.png'],\n",
    "    }\n",
    "\n",
    "```"
   ]
  },
  {
   "cell_type": "markdown",
   "id": "11aa540e-663c-45af-8ba7-fc36c741a677",
   "metadata": {},
   "source": [
    "## Looped Workflow\n",
    "\n",
    "```python\n",
    "datasets = ['data1.csv', 'data2.csv', 'data3.csv']\n",
    "\n",
    "def task_process_and_visualize():\n",
    "    for dataset in datasets:\n",
    "        processed_data = f'processed_{dataset}'\n",
    "        visualization = f'{dataset.split(\".\")[0]}.png'\n",
    "        yield {\n",
    "            'name': dataset,\n",
    "            'file_dep': [dataset],\n",
    "            'actions': [\n",
    "                f'python process_data.py {dataset} {processed_data}',\n",
    "                f'python visualize_data.py {processed_data} {visualization}'\n",
    "            ],\n",
    "            'targets': [processed_data, visualization],\n",
    "        }\n",
    "\n",
    "```"
   ]
  }
 ],
 "metadata": {
  "kernelspec": {
   "display_name": "Python 3 (ipykernel)",
   "language": "python",
   "name": "python3"
  },
  "language_info": {
   "codemirror_mode": {
    "name": "ipython",
    "version": 3
   },
   "file_extension": ".py",
   "mimetype": "text/x-python",
   "name": "python",
   "nbconvert_exporter": "python",
   "pygments_lexer": "ipython3",
   "version": "3.12.7"
  }
 },
 "nbformat": 4,
 "nbformat_minor": 5
}
