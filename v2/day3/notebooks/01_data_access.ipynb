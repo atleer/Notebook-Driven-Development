{
 "cells": [
  {
   "cell_type": "code",
   "execution_count": null,
   "id": "a7f1f9a0-ad40-4d8e-940b-0279b5b232d2",
   "metadata": {},
   "outputs": [],
   "source": [
    "# !pip install pandas"
   ]
  },
  {
   "cell_type": "markdown",
   "id": "7b7fa5c8-bb87-45d5-ae17-d1490c7fe1ae",
   "metadata": {},
   "source": [
    "# Steinmetz Data Access"
   ]
  },
  {
   "cell_type": "code",
   "execution_count": 1,
   "id": "d8526c0e-ecba-4622-a710-078a3ac1fa43",
   "metadata": {},
   "outputs": [],
   "source": [
    "import pandas as pd"
   ]
  },
  {
   "cell_type": "code",
   "execution_count": 3,
   "id": "8931c596-17c0-479c-b73a-d19c4f7b490d",
   "metadata": {
    "editable": true,
    "slideshow": {
     "slide_type": ""
    },
    "tags": [
     "parameters"
    ]
   },
   "outputs": [],
   "source": [
    "url = \"https://uni-bonn.sciebo.de/s/FYJPmdTyPo1qwRX/download\"\n",
    "output_csv = \"../data/data.csv\""
   ]
  },
  {
   "cell_type": "markdown",
   "id": "c7a29659-2162-4722-90fe-ea8779395520",
   "metadata": {},
   "source": [
    "Reading from the URL"
   ]
  },
  {
   "cell_type": "code",
   "execution_count": 4,
   "id": "13214f84-a998-4cc8-be6e-686fa67b2f94",
   "metadata": {},
   "outputs": [
    {
     "data": {
      "text/html": [
       "<div>\n",
       "<style scoped>\n",
       "    .dataframe tbody tr th:only-of-type {\n",
       "        vertical-align: middle;\n",
       "    }\n",
       "\n",
       "    .dataframe tbody tr th {\n",
       "        vertical-align: top;\n",
       "    }\n",
       "\n",
       "    .dataframe thead th {\n",
       "        text-align: right;\n",
       "    }\n",
       "</style>\n",
       "<table border=\"1\" class=\"dataframe\">\n",
       "  <thead>\n",
       "    <tr style=\"text-align: right;\">\n",
       "      <th></th>\n",
       "      <th>mouse</th>\n",
       "      <th>count</th>\n",
       "    </tr>\n",
       "  </thead>\n",
       "  <tbody>\n",
       "    <tr>\n",
       "      <th>0</th>\n",
       "      <td>Lederberg</td>\n",
       "      <td>2132</td>\n",
       "    </tr>\n",
       "    <tr>\n",
       "      <th>1</th>\n",
       "      <td>Hench</td>\n",
       "      <td>1411</td>\n",
       "    </tr>\n",
       "    <tr>\n",
       "      <th>2</th>\n",
       "      <td>Richards</td>\n",
       "      <td>1127</td>\n",
       "    </tr>\n",
       "    <tr>\n",
       "      <th>3</th>\n",
       "      <td>Forssmann</td>\n",
       "      <td>1045</td>\n",
       "    </tr>\n",
       "    <tr>\n",
       "      <th>4</th>\n",
       "      <td>Radnitz</td>\n",
       "      <td>962</td>\n",
       "    </tr>\n",
       "  </tbody>\n",
       "</table>\n",
       "</div>"
      ],
      "text/plain": [
       "       mouse  count\n",
       "0  Lederberg   2132\n",
       "1      Hench   1411\n",
       "2   Richards   1127\n",
       "3  Forssmann   1045\n",
       "4    Radnitz    962"
      ]
     },
     "execution_count": 4,
     "metadata": {},
     "output_type": "execute_result"
    }
   ],
   "source": [
    "df = pd.read_csv(url)\n",
    "df.head()"
   ]
  },
  {
   "cell_type": "markdown",
   "id": "d07a1f1b-35e7-4f24-8dbd-a9e8368d9489",
   "metadata": {},
   "source": [
    "Saving as CSV file"
   ]
  },
  {
   "cell_type": "code",
   "execution_count": null,
   "id": "0447bdea-b87d-4c9b-bf1b-4d73f8c4d0a6",
   "metadata": {},
   "outputs": [],
   "source": [
    "df.to_csv(output_csv, index=False)"
   ]
  }
 ],
 "metadata": {
  "kernelspec": {
   "display_name": "Python 3 (ipykernel)",
   "language": "python",
   "name": "python3"
  },
  "language_info": {
   "codemirror_mode": {
    "name": "ipython",
    "version": 3
   },
   "file_extension": ".py",
   "mimetype": "text/x-python",
   "name": "python",
   "nbconvert_exporter": "python",
   "pygments_lexer": "ipython3",
   "version": "3.12.7"
  }
 },
 "nbformat": 4,
 "nbformat_minor": 5
}
