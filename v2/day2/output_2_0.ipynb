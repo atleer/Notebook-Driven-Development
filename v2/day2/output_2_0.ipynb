{
 "cells": [
  {
   "cell_type": "code",
   "execution_count": 1,
   "id": "ba992094-6901-412c-8cdf-520444d57ab3",
   "metadata": {
    "editable": true,
    "execution": {
     "iopub.execute_input": "2024-10-11T18:19:06.772861Z",
     "iopub.status.busy": "2024-10-11T18:19:06.772861Z",
     "iopub.status.idle": "2024-10-11T18:19:07.480685Z",
     "shell.execute_reply": "2024-10-11T18:19:07.480685Z"
    },
    "papermill": {
     "duration": 0.718934,
     "end_time": "2024-10-11T18:19:07.482735",
     "exception": false,
     "start_time": "2024-10-11T18:19:06.763801",
     "status": "completed"
    },
    "slideshow": {
     "slide_type": ""
    },
    "tags": []
   },
   "outputs": [],
   "source": [
    "import pandas as pd\n",
    "import papermill as pm"
   ]
  },
  {
   "cell_type": "markdown",
   "id": "a16e75c3-b736-4806-b8a7-1060dc291aa6",
   "metadata": {
    "papermill": {
     "duration": 0.003013,
     "end_time": "2024-10-11T18:19:07.490753",
     "exception": false,
     "start_time": "2024-10-11T18:19:07.487740",
     "status": "completed"
    },
    "tags": []
   },
   "source": [
    "Parameters"
   ]
  },
  {
   "cell_type": "code",
   "execution_count": 2,
   "id": "6b11a11a-253d-4ef6-8bf1-68d514b2a6ac",
   "metadata": {
    "editable": true,
    "execution": {
     "iopub.execute_input": "2024-10-11T18:19:07.499609Z",
     "iopub.status.busy": "2024-10-11T18:19:07.498939Z",
     "iopub.status.idle": "2024-10-11T18:19:07.501948Z",
     "shell.execute_reply": "2024-10-11T18:19:07.501745Z"
    },
    "papermill": {
     "duration": 0.008996,
     "end_time": "2024-10-11T18:19:07.502736",
     "exception": false,
     "start_time": "2024-10-11T18:19:07.493740",
     "status": "completed"
    },
    "slideshow": {
     "slide_type": ""
    },
    "tags": [
     "parameters"
    ]
   },
   "outputs": [],
   "source": [
    "# Parameters\n",
    "input_csv_url = \"https://uni-bonn.sciebo.de/s/FYJPmdTyPo1qwRX/download\"\n",
    "output_csv = \"processed.csv\"\n",
    "num_rows_display = 5"
   ]
  },
  {
   "cell_type": "code",
   "execution_count": 3,
   "id": "4e87f55b",
   "metadata": {
    "execution": {
     "iopub.execute_input": "2024-10-11T18:19:07.506303Z",
     "iopub.status.busy": "2024-10-11T18:19:07.506303Z",
     "iopub.status.idle": "2024-10-11T18:19:07.507809Z",
     "shell.execute_reply": "2024-10-11T18:19:07.507809Z"
    },
    "papermill": {
     "duration": 0.005055,
     "end_time": "2024-10-11T18:19:07.508838",
     "exception": false,
     "start_time": "2024-10-11T18:19:07.503783",
     "status": "completed"
    },
    "tags": [
     "injected-parameters"
    ]
   },
   "outputs": [],
   "source": [
    "# Parameters\n",
    "input_csv_url = \"https://uni-bonn.sciebo.de/s/O1ybfiVcqROP00W/download\"\n",
    "num_rows_display = 2\n"
   ]
  },
  {
   "cell_type": "markdown",
   "id": "161b2d4e-6858-418e-9530-ee53694d6742",
   "metadata": {
    "papermill": {
     "duration": 0.002003,
     "end_time": "2024-10-11T18:19:07.511827",
     "exception": false,
     "start_time": "2024-10-11T18:19:07.509824",
     "status": "completed"
    },
    "tags": []
   },
   "source": [
    "Read the CSV file"
   ]
  },
  {
   "cell_type": "code",
   "execution_count": 4,
   "id": "766cb135-b6b3-47de-bf26-ae1c85c81c72",
   "metadata": {
    "execution": {
     "iopub.execute_input": "2024-10-11T18:19:07.518375Z",
     "iopub.status.busy": "2024-10-11T18:19:07.518375Z",
     "iopub.status.idle": "2024-10-11T18:19:07.924479Z",
     "shell.execute_reply": "2024-10-11T18:19:07.924479Z"
    },
    "papermill": {
     "duration": 0.451756,
     "end_time": "2024-10-11T18:19:07.967112",
     "exception": false,
     "start_time": "2024-10-11T18:19:07.515356",
     "status": "completed"
    },
    "tags": []
   },
   "outputs": [],
   "source": [
    "df = pd.read_csv(input_csv_url)"
   ]
  },
  {
   "cell_type": "markdown",
   "id": "fc564c40-7e75-4055-aa5a-41f489a8e40b",
   "metadata": {
    "papermill": {
     "duration": 0.00401,
     "end_time": "2024-10-11T18:19:07.980279",
     "exception": false,
     "start_time": "2024-10-11T18:19:07.976269",
     "status": "completed"
    },
    "tags": []
   },
   "source": [
    "Number of rows"
   ]
  },
  {
   "cell_type": "code",
   "execution_count": 5,
   "id": "ee0617b3-60f8-48a7-aed0-846e560ff0bd",
   "metadata": {
    "execution": {
     "iopub.execute_input": "2024-10-11T18:19:07.990178Z",
     "iopub.status.busy": "2024-10-11T18:19:07.989171Z",
     "iopub.status.idle": "2024-10-11T18:19:07.998589Z",
     "shell.execute_reply": "2024-10-11T18:19:07.998195Z"
    },
    "papermill": {
     "duration": 0.014267,
     "end_time": "2024-10-11T18:19:07.999094",
     "exception": false,
     "start_time": "2024-10-11T18:19:07.984827",
     "status": "completed"
    },
    "tags": []
   },
   "outputs": [
    {
     "data": {
      "text/html": [
       "<div>\n",
       "<style scoped>\n",
       "    .dataframe tbody tr th:only-of-type {\n",
       "        vertical-align: middle;\n",
       "    }\n",
       "\n",
       "    .dataframe tbody tr th {\n",
       "        vertical-align: top;\n",
       "    }\n",
       "\n",
       "    .dataframe thead th {\n",
       "        text-align: right;\n",
       "    }\n",
       "</style>\n",
       "<table border=\"1\" class=\"dataframe\">\n",
       "  <thead>\n",
       "    <tr style=\"text-align: right;\">\n",
       "      <th></th>\n",
       "      <th>mouse</th>\n",
       "      <th>count</th>\n",
       "    </tr>\n",
       "  </thead>\n",
       "  <tbody>\n",
       "    <tr>\n",
       "      <th>0</th>\n",
       "      <td>Tatum</td>\n",
       "      <td>949</td>\n",
       "    </tr>\n",
       "    <tr>\n",
       "      <th>1</th>\n",
       "      <td>Muller</td>\n",
       "      <td>782</td>\n",
       "    </tr>\n",
       "  </tbody>\n",
       "</table>\n",
       "</div>"
      ],
      "text/plain": [
       "    mouse  count\n",
       "0   Tatum    949\n",
       "1  Muller    782"
      ]
     },
     "execution_count": 5,
     "metadata": {},
     "output_type": "execute_result"
    }
   ],
   "source": [
    "df.head(num_rows_display)"
   ]
  },
  {
   "cell_type": "markdown",
   "id": "46698dd5-fcd9-4ab0-8f9c-b67aac4273cb",
   "metadata": {
    "papermill": {
     "duration": 0.004001,
     "end_time": "2024-10-11T18:19:08.005098",
     "exception": false,
     "start_time": "2024-10-11T18:19:08.001097",
     "status": "completed"
    },
    "tags": []
   },
   "source": [
    "Process the data (in this case, we'll just double a numerical column)"
   ]
  },
  {
   "cell_type": "code",
   "execution_count": 6,
   "id": "5c524725-be97-433a-9b68-3d08bee40bca",
   "metadata": {
    "execution": {
     "iopub.execute_input": "2024-10-11T18:19:08.019123Z",
     "iopub.status.busy": "2024-10-11T18:19:08.018120Z",
     "iopub.status.idle": "2024-10-11T18:19:08.023190Z",
     "shell.execute_reply": "2024-10-11T18:19:08.023190Z"
    },
    "papermill": {
     "duration": 0.013076,
     "end_time": "2024-10-11T18:19:08.024196",
     "exception": false,
     "start_time": "2024-10-11T18:19:08.011120",
     "status": "completed"
    },
    "tags": []
   },
   "outputs": [],
   "source": [
    "df['num_trials'] = df['count'] * 2"
   ]
  },
  {
   "cell_type": "markdown",
   "id": "eb2b8aff-0705-48e4-aef9-e8af281d8aa0",
   "metadata": {
    "papermill": {
     "duration": 0.004696,
     "end_time": "2024-10-11T18:19:08.032900",
     "exception": false,
     "start_time": "2024-10-11T18:19:08.028204",
     "status": "completed"
    },
    "tags": []
   },
   "source": [
    "Save the processed data to the output CSV"
   ]
  },
  {
   "cell_type": "code",
   "execution_count": 7,
   "id": "e0d28b77-8a64-42cf-8c5b-c548938dcbe2",
   "metadata": {
    "execution": {
     "iopub.execute_input": "2024-10-11T18:19:08.045016Z",
     "iopub.status.busy": "2024-10-11T18:19:08.045016Z",
     "iopub.status.idle": "2024-10-11T18:19:08.054107Z",
     "shell.execute_reply": "2024-10-11T18:19:08.054107Z"
    },
    "papermill": {
     "duration": 0.01714,
     "end_time": "2024-10-11T18:19:08.055113",
     "exception": false,
     "start_time": "2024-10-11T18:19:08.037973",
     "status": "completed"
    },
    "tags": []
   },
   "outputs": [
    {
     "data": {
      "text/plain": [
       "'Processed data saved to processed.csv'"
      ]
     },
     "execution_count": 7,
     "metadata": {},
     "output_type": "execute_result"
    }
   ],
   "source": [
    "df.to_csv(output_csv, index=False)\n",
    "\n",
    "f\"Processed data saved to {output_csv}\""
   ]
  }
 ],
 "metadata": {
  "kernelspec": {
   "display_name": "Python 3 (ipykernel)",
   "language": "python",
   "name": "python3"
  },
  "language_info": {
   "codemirror_mode": {
    "name": "ipython",
    "version": 3
   },
   "file_extension": ".py",
   "mimetype": "text/x-python",
   "name": "python",
   "nbconvert_exporter": "python",
   "pygments_lexer": "ipython3",
   "version": "3.12.7"
  },
  "papermill": {
   "default_parameters": {},
   "duration": 2.867659,
   "end_time": "2024-10-11T18:19:08.308779",
   "environment_variables": {},
   "exception": null,
   "input_path": "papermill_workflow/notebook_1.ipynb",
   "output_path": "output_2_0.ipynb",
   "parameters": {
    "input_csv_url": "https://uni-bonn.sciebo.de/s/O1ybfiVcqROP00W/download",
    "num_rows_display": 2
   },
   "start_time": "2024-10-11T18:19:05.441120",
   "version": "2.6.0"
  }
 },
 "nbformat": 4,
 "nbformat_minor": 5
}