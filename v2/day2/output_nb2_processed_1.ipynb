{
 "cells": [
  {
   "cell_type": "code",
   "execution_count": 1,
   "id": "af60cfaf-0c7a-4e5f-bca5-7bc2af30b6fc",
   "metadata": {
    "editable": true,
    "execution": {
     "iopub.execute_input": "2024-10-11T18:46:04.506797Z",
     "iopub.status.busy": "2024-10-11T18:46:04.505800Z",
     "iopub.status.idle": "2024-10-11T18:46:04.807041Z",
     "shell.execute_reply": "2024-10-11T18:46:04.807041Z"
    },
    "papermill": {
     "duration": 0.307273,
     "end_time": "2024-10-11T18:46:04.808067",
     "exception": false,
     "start_time": "2024-10-11T18:46:04.500794",
     "status": "completed"
    },
    "slideshow": {
     "slide_type": ""
    },
    "tags": []
   },
   "outputs": [],
   "source": [
    "import pandas as pd"
   ]
  },
  {
   "cell_type": "markdown",
   "id": "9813cb06-dd6c-4952-89ab-a53513c87e2c",
   "metadata": {
    "papermill": {
     "duration": 0.001859,
     "end_time": "2024-10-11T18:46:04.813350",
     "exception": false,
     "start_time": "2024-10-11T18:46:04.811491",
     "status": "completed"
    },
    "tags": []
   },
   "source": [
    "Parameters"
   ]
  },
  {
   "cell_type": "code",
   "execution_count": 2,
   "id": "e672756b-dfcf-4603-a682-c958b66193dd",
   "metadata": {
    "editable": true,
    "execution": {
     "iopub.execute_input": "2024-10-11T18:46:04.817355Z",
     "iopub.status.busy": "2024-10-11T18:46:04.817355Z",
     "iopub.status.idle": "2024-10-11T18:46:04.819158Z",
     "shell.execute_reply": "2024-10-11T18:46:04.819158Z"
    },
    "papermill": {
     "duration": 0.004798,
     "end_time": "2024-10-11T18:46:04.819158",
     "exception": false,
     "start_time": "2024-10-11T18:46:04.814360",
     "status": "completed"
    },
    "slideshow": {
     "slide_type": ""
    },
    "tags": [
     "parameters"
    ]
   },
   "outputs": [],
   "source": [
    "# Parameters\n",
    "processed_csv = \"processed.csv\""
   ]
  },
  {
   "cell_type": "code",
   "execution_count": 3,
   "id": "479b3235",
   "metadata": {
    "execution": {
     "iopub.execute_input": "2024-10-11T18:46:04.823290Z",
     "iopub.status.busy": "2024-10-11T18:46:04.822290Z",
     "iopub.status.idle": "2024-10-11T18:46:04.824625Z",
     "shell.execute_reply": "2024-10-11T18:46:04.824625Z"
    },
    "papermill": {
     "duration": 0.004373,
     "end_time": "2024-10-11T18:46:04.825662",
     "exception": false,
     "start_time": "2024-10-11T18:46:04.821289",
     "status": "completed"
    },
    "tags": [
     "injected-parameters"
    ]
   },
   "outputs": [],
   "source": [
    "# Parameters\n",
    "processed_csv = \"processed\\\\processed_2.csv\"\n"
   ]
  },
  {
   "cell_type": "markdown",
   "id": "d19a8728-f888-40f8-9513-af38bc3e81cb",
   "metadata": {
    "papermill": {
     "duration": 0.000999,
     "end_time": "2024-10-11T18:46:04.827629",
     "exception": false,
     "start_time": "2024-10-11T18:46:04.826630",
     "status": "completed"
    },
    "tags": []
   },
   "source": [
    "Read the processed CSV file"
   ]
  },
  {
   "cell_type": "code",
   "execution_count": 4,
   "id": "23701b3b-51bc-4a2e-8c89-7be29bb0eacf",
   "metadata": {
    "execution": {
     "iopub.execute_input": "2024-10-11T18:46:04.833181Z",
     "iopub.status.busy": "2024-10-11T18:46:04.833181Z",
     "iopub.status.idle": "2024-10-11T18:46:04.837136Z",
     "shell.execute_reply": "2024-10-11T18:46:04.837136Z"
    },
    "papermill": {
     "duration": 0.008981,
     "end_time": "2024-10-11T18:46:04.838150",
     "exception": false,
     "start_time": "2024-10-11T18:46:04.829169",
     "status": "completed"
    },
    "tags": []
   },
   "outputs": [],
   "source": [
    "df = pd.read_csv(processed_csv)"
   ]
  },
  {
   "cell_type": "markdown",
   "id": "72135a18-3c31-4238-8526-1046ac6757f8",
   "metadata": {
    "papermill": {
     "duration": 0.002002,
     "end_time": "2024-10-11T18:46:04.841152",
     "exception": false,
     "start_time": "2024-10-11T18:46:04.839150",
     "status": "completed"
    },
    "tags": []
   },
   "source": [
    "Perform analysis (e.g., calculate mean of 'num_trials')"
   ]
  },
  {
   "cell_type": "code",
   "execution_count": 5,
   "id": "b6d16fe8-5d9d-4e77-87b2-d94fbf3424ae",
   "metadata": {
    "execution": {
     "iopub.execute_input": "2024-10-11T18:46:04.845861Z",
     "iopub.status.busy": "2024-10-11T18:46:04.844850Z",
     "iopub.status.idle": "2024-10-11T18:46:04.848945Z",
     "shell.execute_reply": "2024-10-11T18:46:04.848945Z"
    },
    "papermill": {
     "duration": 0.006774,
     "end_time": "2024-10-11T18:46:04.849950",
     "exception": false,
     "start_time": "2024-10-11T18:46:04.843176",
     "status": "completed"
    },
    "tags": []
   },
   "outputs": [
    {
     "name": "stdout",
     "output_type": "stream",
     "text": [
      "Mean value of 'num_trials': 1349.2\n"
     ]
    }
   ],
   "source": [
    "mean_value = df['num_trials'].mean()\n",
    "\n",
    "print(f\"Mean value of 'num_trials': {mean_value}\")"
   ]
  }
 ],
 "metadata": {
  "kernelspec": {
   "display_name": "Python 3 (ipykernel)",
   "language": "python",
   "name": "python3"
  },
  "language_info": {
   "codemirror_mode": {
    "name": "ipython",
    "version": 3
   },
   "file_extension": ".py",
   "mimetype": "text/x-python",
   "name": "python",
   "nbconvert_exporter": "python",
   "pygments_lexer": "ipython3",
   "version": "3.12.7"
  },
  "papermill": {
   "default_parameters": {},
   "duration": 1.782888,
   "end_time": "2024-10-11T18:46:04.993344",
   "environment_variables": {},
   "exception": null,
   "input_path": "papermill_workflow/notebook_2.ipynb",
   "output_path": "output_nb2_processed_1.ipynb",
   "parameters": {
    "processed_csv": "processed\\processed_2.csv"
   },
   "start_time": "2024-10-11T18:46:03.210456",
   "version": "2.6.0"
  }
 },
 "nbformat": 4,
 "nbformat_minor": 5
}