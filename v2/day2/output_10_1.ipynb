{
 "cells": [
  {
   "cell_type": "code",
   "execution_count": 1,
   "id": "ba992094-6901-412c-8cdf-520444d57ab3",
   "metadata": {
    "editable": true,
    "execution": {
     "iopub.execute_input": "2024-10-11T18:18:16.064450Z",
     "iopub.status.busy": "2024-10-11T18:18:16.063451Z",
     "iopub.status.idle": "2024-10-11T18:18:16.810161Z",
     "shell.execute_reply": "2024-10-11T18:18:16.810161Z"
    },
    "papermill": {
     "duration": 0.756716,
     "end_time": "2024-10-11T18:18:16.811187",
     "exception": false,
     "start_time": "2024-10-11T18:18:16.054471",
     "status": "completed"
    },
    "slideshow": {
     "slide_type": ""
    },
    "tags": []
   },
   "outputs": [],
   "source": [
    "import pandas as pd\n",
    "import papermill as pm"
   ]
  },
  {
   "cell_type": "markdown",
   "id": "a16e75c3-b736-4806-b8a7-1060dc291aa6",
   "metadata": {
    "papermill": {
     "duration": 0.004979,
     "end_time": "2024-10-11T18:18:16.819186",
     "exception": false,
     "start_time": "2024-10-11T18:18:16.814207",
     "status": "completed"
    },
    "tags": []
   },
   "source": [
    "Parameters"
   ]
  },
  {
   "cell_type": "code",
   "execution_count": 2,
   "id": "6b11a11a-253d-4ef6-8bf1-68d514b2a6ac",
   "metadata": {
    "editable": true,
    "execution": {
     "iopub.execute_input": "2024-10-11T18:18:16.830189Z",
     "iopub.status.busy": "2024-10-11T18:18:16.830189Z",
     "iopub.status.idle": "2024-10-11T18:18:16.833776Z",
     "shell.execute_reply": "2024-10-11T18:18:16.833776Z"
    },
    "papermill": {
     "duration": 0.01058,
     "end_time": "2024-10-11T18:18:16.834783",
     "exception": false,
     "start_time": "2024-10-11T18:18:16.824203",
     "status": "completed"
    },
    "slideshow": {
     "slide_type": ""
    },
    "tags": [
     "parameters"
    ]
   },
   "outputs": [],
   "source": [
    "# Parameters\n",
    "input_csv_url = \"https://uni-bonn.sciebo.de/s/FYJPmdTyPo1qwRX/download\"\n",
    "output_csv = \"processed.csv\"\n",
    "num_rows_display = 5"
   ]
  },
  {
   "cell_type": "code",
   "execution_count": 3,
   "id": "11cae07c",
   "metadata": {
    "execution": {
     "iopub.execute_input": "2024-10-11T18:18:16.840039Z",
     "iopub.status.busy": "2024-10-11T18:18:16.840039Z",
     "iopub.status.idle": "2024-10-11T18:18:16.842581Z",
     "shell.execute_reply": "2024-10-11T18:18:16.842234Z"
    },
    "papermill": {
     "duration": 0.006762,
     "end_time": "2024-10-11T18:18:16.843560",
     "exception": false,
     "start_time": "2024-10-11T18:18:16.836798",
     "status": "completed"
    },
    "tags": [
     "injected-parameters"
    ]
   },
   "outputs": [],
   "source": [
    "# Parameters\n",
    "input_csv_url = \"https://uni-bonn.sciebo.de/s/O1ybfiVcqROP00W/download\"\n",
    "num_rows_display = 10\n"
   ]
  },
  {
   "cell_type": "markdown",
   "id": "161b2d4e-6858-418e-9530-ee53694d6742",
   "metadata": {
    "papermill": {
     "duration": 0.001991,
     "end_time": "2024-10-11T18:18:16.847571",
     "exception": false,
     "start_time": "2024-10-11T18:18:16.845580",
     "status": "completed"
    },
    "tags": []
   },
   "source": [
    "Read the CSV file"
   ]
  },
  {
   "cell_type": "code",
   "execution_count": 4,
   "id": "766cb135-b6b3-47de-bf26-ae1c85c81c72",
   "metadata": {
    "execution": {
     "iopub.execute_input": "2024-10-11T18:18:16.855691Z",
     "iopub.status.busy": "2024-10-11T18:18:16.855691Z",
     "iopub.status.idle": "2024-10-11T18:18:17.256228Z",
     "shell.execute_reply": "2024-10-11T18:18:17.255211Z"
    },
    "papermill": {
     "duration": 0.407657,
     "end_time": "2024-10-11T18:18:17.258230",
     "exception": false,
     "start_time": "2024-10-11T18:18:16.850573",
     "status": "completed"
    },
    "tags": []
   },
   "outputs": [],
   "source": [
    "df = pd.read_csv(input_csv_url)"
   ]
  },
  {
   "cell_type": "markdown",
   "id": "fc564c40-7e75-4055-aa5a-41f489a8e40b",
   "metadata": {
    "papermill": {
     "duration": 0.006549,
     "end_time": "2024-10-11T18:18:17.271795",
     "exception": false,
     "start_time": "2024-10-11T18:18:17.265246",
     "status": "completed"
    },
    "tags": []
   },
   "source": [
    "Number of rows"
   ]
  },
  {
   "cell_type": "code",
   "execution_count": 5,
   "id": "ee0617b3-60f8-48a7-aed0-846e560ff0bd",
   "metadata": {
    "execution": {
     "iopub.execute_input": "2024-10-11T18:18:17.285797Z",
     "iopub.status.busy": "2024-10-11T18:18:17.285797Z",
     "iopub.status.idle": "2024-10-11T18:18:17.298501Z",
     "shell.execute_reply": "2024-10-11T18:18:17.298501Z"
    },
    "papermill": {
     "duration": 0.023707,
     "end_time": "2024-10-11T18:18:17.300515",
     "exception": false,
     "start_time": "2024-10-11T18:18:17.276808",
     "status": "completed"
    },
    "tags": []
   },
   "outputs": [
    {
     "data": {
      "text/html": [
       "<div>\n",
       "<style scoped>\n",
       "    .dataframe tbody tr th:only-of-type {\n",
       "        vertical-align: middle;\n",
       "    }\n",
       "\n",
       "    .dataframe tbody tr th {\n",
       "        vertical-align: top;\n",
       "    }\n",
       "\n",
       "    .dataframe thead th {\n",
       "        text-align: right;\n",
       "    }\n",
       "</style>\n",
       "<table border=\"1\" class=\"dataframe\">\n",
       "  <thead>\n",
       "    <tr style=\"text-align: right;\">\n",
       "      <th></th>\n",
       "      <th>mouse</th>\n",
       "      <th>count</th>\n",
       "    </tr>\n",
       "  </thead>\n",
       "  <tbody>\n",
       "    <tr>\n",
       "      <th>0</th>\n",
       "      <td>Tatum</td>\n",
       "      <td>949</td>\n",
       "    </tr>\n",
       "    <tr>\n",
       "      <th>1</th>\n",
       "      <td>Muller</td>\n",
       "      <td>782</td>\n",
       "    </tr>\n",
       "    <tr>\n",
       "      <th>2</th>\n",
       "      <td>Cori</td>\n",
       "      <td>693</td>\n",
       "    </tr>\n",
       "    <tr>\n",
       "      <th>3</th>\n",
       "      <td>Moniz</td>\n",
       "      <td>606</td>\n",
       "    </tr>\n",
       "    <tr>\n",
       "      <th>4</th>\n",
       "      <td>Theiler</td>\n",
       "      <td>343</td>\n",
       "    </tr>\n",
       "  </tbody>\n",
       "</table>\n",
       "</div>"
      ],
      "text/plain": [
       "     mouse  count\n",
       "0    Tatum    949\n",
       "1   Muller    782\n",
       "2     Cori    693\n",
       "3    Moniz    606\n",
       "4  Theiler    343"
      ]
     },
     "execution_count": 5,
     "metadata": {},
     "output_type": "execute_result"
    }
   ],
   "source": [
    "df.head(num_rows_display)"
   ]
  },
  {
   "cell_type": "markdown",
   "id": "46698dd5-fcd9-4ab0-8f9c-b67aac4273cb",
   "metadata": {
    "papermill": {
     "duration": 0.005018,
     "end_time": "2024-10-11T18:18:17.311532",
     "exception": false,
     "start_time": "2024-10-11T18:18:17.306514",
     "status": "completed"
    },
    "tags": []
   },
   "source": [
    "Process the data (in this case, we'll just double a numerical column)"
   ]
  },
  {
   "cell_type": "code",
   "execution_count": 6,
   "id": "5c524725-be97-433a-9b68-3d08bee40bca",
   "metadata": {
    "execution": {
     "iopub.execute_input": "2024-10-11T18:18:17.326522Z",
     "iopub.status.busy": "2024-10-11T18:18:17.325518Z",
     "iopub.status.idle": "2024-10-11T18:18:17.331916Z",
     "shell.execute_reply": "2024-10-11T18:18:17.331916Z"
    },
    "papermill": {
     "duration": 0.015476,
     "end_time": "2024-10-11T18:18:17.333007",
     "exception": false,
     "start_time": "2024-10-11T18:18:17.317531",
     "status": "completed"
    },
    "tags": []
   },
   "outputs": [],
   "source": [
    "df['num_trials'] = df['count'] * 2"
   ]
  },
  {
   "cell_type": "markdown",
   "id": "eb2b8aff-0705-48e4-aef9-e8af281d8aa0",
   "metadata": {
    "papermill": {
     "duration": 0.00609,
     "end_time": "2024-10-11T18:18:17.345114",
     "exception": false,
     "start_time": "2024-10-11T18:18:17.339024",
     "status": "completed"
    },
    "tags": []
   },
   "source": [
    "Save the processed data to the output CSV"
   ]
  },
  {
   "cell_type": "code",
   "execution_count": 7,
   "id": "e0d28b77-8a64-42cf-8c5b-c548938dcbe2",
   "metadata": {
    "execution": {
     "iopub.execute_input": "2024-10-11T18:18:17.357187Z",
     "iopub.status.busy": "2024-10-11T18:18:17.357187Z",
     "iopub.status.idle": "2024-10-11T18:18:17.367299Z",
     "shell.execute_reply": "2024-10-11T18:18:17.366282Z"
    },
    "papermill": {
     "duration": 0.018944,
     "end_time": "2024-10-11T18:18:17.369112",
     "exception": false,
     "start_time": "2024-10-11T18:18:17.350168",
     "status": "completed"
    },
    "tags": []
   },
   "outputs": [
    {
     "data": {
      "text/plain": [
       "'Processed data saved to processed.csv'"
      ]
     },
     "execution_count": 7,
     "metadata": {},
     "output_type": "execute_result"
    }
   ],
   "source": [
    "df.to_csv(output_csv, index=False)\n",
    "\n",
    "f\"Processed data saved to {output_csv}\""
   ]
  }
 ],
 "metadata": {
  "kernelspec": {
   "display_name": "Python 3 (ipykernel)",
   "language": "python",
   "name": "python3"
  },
  "language_info": {
   "codemirror_mode": {
    "name": "ipython",
    "version": 3
   },
   "file_extension": ".py",
   "mimetype": "text/x-python",
   "name": "python",
   "nbconvert_exporter": "python",
   "pygments_lexer": "ipython3",
   "version": "3.12.7"
  },
  "papermill": {
   "default_parameters": {},
   "duration": 2.876489,
   "end_time": "2024-10-11T18:18:17.633053",
   "environment_variables": {},
   "exception": null,
   "input_path": "papermill_workflow/notebook_1.ipynb",
   "output_path": "output_10_1.ipynb",
   "parameters": {
    "input_csv_url": "https://uni-bonn.sciebo.de/s/O1ybfiVcqROP00W/download",
    "num_rows_display": 10
   },
   "start_time": "2024-10-11T18:18:14.756564",
   "version": "2.6.0"
  }
 },
 "nbformat": 4,
 "nbformat_minor": 5
}