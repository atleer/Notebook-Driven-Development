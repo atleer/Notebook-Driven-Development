{
 "cells": [
  {
   "cell_type": "markdown",
   "id": "831ef98b-4d85-4b46-ba24-a8db8e64098b",
   "metadata": {},
   "source": [
    "## command line"
   ]
  },
  {
   "cell_type": "markdown",
   "id": "7114868d-e153-4383-ad1b-fa424f6e11ef",
   "metadata": {},
   "source": [
    "## Run the entire notebook (papermill)"
   ]
  },
  {
   "cell_type": "markdown",
   "id": "0ef38c85-5a7b-45eb-ad0c-4284f6232f46",
   "metadata": {},
   "source": [
    "## Accessing methods from scripts"
   ]
  },
  {
   "cell_type": "markdown",
   "id": "ad659bd7-a11a-442f-bf85-ca1a05742c34",
   "metadata": {},
   "source": [
    "## Converting jupyter notebooks into scripts"
   ]
  }
 ],
 "metadata": {
  "kernelspec": {
   "display_name": "Python 3 (ipykernel)",
   "language": "python",
   "name": "python3"
  },
  "language_info": {
   "codemirror_mode": {
    "name": "ipython",
    "version": 3
   },
   "file_extension": ".py",
   "mimetype": "text/x-python",
   "name": "python",
   "nbconvert_exporter": "python",
   "pygments_lexer": "ipython3",
   "version": "3.12.7"
  }
 },
 "nbformat": 4,
 "nbformat_minor": 5
}
