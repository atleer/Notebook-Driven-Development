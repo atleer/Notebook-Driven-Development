{
 "cells": [
  {
   "cell_type": "code",
   "execution_count": null,
   "id": "31677156-f833-4140-ae38-dcb5707405de",
   "metadata": {},
   "outputs": [],
   "source": [
    "print(\"Hello World\")"
   ]
  },
  {
   "cell_type": "code",
   "execution_count": null,
   "id": "93e41a71-0d40-46bb-9586-46a735b6dbc6",
   "metadata": {},
   "outputs": [],
   "source": [
    "name=\"John Doe\""
   ]
  },
  {
   "cell_type": "code",
   "execution_count": null,
   "id": "92159c2f-c2df-4ce6-91d6-28f7a0c5be62",
   "metadata": {},
   "outputs": [],
   "source": [
    "age=100"
   ]
  },
  {
   "cell_type": "code",
   "execution_count": null,
   "id": "d2eb5c15-1b2e-4921-8c1f-d577c7f835ef",
   "metadata": {},
   "outputs": [],
   "source": [
    "location=\"Earth\""
   ]
  },
  {
   "cell_type": "markdown",
   "id": "1842064a-9860-42a8-9e43-2e27d68a57b4",
   "metadata": {},
   "source": [
    "---\n",
    "### Functions\n",
    "\n",
    "In this section, we have all the functions that we use for the analysis along with their description"
   ]
  },
  {
   "cell_type": "markdown",
   "id": "aa147b90-b58f-489f-909a-057bf3874dc6",
   "metadata": {},
   "source": [
    "**add_three_numbers:** It gives us sum of the three numbers. \n",
    "\n",
    "Example use case\n",
    "\n",
    "```python\n",
    "sum_123 = add_three_numbers(1, 2, 3)\n",
    "```"
   ]
  },
  {
   "cell_type": "code",
   "execution_count": 2,
   "id": "f38c3ef4-3a70-4b54-9e20-6ce98d33b92b",
   "metadata": {},
   "outputs": [],
   "source": [
    "def add_three_numbers(a, b, c):\n",
    "    return a + b + c"
   ]
  },
  {
   "cell_type": "markdown",
   "id": "b12d5ab0-2b93-4741-b34a-815a2e5e3026",
   "metadata": {},
   "source": [
    "**multiply_two_numbers:** It gives product of two numbers.\n",
    "\n",
    "Example use case\n",
    "\n",
    "```python\n",
    "prod_23 = multiply_two_numbers(2,3)\n",
    "```"
   ]
  },
  {
   "cell_type": "code",
   "execution_count": 3,
   "id": "77f28f15-64b3-4ee3-9396-bebc57da628e",
   "metadata": {},
   "outputs": [],
   "source": [
    "def multiply_two_numbers(a, b):\n",
    "    return a*b"
   ]
  }
 ],
 "metadata": {
  "kernelspec": {
   "display_name": "Python 3 (ipykernel)",
   "language": "python",
   "name": "python3"
  },
  "language_info": {
   "codemirror_mode": {
    "name": "ipython",
    "version": 3
   },
   "file_extension": ".py",
   "mimetype": "text/x-python",
   "name": "python",
   "nbconvert_exporter": "python",
   "pygments_lexer": "ipython3",
   "version": "3.12.7"
  }
 },
 "nbformat": 4,
 "nbformat_minor": 5
}
