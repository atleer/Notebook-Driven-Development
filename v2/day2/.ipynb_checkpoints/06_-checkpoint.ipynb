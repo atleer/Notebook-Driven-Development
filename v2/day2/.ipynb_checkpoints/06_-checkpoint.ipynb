{
 "cells": [
  {
   "cell_type": "code",
   "execution_count": 1,
   "id": "23003dce-46f0-4d5f-a536-5720591bfb53",
   "metadata": {},
   "outputs": [],
   "source": [
    "# !pip install papermill nbconvert"
   ]
  },
  {
   "cell_type": "code",
   "execution_count": 5,
   "id": "35b2c22e-f2a8-4b7c-a892-f45034b1aba7",
   "metadata": {},
   "outputs": [],
   "source": [
    "import pandas as pd"
   ]
  },
  {
   "cell_type": "markdown",
   "id": "831ef98b-4d85-4b46-ba24-a8db8e64098b",
   "metadata": {},
   "source": [
    "## Command-Line in Jupyter\n",
    "\n",
    "A command line is a text-based interface that allows users to interact with their computer’s operating system by typing commands, rather than using graphical interfaces.\n",
    "In this interface, users can navigate directories, manage files, run programs, and perform a wide range of tasks by typing specific commands.\n",
    "Popular command-line environments include Bash (common in Linux and macOS) and the Windows Command Prompt or PowerShell.\n",
    "\n",
    "As researchers we may need to use command-line for file management (move, rename, delete, or organize datasets), automate repeating tasks that may involve external tools, install software etc. \n",
    "\n",
    "Incorporating command-line commands into our analysis notebooks allows us to integrate external tools, automate repeating tasks, and manage data all within the same environment. "
   ]
  },
  {
   "cell_type": "markdown",
   "id": "6a3ebe55-5bf5-4fea-9b8f-391338dd220f",
   "metadata": {},
   "source": [
    "**Example** installing software"
   ]
  },
  {
   "cell_type": "code",
   "execution_count": 4,
   "id": "fe8139bb-0917-4542-b0b6-37c08bfe96b8",
   "metadata": {},
   "outputs": [],
   "source": [
    "!mkdir abc"
   ]
  },
  {
   "cell_type": "code",
   "execution_count": null,
   "id": "cc6a4006-4b5d-462a-89fe-1d4965123528",
   "metadata": {},
   "outputs": [],
   "source": []
  },
  {
   "cell_type": "code",
   "execution_count": null,
   "id": "10e07a61-740f-484c-b8fe-7ac2dc5daec0",
   "metadata": {},
   "outputs": [],
   "source": []
  },
  {
   "cell_type": "markdown",
   "id": "baa90234-e934-4682-b1f6-c91a0f03d5b5",
   "metadata": {},
   "source": [
    "**Example** Create directories"
   ]
  },
  {
   "cell_type": "code",
   "execution_count": null,
   "id": "e45e77b4-e456-4da5-ac10-67c8ef0eb14a",
   "metadata": {},
   "outputs": [],
   "source": []
  },
  {
   "cell_type": "code",
   "execution_count": null,
   "id": "e5a17e1d-c0b9-4bd5-ab54-fc641a2bf93c",
   "metadata": {},
   "outputs": [],
   "source": []
  },
  {
   "cell_type": "code",
   "execution_count": null,
   "id": "53947182-996f-49fd-a612-6c05094e27c5",
   "metadata": {},
   "outputs": [],
   "source": []
  },
  {
   "cell_type": "markdown",
   "id": "434457f2-8086-4e68-9743-e91c9cb6889d",
   "metadata": {},
   "source": [
    "**Example** Create files"
   ]
  },
  {
   "cell_type": "code",
   "execution_count": null,
   "id": "ffc1f664-8d06-4bdb-b377-c59feea5ad65",
   "metadata": {},
   "outputs": [],
   "source": []
  },
  {
   "cell_type": "code",
   "execution_count": null,
   "id": "4062a07a-cb36-4d0f-b845-a9aecfc9bf12",
   "metadata": {},
   "outputs": [],
   "source": []
  },
  {
   "cell_type": "code",
   "execution_count": null,
   "id": "0dfdb6c5-0240-44cc-a9df-bb37a8e9de30",
   "metadata": {},
   "outputs": [],
   "source": []
  },
  {
   "cell_type": "markdown",
   "id": "9ae3d140-01c8-4469-b939-921a27bc4af4",
   "metadata": {},
   "source": [
    "**Example** Delete files and directories"
   ]
  },
  {
   "cell_type": "code",
   "execution_count": null,
   "id": "117e7e0e-ce36-4091-a5d5-3170844a0df8",
   "metadata": {},
   "outputs": [],
   "source": []
  },
  {
   "cell_type": "code",
   "execution_count": null,
   "id": "c9b4fd7c-5350-4cc4-b174-72b5338d3b32",
   "metadata": {},
   "outputs": [],
   "source": []
  },
  {
   "cell_type": "code",
   "execution_count": null,
   "id": "d049100a-dbb3-4c66-adab-5a5dd34f6fc3",
   "metadata": {},
   "outputs": [],
   "source": []
  },
  {
   "cell_type": "markdown",
   "id": "7114868d-e153-4383-ad1b-fa424f6e11ef",
   "metadata": {},
   "source": [
    "## Executing Notebooks from Command Line"
   ]
  },
  {
   "cell_type": "markdown",
   "id": "ad659bd7-a11a-442f-bf85-ca1a05742c34",
   "metadata": {},
   "source": [
    "## Turning Scripts into Notebooks"
   ]
  },
  {
   "cell_type": "markdown",
   "id": "0ef38c85-5a7b-45eb-ad0c-4284f6232f46",
   "metadata": {},
   "source": [
    "## Turning Notebooks into Scripts"
   ]
  }
 ],
 "metadata": {
  "kernelspec": {
   "display_name": "Python 3 (ipykernel)",
   "language": "python",
   "name": "python3"
  },
  "language_info": {
   "codemirror_mode": {
    "name": "ipython",
    "version": 3
   },
   "file_extension": ".py",
   "mimetype": "text/x-python",
   "name": "python",
   "nbconvert_exporter": "python",
   "pygments_lexer": "ipython3",
   "version": "3.12.7"
  }
 },
 "nbformat": 4,
 "nbformat_minor": 5
}
