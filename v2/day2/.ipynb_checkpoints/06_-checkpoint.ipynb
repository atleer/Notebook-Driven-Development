{
 "cells": [
  {
   "cell_type": "code",
   "execution_count": 1,
   "id": "23003dce-46f0-4d5f-a536-5720591bfb53",
   "metadata": {},
   "outputs": [],
   "source": [
    "# !pip install papermill nbconvert"
   ]
  },
  {
   "cell_type": "code",
   "execution_count": 5,
   "id": "35b2c22e-f2a8-4b7c-a892-f45034b1aba7",
   "metadata": {},
   "outputs": [],
   "source": [
    "import pandas as pd"
   ]
  },
  {
   "cell_type": "markdown",
   "id": "831ef98b-4d85-4b46-ba24-a8db8e64098b",
   "metadata": {},
   "source": [
    "## Running Command-Line Commands in Jupyter\n",
    "\n",
    "A command line is a text-based interface that allows users to interact with their computer’s operating system by typing commands, rather than using graphical interfaces.\n",
    "In this interface, users can navigate directories, manage files, run programs, and perform a wide range of tasks by typing specific commands.\n",
    "Popular command-line environments include Bash (common in Linux and macOS) and the Windows Command Prompt or PowerShell.\n",
    "\n",
    "As researchers we may need to use command-line for file management (move, rename, delete, or organize datasets), automate repeating tasks that may involve external tools, install software etc. \n",
    "\n",
    "Incorporating command-line commands into our analysis notebooks allows us to integrate external tools, automate repeating tasks, and manage data all within the same environment. "
   ]
  },
  {
   "cell_type": "markdown",
   "id": "6a3ebe55-5bf5-4fea-9b8f-391338dd220f",
   "metadata": {},
   "source": [
    "**Example** Install `pandas`"
   ]
  },
  {
   "cell_type": "code",
   "execution_count": 6,
   "id": "fe8139bb-0917-4542-b0b6-37c08bfe96b8",
   "metadata": {},
   "outputs": [
    {
     "name": "stdout",
     "output_type": "stream",
     "text": [
      "Requirement already satisfied: pandas in c:\\users\\sangeetha\\anaconda3\\envs\\ndd\\lib\\site-packages (2.2.3)\n",
      "Requirement already satisfied: numpy>=1.26.0 in c:\\users\\sangeetha\\anaconda3\\envs\\ndd\\lib\\site-packages (from pandas) (2.1.2)\n",
      "Requirement already satisfied: python-dateutil>=2.8.2 in c:\\users\\sangeetha\\anaconda3\\envs\\ndd\\lib\\site-packages (from pandas) (2.9.0)\n",
      "Requirement already satisfied: pytz>=2020.1 in c:\\users\\sangeetha\\anaconda3\\envs\\ndd\\lib\\site-packages (from pandas) (2024.2)\n",
      "Requirement already satisfied: tzdata>=2022.7 in c:\\users\\sangeetha\\anaconda3\\envs\\ndd\\lib\\site-packages (from pandas) (2024.2)\n",
      "Requirement already satisfied: six>=1.5 in c:\\users\\sangeetha\\anaconda3\\envs\\ndd\\lib\\site-packages (from python-dateutil>=2.8.2->pandas) (1.16.0)\n"
     ]
    }
   ],
   "source": [
    "!pip install pandas"
   ]
  },
  {
   "cell_type": "markdown",
   "id": "8d270a0b-71f0-4ed4-89a7-eeef1e65041d",
   "metadata": {},
   "source": [
    "Install `numpy`"
   ]
  },
  {
   "cell_type": "code",
   "execution_count": 7,
   "id": "cc6a4006-4b5d-462a-89fe-1d4965123528",
   "metadata": {},
   "outputs": [
    {
     "name": "stdout",
     "output_type": "stream",
     "text": [
      "Requirement already satisfied: numpy in c:\\users\\sangeetha\\anaconda3\\envs\\ndd\\lib\\site-packages (2.1.2)\n"
     ]
    }
   ],
   "source": [
    "!pip install numpy"
   ]
  },
  {
   "cell_type": "markdown",
   "id": "0b62ec8c-2b2d-469b-8539-e6b83b7c4136",
   "metadata": {},
   "source": [
    "Install seaborn"
   ]
  },
  {
   "cell_type": "code",
   "execution_count": 8,
   "id": "10e07a61-740f-484c-b8fe-7ac2dc5daec0",
   "metadata": {},
   "outputs": [
    {
     "name": "stdout",
     "output_type": "stream",
     "text": [
      "Collecting seaborn\n",
      "  Using cached seaborn-0.13.2-py3-none-any.whl.metadata (5.4 kB)\n",
      "Requirement already satisfied: numpy!=1.24.0,>=1.20 in c:\\users\\sangeetha\\anaconda3\\envs\\ndd\\lib\\site-packages (from seaborn) (2.1.2)\n",
      "Requirement already satisfied: pandas>=1.2 in c:\\users\\sangeetha\\anaconda3\\envs\\ndd\\lib\\site-packages (from seaborn) (2.2.3)\n",
      "Collecting matplotlib!=3.6.1,>=3.4 (from seaborn)\n",
      "  Using cached matplotlib-3.9.2-cp312-cp312-win_amd64.whl.metadata (11 kB)\n",
      "Requirement already satisfied: contourpy>=1.0.1 in c:\\users\\sangeetha\\anaconda3\\envs\\ndd\\lib\\site-packages (from matplotlib!=3.6.1,>=3.4->seaborn) (1.3.0)\n",
      "Collecting cycler>=0.10 (from matplotlib!=3.6.1,>=3.4->seaborn)\n",
      "  Using cached cycler-0.12.1-py3-none-any.whl.metadata (3.8 kB)\n",
      "Collecting fonttools>=4.22.0 (from matplotlib!=3.6.1,>=3.4->seaborn)\n",
      "  Using cached fonttools-4.54.1-cp312-cp312-win_amd64.whl.metadata (167 kB)\n",
      "Collecting kiwisolver>=1.3.1 (from matplotlib!=3.6.1,>=3.4->seaborn)\n",
      "  Using cached kiwisolver-1.4.7-cp312-cp312-win_amd64.whl.metadata (6.4 kB)\n",
      "Requirement already satisfied: packaging>=20.0 in c:\\users\\sangeetha\\anaconda3\\envs\\ndd\\lib\\site-packages (from matplotlib!=3.6.1,>=3.4->seaborn) (24.1)\n",
      "Requirement already satisfied: pillow>=8 in c:\\users\\sangeetha\\anaconda3\\envs\\ndd\\lib\\site-packages (from matplotlib!=3.6.1,>=3.4->seaborn) (10.4.0)\n",
      "Collecting pyparsing>=2.3.1 (from matplotlib!=3.6.1,>=3.4->seaborn)\n",
      "  Using cached pyparsing-3.1.4-py3-none-any.whl.metadata (5.1 kB)\n",
      "Requirement already satisfied: python-dateutil>=2.7 in c:\\users\\sangeetha\\anaconda3\\envs\\ndd\\lib\\site-packages (from matplotlib!=3.6.1,>=3.4->seaborn) (2.9.0)\n",
      "Requirement already satisfied: pytz>=2020.1 in c:\\users\\sangeetha\\anaconda3\\envs\\ndd\\lib\\site-packages (from pandas>=1.2->seaborn) (2024.2)\n",
      "Requirement already satisfied: tzdata>=2022.7 in c:\\users\\sangeetha\\anaconda3\\envs\\ndd\\lib\\site-packages (from pandas>=1.2->seaborn) (2024.2)\n",
      "Requirement already satisfied: six>=1.5 in c:\\users\\sangeetha\\anaconda3\\envs\\ndd\\lib\\site-packages (from python-dateutil>=2.7->matplotlib!=3.6.1,>=3.4->seaborn) (1.16.0)\n",
      "Using cached seaborn-0.13.2-py3-none-any.whl (294 kB)\n",
      "Using cached matplotlib-3.9.2-cp312-cp312-win_amd64.whl (7.8 MB)\n",
      "Using cached cycler-0.12.1-py3-none-any.whl (8.3 kB)\n",
      "Using cached fonttools-4.54.1-cp312-cp312-win_amd64.whl (2.2 MB)\n",
      "Using cached kiwisolver-1.4.7-cp312-cp312-win_amd64.whl (55 kB)\n",
      "Using cached pyparsing-3.1.4-py3-none-any.whl (104 kB)\n",
      "Installing collected packages: pyparsing, kiwisolver, fonttools, cycler, matplotlib, seaborn\n",
      "Successfully installed cycler-0.12.1 fonttools-4.54.1 kiwisolver-1.4.7 matplotlib-3.9.2 pyparsing-3.1.4 seaborn-0.13.2\n"
     ]
    }
   ],
   "source": [
    "!pip install seaborn"
   ]
  },
  {
   "cell_type": "markdown",
   "id": "29549840-b4b2-45ce-b710-65eaecac5e9a",
   "metadata": {},
   "source": [
    "You can use any option that comes along with the command-line command"
   ]
  },
  {
   "cell_type": "markdown",
   "id": "5fd00c6c-eb6d-4515-acbf-f5f73aa12a3a",
   "metadata": {},
   "source": [
    "**Example** Upgrade matplotlib"
   ]
  },
  {
   "cell_type": "code",
   "execution_count": 9,
   "id": "95ab3637-fbc8-4c78-b872-76f666d75c7a",
   "metadata": {},
   "outputs": [
    {
     "name": "stdout",
     "output_type": "stream",
     "text": [
      "Requirement already satisfied: matplotlib in c:\\users\\sangeetha\\anaconda3\\envs\\ndd\\lib\\site-packages (3.9.2)\n",
      "Requirement already satisfied: contourpy>=1.0.1 in c:\\users\\sangeetha\\anaconda3\\envs\\ndd\\lib\\site-packages (from matplotlib) (1.3.0)\n",
      "Requirement already satisfied: cycler>=0.10 in c:\\users\\sangeetha\\anaconda3\\envs\\ndd\\lib\\site-packages (from matplotlib) (0.12.1)\n",
      "Requirement already satisfied: fonttools>=4.22.0 in c:\\users\\sangeetha\\anaconda3\\envs\\ndd\\lib\\site-packages (from matplotlib) (4.54.1)\n",
      "Requirement already satisfied: kiwisolver>=1.3.1 in c:\\users\\sangeetha\\anaconda3\\envs\\ndd\\lib\\site-packages (from matplotlib) (1.4.7)\n",
      "Requirement already satisfied: numpy>=1.23 in c:\\users\\sangeetha\\anaconda3\\envs\\ndd\\lib\\site-packages (from matplotlib) (2.1.2)\n",
      "Requirement already satisfied: packaging>=20.0 in c:\\users\\sangeetha\\anaconda3\\envs\\ndd\\lib\\site-packages (from matplotlib) (24.1)\n",
      "Requirement already satisfied: pillow>=8 in c:\\users\\sangeetha\\anaconda3\\envs\\ndd\\lib\\site-packages (from matplotlib) (10.4.0)\n",
      "Requirement already satisfied: pyparsing>=2.3.1 in c:\\users\\sangeetha\\anaconda3\\envs\\ndd\\lib\\site-packages (from matplotlib) (3.1.4)\n",
      "Requirement already satisfied: python-dateutil>=2.7 in c:\\users\\sangeetha\\anaconda3\\envs\\ndd\\lib\\site-packages (from matplotlib) (2.9.0)\n",
      "Requirement already satisfied: six>=1.5 in c:\\users\\sangeetha\\anaconda3\\envs\\ndd\\lib\\site-packages (from python-dateutil>=2.7->matplotlib) (1.16.0)\n"
     ]
    }
   ],
   "source": [
    "!pip install --upgrade matplotlib"
   ]
  },
  {
   "cell_type": "markdown",
   "id": "2b21561b-dd70-4f8d-ab62-d2e0c795248d",
   "metadata": {},
   "source": [
    "Upgrade seaborn"
   ]
  },
  {
   "cell_type": "code",
   "execution_count": 10,
   "id": "31c02ff6-a5f9-472b-81f9-f0cbdd899bff",
   "metadata": {},
   "outputs": [
    {
     "name": "stdout",
     "output_type": "stream",
     "text": [
      "Requirement already satisfied: seaborn in c:\\users\\sangeetha\\anaconda3\\envs\\ndd\\lib\\site-packages (0.13.2)\n",
      "Requirement already satisfied: numpy!=1.24.0,>=1.20 in c:\\users\\sangeetha\\anaconda3\\envs\\ndd\\lib\\site-packages (from seaborn) (2.1.2)\n",
      "Requirement already satisfied: pandas>=1.2 in c:\\users\\sangeetha\\anaconda3\\envs\\ndd\\lib\\site-packages (from seaborn) (2.2.3)\n",
      "Requirement already satisfied: matplotlib!=3.6.1,>=3.4 in c:\\users\\sangeetha\\anaconda3\\envs\\ndd\\lib\\site-packages (from seaborn) (3.9.2)\n",
      "Requirement already satisfied: contourpy>=1.0.1 in c:\\users\\sangeetha\\anaconda3\\envs\\ndd\\lib\\site-packages (from matplotlib!=3.6.1,>=3.4->seaborn) (1.3.0)\n",
      "Requirement already satisfied: cycler>=0.10 in c:\\users\\sangeetha\\anaconda3\\envs\\ndd\\lib\\site-packages (from matplotlib!=3.6.1,>=3.4->seaborn) (0.12.1)\n",
      "Requirement already satisfied: fonttools>=4.22.0 in c:\\users\\sangeetha\\anaconda3\\envs\\ndd\\lib\\site-packages (from matplotlib!=3.6.1,>=3.4->seaborn) (4.54.1)\n",
      "Requirement already satisfied: kiwisolver>=1.3.1 in c:\\users\\sangeetha\\anaconda3\\envs\\ndd\\lib\\site-packages (from matplotlib!=3.6.1,>=3.4->seaborn) (1.4.7)\n",
      "Requirement already satisfied: packaging>=20.0 in c:\\users\\sangeetha\\anaconda3\\envs\\ndd\\lib\\site-packages (from matplotlib!=3.6.1,>=3.4->seaborn) (24.1)\n",
      "Requirement already satisfied: pillow>=8 in c:\\users\\sangeetha\\anaconda3\\envs\\ndd\\lib\\site-packages (from matplotlib!=3.6.1,>=3.4->seaborn) (10.4.0)\n",
      "Requirement already satisfied: pyparsing>=2.3.1 in c:\\users\\sangeetha\\anaconda3\\envs\\ndd\\lib\\site-packages (from matplotlib!=3.6.1,>=3.4->seaborn) (3.1.4)\n",
      "Requirement already satisfied: python-dateutil>=2.7 in c:\\users\\sangeetha\\anaconda3\\envs\\ndd\\lib\\site-packages (from matplotlib!=3.6.1,>=3.4->seaborn) (2.9.0)\n",
      "Requirement already satisfied: pytz>=2020.1 in c:\\users\\sangeetha\\anaconda3\\envs\\ndd\\lib\\site-packages (from pandas>=1.2->seaborn) (2024.2)\n",
      "Requirement already satisfied: tzdata>=2022.7 in c:\\users\\sangeetha\\anaconda3\\envs\\ndd\\lib\\site-packages (from pandas>=1.2->seaborn) (2024.2)\n",
      "Requirement already satisfied: six>=1.5 in c:\\users\\sangeetha\\anaconda3\\envs\\ndd\\lib\\site-packages (from python-dateutil>=2.7->matplotlib!=3.6.1,>=3.4->seaborn) (1.16.0)\n"
     ]
    }
   ],
   "source": [
    "!pip install seaborn"
   ]
  },
  {
   "cell_type": "markdown",
   "id": "ffafb95c-cbd8-4915-9738-3901750e85ff",
   "metadata": {},
   "source": [
    "Upgrade nbformat"
   ]
  },
  {
   "cell_type": "code",
   "execution_count": 11,
   "id": "cfd050fb-3aac-49b0-8d72-725f83ea8a45",
   "metadata": {},
   "outputs": [
    {
     "name": "stdout",
     "output_type": "stream",
     "text": [
      "Requirement already satisfied: nbformat in c:\\users\\sangeetha\\anaconda3\\envs\\ndd\\lib\\site-packages (5.10.4)\n",
      "Requirement already satisfied: fastjsonschema>=2.15 in c:\\users\\sangeetha\\anaconda3\\envs\\ndd\\lib\\site-packages (from nbformat) (2.20.0)\n",
      "Requirement already satisfied: jsonschema>=2.6 in c:\\users\\sangeetha\\anaconda3\\envs\\ndd\\lib\\site-packages (from nbformat) (4.23.0)\n",
      "Requirement already satisfied: jupyter-core!=5.0.*,>=4.12 in c:\\users\\sangeetha\\anaconda3\\envs\\ndd\\lib\\site-packages (from nbformat) (5.7.2)\n",
      "Requirement already satisfied: traitlets>=5.1 in c:\\users\\sangeetha\\anaconda3\\envs\\ndd\\lib\\site-packages (from nbformat) (5.14.3)\n",
      "Requirement already satisfied: attrs>=22.2.0 in c:\\users\\sangeetha\\anaconda3\\envs\\ndd\\lib\\site-packages (from jsonschema>=2.6->nbformat) (24.2.0)\n",
      "Requirement already satisfied: jsonschema-specifications>=2023.03.6 in c:\\users\\sangeetha\\anaconda3\\envs\\ndd\\lib\\site-packages (from jsonschema>=2.6->nbformat) (2024.10.1)\n",
      "Requirement already satisfied: referencing>=0.28.4 in c:\\users\\sangeetha\\anaconda3\\envs\\ndd\\lib\\site-packages (from jsonschema>=2.6->nbformat) (0.35.1)\n",
      "Requirement already satisfied: rpds-py>=0.7.1 in c:\\users\\sangeetha\\anaconda3\\envs\\ndd\\lib\\site-packages (from jsonschema>=2.6->nbformat) (0.20.0)\n",
      "Requirement already satisfied: platformdirs>=2.5 in c:\\users\\sangeetha\\anaconda3\\envs\\ndd\\lib\\site-packages (from jupyter-core!=5.0.*,>=4.12->nbformat) (4.3.6)\n",
      "Requirement already satisfied: pywin32>=300 in c:\\users\\sangeetha\\anaconda3\\envs\\ndd\\lib\\site-packages (from jupyter-core!=5.0.*,>=4.12->nbformat) (305.1)\n"
     ]
    }
   ],
   "source": [
    "!pip install --upgrade nbformat"
   ]
  },
  {
   "cell_type": "markdown",
   "id": "baa90234-e934-4682-b1f6-c91a0f03d5b5",
   "metadata": {},
   "source": [
    "**Example** Create a new directory called `data_1`"
   ]
  },
  {
   "cell_type": "code",
   "execution_count": 12,
   "id": "e45e77b4-e456-4da5-ac10-67c8ef0eb14a",
   "metadata": {},
   "outputs": [],
   "source": [
    "!mkdir data_1"
   ]
  },
  {
   "cell_type": "markdown",
   "id": "9552d2db-0a94-4258-8717-0189308940c1",
   "metadata": {},
   "source": [
    "Create a new directory `data_2`"
   ]
  },
  {
   "cell_type": "code",
   "execution_count": 13,
   "id": "e5a17e1d-c0b9-4bd5-ab54-fc641a2bf93c",
   "metadata": {},
   "outputs": [],
   "source": [
    "!mkdir data_2"
   ]
  },
  {
   "cell_type": "markdown",
   "id": "22f660d7-4722-47a8-8f76-90b440a9b36f",
   "metadata": {},
   "source": [
    "Create a new directory `data_1/data_1_sub`\n",
    "\n",
    "(`data_1\\data_1_sub` for windows machines)"
   ]
  },
  {
   "cell_type": "code",
   "execution_count": 17,
   "id": "53947182-996f-49fd-a612-6c05094e27c5",
   "metadata": {},
   "outputs": [],
   "source": [
    "!mkdir data_1\\data_1_sub"
   ]
  },
  {
   "cell_type": "markdown",
   "id": "434457f2-8086-4e68-9743-e91c9cb6889d",
   "metadata": {},
   "source": [
    "We can run Linux command-line commands within a cell using %%bash\n",
    "\n",
    "**Example** Copy `data/hello.py` to `data_1` directory"
   ]
  },
  {
   "cell_type": "code",
   "execution_count": 22,
   "id": "ffc1f664-8d06-4bdb-b377-c59feea5ad65",
   "metadata": {},
   "outputs": [],
   "source": [
    "%%bash\n",
    "cp data/python_config.py data_1/python_config.py"
   ]
  },
  {
   "cell_type": "markdown",
   "id": "e9d54f69-2179-4b9b-b413-efbceb6cdd4c",
   "metadata": {},
   "source": [
    "Copy `data/text_config.txt` to `data_1`"
   ]
  },
  {
   "cell_type": "code",
   "execution_count": 23,
   "id": "4062a07a-cb36-4d0f-b845-a9aecfc9bf12",
   "metadata": {},
   "outputs": [],
   "source": [
    "%%bash\n",
    "cp data/text_config.txt data_1/text_config.txt"
   ]
  },
  {
   "cell_type": "markdown",
   "id": "018864f8-c611-426f-8562-b879f84ea534",
   "metadata": {},
   "source": [
    "Copy data/notebook_config.ipynb to data_1/data_1_sub with a name `nb_config.ipynb`"
   ]
  },
  {
   "cell_type": "code",
   "execution_count": 25,
   "id": "0dfdb6c5-0240-44cc-a9df-bb37a8e9de30",
   "metadata": {},
   "outputs": [],
   "source": [
    "%%bash\n",
    "cp data/notebook_config.ipynb data_1/data_1_sub/nb_config.ipynb"
   ]
  },
  {
   "cell_type": "markdown",
   "id": "9ae3d140-01c8-4469-b939-921a27bc4af4",
   "metadata": {},
   "source": [
    "Let's practice deleting files and folders. **Always be cautious when deleting any file**\n",
    "\n",
    "**Example** Delete data_1/text_config.txt file. (Only file)"
   ]
  },
  {
   "cell_type": "code",
   "execution_count": 27,
   "id": "117e7e0e-ce36-4091-a5d5-3170844a0df8",
   "metadata": {},
   "outputs": [],
   "source": [
    "%%bash\n",
    "rm data_1/text_config.txt"
   ]
  },
  {
   "cell_type": "markdown",
   "id": "be4514a0-9a91-4f5f-8419-5aeb2759dd7e",
   "metadata": {},
   "source": [
    "Delete data_1/python_config.txt (Only file)"
   ]
  },
  {
   "cell_type": "code",
   "execution_count": 28,
   "id": "c9b4fd7c-5350-4cc4-b174-72b5338d3b32",
   "metadata": {},
   "outputs": [],
   "source": [
    "%%bash\n",
    "rm data_1/python_config.py"
   ]
  },
  {
   "cell_type": "markdown",
   "id": "dfc15a16-01c3-44ea-9ea9-edb2c3bb4ac6",
   "metadata": {},
   "source": [
    "Delete data_2 directory"
   ]
  },
  {
   "cell_type": "code",
   "execution_count": 29,
   "id": "d049100a-dbb3-4c66-adab-5a5dd34f6fc3",
   "metadata": {},
   "outputs": [],
   "source": [
    "%%bash\n",
    "rmdir data_2"
   ]
  },
  {
   "cell_type": "markdown",
   "id": "f2c855e7-1a4e-4f73-b8c0-9914c2ebc2f3",
   "metadata": {},
   "source": [
    "Delete data_1 including sub-directories"
   ]
  },
  {
   "cell_type": "code",
   "execution_count": 32,
   "id": "bde801a8-ca80-48b9-a8b1-ce3d95075327",
   "metadata": {},
   "outputs": [],
   "source": [
    "%%bash\n",
    "rm -r data_1"
   ]
  },
  {
   "cell_type": "markdown",
   "id": "7114868d-e153-4383-ad1b-fa424f6e11ef",
   "metadata": {},
   "source": [
    "## Executing Notebooks from Command Line"
   ]
  },
  {
   "cell_type": "markdown",
   "id": "ad659bd7-a11a-442f-bf85-ca1a05742c34",
   "metadata": {},
   "source": [
    "## Turning Scripts into Notebooks"
   ]
  },
  {
   "cell_type": "markdown",
   "id": "0ef38c85-5a7b-45eb-ad0c-4284f6232f46",
   "metadata": {},
   "source": [
    "## Turning Notebooks into Scripts"
   ]
  }
 ],
 "metadata": {
  "kernelspec": {
   "display_name": "Python 3 (ipykernel)",
   "language": "python",
   "name": "python3"
  },
  "language_info": {
   "codemirror_mode": {
    "name": "ipython",
    "version": 3
   },
   "file_extension": ".py",
   "mimetype": "text/x-python",
   "name": "python",
   "nbconvert_exporter": "python",
   "pygments_lexer": "ipython3",
   "version": "3.12.7"
  }
 },
 "nbformat": 4,
 "nbformat_minor": 5
}
