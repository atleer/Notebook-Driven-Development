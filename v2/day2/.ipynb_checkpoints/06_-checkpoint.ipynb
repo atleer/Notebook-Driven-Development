{
 "cells": [
  {
   "cell_type": "code",
   "execution_count": 47,
   "id": "23003dce-46f0-4d5f-a536-5720591bfb53",
   "metadata": {},
   "outputs": [],
   "source": [
    "# !pip install papermill nbconvert jupytext"
   ]
  },
  {
   "cell_type": "code",
   "execution_count": 2,
   "id": "35b2c22e-f2a8-4b7c-a892-f45034b1aba7",
   "metadata": {},
   "outputs": [],
   "source": [
    "import pandas as pd"
   ]
  },
  {
   "cell_type": "markdown",
   "id": "831ef98b-4d85-4b46-ba24-a8db8e64098b",
   "metadata": {},
   "source": [
    "## Running Command-Line Commands in Jupyter\n",
    "\n",
    "A command line is a text-based interface that allows users to interact with their computer’s operating system by typing commands, rather than using graphical interfaces.\n",
    "In this interface, users can navigate directories, manage files, run programs, and perform a wide range of tasks by typing specific commands.\n",
    "Popular command-line environments include Bash (common in Linux and macOS) and the Windows Command Prompt or PowerShell.\n",
    "\n",
    "As researchers we may need to use command-line for file management (move, rename, delete, or organize datasets), automate repeating tasks that may involve external tools, install software etc. \n",
    "\n",
    "Incorporating command-line commands into our analysis notebooks allows us to integrate external tools, automate repeating tasks, and manage data all within the same environment. "
   ]
  },
  {
   "cell_type": "markdown",
   "id": "6a3ebe55-5bf5-4fea-9b8f-391338dd220f",
   "metadata": {},
   "source": [
    "**Example** Install `pandas`"
   ]
  },
  {
   "cell_type": "code",
   "execution_count": 3,
   "id": "fe8139bb-0917-4542-b0b6-37c08bfe96b8",
   "metadata": {},
   "outputs": [
    {
     "name": "stdout",
     "output_type": "stream",
     "text": [
      "Requirement already satisfied: pandas in c:\\users\\sangeetha\\anaconda3\\envs\\ndd\\lib\\site-packages (2.2.3)\n",
      "Requirement already satisfied: numpy>=1.26.0 in c:\\users\\sangeetha\\anaconda3\\envs\\ndd\\lib\\site-packages (from pandas) (2.1.2)\n",
      "Requirement already satisfied: python-dateutil>=2.8.2 in c:\\users\\sangeetha\\anaconda3\\envs\\ndd\\lib\\site-packages (from pandas) (2.9.0)\n",
      "Requirement already satisfied: pytz>=2020.1 in c:\\users\\sangeetha\\anaconda3\\envs\\ndd\\lib\\site-packages (from pandas) (2024.2)\n",
      "Requirement already satisfied: tzdata>=2022.7 in c:\\users\\sangeetha\\anaconda3\\envs\\ndd\\lib\\site-packages (from pandas) (2024.2)\n",
      "Requirement already satisfied: six>=1.5 in c:\\users\\sangeetha\\anaconda3\\envs\\ndd\\lib\\site-packages (from python-dateutil>=2.8.2->pandas) (1.16.0)\n"
     ]
    }
   ],
   "source": [
    "!pip install pandas"
   ]
  },
  {
   "cell_type": "markdown",
   "id": "8d270a0b-71f0-4ed4-89a7-eeef1e65041d",
   "metadata": {},
   "source": [
    "Install `numpy`"
   ]
  },
  {
   "cell_type": "code",
   "execution_count": 4,
   "id": "cc6a4006-4b5d-462a-89fe-1d4965123528",
   "metadata": {},
   "outputs": [
    {
     "name": "stdout",
     "output_type": "stream",
     "text": [
      "Requirement already satisfied: numpy in c:\\users\\sangeetha\\anaconda3\\envs\\ndd\\lib\\site-packages (2.1.2)\n"
     ]
    }
   ],
   "source": [
    "!pip install numpy"
   ]
  },
  {
   "cell_type": "markdown",
   "id": "0b62ec8c-2b2d-469b-8539-e6b83b7c4136",
   "metadata": {},
   "source": [
    "Install seaborn"
   ]
  },
  {
   "cell_type": "code",
   "execution_count": 5,
   "id": "10e07a61-740f-484c-b8fe-7ac2dc5daec0",
   "metadata": {},
   "outputs": [
    {
     "name": "stdout",
     "output_type": "stream",
     "text": [
      "Requirement already satisfied: seaborn in c:\\users\\sangeetha\\anaconda3\\envs\\ndd\\lib\\site-packages (0.13.2)\n",
      "Requirement already satisfied: numpy!=1.24.0,>=1.20 in c:\\users\\sangeetha\\anaconda3\\envs\\ndd\\lib\\site-packages (from seaborn) (2.1.2)\n",
      "Requirement already satisfied: pandas>=1.2 in c:\\users\\sangeetha\\anaconda3\\envs\\ndd\\lib\\site-packages (from seaborn) (2.2.3)\n",
      "Requirement already satisfied: matplotlib!=3.6.1,>=3.4 in c:\\users\\sangeetha\\anaconda3\\envs\\ndd\\lib\\site-packages (from seaborn) (3.9.2)\n",
      "Requirement already satisfied: contourpy>=1.0.1 in c:\\users\\sangeetha\\anaconda3\\envs\\ndd\\lib\\site-packages (from matplotlib!=3.6.1,>=3.4->seaborn) (1.3.0)\n",
      "Requirement already satisfied: cycler>=0.10 in c:\\users\\sangeetha\\anaconda3\\envs\\ndd\\lib\\site-packages (from matplotlib!=3.6.1,>=3.4->seaborn) (0.12.1)\n",
      "Requirement already satisfied: fonttools>=4.22.0 in c:\\users\\sangeetha\\anaconda3\\envs\\ndd\\lib\\site-packages (from matplotlib!=3.6.1,>=3.4->seaborn) (4.54.1)\n",
      "Requirement already satisfied: kiwisolver>=1.3.1 in c:\\users\\sangeetha\\anaconda3\\envs\\ndd\\lib\\site-packages (from matplotlib!=3.6.1,>=3.4->seaborn) (1.4.7)\n",
      "Requirement already satisfied: packaging>=20.0 in c:\\users\\sangeetha\\anaconda3\\envs\\ndd\\lib\\site-packages (from matplotlib!=3.6.1,>=3.4->seaborn) (24.1)\n",
      "Requirement already satisfied: pillow>=8 in c:\\users\\sangeetha\\anaconda3\\envs\\ndd\\lib\\site-packages (from matplotlib!=3.6.1,>=3.4->seaborn) (10.4.0)\n",
      "Requirement already satisfied: pyparsing>=2.3.1 in c:\\users\\sangeetha\\anaconda3\\envs\\ndd\\lib\\site-packages (from matplotlib!=3.6.1,>=3.4->seaborn) (3.1.4)\n",
      "Requirement already satisfied: python-dateutil>=2.7 in c:\\users\\sangeetha\\anaconda3\\envs\\ndd\\lib\\site-packages (from matplotlib!=3.6.1,>=3.4->seaborn) (2.9.0)\n",
      "Requirement already satisfied: pytz>=2020.1 in c:\\users\\sangeetha\\anaconda3\\envs\\ndd\\lib\\site-packages (from pandas>=1.2->seaborn) (2024.2)\n",
      "Requirement already satisfied: tzdata>=2022.7 in c:\\users\\sangeetha\\anaconda3\\envs\\ndd\\lib\\site-packages (from pandas>=1.2->seaborn) (2024.2)\n",
      "Requirement already satisfied: six>=1.5 in c:\\users\\sangeetha\\anaconda3\\envs\\ndd\\lib\\site-packages (from python-dateutil>=2.7->matplotlib!=3.6.1,>=3.4->seaborn) (1.16.0)\n"
     ]
    }
   ],
   "source": [
    "!pip install seaborn"
   ]
  },
  {
   "cell_type": "markdown",
   "id": "29549840-b4b2-45ce-b710-65eaecac5e9a",
   "metadata": {},
   "source": [
    "You can use any option that comes along with the command-line command"
   ]
  },
  {
   "cell_type": "markdown",
   "id": "5fd00c6c-eb6d-4515-acbf-f5f73aa12a3a",
   "metadata": {},
   "source": [
    "**Example** Upgrade matplotlib"
   ]
  },
  {
   "cell_type": "code",
   "execution_count": 6,
   "id": "95ab3637-fbc8-4c78-b872-76f666d75c7a",
   "metadata": {},
   "outputs": [
    {
     "name": "stdout",
     "output_type": "stream",
     "text": [
      "Requirement already satisfied: matplotlib in c:\\users\\sangeetha\\anaconda3\\envs\\ndd\\lib\\site-packages (3.9.2)\n",
      "Requirement already satisfied: contourpy>=1.0.1 in c:\\users\\sangeetha\\anaconda3\\envs\\ndd\\lib\\site-packages (from matplotlib) (1.3.0)\n",
      "Requirement already satisfied: cycler>=0.10 in c:\\users\\sangeetha\\anaconda3\\envs\\ndd\\lib\\site-packages (from matplotlib) (0.12.1)\n",
      "Requirement already satisfied: fonttools>=4.22.0 in c:\\users\\sangeetha\\anaconda3\\envs\\ndd\\lib\\site-packages (from matplotlib) (4.54.1)\n",
      "Requirement already satisfied: kiwisolver>=1.3.1 in c:\\users\\sangeetha\\anaconda3\\envs\\ndd\\lib\\site-packages (from matplotlib) (1.4.7)\n",
      "Requirement already satisfied: numpy>=1.23 in c:\\users\\sangeetha\\anaconda3\\envs\\ndd\\lib\\site-packages (from matplotlib) (2.1.2)\n",
      "Requirement already satisfied: packaging>=20.0 in c:\\users\\sangeetha\\anaconda3\\envs\\ndd\\lib\\site-packages (from matplotlib) (24.1)\n",
      "Requirement already satisfied: pillow>=8 in c:\\users\\sangeetha\\anaconda3\\envs\\ndd\\lib\\site-packages (from matplotlib) (10.4.0)\n",
      "Requirement already satisfied: pyparsing>=2.3.1 in c:\\users\\sangeetha\\anaconda3\\envs\\ndd\\lib\\site-packages (from matplotlib) (3.1.4)\n",
      "Requirement already satisfied: python-dateutil>=2.7 in c:\\users\\sangeetha\\anaconda3\\envs\\ndd\\lib\\site-packages (from matplotlib) (2.9.0)\n",
      "Requirement already satisfied: six>=1.5 in c:\\users\\sangeetha\\anaconda3\\envs\\ndd\\lib\\site-packages (from python-dateutil>=2.7->matplotlib) (1.16.0)\n"
     ]
    }
   ],
   "source": [
    "!pip install --upgrade matplotlib"
   ]
  },
  {
   "cell_type": "markdown",
   "id": "2b21561b-dd70-4f8d-ab62-d2e0c795248d",
   "metadata": {},
   "source": [
    "Upgrade seaborn"
   ]
  },
  {
   "cell_type": "code",
   "execution_count": 7,
   "id": "31c02ff6-a5f9-472b-81f9-f0cbdd899bff",
   "metadata": {},
   "outputs": [
    {
     "name": "stdout",
     "output_type": "stream",
     "text": [
      "Requirement already satisfied: seaborn in c:\\users\\sangeetha\\anaconda3\\envs\\ndd\\lib\\site-packages (0.13.2)\n",
      "Requirement already satisfied: numpy!=1.24.0,>=1.20 in c:\\users\\sangeetha\\anaconda3\\envs\\ndd\\lib\\site-packages (from seaborn) (2.1.2)\n",
      "Requirement already satisfied: pandas>=1.2 in c:\\users\\sangeetha\\anaconda3\\envs\\ndd\\lib\\site-packages (from seaborn) (2.2.3)\n",
      "Requirement already satisfied: matplotlib!=3.6.1,>=3.4 in c:\\users\\sangeetha\\anaconda3\\envs\\ndd\\lib\\site-packages (from seaborn) (3.9.2)\n",
      "Requirement already satisfied: contourpy>=1.0.1 in c:\\users\\sangeetha\\anaconda3\\envs\\ndd\\lib\\site-packages (from matplotlib!=3.6.1,>=3.4->seaborn) (1.3.0)\n",
      "Requirement already satisfied: cycler>=0.10 in c:\\users\\sangeetha\\anaconda3\\envs\\ndd\\lib\\site-packages (from matplotlib!=3.6.1,>=3.4->seaborn) (0.12.1)\n",
      "Requirement already satisfied: fonttools>=4.22.0 in c:\\users\\sangeetha\\anaconda3\\envs\\ndd\\lib\\site-packages (from matplotlib!=3.6.1,>=3.4->seaborn) (4.54.1)\n",
      "Requirement already satisfied: kiwisolver>=1.3.1 in c:\\users\\sangeetha\\anaconda3\\envs\\ndd\\lib\\site-packages (from matplotlib!=3.6.1,>=3.4->seaborn) (1.4.7)\n",
      "Requirement already satisfied: packaging>=20.0 in c:\\users\\sangeetha\\anaconda3\\envs\\ndd\\lib\\site-packages (from matplotlib!=3.6.1,>=3.4->seaborn) (24.1)\n",
      "Requirement already satisfied: pillow>=8 in c:\\users\\sangeetha\\anaconda3\\envs\\ndd\\lib\\site-packages (from matplotlib!=3.6.1,>=3.4->seaborn) (10.4.0)\n",
      "Requirement already satisfied: pyparsing>=2.3.1 in c:\\users\\sangeetha\\anaconda3\\envs\\ndd\\lib\\site-packages (from matplotlib!=3.6.1,>=3.4->seaborn) (3.1.4)\n",
      "Requirement already satisfied: python-dateutil>=2.7 in c:\\users\\sangeetha\\anaconda3\\envs\\ndd\\lib\\site-packages (from matplotlib!=3.6.1,>=3.4->seaborn) (2.9.0)\n",
      "Requirement already satisfied: pytz>=2020.1 in c:\\users\\sangeetha\\anaconda3\\envs\\ndd\\lib\\site-packages (from pandas>=1.2->seaborn) (2024.2)\n",
      "Requirement already satisfied: tzdata>=2022.7 in c:\\users\\sangeetha\\anaconda3\\envs\\ndd\\lib\\site-packages (from pandas>=1.2->seaborn) (2024.2)\n",
      "Requirement already satisfied: six>=1.5 in c:\\users\\sangeetha\\anaconda3\\envs\\ndd\\lib\\site-packages (from python-dateutil>=2.7->matplotlib!=3.6.1,>=3.4->seaborn) (1.16.0)\n"
     ]
    }
   ],
   "source": [
    "!pip install seaborn"
   ]
  },
  {
   "cell_type": "markdown",
   "id": "ffafb95c-cbd8-4915-9738-3901750e85ff",
   "metadata": {},
   "source": [
    "Upgrade nbformat"
   ]
  },
  {
   "cell_type": "code",
   "execution_count": 8,
   "id": "cfd050fb-3aac-49b0-8d72-725f83ea8a45",
   "metadata": {},
   "outputs": [
    {
     "name": "stdout",
     "output_type": "stream",
     "text": [
      "Requirement already satisfied: nbformat in c:\\users\\sangeetha\\anaconda3\\envs\\ndd\\lib\\site-packages (5.10.4)\n",
      "Requirement already satisfied: fastjsonschema>=2.15 in c:\\users\\sangeetha\\anaconda3\\envs\\ndd\\lib\\site-packages (from nbformat) (2.20.0)\n",
      "Requirement already satisfied: jsonschema>=2.6 in c:\\users\\sangeetha\\anaconda3\\envs\\ndd\\lib\\site-packages (from nbformat) (4.23.0)\n",
      "Requirement already satisfied: jupyter-core!=5.0.*,>=4.12 in c:\\users\\sangeetha\\anaconda3\\envs\\ndd\\lib\\site-packages (from nbformat) (5.7.2)\n",
      "Requirement already satisfied: traitlets>=5.1 in c:\\users\\sangeetha\\anaconda3\\envs\\ndd\\lib\\site-packages (from nbformat) (5.14.3)\n",
      "Requirement already satisfied: attrs>=22.2.0 in c:\\users\\sangeetha\\anaconda3\\envs\\ndd\\lib\\site-packages (from jsonschema>=2.6->nbformat) (24.2.0)\n",
      "Requirement already satisfied: jsonschema-specifications>=2023.03.6 in c:\\users\\sangeetha\\anaconda3\\envs\\ndd\\lib\\site-packages (from jsonschema>=2.6->nbformat) (2024.10.1)\n",
      "Requirement already satisfied: referencing>=0.28.4 in c:\\users\\sangeetha\\anaconda3\\envs\\ndd\\lib\\site-packages (from jsonschema>=2.6->nbformat) (0.35.1)\n",
      "Requirement already satisfied: rpds-py>=0.7.1 in c:\\users\\sangeetha\\anaconda3\\envs\\ndd\\lib\\site-packages (from jsonschema>=2.6->nbformat) (0.20.0)\n",
      "Requirement already satisfied: platformdirs>=2.5 in c:\\users\\sangeetha\\anaconda3\\envs\\ndd\\lib\\site-packages (from jupyter-core!=5.0.*,>=4.12->nbformat) (4.3.6)\n",
      "Requirement already satisfied: pywin32>=300 in c:\\users\\sangeetha\\anaconda3\\envs\\ndd\\lib\\site-packages (from jupyter-core!=5.0.*,>=4.12->nbformat) (305.1)\n"
     ]
    }
   ],
   "source": [
    "!pip install --upgrade nbformat"
   ]
  },
  {
   "cell_type": "markdown",
   "id": "baa90234-e934-4682-b1f6-c91a0f03d5b5",
   "metadata": {},
   "source": [
    "**Example** Create a new directory called `data_1`"
   ]
  },
  {
   "cell_type": "code",
   "execution_count": 9,
   "id": "e45e77b4-e456-4da5-ac10-67c8ef0eb14a",
   "metadata": {},
   "outputs": [],
   "source": [
    "!mkdir data_1"
   ]
  },
  {
   "cell_type": "markdown",
   "id": "9552d2db-0a94-4258-8717-0189308940c1",
   "metadata": {},
   "source": [
    "Create a new directory `data_2`"
   ]
  },
  {
   "cell_type": "code",
   "execution_count": 10,
   "id": "e5a17e1d-c0b9-4bd5-ab54-fc641a2bf93c",
   "metadata": {},
   "outputs": [],
   "source": [
    "!mkdir data_2"
   ]
  },
  {
   "cell_type": "markdown",
   "id": "22f660d7-4722-47a8-8f76-90b440a9b36f",
   "metadata": {},
   "source": [
    "Create a new directory `data_1/data_1_sub`\n",
    "\n",
    "(`data_1\\data_1_sub` for windows machines)"
   ]
  },
  {
   "cell_type": "code",
   "execution_count": 11,
   "id": "53947182-996f-49fd-a612-6c05094e27c5",
   "metadata": {},
   "outputs": [],
   "source": [
    "!mkdir data_1\\data_1_sub"
   ]
  },
  {
   "cell_type": "markdown",
   "id": "434457f2-8086-4e68-9743-e91c9cb6889d",
   "metadata": {},
   "source": [
    "We can run Linux command-line commands within a cell using %%bash\n",
    "\n",
    "**Example** Copy `data/hello.py` to `data_1` directory"
   ]
  },
  {
   "cell_type": "code",
   "execution_count": 12,
   "id": "ffc1f664-8d06-4bdb-b377-c59feea5ad65",
   "metadata": {},
   "outputs": [],
   "source": [
    "%%bash\n",
    "cp data/python_config.py data_1/python_config.py"
   ]
  },
  {
   "cell_type": "markdown",
   "id": "e9d54f69-2179-4b9b-b413-efbceb6cdd4c",
   "metadata": {},
   "source": [
    "Copy `data/text_config.txt` to `data_1`"
   ]
  },
  {
   "cell_type": "code",
   "execution_count": 13,
   "id": "4062a07a-cb36-4d0f-b845-a9aecfc9bf12",
   "metadata": {},
   "outputs": [],
   "source": [
    "%%bash\n",
    "cp data/text_config.txt data_1/text_config.txt"
   ]
  },
  {
   "cell_type": "markdown",
   "id": "018864f8-c611-426f-8562-b879f84ea534",
   "metadata": {},
   "source": [
    "Copy data/notebook_config.ipynb to data_1/data_1_sub with a name `nb_config.ipynb`"
   ]
  },
  {
   "cell_type": "code",
   "execution_count": 14,
   "id": "0dfdb6c5-0240-44cc-a9df-bb37a8e9de30",
   "metadata": {},
   "outputs": [],
   "source": [
    "%%bash\n",
    "cp data/notebook_config.ipynb data_1/data_1_sub/nb_config.ipynb"
   ]
  },
  {
   "cell_type": "markdown",
   "id": "9ae3d140-01c8-4469-b939-921a27bc4af4",
   "metadata": {},
   "source": [
    "Let's practice deleting files and folders. **Always be cautious when deleting any file**\n",
    "\n",
    "**Example** Delete data_1/text_config.txt file. (Only file)"
   ]
  },
  {
   "cell_type": "code",
   "execution_count": 15,
   "id": "117e7e0e-ce36-4091-a5d5-3170844a0df8",
   "metadata": {},
   "outputs": [],
   "source": [
    "%%bash\n",
    "rm data_1/text_config.txt"
   ]
  },
  {
   "cell_type": "markdown",
   "id": "be4514a0-9a91-4f5f-8419-5aeb2759dd7e",
   "metadata": {},
   "source": [
    "Delete data_1/python_config.txt (Only file)"
   ]
  },
  {
   "cell_type": "code",
   "execution_count": 16,
   "id": "c9b4fd7c-5350-4cc4-b174-72b5338d3b32",
   "metadata": {},
   "outputs": [],
   "source": [
    "%%bash\n",
    "rm data_1/python_config.py"
   ]
  },
  {
   "cell_type": "markdown",
   "id": "dfc15a16-01c3-44ea-9ea9-edb2c3bb4ac6",
   "metadata": {},
   "source": [
    "Delete data_2 directory"
   ]
  },
  {
   "cell_type": "code",
   "execution_count": 17,
   "id": "d049100a-dbb3-4c66-adab-5a5dd34f6fc3",
   "metadata": {},
   "outputs": [],
   "source": [
    "%%bash\n",
    "rmdir data_2"
   ]
  },
  {
   "cell_type": "markdown",
   "id": "f2c855e7-1a4e-4f73-b8c0-9914c2ebc2f3",
   "metadata": {},
   "source": [
    "Delete data_1 including sub-directories"
   ]
  },
  {
   "cell_type": "code",
   "execution_count": 18,
   "id": "bde801a8-ca80-48b9-a8b1-ce3d95075327",
   "metadata": {},
   "outputs": [],
   "source": [
    "%%bash\n",
    "rm -r data_1"
   ]
  },
  {
   "cell_type": "markdown",
   "id": "7114868d-e153-4383-ad1b-fa424f6e11ef",
   "metadata": {},
   "source": [
    "## Executing Notebooks from Command Line\n",
    "\n",
    "Running a notebook from command-line can be useful to automate execution of Jupyter notebook as part of a workflow or pipeline.\n",
    "It can help us integrate it with task scheduling tools to perform routine tasks without manually opening and running the notebook.\n",
    "Another use would be when dealing with multiple notebooks, running from command-line allows for batch processing enabling us to execute several notebooks sequentially without manually interacting with each one.\n",
    "\n",
    "Here we will look into a tool called `papermill` that can execute notebooks from command-line. We will also see how to execute notebooks sequentially and in parallel. For this, we use three notebooks\n",
    "\n",
    "1. `analysis_workflow/1_data_access.ipynb`: Prepares the dataset steinmetz_active.csv\n",
    "2. `analysis_workflow/2_contrast_level.ipynb`: Uses steinmetz_active.csv for contrast level analysis\n",
    "3. `analysis_workflow/3_mouse_analysis.ipynb`: Uses steinmetz_active.csv for mouse analysis\n",
    "\n",
    "\n",
    "Notebooks 2 and 3 are note dependent on each other.\n",
    "Both use the output from notebook 1 for their analysis. \n",
    "\n",
    "Feel free to go through the content. \n",
    "**You do not have to know the code in each of the notebooks to follow the exercises.**"
   ]
  },
  {
   "cell_type": "markdown",
   "id": "f003b25b-5f75-440b-83af-e963736b4e3d",
   "metadata": {},
   "source": [
    "**Example** Execute `analysis_workflow/1_data_access.ipynb` as `output.ipynb` and examine `data_analysis` directory."
   ]
  },
  {
   "cell_type": "code",
   "execution_count": 30,
   "id": "cfb077d1-33a3-4ec0-86ff-ae59422e4a92",
   "metadata": {},
   "outputs": [
    {
     "name": "stderr",
     "output_type": "stream",
     "text": [
      "Input Notebook:  analysis_workflow/1_data_access.ipynb\n",
      "Output Notebook: data_analysis/output.ipynb\n",
      "\n",
      "Executing:   0%|          | 0/12 [00:00<?, ?cell/s]Executing notebook with kernel: python3\n",
      "\n",
      "Executing:   8%|8         | 1/12 [00:01<00:17,  1.62s/cell]\n",
      "Executing:  17%|#6        | 2/12 [00:01<00:08,  1.16cell/s]\n",
      "Executing:  33%|###3      | 4/12 [00:03<00:05,  1.38cell/s]\n",
      "Executing: 100%|##########| 12/12 [00:03<00:00,  3.37cell/s]\n"
     ]
    }
   ],
   "source": [
    "!papermill analysis_workflow/1_data_access.ipynb data_analysis/output.ipynb"
   ]
  },
  {
   "cell_type": "markdown",
   "id": "a3942c02-b343-49f5-aff7-6981a93a1a56",
   "metadata": {},
   "source": [
    "It has created the `steinmetz_active.csv` file. `output.ipynb` file is the same\n",
    "\n",
    "Execute `analysis_workflow/2_contrast_level.ipynb` as `output.ipynb` and examine `data_analysis` directory."
   ]
  },
  {
   "cell_type": "code",
   "execution_count": 25,
   "id": "04bb8111-4f4b-4b46-b9b8-0cbee1dda4cc",
   "metadata": {},
   "outputs": [
    {
     "name": "stderr",
     "output_type": "stream",
     "text": [
      "Input Notebook:  analysis_workflow/2_contrast_level.ipynb\n",
      "Output Notebook: data_analysis/output.ipynb\n",
      "\n",
      "Executing:   0%|          | 0/18 [00:00<?, ?cell/s]Executing notebook with kernel: python3\n",
      "\n",
      "Executing:   6%|5         | 1/18 [00:01<00:28,  1.69s/cell]\n",
      "Executing:  11%|#1        | 2/18 [00:03<00:31,  1.96s/cell]\n",
      "Executing:  78%|#######7  | 14/18 [00:03<00:00,  5.43cell/s]\n",
      "Executing: 100%|##########| 18/18 [00:04<00:00,  4.03cell/s]\n"
     ]
    }
   ],
   "source": [
    "!papermill analysis_workflow/2_contrast_level.ipynb data_analysis/output.ipynb"
   ]
  },
  {
   "cell_type": "markdown",
   "id": "92a37c9c-21f7-4417-ac13-50f9b85ad326",
   "metadata": {},
   "source": [
    "Execute `analysis_workflow/3_mouse_analysis.ipynb` as `output.ipynb` and examine `data_analysis` directory."
   ]
  },
  {
   "cell_type": "code",
   "execution_count": 26,
   "id": "15c1db3a-84e9-4a85-943b-578d7b670e44",
   "metadata": {},
   "outputs": [
    {
     "name": "stderr",
     "output_type": "stream",
     "text": [
      "Input Notebook:  analysis_workflow/3_mouse_analysis.ipynb\n",
      "Output Notebook: data_analysis/output.ipynb\n",
      "\n",
      "Executing:   0%|          | 0/12 [00:00<?, ?cell/s]Executing notebook with kernel: python3\n",
      "\n",
      "Executing:   8%|8         | 1/12 [00:01<00:14,  1.31s/cell]\n",
      "Executing:  17%|#6        | 2/12 [00:03<00:17,  1.79s/cell]\n",
      "Executing: 100%|##########| 12/12 [00:03<00:00,  4.93cell/s]\n",
      "Executing: 100%|##########| 12/12 [00:04<00:00,  2.98cell/s]\n"
     ]
    }
   ],
   "source": [
    "!papermill analysis_workflow/3_mouse_analysis.ipynb data_analysis/output.ipynb"
   ]
  },
  {
   "cell_type": "markdown",
   "id": "9b27246a-be16-4f20-a3a9-cbadf8591f3e",
   "metadata": {},
   "source": [
    "Delete `data_analysis/steinmetz_active.csv` file.\n",
    "\n",
    "Execute `analysis_workflow/3_mouse_analysis.ipynb` as `output.ipynb` and examine `data_analysis` directory. What do you see?"
   ]
  },
  {
   "cell_type": "code",
   "execution_count": 29,
   "id": "78f4f5f5-6cbb-4199-af49-b054e4f4ab91",
   "metadata": {},
   "outputs": [],
   "source": [
    "# !papermill analysis_workflow/3_mouse_analysis.ipynb data_analysis/output.ipynb"
   ]
  },
  {
   "cell_type": "markdown",
   "id": "6dd732e8-4a2b-4a9f-8ae4-0a40484ccd33",
   "metadata": {},
   "source": [
    "It gives an error in the output of the cell. In `data_analysis/output.ipynb`, you will see a huge error in red on top of the notebook and another red text before the cell where it encountered an error."
   ]
  },
  {
   "cell_type": "markdown",
   "id": "1e9b9f63-df26-4770-bbe3-2094a54b6de7",
   "metadata": {},
   "source": [
    "If you are not interested in creating an output file\n",
    "\n",
    "**Example** Execute `analysis_workflow/1_data_access.ipynb` inplace"
   ]
  },
  {
   "cell_type": "code",
   "execution_count": 33,
   "id": "66ef0c9a-eecd-40b8-a2eb-ebbe0092d9b1",
   "metadata": {},
   "outputs": [
    {
     "name": "stderr",
     "output_type": "stream",
     "text": [
      "Input Notebook:  analysis_workflow/1_data_access.ipynb\n",
      "Output Notebook: analysis_workflow/1_data_access.ipynb\n",
      "\n",
      "Executing:   0%|          | 0/12 [00:00<?, ?cell/s]Executing notebook with kernel: python3\n",
      "\n",
      "Executing:   8%|8         | 1/12 [00:01<00:14,  1.35s/cell]\n",
      "Executing:  17%|#6        | 2/12 [00:01<00:07,  1.36cell/s]\n",
      "Executing:  33%|###3      | 4/12 [00:02<00:05,  1.47cell/s]\n",
      "Executing: 100%|##########| 12/12 [00:03<00:00,  3.66cell/s]\n"
     ]
    }
   ],
   "source": [
    "!papermill analysis_workflow/1_data_access.ipynb analysis_workflow/1_data_access.ipynb"
   ]
  },
  {
   "cell_type": "markdown",
   "id": "9d3b2e8a-fae4-46eb-b5e5-f18765279da2",
   "metadata": {},
   "source": [
    "Execute `analysis_workflow/2_contrast_level.ipynb` in place"
   ]
  },
  {
   "cell_type": "code",
   "execution_count": 34,
   "id": "18e47ab3-cab0-42d0-bf2f-af58bf838364",
   "metadata": {},
   "outputs": [
    {
     "name": "stderr",
     "output_type": "stream",
     "text": [
      "Input Notebook:  analysis_workflow/2_contrast_level.ipynb\n",
      "Output Notebook: analysis_workflow/2_contrast_level.ipynb\n",
      "\n",
      "Executing:   0%|          | 0/18 [00:00<?, ?cell/s]Executing notebook with kernel: python3\n",
      "\n",
      "Executing:   6%|5         | 1/18 [00:01<00:27,  1.63s/cell]\n",
      "Executing:  11%|#1        | 2/18 [00:03<00:30,  1.92s/cell]\n",
      "Executing:  78%|#######7  | 14/18 [00:03<00:00,  5.52cell/s]\n",
      "Executing: 100%|##########| 18/18 [00:04<00:00,  4.08cell/s]\n"
     ]
    }
   ],
   "source": [
    "!papermill analysis_workflow/2_contrast_level.ipynb analysis_workflow/2_contrast_level.ipynb"
   ]
  },
  {
   "cell_type": "markdown",
   "id": "b8fafb98-20e3-40b9-86dc-7be36ab21091",
   "metadata": {},
   "source": [
    "Execute `analysis_workflow/3_mouse_analysis.ipynb` as `analysis_workflow/3_mouse_analysis.ipynb`"
   ]
  },
  {
   "cell_type": "code",
   "execution_count": 35,
   "id": "c1b0842c-8349-4121-9b55-d295311b5ea0",
   "metadata": {},
   "outputs": [
    {
     "name": "stderr",
     "output_type": "stream",
     "text": [
      "Input Notebook:  analysis_workflow/3_mouse_analysis.ipynb\n",
      "Output Notebook: analysis_workflow/3_mouse_analysis.ipynb\n",
      "\n",
      "Executing:   0%|          | 0/12 [00:00<?, ?cell/s]Executing notebook with kernel: python3\n",
      "\n",
      "Executing:   8%|8         | 1/12 [00:01<00:18,  1.72s/cell]\n",
      "Executing:  17%|#6        | 2/12 [00:03<00:19,  1.99s/cell]\n",
      "Executing: 100%|##########| 12/12 [00:04<00:00,  4.46cell/s]\n",
      "Executing: 100%|##########| 12/12 [00:04<00:00,  2.67cell/s]\n"
     ]
    }
   ],
   "source": [
    "!papermill analysis_workflow/3_mouse_analysis.ipynb analysis_workflow/3_mouse_analysis.ipynb"
   ]
  },
  {
   "cell_type": "markdown",
   "id": "ab6caf47-0d57-48e8-a32e-b6a957d10e31",
   "metadata": {},
   "source": [
    "**Example** Execute `analysis_workflow/1_data_access.ipynb` and `analysis_workflow/2_contrast_level.ipynb` sequentially"
   ]
  },
  {
   "cell_type": "code",
   "execution_count": 36,
   "id": "19e516ce-0b05-4345-9880-eb418ec1c847",
   "metadata": {},
   "outputs": [
    {
     "name": "stderr",
     "output_type": "stream",
     "text": [
      "Input Notebook:  analysis_workflow/1_data_access.ipynb\n",
      "Output Notebook: data_analysis/output_1.ipynb\n",
      "\n",
      "Executing:   0%|          | 0/12 [00:00<?, ?cell/s]Executing notebook with kernel: python3\n",
      "\n",
      "Executing:   8%|8         | 1/12 [00:01<00:19,  1.77s/cell]\n",
      "Executing:  17%|#6        | 2/12 [00:02<00:09,  1.11cell/s]\n",
      "Executing:  33%|###3      | 4/12 [00:03<00:05,  1.43cell/s]\n",
      "Executing: 100%|##########| 12/12 [00:06<00:00,  1.86cell/s]\n",
      "Input Notebook:  analysis_workflow/2_contrast_level.ipynb\n",
      "Output Notebook: data_analysis/output_2.ipynb\n",
      "\n",
      "Executing:   0%|          | 0/18 [00:00<?, ?cell/s]Executing notebook with kernel: python3\n",
      "\n",
      "Executing:   6%|5         | 1/18 [00:01<00:27,  1.64s/cell]\n",
      "Executing:  11%|#1        | 2/18 [00:03<00:30,  1.92s/cell]\n",
      "Executing:  78%|#######7  | 14/18 [00:03<00:00,  5.53cell/s]\n",
      "Executing: 100%|##########| 18/18 [00:04<00:00,  4.08cell/s]\n"
     ]
    }
   ],
   "source": [
    "!papermill analysis_workflow/1_data_access.ipynb data_analysis/output_1.ipynb\n",
    "!papermill analysis_workflow/2_contrast_level.ipynb data_analysis/output_2.ipynb"
   ]
  },
  {
   "cell_type": "markdown",
   "id": "a7226fdf-c023-4a78-82c5-008ea7a7b0d7",
   "metadata": {},
   "source": [
    "Execute `analysis_workflow/1_data_access.ipynb` and `analysis_workflow/3_mouse_analysis.ipynb` sequentially"
   ]
  },
  {
   "cell_type": "code",
   "execution_count": 37,
   "id": "6e22d220-4486-4e44-93c5-8bbf764e0a21",
   "metadata": {},
   "outputs": [
    {
     "name": "stderr",
     "output_type": "stream",
     "text": [
      "Input Notebook:  analysis_workflow/1_data_access.ipynb\n",
      "Output Notebook: data_analysis/output_1.ipynb\n",
      "\n",
      "Executing:   0%|          | 0/12 [00:00<?, ?cell/s]Executing notebook with kernel: python3\n",
      "\n",
      "Executing:   8%|8         | 1/12 [00:01<00:17,  1.61s/cell]\n",
      "Executing:  17%|#6        | 2/12 [00:01<00:08,  1.18cell/s]\n",
      "Executing:  33%|###3      | 4/12 [00:03<00:05,  1.38cell/s]\n",
      "Executing: 100%|##########| 12/12 [00:03<00:00,  3.37cell/s]\n",
      "Input Notebook:  analysis_workflow/3_mouse_analysis.ipynb\n",
      "Output Notebook: data_analysis/output_3.ipynb\n",
      "\n",
      "Executing:   0%|          | 0/12 [00:00<?, ?cell/s]Executing notebook with kernel: python3\n",
      "\n",
      "Executing:   8%|8         | 1/12 [00:01<00:17,  1.63s/cell]\n",
      "Executing:  17%|#6        | 2/12 [00:03<00:19,  1.93s/cell]\n",
      "Executing: 100%|##########| 12/12 [00:03<00:00,  4.57cell/s]\n",
      "Executing: 100%|##########| 12/12 [00:04<00:00,  2.75cell/s]\n"
     ]
    }
   ],
   "source": [
    "!papermill analysis_workflow/1_data_access.ipynb data_analysis/output_1.ipynb\n",
    "!papermill analysis_workflow/3_mouse_analysis.ipynb data_analysis/output_3.ipynb"
   ]
  },
  {
   "cell_type": "markdown",
   "id": "edb30b99-2616-43b8-a667-6a7d71ae3e73",
   "metadata": {},
   "source": [
    "Execute all the three notebooks one after the other"
   ]
  },
  {
   "cell_type": "code",
   "execution_count": 38,
   "id": "8aaf43b6-a064-491b-b9b7-0dde1f2e2f24",
   "metadata": {},
   "outputs": [
    {
     "name": "stderr",
     "output_type": "stream",
     "text": [
      "Input Notebook:  analysis_workflow/1_data_access.ipynb\n",
      "Output Notebook: data_analysis/output_1.ipynb\n",
      "\n",
      "Executing:   0%|          | 0/12 [00:00<?, ?cell/s]Executing notebook with kernel: python3\n",
      "\n",
      "Executing:   8%|8         | 1/12 [00:01<00:17,  1.62s/cell]\n",
      "Executing:  17%|#6        | 2/12 [00:01<00:08,  1.19cell/s]\n",
      "Executing:  33%|###3      | 4/12 [00:03<00:05,  1.39cell/s]\n",
      "Executing: 100%|##########| 12/12 [00:03<00:00,  3.39cell/s]\n",
      "Input Notebook:  analysis_workflow/2_contrast_level.ipynb\n",
      "Output Notebook: data_analysis/output_2.ipynb\n",
      "\n",
      "Executing:   0%|          | 0/18 [00:00<?, ?cell/s]Executing notebook with kernel: python3\n",
      "\n",
      "Executing:   6%|5         | 1/18 [00:01<00:27,  1.62s/cell]\n",
      "Executing:  11%|#1        | 2/18 [00:03<00:31,  1.98s/cell]\n",
      "Executing:  67%|######6   | 12/18 [00:03<00:01,  4.54cell/s]\n",
      "Executing: 100%|##########| 18/18 [00:04<00:00,  7.42cell/s]\n",
      "Executing: 100%|##########| 18/18 [00:04<00:00,  3.88cell/s]\n",
      "Input Notebook:  analysis_workflow/3_mouse_analysis.ipynb\n",
      "Output Notebook: data_analysis/output_3.ipynb\n",
      "\n",
      "Executing:   0%|          | 0/12 [00:00<?, ?cell/s]Executing notebook with kernel: python3\n",
      "\n",
      "Executing:   8%|8         | 1/12 [00:01<00:18,  1.72s/cell]\n",
      "Executing:  17%|#6        | 2/12 [00:03<00:20,  2.01s/cell]\n",
      "Executing: 100%|##########| 12/12 [00:04<00:00,  4.40cell/s]\n",
      "Executing: 100%|##########| 12/12 [00:04<00:00,  2.63cell/s]\n"
     ]
    }
   ],
   "source": [
    "!papermill analysis_workflow/1_data_access.ipynb data_analysis/output_1.ipynb\n",
    "!papermill analysis_workflow/2_contrast_level.ipynb data_analysis/output_2.ipynb\n",
    "!papermill analysis_workflow/3_mouse_analysis.ipynb data_analysis/output_3.ipynb"
   ]
  },
  {
   "cell_type": "markdown",
   "id": "ad659bd7-a11a-442f-bf85-ca1a05742c34",
   "metadata": {},
   "source": [
    "## Turning Scripts into Notebooks\n",
    "\n",
    "Converting a script into a Jupyter notebook can be valuable for enhancing code readability, facilitating interactive analysis, and improving collaboration. \n",
    "Notebooks provide an environment where code, explanations, and results are combined in a clear, organized format. \n",
    "This allows users to document their thought process alongside the code, include visualizations directly within the workflow, and run individual code cells for step-by-step debugging or exploration."
   ]
  },
  {
   "cell_type": "markdown",
   "id": "aebf04a9-3b60-43e3-9d33-48586c7aaf18",
   "metadata": {},
   "source": [
    "**Example** Create `script.py` with the below code and convert it to notebook. How does the resulting notebook look?\n",
    "\n",
    "```python\n",
    "num_mouse = 10\n",
    "num_contrast_left = 4\n",
    "num_contrast_right = 4\n",
    "```"
   ]
  },
  {
   "cell_type": "code",
   "execution_count": 49,
   "id": "916446de-fb68-47d7-a6e5-20cbad79c151",
   "metadata": {},
   "outputs": [
    {
     "name": "stdout",
     "output_type": "stream",
     "text": [
      "[jupytext] Reading script.py in format py\n",
      "[jupytext] Writing script.ipynb\n"
     ]
    }
   ],
   "source": [
    "!jupytext --to notebook script.py"
   ]
  },
  {
   "cell_type": "markdown",
   "id": "75aa0698-06f4-43a5-afc5-623f571a9498",
   "metadata": {},
   "source": [
    "Create `script.py` with the below code and convert it to notebook. How does the resulting notebook look?\n",
    "\n",
    "```python\n",
    "num_mouse = 10\n",
    "num_contrast_left = 4\n",
    "num_contrast_right = 4\n",
    "\n",
    "print(num_mouse)\n",
    "```"
   ]
  },
  {
   "cell_type": "code",
   "execution_count": 51,
   "id": "06f9c055-1181-4d2d-9702-70c79b52b2e8",
   "metadata": {},
   "outputs": [
    {
     "name": "stdout",
     "output_type": "stream",
     "text": [
      "[jupytext] Reading script.py in format py\n",
      "[jupytext] Writing script.ipynb (destination file replaced [use --update to preserve cell outputs and ids])\n"
     ]
    }
   ],
   "source": [
    "!jupytext --to notebook script.py"
   ]
  },
  {
   "cell_type": "markdown",
   "id": "b05ce72b-0827-42da-b1f9-e5a2d32c05fb",
   "metadata": {},
   "source": [
    "Create `script.py` with the below code and convert it to notebook. How does the resulting notebook look?\n",
    "\n",
    "```python\n",
    "num_mouse = 10\n",
    "num_contrast_left = 4\n",
    "num_contrast_right = 4\n",
    "\n",
    "num_mouse\n",
    "```"
   ]
  },
  {
   "cell_type": "code",
   "execution_count": 53,
   "id": "b9d05526-1ec0-4bd2-806b-ccc0759fe653",
   "metadata": {},
   "outputs": [
    {
     "name": "stdout",
     "output_type": "stream",
     "text": [
      "[jupytext] Reading script.py in format py\n",
      "[jupytext] Writing script.ipynb (destination file replaced [use --update to preserve cell outputs and ids])\n"
     ]
    }
   ],
   "source": [
    "!jupytext --to notebook script.py"
   ]
  },
  {
   "cell_type": "markdown",
   "id": "15fd7f7a-f382-4184-a8de-c2bd1aa9ef4f",
   "metadata": {},
   "source": [
    "Let's practice with markdown\n",
    "\n",
    "**Example** Create a python `script.py` with markdown text \"This is markdown text\"\n",
    "\n",
    "```python\n",
    "# %% [markdown]\n",
    "# This is a markdown cell\n",
    "```"
   ]
  },
  {
   "cell_type": "code",
   "execution_count": 55,
   "id": "99067fad-2281-4b70-b06e-27f01235392a",
   "metadata": {},
   "outputs": [
    {
     "name": "stdout",
     "output_type": "stream",
     "text": [
      "[jupytext] Reading script.py in format py\n",
      "[jupytext] Writing script.ipynb (destination file replaced [use --update to preserve cell outputs and ids])\n"
     ]
    }
   ],
   "source": [
    "!jupytext --to notebook script.py"
   ]
  },
  {
   "cell_type": "markdown",
   "id": "9db3cae7-d2f9-41ca-b0b7-ff6d17a02f5b",
   "metadata": {},
   "source": [
    " Create a python `script.py` with markdown text with a big title and small subtitle. Convert it to notebook and examine the resulting notebook."
   ]
  },
  {
   "cell_type": "code",
   "execution_count": 56,
   "id": "5c89f507-babf-43e6-bf81-2fe365501e5a",
   "metadata": {},
   "outputs": [
    {
     "name": "stdout",
     "output_type": "stream",
     "text": [
      "[jupytext] Reading script.py in format py\n",
      "[jupytext] Writing script.ipynb (destination file replaced [use --update to preserve cell outputs and ids])\n"
     ]
    }
   ],
   "source": [
    "!jupytext --to notebook script.py"
   ]
  },
  {
   "cell_type": "markdown",
   "id": "9bf2591e-2a63-4824-b6db-05d9599ca1bc",
   "metadata": {},
   "source": [
    " Create a python `script.py` with multiple lines of markdown text with url. Convert it to notebook and examine the resulting notebook."
   ]
  },
  {
   "cell_type": "code",
   "execution_count": 57,
   "id": "d49f61bb-8e3a-482a-8d13-446441eecb08",
   "metadata": {},
   "outputs": [
    {
     "name": "stdout",
     "output_type": "stream",
     "text": [
      "[jupytext] Reading script.py in format py\n",
      "[jupytext] Writing script.ipynb (destination file replaced [use --update to preserve cell outputs and ids])\n"
     ]
    }
   ],
   "source": [
    "!jupytext --to notebook script.py"
   ]
  },
  {
   "cell_type": "markdown",
   "id": "adfa0787-329f-40bb-8ce0-589ab901bade",
   "metadata": {},
   "source": [
    "**Example** Create `script.py` with the a title \"Data Analysis\" and `a=10`. Convert it to notebook. How does the resulting notebook look?\n",
    "\n",
    "```python\n",
    "# %% [markdown]\n",
    "# Title\n",
    "\n",
    "# %%\n",
    "a = 10\n",
    "```"
   ]
  },
  {
   "cell_type": "code",
   "execution_count": 58,
   "id": "5cc583ab-3c68-4ca4-9543-73594e0921f2",
   "metadata": {},
   "outputs": [
    {
     "name": "stdout",
     "output_type": "stream",
     "text": [
      "[jupytext] Reading script.py in format py\n",
      "[jupytext] Writing script.ipynb (destination file replaced [use --update to preserve cell outputs and ids])\n"
     ]
    }
   ],
   "source": [
    "!jupytext --to notebook script.py"
   ]
  },
  {
   "cell_type": "markdown",
   "id": "215cee5c-0ec9-49f0-a152-a46c702f3694",
   "metadata": {},
   "source": [
    "Create `script.py` with the a title \"Data Analysis\" and `a=10`, `b=100`. Convert it to notebook. How does the resulting notebook look?"
   ]
  },
  {
   "cell_type": "code",
   "execution_count": 59,
   "id": "266487c5-8a29-4a99-8509-c07e8a5019ad",
   "metadata": {},
   "outputs": [
    {
     "name": "stdout",
     "output_type": "stream",
     "text": [
      "[jupytext] Reading script.py in format py\n",
      "[jupytext] Writing script.ipynb (destination file replaced [use --update to preserve cell outputs and ids])\n"
     ]
    }
   ],
   "source": [
    "!jupytext --to notebook script.py"
   ]
  },
  {
   "cell_type": "markdown",
   "id": "65e3efd6-9b8c-45fa-93ac-ed24acd2dcbf",
   "metadata": {},
   "source": [
    "Create `script.py` with the a title \"Data Analysis\", subtitle \"2024-10-24\" and `a=10`, `b=100`, and `c=a+b`, and display `c`. Convert it to notebook. How does the resulting notebook look?"
   ]
  },
  {
   "cell_type": "code",
   "execution_count": 60,
   "id": "7cdb202d-9324-4989-ba2c-323255e164f9",
   "metadata": {},
   "outputs": [
    {
     "name": "stdout",
     "output_type": "stream",
     "text": [
      "[jupytext] Reading script.py in format py\n",
      "[jupytext] Writing script.ipynb (destination file replaced [use --update to preserve cell outputs and ids])\n"
     ]
    }
   ],
   "source": [
    "!jupytext --to notebook script.py"
   ]
  },
  {
   "cell_type": "markdown",
   "id": "0ef38c85-5a7b-45eb-ad0c-4284f6232f46",
   "metadata": {},
   "source": [
    "## Turning Notebooks into Other Formats"
   ]
  }
 ],
 "metadata": {
  "kernelspec": {
   "display_name": "Python 3 (ipykernel)",
   "language": "python",
   "name": "python3"
  },
  "language_info": {
   "codemirror_mode": {
    "name": "ipython",
    "version": 3
   },
   "file_extension": ".py",
   "mimetype": "text/x-python",
   "name": "python",
   "nbconvert_exporter": "python",
   "pygments_lexer": "ipython3",
   "version": "3.12.7"
  }
 },
 "nbformat": 4,
 "nbformat_minor": 5
}
