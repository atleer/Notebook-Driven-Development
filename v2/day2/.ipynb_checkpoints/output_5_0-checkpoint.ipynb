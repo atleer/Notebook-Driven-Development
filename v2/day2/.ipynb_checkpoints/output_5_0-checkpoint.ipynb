{
 "cells": [
  {
   "cell_type": "code",
   "execution_count": 1,
   "id": "ba992094-6901-412c-8cdf-520444d57ab3",
   "metadata": {
    "editable": true,
    "execution": {
     "iopub.execute_input": "2024-10-11T18:18:12.953100Z",
     "iopub.status.busy": "2024-10-11T18:18:12.953100Z",
     "iopub.status.idle": "2024-10-11T18:18:13.666147Z",
     "shell.execute_reply": "2024-10-11T18:18:13.665639Z"
    },
    "papermill": {
     "duration": 0.723409,
     "end_time": "2024-10-11T18:18:13.667109",
     "exception": false,
     "start_time": "2024-10-11T18:18:12.943700",
     "status": "completed"
    },
    "slideshow": {
     "slide_type": ""
    },
    "tags": []
   },
   "outputs": [],
   "source": [
    "import pandas as pd\n",
    "import papermill as pm"
   ]
  },
  {
   "cell_type": "markdown",
   "id": "a16e75c3-b736-4806-b8a7-1060dc291aa6",
   "metadata": {
    "papermill": {
     "duration": 0.002481,
     "end_time": "2024-10-11T18:18:13.670614",
     "exception": false,
     "start_time": "2024-10-11T18:18:13.668133",
     "status": "completed"
    },
    "tags": []
   },
   "source": [
    "Parameters"
   ]
  },
  {
   "cell_type": "code",
   "execution_count": 2,
   "id": "6b11a11a-253d-4ef6-8bf1-68d514b2a6ac",
   "metadata": {
    "editable": true,
    "execution": {
     "iopub.execute_input": "2024-10-11T18:18:13.682443Z",
     "iopub.status.busy": "2024-10-11T18:18:13.682443Z",
     "iopub.status.idle": "2024-10-11T18:18:13.684905Z",
     "shell.execute_reply": "2024-10-11T18:18:13.684905Z"
    },
    "papermill": {
     "duration": 0.009451,
     "end_time": "2024-10-11T18:18:13.685910",
     "exception": false,
     "start_time": "2024-10-11T18:18:13.676459",
     "status": "completed"
    },
    "slideshow": {
     "slide_type": ""
    },
    "tags": [
     "parameters"
    ]
   },
   "outputs": [],
   "source": [
    "# Parameters\n",
    "input_csv_url = \"https://uni-bonn.sciebo.de/s/FYJPmdTyPo1qwRX/download\"\n",
    "output_csv = \"processed.csv\"\n",
    "num_rows_display = 5"
   ]
  },
  {
   "cell_type": "code",
   "execution_count": 3,
   "id": "ac28c7ff",
   "metadata": {
    "execution": {
     "iopub.execute_input": "2024-10-11T18:18:13.691181Z",
     "iopub.status.busy": "2024-10-11T18:18:13.691181Z",
     "iopub.status.idle": "2024-10-11T18:18:13.693790Z",
     "shell.execute_reply": "2024-10-11T18:18:13.693790Z"
    },
    "papermill": {
     "duration": 0.008008,
     "end_time": "2024-10-11T18:18:13.694917",
     "exception": false,
     "start_time": "2024-10-11T18:18:13.686909",
     "status": "completed"
    },
    "tags": [
     "injected-parameters"
    ]
   },
   "outputs": [],
   "source": [
    "# Parameters\n",
    "input_csv_url = \"https://uni-bonn.sciebo.de/s/O1ybfiVcqROP00W/download\"\n",
    "num_rows_display = 5\n"
   ]
  },
  {
   "cell_type": "markdown",
   "id": "161b2d4e-6858-418e-9530-ee53694d6742",
   "metadata": {
    "papermill": {
     "duration": 0.004062,
     "end_time": "2024-10-11T18:18:13.700026",
     "exception": false,
     "start_time": "2024-10-11T18:18:13.695964",
     "status": "completed"
    },
    "tags": []
   },
   "source": [
    "Read the CSV file"
   ]
  },
  {
   "cell_type": "code",
   "execution_count": 4,
   "id": "766cb135-b6b3-47de-bf26-ae1c85c81c72",
   "metadata": {
    "execution": {
     "iopub.execute_input": "2024-10-11T18:18:13.710029Z",
     "iopub.status.busy": "2024-10-11T18:18:13.710029Z",
     "iopub.status.idle": "2024-10-11T18:18:14.388474Z",
     "shell.execute_reply": "2024-10-11T18:18:14.387965Z"
    },
    "papermill": {
     "duration": 0.686639,
     "end_time": "2024-10-11T18:18:14.390668",
     "exception": false,
     "start_time": "2024-10-11T18:18:13.704029",
     "status": "completed"
    },
    "tags": []
   },
   "outputs": [],
   "source": [
    "df = pd.read_csv(input_csv_url)"
   ]
  },
  {
   "cell_type": "markdown",
   "id": "fc564c40-7e75-4055-aa5a-41f489a8e40b",
   "metadata": {
    "papermill": {
     "duration": 0.0,
     "end_time": "2024-10-11T18:18:14.391201",
     "exception": false,
     "start_time": "2024-10-11T18:18:14.391201",
     "status": "completed"
    },
    "tags": []
   },
   "source": [
    "Number of rows"
   ]
  },
  {
   "cell_type": "code",
   "execution_count": 5,
   "id": "ee0617b3-60f8-48a7-aed0-846e560ff0bd",
   "metadata": {
    "execution": {
     "iopub.execute_input": "2024-10-11T18:18:14.411975Z",
     "iopub.status.busy": "2024-10-11T18:18:14.411975Z",
     "iopub.status.idle": "2024-10-11T18:18:14.419430Z",
     "shell.execute_reply": "2024-10-11T18:18:14.419430Z"
    },
    "papermill": {
     "duration": 0.015487,
     "end_time": "2024-10-11T18:18:14.421460",
     "exception": false,
     "start_time": "2024-10-11T18:18:14.405973",
     "status": "completed"
    },
    "tags": []
   },
   "outputs": [
    {
     "data": {
      "text/html": [
       "<div>\n",
       "<style scoped>\n",
       "    .dataframe tbody tr th:only-of-type {\n",
       "        vertical-align: middle;\n",
       "    }\n",
       "\n",
       "    .dataframe tbody tr th {\n",
       "        vertical-align: top;\n",
       "    }\n",
       "\n",
       "    .dataframe thead th {\n",
       "        text-align: right;\n",
       "    }\n",
       "</style>\n",
       "<table border=\"1\" class=\"dataframe\">\n",
       "  <thead>\n",
       "    <tr style=\"text-align: right;\">\n",
       "      <th></th>\n",
       "      <th>mouse</th>\n",
       "      <th>count</th>\n",
       "    </tr>\n",
       "  </thead>\n",
       "  <tbody>\n",
       "    <tr>\n",
       "      <th>0</th>\n",
       "      <td>Tatum</td>\n",
       "      <td>949</td>\n",
       "    </tr>\n",
       "    <tr>\n",
       "      <th>1</th>\n",
       "      <td>Muller</td>\n",
       "      <td>782</td>\n",
       "    </tr>\n",
       "    <tr>\n",
       "      <th>2</th>\n",
       "      <td>Cori</td>\n",
       "      <td>693</td>\n",
       "    </tr>\n",
       "    <tr>\n",
       "      <th>3</th>\n",
       "      <td>Moniz</td>\n",
       "      <td>606</td>\n",
       "    </tr>\n",
       "    <tr>\n",
       "      <th>4</th>\n",
       "      <td>Theiler</td>\n",
       "      <td>343</td>\n",
       "    </tr>\n",
       "  </tbody>\n",
       "</table>\n",
       "</div>"
      ],
      "text/plain": [
       "     mouse  count\n",
       "0    Tatum    949\n",
       "1   Muller    782\n",
       "2     Cori    693\n",
       "3    Moniz    606\n",
       "4  Theiler    343"
      ]
     },
     "execution_count": 5,
     "metadata": {},
     "output_type": "execute_result"
    }
   ],
   "source": [
    "df.head(num_rows_display)"
   ]
  },
  {
   "cell_type": "markdown",
   "id": "46698dd5-fcd9-4ab0-8f9c-b67aac4273cb",
   "metadata": {
    "papermill": {
     "duration": 0.006,
     "end_time": "2024-10-11T18:18:14.432461",
     "exception": false,
     "start_time": "2024-10-11T18:18:14.426461",
     "status": "completed"
    },
    "tags": []
   },
   "source": [
    "Process the data (in this case, we'll just double a numerical column)"
   ]
  },
  {
   "cell_type": "code",
   "execution_count": 6,
   "id": "5c524725-be97-433a-9b68-3d08bee40bca",
   "metadata": {
    "execution": {
     "iopub.execute_input": "2024-10-11T18:18:14.445463Z",
     "iopub.status.busy": "2024-10-11T18:18:14.445463Z",
     "iopub.status.idle": "2024-10-11T18:18:14.451538Z",
     "shell.execute_reply": "2024-10-11T18:18:14.451289Z"
    },
    "papermill": {
     "duration": 0.016082,
     "end_time": "2024-10-11T18:18:14.453542",
     "exception": false,
     "start_time": "2024-10-11T18:18:14.437460",
     "status": "completed"
    },
    "tags": []
   },
   "outputs": [],
   "source": [
    "df['num_trials'] = df['count'] * 2"
   ]
  },
  {
   "cell_type": "markdown",
   "id": "eb2b8aff-0705-48e4-aef9-e8af281d8aa0",
   "metadata": {
    "papermill": {
     "duration": 0.004848,
     "end_time": "2024-10-11T18:18:14.462551",
     "exception": false,
     "start_time": "2024-10-11T18:18:14.457703",
     "status": "completed"
    },
    "tags": []
   },
   "source": [
    "Save the processed data to the output CSV"
   ]
  },
  {
   "cell_type": "code",
   "execution_count": 7,
   "id": "e0d28b77-8a64-42cf-8c5b-c548938dcbe2",
   "metadata": {
    "execution": {
     "iopub.execute_input": "2024-10-11T18:18:14.472713Z",
     "iopub.status.busy": "2024-10-11T18:18:14.471594Z",
     "iopub.status.idle": "2024-10-11T18:18:14.478440Z",
     "shell.execute_reply": "2024-10-11T18:18:14.478053Z"
    },
    "papermill": {
     "duration": 0.014701,
     "end_time": "2024-10-11T18:18:14.480279",
     "exception": false,
     "start_time": "2024-10-11T18:18:14.465578",
     "status": "completed"
    },
    "tags": []
   },
   "outputs": [
    {
     "data": {
      "text/plain": [
       "'Processed data saved to processed.csv'"
      ]
     },
     "execution_count": 7,
     "metadata": {},
     "output_type": "execute_result"
    }
   ],
   "source": [
    "df.to_csv(output_csv, index=False)\n",
    "\n",
    "f\"Processed data saved to {output_csv}\""
   ]
  }
 ],
 "metadata": {
  "kernelspec": {
   "display_name": "Python 3 (ipykernel)",
   "language": "python",
   "name": "python3"
  },
  "language_info": {
   "codemirror_mode": {
    "name": "ipython",
    "version": 3
   },
   "file_extension": ".py",
   "mimetype": "text/x-python",
   "name": "python",
   "nbconvert_exporter": "python",
   "pygments_lexer": "ipython3",
   "version": "3.12.7"
  },
  "papermill": {
   "default_parameters": {},
   "duration": 3.10358,
   "end_time": "2024-10-11T18:18:14.734105",
   "environment_variables": {},
   "exception": null,
   "input_path": "papermill_workflow/notebook_1.ipynb",
   "output_path": "output_5_0.ipynb",
   "parameters": {
    "input_csv_url": "https://uni-bonn.sciebo.de/s/O1ybfiVcqROP00W/download",
    "num_rows_display": 5
   },
   "start_time": "2024-10-11T18:18:11.630525",
   "version": "2.6.0"
  }
 },
 "nbformat": 4,
 "nbformat_minor": 5
}