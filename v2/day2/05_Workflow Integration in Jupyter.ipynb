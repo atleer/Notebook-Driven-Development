{
 "cells": [
  {
   "cell_type": "markdown",
   "id": "86a1b096-60b7-4470-aeb6-8d13b412891d",
   "metadata": {},
   "source": []
  },
  {
   "cell_type": "markdown",
   "id": "93ab7c45-c42a-4d6a-9acb-c9586dca7012",
   "metadata": {},
   "source": [
    "\n",
    "## magic"
   ]
  },
  {
   "cell_type": "markdown",
   "id": "f8f3b191-2d49-42eb-9f98-87f358f97492",
   "metadata": {},
   "source": [
    "## Run a whole notebook from here %run"
   ]
  },
  {
   "cell_type": "markdown",
   "id": "67e8dd59-2e4e-4860-81c5-e92822f16b3a",
   "metadata": {},
   "source": [
    "## import_ipynb module"
   ]
  },
  {
   "cell_type": "markdown",
   "id": "9ed8779c-debf-4e7e-9196-0686cce6ce5f",
   "metadata": {},
   "source": [
    "## Access only configurations from another notebook"
   ]
  },
  {
   "cell_type": "markdown",
   "id": "76b6c5b7-1f46-43f5-be6d-7153b4b3b3e4",
   "metadata": {},
   "source": [
    "."
   ]
  }
 ],
 "metadata": {
  "kernelspec": {
   "display_name": "Python 3 (ipykernel)",
   "language": "python",
   "name": "python3"
  },
  "language_info": {
   "codemirror_mode": {
    "name": "ipython",
    "version": 3
   },
   "file_extension": ".py",
   "mimetype": "text/x-python",
   "name": "python",
   "nbconvert_exporter": "python",
   "pygments_lexer": "ipython3",
   "version": "3.12.7"
  }
 },
 "nbformat": 4,
 "nbformat_minor": 5
}
