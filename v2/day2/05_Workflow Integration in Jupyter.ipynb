{
 "cells": [
  {
   "cell_type": "code",
   "execution_count": 1,
   "id": "2abe11c3-621d-490f-bdb1-5be06e73375a",
   "metadata": {},
   "outputs": [],
   "source": [
    "# !pip install import-ipynb"
   ]
  },
  {
   "cell_type": "markdown",
   "id": "86a1b096-60b7-4470-aeb6-8d13b412891d",
   "metadata": {},
   "source": [
    "# Workflow Integration in Jupyter\n",
    "\n",
    "Research projects are often involve complex processes with multiple steps that are interconnected. \n",
    "Each of these steps might focus on a specific part of the analysis, such as data cleaning, model building, or visualization.\n",
    "While these steps can be developed and run separately, they are usually not independent; one step may depend on the outcome of a previous step.\n",
    "For instance, before you can build a model, you might need results from data preprocessing or specific configuration settings.\n",
    "\n",
    "In Jupyter notebooks, there are various scenarios where one notebook might need to use content from another notebook.\n",
    "Sometimes, you might want to run an entire notebook to make sure everything works in sequence.\n",
    "At other times, you may only need to pull in specific parts of another notebook, such as a function, a configuration setting, or a block of code.\n",
    "Jupyter provides several built-in and external tools to handle these scenarios efficiently.\n",
    "In this notebook, we will explore how to use these tools to manage complex workflows such that notebooks can either run entire sequences or access just the specific content they need, making the research process more efficient and organized.\n",
    "\n",
    "We start by looking at magic commands to manage notebooks, how to sequence of notebooks from another notebook, how to import contents of notebook like it was a script, and end by practicing setting up a configuration notebook. "
   ]
  },
  {
   "cell_type": "markdown",
   "id": "93ab7c45-c42a-4d6a-9acb-c9586dca7012",
   "metadata": {},
   "source": [
    "\n",
    "## Magic commands\n",
    "\n",
    "Magic commands in Jupyter notebooks are special commands that provide a convenient way to perform certain tasks and control the behavior of the Jupyter environment. They start with a % (for line magics, which affect a single line) or %% (for cell magics, which affect the entire cell). These commands are designed to facilitate tasks such as running scripts, profiling code, timing execution, and integrating with other environments or languages.\n",
    "\n",
    "When we are developing an code as researchers, we are mainly concerned with how long an analysis runs and how to store and load results. In this section, let's focus on some of Jupyter magic commands that let's us do just that.\n",
    "\n",
    "**Example** Measure how long it takes to sum numbers from 1 to 100"
   ]
  },
  {
   "cell_type": "code",
   "execution_count": 2,
   "id": "713afd69-2451-43d9-8418-2e5bf66ba209",
   "metadata": {},
   "outputs": [
    {
     "name": "stdout",
     "output_type": "stream",
     "text": [
      "662 ns ± 31.4 ns per loop (mean ± std. dev. of 7 runs, 1,000,000 loops each)\n"
     ]
    }
   ],
   "source": [
    "%timeit sum(range(100))"
   ]
  },
  {
   "cell_type": "markdown",
   "id": "b6550185-f3d7-4af1-908d-e923c6980b9c",
   "metadata": {},
   "source": [
    "You might be surprised that it took longer than to just run the code. That is because %timeit runs the line of code multiple times with a lot of iterations in each run to get a reliable estimation of the execution time. The output you see here will look something like this\n",
    "\n",
    "`651 ns ± 11.4 ns per loop (mean ± std. dev. of 7 runs, 1,000,000 loops each)`\n",
    "\n",
    "Here's what it means:\n",
    "\n",
    "| **Number/Value**      | **Explanation**                                                                                                                                   |\n",
    "|-----------------------|---------------------------------------------------------------------------------------------------------------------------------------------------|\n",
    "| `651 ns`              | The mean (average) execution time of the code per loop. The unit here is nanoseconds (ns), meaning it took an average of 651 nanoseconds per loop. |\n",
    "| `± 11.4 ns`           | The standard deviation of the execution time. It indicates the variability in the execution time across different runs. In this case, it varies by 11.4 nanoseconds. |\n",
    "| `7 runs`              | The number of times `%timeit` ran the test. In this case, the test was executed 7 times to gather the statistics for the mean and standard deviation. |\n",
    "| `1,000,000 loops each`| The number of iterations (loops) that were executed per run. Here, the code was repeated 1,000,000 times in each of the 7 runs to get a more accurate timing. |\n",
    "\n",
    "\n",
    "Measure how long it takes to sum numbers from 1 to 1000"
   ]
  },
  {
   "cell_type": "code",
   "execution_count": 3,
   "id": "dc3548c0-b98f-4df1-9ca6-a85dda1009ad",
   "metadata": {},
   "outputs": [
    {
     "name": "stdout",
     "output_type": "stream",
     "text": [
      "14.6 μs ± 630 ns per loop (mean ± std. dev. of 7 runs, 100,000 loops each)\n"
     ]
    }
   ],
   "source": [
    "%timeit sum(range(1000))"
   ]
  },
  {
   "cell_type": "markdown",
   "id": "432c9640-6275-49d2-a0cf-ea5852e93e70",
   "metadata": {},
   "source": [
    "Let's take this further. \n",
    "Measure how long it takes to sum numbers from 1 to 100000"
   ]
  },
  {
   "cell_type": "code",
   "execution_count": 4,
   "id": "60dab7b5-a063-4f4e-b1df-ef234c32e360",
   "metadata": {},
   "outputs": [
    {
     "name": "stdout",
     "output_type": "stream",
     "text": [
      "1.71 ms ± 39.7 μs per loop (mean ± std. dev. of 7 runs, 1,000 loops each)\n"
     ]
    }
   ],
   "source": [
    "%timeit sum(range(100000))"
   ]
  },
  {
   "cell_type": "markdown",
   "id": "fc4b0ba1-cfea-4993-8ac1-f420452f76b2",
   "metadata": {},
   "source": [
    "Do you notice that number of loops reduced as the code took longer to execute? This is because %timeit automatically adjusts the number of loops to ensure an accurate measurement based on the how quickly the code being tested runs. \n",
    "\n",
    "**Example** Measure how long it takes to sum numbers from 1 to 100 with 1000 loops per iteration"
   ]
  },
  {
   "cell_type": "code",
   "execution_count": 5,
   "id": "a224ca60-064b-46d1-9635-15f0524859b1",
   "metadata": {},
   "outputs": [
    {
     "name": "stdout",
     "output_type": "stream",
     "text": [
      "496 ns ± 42.5 ns per loop (mean ± std. dev. of 7 runs, 1,000 loops each)\n"
     ]
    }
   ],
   "source": [
    "%timeit -n 1000 sum(range(100))"
   ]
  },
  {
   "cell_type": "markdown",
   "id": "51beacc5-bc37-4a35-b5b5-f49a164bdeb7",
   "metadata": {},
   "source": [
    "Measure how long it takes to sum numbers from 1 to 100 with 10000 loops per iteration"
   ]
  },
  {
   "cell_type": "code",
   "execution_count": 6,
   "id": "d26b3720-a26d-49bd-b8e7-5a9c9395596f",
   "metadata": {},
   "outputs": [
    {
     "name": "stdout",
     "output_type": "stream",
     "text": [
      "511 ns ± 15.7 ns per loop (mean ± std. dev. of 7 runs, 10,000 loops each)\n"
     ]
    }
   ],
   "source": [
    "%timeit -n 10000 sum(range(100))"
   ]
  },
  {
   "cell_type": "markdown",
   "id": "73edb727-c44d-4fec-8ac4-17ef8acfebc6",
   "metadata": {},
   "source": [
    "Measure how long it takes to sum numbers from 1 to 100 with 5 iterations.\n",
    "\n",
    "Hint: Use -r to set number of iterations"
   ]
  },
  {
   "cell_type": "code",
   "execution_count": 7,
   "id": "c39d065e-1d53-4410-aa7d-c465a7083a9f",
   "metadata": {},
   "outputs": [
    {
     "name": "stdout",
     "output_type": "stream",
     "text": [
      "494 ns ± 15.7 ns per loop (mean ± std. dev. of 5 runs, 1,000,000 loops each)\n"
     ]
    }
   ],
   "source": [
    "%timeit -r 5 sum(range(100))"
   ]
  },
  {
   "cell_type": "markdown",
   "id": "0bad507d-d823-4111-be85-5721094d0b99",
   "metadata": {},
   "source": [
    "Measure how long it takes to sum numbers from 1 to 100 with 5 iterations and 1000 loops per iteration"
   ]
  },
  {
   "cell_type": "code",
   "execution_count": 8,
   "id": "fed0d9b9-009d-41ce-a0cb-661829b4da55",
   "metadata": {},
   "outputs": [
    {
     "name": "stdout",
     "output_type": "stream",
     "text": [
      "497 ns ± 8.36 ns per loop (mean ± std. dev. of 5 runs, 1,000 loops each)\n"
     ]
    }
   ],
   "source": [
    "%timeit -r 5 -n 1000 sum(range(100))"
   ]
  },
  {
   "cell_type": "markdown",
   "id": "685207a9-b8fe-4666-a730-67162e626801",
   "metadata": {},
   "source": [
    "In the below exercises, let's practice loading contents of another file. \n",
    "\n",
    "**Example** Load contents of `text_config` file"
   ]
  },
  {
   "cell_type": "code",
   "execution_count": 9,
   "id": "3e9d49a5-dad8-4c70-be84-af0e10b9bdf3",
   "metadata": {},
   "outputs": [],
   "source": [
    "# %load data/text_config.txt\n",
    "num_exp=10 # number of experiments\n",
    "scientist=\"John Doe\" # name of the scientist"
   ]
  },
  {
   "cell_type": "markdown",
   "id": "436177fd-3bba-4cd9-9fa2-b725f20fb567",
   "metadata": {},
   "source": [
    "As soon as you execute the cell with %load, the following happens\n",
    "\n",
    "1. %load command itself is turned into a comment\n",
    "2. Below the comment, the contents of the file gets loaded\n",
    "3. You can edit it and then execute the line\n",
    "\n",
    "Load contents of `python_config` file"
   ]
  },
  {
   "cell_type": "code",
   "execution_count": 10,
   "id": "c9f394a1-89d5-4817-b493-f2f486444488",
   "metadata": {},
   "outputs": [],
   "source": [
    "# %load data/python_config.py\n",
    "num_exp=10 # number of experiments\n",
    "scientist=\"John Doe\" # name of the scientist"
   ]
  },
  {
   "cell_type": "markdown",
   "id": "6acc1156-f16d-4e20-8e1f-9de91b743742",
   "metadata": {},
   "source": [
    "It can also work with other notebooks. It loads the whole notebook.\n",
    "\n",
    "Load contents of notebook_config.file"
   ]
  },
  {
   "cell_type": "code",
   "execution_count": 11,
   "id": "9f4c0bfc-17be-4a8e-a250-6675b4e32b4e",
   "metadata": {},
   "outputs": [
    {
     "data": {
      "text/plain": [
       "{'cells': [{'cell_type': 'markdown',\n",
       "   'id': '4241faf6-feb5-404f-a227-369aa7057d93',\n",
       "   'metadata': {},\n",
       "   'source': ['These values were changed on 2024-10-11\\n',\n",
       "    '\\n',\n",
       "    'Parameter `num_exp` describes how many experiments were conducted.']},\n",
       "  {'cell_type': 'code',\n",
       "   'execution_count': 3,\n",
       "   'id': 'c20776fc-d2bf-4e4c-933d-6a0816dc0492',\n",
       "   'metadata': {},\n",
       "   'outputs': [],\n",
       "   'source': ['num_exp = 10']},\n",
       "  {'cell_type': 'markdown',\n",
       "   'id': '41be7a78-31b2-47de-8fc4-22fd6867e29c',\n",
       "   'metadata': {},\n",
       "   'source': ['Parameter `scientist` is the name of the person who conducted the series of experiments']},\n",
       "  {'cell_type': 'code',\n",
       "   'execution_count': 4,\n",
       "   'id': 'cb3b0e40-77ad-4911-8671-ee719c2da1cf',\n",
       "   'metadata': {},\n",
       "   'outputs': [],\n",
       "   'source': ['scientist = \"John Doe\"']}],\n",
       " 'metadata': {'kernelspec': {'display_name': 'Python 3 (ipykernel)',\n",
       "   'language': 'python',\n",
       "   'name': 'python3'},\n",
       "  'language_info': {'codemirror_mode': {'name': 'ipython', 'version': 3},\n",
       "   'file_extension': '.py',\n",
       "   'mimetype': 'text/x-python',\n",
       "   'name': 'python',\n",
       "   'nbconvert_exporter': 'python',\n",
       "   'pygments_lexer': 'ipython3',\n",
       "   'version': '3.12.7'}},\n",
       " 'nbformat': 4,\n",
       " 'nbformat_minor': 5}"
      ]
     },
     "execution_count": 11,
     "metadata": {},
     "output_type": "execute_result"
    }
   ],
   "source": [
    "# %load data/notebook_config.ipynb\n",
    "{\n",
    " \"cells\": [\n",
    "  {\n",
    "   \"cell_type\": \"markdown\",\n",
    "   \"id\": \"4241faf6-feb5-404f-a227-369aa7057d93\",\n",
    "   \"metadata\": {},\n",
    "   \"source\": [\n",
    "    \"These values were changed on 2024-10-11\\n\",\n",
    "    \"\\n\",\n",
    "    \"Parameter `num_exp` describes how many experiments were conducted.\"\n",
    "   ]\n",
    "  },\n",
    "  {\n",
    "   \"cell_type\": \"code\",\n",
    "   \"execution_count\": 3,\n",
    "   \"id\": \"c20776fc-d2bf-4e4c-933d-6a0816dc0492\",\n",
    "   \"metadata\": {},\n",
    "   \"outputs\": [],\n",
    "   \"source\": [\n",
    "    \"num_exp = 10\"\n",
    "   ]\n",
    "  },\n",
    "  {\n",
    "   \"cell_type\": \"markdown\",\n",
    "   \"id\": \"41be7a78-31b2-47de-8fc4-22fd6867e29c\",\n",
    "   \"metadata\": {},\n",
    "   \"source\": [\n",
    "    \"Parameter `scientist` is the name of the person who conducted the series of experiments\"\n",
    "   ]\n",
    "  },\n",
    "  {\n",
    "   \"cell_type\": \"code\",\n",
    "   \"execution_count\": 4,\n",
    "   \"id\": \"cb3b0e40-77ad-4911-8671-ee719c2da1cf\",\n",
    "   \"metadata\": {},\n",
    "   \"outputs\": [],\n",
    "   \"source\": [\n",
    "    \"scientist = \\\"John Doe\\\"\"\n",
    "   ]\n",
    "  }\n",
    " ],\n",
    " \"metadata\": {\n",
    "  \"kernelspec\": {\n",
    "   \"display_name\": \"Python 3 (ipykernel)\",\n",
    "   \"language\": \"python\",\n",
    "   \"name\": \"python3\"\n",
    "  },\n",
    "  \"language_info\": {\n",
    "   \"codemirror_mode\": {\n",
    "    \"name\": \"ipython\",\n",
    "    \"version\": 3\n",
    "   },\n",
    "   \"file_extension\": \".py\",\n",
    "   \"mimetype\": \"text/x-python\",\n",
    "   \"name\": \"python\",\n",
    "   \"nbconvert_exporter\": \"python\",\n",
    "   \"pygments_lexer\": \"ipython3\",\n",
    "   \"version\": \"3.12.7\"\n",
    "  }\n",
    " },\n",
    " \"nbformat\": 4,\n",
    " \"nbformat_minor\": 5\n",
    "}\n"
   ]
  },
  {
   "cell_type": "markdown",
   "id": "5a543595-389c-4b72-8d94-a7f700faf3a4",
   "metadata": {},
   "source": [
    "**Example** Store \"Mice Visual Cortex Analysis\" as `project_name` so any notebook can access it"
   ]
  },
  {
   "cell_type": "code",
   "execution_count": 12,
   "id": "9cbe63fa-5b50-4d83-9816-94f25ea969cc",
   "metadata": {},
   "outputs": [
    {
     "name": "stdout",
     "output_type": "stream",
     "text": [
      "Stored 'project_name' (str)\n"
     ]
    }
   ],
   "source": [
    "project_name = 'Mice Visual Cortex Analysis'\n",
    "%store project_name"
   ]
  },
  {
   "cell_type": "markdown",
   "id": "e665341c-a031-416b-8f22-59cda6aebb5a",
   "metadata": {},
   "source": [
    "Now this variable is stored on the disk in ~/.ipython. It will be available to all jupyter notebooks as long as the notebooks are run in same environment\n",
    "\n",
    "Store 123456 as `project_id` so any notebook can access it"
   ]
  },
  {
   "cell_type": "code",
   "execution_count": 13,
   "id": "7c08f9e2-c5c0-48e8-8e26-5ae21c723691",
   "metadata": {},
   "outputs": [
    {
     "name": "stdout",
     "output_type": "stream",
     "text": [
      "Stored 'project_id' (int)\n"
     ]
    }
   ],
   "source": [
    "project_id = 123456\n",
    "%store project_id"
   ]
  },
  {
   "cell_type": "markdown",
   "id": "6c453fd8-efbc-44e9-b66f-8554ee555f5b",
   "metadata": {},
   "source": [
    "Store \"Genius Lab\" as `lab_name` so any notebook can access it."
   ]
  },
  {
   "cell_type": "code",
   "execution_count": 14,
   "id": "3dffae10-b061-4f51-9383-6c468806369b",
   "metadata": {},
   "outputs": [
    {
     "name": "stdout",
     "output_type": "stream",
     "text": [
      "Stored 'lab_name' (str)\n"
     ]
    }
   ],
   "source": [
    "lab_name = \"Genius lab\"\n",
    "%store lab_name"
   ]
  },
  {
   "cell_type": "markdown",
   "id": "10451d96-21b9-4409-8265-769c87ef52a2",
   "metadata": {},
   "source": [
    "**Example** In another notebook, retrieve `project_name`"
   ]
  },
  {
   "cell_type": "code",
   "execution_count": 15,
   "id": "499a3f5f-ad41-4ee3-ab3d-4c32b225c350",
   "metadata": {},
   "outputs": [
    {
     "data": {
      "text/plain": [
       "'Mice Visual Cortex Analysis'"
      ]
     },
     "execution_count": 15,
     "metadata": {},
     "output_type": "execute_result"
    }
   ],
   "source": [
    "%store -r project_name\n",
    "project_name"
   ]
  },
  {
   "cell_type": "markdown",
   "id": "7e9d5c42-9022-4d78-a534-28f2ef3c1584",
   "metadata": {},
   "source": [
    "In another notebook, retrieve project_id"
   ]
  },
  {
   "cell_type": "code",
   "execution_count": 16,
   "id": "236bf6bd-7b27-4b6c-a111-3d892121076d",
   "metadata": {},
   "outputs": [
    {
     "data": {
      "text/plain": [
       "123456"
      ]
     },
     "execution_count": 16,
     "metadata": {},
     "output_type": "execute_result"
    }
   ],
   "source": [
    "%store -r project_id\n",
    "project_id"
   ]
  },
  {
   "cell_type": "markdown",
   "id": "f19db7bd-dd21-4fe4-bbbe-56d71bc12e6a",
   "metadata": {},
   "source": [
    "In another notebook, retrieve lab_name"
   ]
  },
  {
   "cell_type": "code",
   "execution_count": 17,
   "id": "39abe16f-a447-4545-8e67-f1eef667163f",
   "metadata": {},
   "outputs": [
    {
     "data": {
      "text/plain": [
       "'Genius lab'"
      ]
     },
     "execution_count": 17,
     "metadata": {},
     "output_type": "execute_result"
    }
   ],
   "source": [
    "%store -r lab_name\n",
    "lab_name"
   ]
  },
  {
   "cell_type": "markdown",
   "id": "26b51d65-117a-408f-8606-c1c401cfcdd7",
   "metadata": {},
   "source": [
    "So far we only saw magic commands that run on a single line of code. Let's look into some cell magic commands that run on entire cell\n",
    "\n",
    "**Example** Measure how long it takes to sum numbers upto 1000 with loop. "
   ]
  },
  {
   "cell_type": "code",
   "execution_count": 18,
   "id": "0fa27ecb-aae1-4533-ba94-d49c2ca9afac",
   "metadata": {},
   "outputs": [
    {
     "name": "stdout",
     "output_type": "stream",
     "text": [
      "CPU times: total: 0 ns\n",
      "Wall time: 0 ns\n"
     ]
    }
   ],
   "source": [
    "%%time\n",
    "result = 0\n",
    "for i in range(1000):\n",
    "    result += i"
   ]
  },
  {
   "cell_type": "markdown",
   "id": "63d4b4bd-19ec-4a7b-ab5b-ee1eac7d3562",
   "metadata": {},
   "source": [
    "Measure how long it takes to sum numbers upto 10000000 with loop."
   ]
  },
  {
   "cell_type": "code",
   "execution_count": 19,
   "id": "84ab4a55-2b33-4b6b-a2f4-4a1685c83029",
   "metadata": {},
   "outputs": [
    {
     "name": "stdout",
     "output_type": "stream",
     "text": [
      "CPU times: total: 125 ms\n",
      "Wall time: 1.1 s\n"
     ]
    }
   ],
   "source": [
    "%%time\n",
    "result = 0\n",
    "for i in range(10000000):\n",
    "    result += i"
   ]
  },
  {
   "cell_type": "markdown",
   "id": "38a9a1da-bc15-452b-92e8-029c0156c076",
   "metadata": {},
   "source": [
    "You can also use it for single line of code as long as the code is below %%time\n",
    "\n",
    "Measure how long it takes to sum numbers upto 10000000 without loop."
   ]
  },
  {
   "cell_type": "code",
   "execution_count": 20,
   "id": "aea1e330-1593-416f-8e8b-c3f9d0e59eed",
   "metadata": {},
   "outputs": [
    {
     "name": "stdout",
     "output_type": "stream",
     "text": [
      "CPU times: total: 46.9 ms\n",
      "Wall time: 151 ms\n"
     ]
    },
    {
     "data": {
      "text/plain": [
       "49999995000000"
      ]
     },
     "execution_count": 20,
     "metadata": {},
     "output_type": "execute_result"
    }
   ],
   "source": [
    "%%time \n",
    "sum(range(10000000))"
   ]
  },
  {
   "cell_type": "markdown",
   "id": "c904a177-8ba6-4f5b-b083-8d4d30b3c36c",
   "metadata": {},
   "source": [
    "We might also want to write contents of a single cell into a file of its own. This can be useful when you write functions or have a list of variables that you want to store as a python script to access later on.\n",
    "\n",
    "**Example** Store `experiment_name`, `num_mice`, `num_neuropixels` in a file called `experiment_info.txt`"
   ]
  },
  {
   "cell_type": "code",
   "execution_count": 21,
   "id": "0e462185-2d45-41b8-8a11-9a97bd09d016",
   "metadata": {},
   "outputs": [
    {
     "name": "stdout",
     "output_type": "stream",
     "text": [
      "Writing experiment_info.txt\n"
     ]
    }
   ],
   "source": [
    "%%writefile experiment_info.txt\n",
    "experiment_name = \"Mice Visual Cortex\"\n",
    "num_mice = 25\n",
    "num_neuropixels = 300"
   ]
  },
  {
   "cell_type": "markdown",
   "id": "55e240ba-4e2c-4acb-85d8-83e51ed484d4",
   "metadata": {},
   "source": [
    "Store `experiment_name`, `num_mice`, `num_neuropixels` in a file called `experiment_info.py`"
   ]
  },
  {
   "cell_type": "code",
   "execution_count": 22,
   "id": "ccfbef95-a19f-4667-9b48-90b3ed7f37a6",
   "metadata": {},
   "outputs": [
    {
     "name": "stdout",
     "output_type": "stream",
     "text": [
      "Writing experiment_info.py\n"
     ]
    }
   ],
   "source": [
    "%%writefile experiment_info.py\n",
    "experiment_name = \"Mice Visual Cortex\"\n",
    "num_mice = 25\n",
    "num_neuropixels = 300"
   ]
  },
  {
   "cell_type": "markdown",
   "id": "ee3b7b56-a7d2-454a-9a00-d70ef2ade840",
   "metadata": {},
   "source": [
    "Add `num_electrodes` to `experiment_info.py`\n",
    "\n",
    "Hint: Use -a"
   ]
  },
  {
   "cell_type": "code",
   "execution_count": 23,
   "id": "d75effd6-758b-4364-b89d-476905cb6eb7",
   "metadata": {},
   "outputs": [
    {
     "name": "stdout",
     "output_type": "stream",
     "text": [
      "Appending to experiment_info.py\n"
     ]
    }
   ],
   "source": [
    "%%writefile -a experiment_info.py\n",
    "num_electrodes = 100"
   ]
  },
  {
   "cell_type": "markdown",
   "id": "f8f3b191-2d49-42eb-9f98-87f358f97492",
   "metadata": {},
   "source": [
    "## Accessing Contents of Another Notebook with %run\n",
    "\n",
    "The `%run` is a magic command in Jupyter helps us execute code from one notebook inside another. \n",
    "This approach is particularly useful when we want to reuse code or break our work into smaller, more manageable parts without copying everything into the current notebook. \n",
    "By using `%run`, we can bring in all the variables, functions, and data from another notebook, making them immediately available in our current environment.\n",
    "\n",
    "Additionally, we have the flexibility to pass extra information, known as arguments, to the notebook we’re running. \n",
    "This allows us to customize its behavior for different tasks or scenarios. \n",
    "Overall, `%run` helps us keep our work organized and maintainable, especially in complex projects where reusing code is key to efficiency.\n",
    "\n",
    "In this section, we will practice using `%run` "
   ]
  },
  {
   "cell_type": "markdown",
   "id": "fe4f296e-f94f-49a9-b724-d40a8b451e0b",
   "metadata": {},
   "source": [
    "**Example** Run hello.py script from here"
   ]
  },
  {
   "cell_type": "code",
   "execution_count": 24,
   "id": "630378e5-6980-4bb3-8de3-2a3e4d4524bc",
   "metadata": {},
   "outputs": [
    {
     "name": "stdout",
     "output_type": "stream",
     "text": [
      "Hello world\n"
     ]
    }
   ],
   "source": [
    "%run run_section/hello.py"
   ]
  },
  {
   "cell_type": "markdown",
   "id": "ecb41198-9a44-445e-af04-a0f352727a35",
   "metadata": {},
   "source": [
    "Run hello_nb.ipynb from here"
   ]
  },
  {
   "cell_type": "code",
   "execution_count": 41,
   "id": "3a2faef6-9e61-40e4-ba08-79505cafb72f",
   "metadata": {},
   "outputs": [
    {
     "name": "stdout",
     "output_type": "stream",
     "text": [
      "Hello World\n"
     ]
    }
   ],
   "source": [
    "%run run_section/hello_nb.ipynb"
   ]
  },
  {
   "cell_type": "markdown",
   "id": "d0b8bd5a-22c6-4774-b138-3512c3ff91ad",
   "metadata": {},
   "source": [
    "Run hello.txt from here. What difference do you notice?"
   ]
  },
  {
   "cell_type": "code",
   "execution_count": 26,
   "id": "cddb5219-b67d-4cb9-a130-d41a4b3028b0",
   "metadata": {},
   "outputs": [
    {
     "ename": "SyntaxError",
     "evalue": "invalid syntax (hello.txt, line 1)",
     "output_type": "error",
     "traceback": [
      "\u001b[1;36m  File \u001b[1;32m~\\Courses\\NDD\\v2\\day2\\run_section\\hello.txt:1\u001b[1;36m\u001b[0m\n\u001b[1;33m    Hello World\u001b[0m\n\u001b[1;37m          ^\u001b[0m\n\u001b[1;31mSyntaxError\u001b[0m\u001b[1;31m:\u001b[0m invalid syntax\n"
     ]
    }
   ],
   "source": [
    "%run run_section/hello.txt"
   ]
  },
  {
   "cell_type": "markdown",
   "id": "924ee0a8-40e9-45f8-82a8-0f317f3e19ee",
   "metadata": {},
   "source": [
    "The error occurs because `%run` expects the file being executed to contain valid Python code or a Jupyter notebook. \n",
    "In this case, hello.txt is a plain text file with the content \"Hello World,\" which is not valid Python syntax. \n",
    "Since `%run` is trying to execute the text as Python code, it encounters a SyntaxError.\n",
    "\n",
    "Change contents of hello.txt to say print(\"Hello World\") and run it. Does this work?"
   ]
  },
  {
   "cell_type": "markdown",
   "id": "3d488d8c-44c3-4e33-9d4e-b507c71e156c",
   "metadata": {},
   "source": [
    "%run not only shows standard outputs, but we can also access variables in the script or python notebook.\n",
    "\n",
    "**Example** Run hello.py and print `name`"
   ]
  },
  {
   "cell_type": "code",
   "execution_count": 27,
   "id": "963f75c0-b029-4eec-8aa5-6dd2fea27290",
   "metadata": {},
   "outputs": [
    {
     "name": "stdout",
     "output_type": "stream",
     "text": [
      "Hello world\n"
     ]
    },
    {
     "data": {
      "text/plain": [
       "'John Doe'"
      ]
     },
     "execution_count": 27,
     "metadata": {},
     "output_type": "execute_result"
    }
   ],
   "source": [
    "%run run_section/hello.py\n",
    "name"
   ]
  },
  {
   "cell_type": "markdown",
   "id": "4e11a51e-f2a9-41a0-bc28-9c272ae3740a",
   "metadata": {},
   "source": [
    "Run hello.py and print `age`"
   ]
  },
  {
   "cell_type": "code",
   "execution_count": 28,
   "id": "37e0125c-1df0-4f43-9d1d-404b6ed29ef5",
   "metadata": {},
   "outputs": [
    {
     "name": "stdout",
     "output_type": "stream",
     "text": [
      "Hello world\n"
     ]
    },
    {
     "data": {
      "text/plain": [
       "100"
      ]
     },
     "execution_count": 28,
     "metadata": {},
     "output_type": "execute_result"
    }
   ],
   "source": [
    "%run run_section/hello.py\n",
    "age"
   ]
  },
  {
   "cell_type": "markdown",
   "id": "8da1b11b-59cb-4961-baf8-0dac9f4fee49",
   "metadata": {},
   "source": [
    "Run hello_nb.ipynb and print `location`"
   ]
  },
  {
   "cell_type": "code",
   "execution_count": 42,
   "id": "a7e898ad-ef3b-45ae-9f1f-57d562d5877b",
   "metadata": {},
   "outputs": [
    {
     "name": "stdout",
     "output_type": "stream",
     "text": [
      "Hello World\n"
     ]
    },
    {
     "data": {
      "text/plain": [
       "'Earth'"
      ]
     },
     "execution_count": 42,
     "metadata": {},
     "output_type": "execute_result"
    }
   ],
   "source": [
    "%run run_section/hello_nb.ipynb\n",
    "location"
   ]
  },
  {
   "cell_type": "markdown",
   "id": "fad95202-dc4b-4ab4-8864-05e8f04de371",
   "metadata": {},
   "source": [
    "Any variables you have here can be overwritten if they are also in the run notebook.\n",
    "\n",
    "**Example** Set name to \"Jane Doe\" and run hello.py. What is name now?"
   ]
  },
  {
   "cell_type": "code",
   "execution_count": 30,
   "id": "d8a84e5c-334a-41f7-8280-dad92f8e5e23",
   "metadata": {},
   "outputs": [
    {
     "name": "stdout",
     "output_type": "stream",
     "text": [
      "Jane Doe\n",
      "Hello world\n"
     ]
    },
    {
     "data": {
      "text/plain": [
       "'John Doe'"
      ]
     },
     "execution_count": 30,
     "metadata": {},
     "output_type": "execute_result"
    }
   ],
   "source": [
    "name = \"Jane Doe\"\n",
    "print(name)\n",
    "%run run_section/hello.py\n",
    "name"
   ]
  },
  {
   "cell_type": "markdown",
   "id": "56dd6d0d-20ec-485e-bab8-f5d2e32dbd66",
   "metadata": {},
   "source": [
    "Set age to 50 and run hello.py. What is the age now?"
   ]
  },
  {
   "cell_type": "code",
   "execution_count": 31,
   "id": "05ea6e45-8182-4e39-b72d-27af2ecbced6",
   "metadata": {},
   "outputs": [
    {
     "name": "stdout",
     "output_type": "stream",
     "text": [
      "50\n",
      "Hello world\n"
     ]
    },
    {
     "data": {
      "text/plain": [
       "100"
      ]
     },
     "execution_count": 31,
     "metadata": {},
     "output_type": "execute_result"
    }
   ],
   "source": [
    "age = 50\n",
    "print(age)\n",
    "%run run_section/hello.py\n",
    "age"
   ]
  },
  {
   "cell_type": "markdown",
   "id": "f3c843b4-bc27-45e2-b572-fba80a26ede6",
   "metadata": {},
   "source": [
    "It is the same for notebooks.\n",
    "\n",
    "Set location to \"Saturn\" and run hello_nb.ipynb. What is the location now?"
   ]
  },
  {
   "cell_type": "code",
   "execution_count": 43,
   "id": "e8f492eb-81ef-4fcc-b274-4bbc166a830b",
   "metadata": {},
   "outputs": [
    {
     "name": "stdout",
     "output_type": "stream",
     "text": [
      "50\n",
      "Hello World\n"
     ]
    },
    {
     "data": {
      "text/plain": [
       "'Earth'"
      ]
     },
     "execution_count": 43,
     "metadata": {},
     "output_type": "execute_result"
    }
   ],
   "source": [
    "location = 50\n",
    "print(location)\n",
    "%run run_section/hello_nb.ipynb\n",
    "location"
   ]
  },
  {
   "cell_type": "markdown",
   "id": "e13edfd3-4301-490f-901f-80c6dfebdb24",
   "metadata": {},
   "source": [
    "%run also lets us access any functions within a script of notebook\n",
    "\n",
    "**Example** Add 2 and 3 using add_two_numbers"
   ]
  },
  {
   "cell_type": "code",
   "execution_count": 33,
   "id": "70955b35-e6c0-4ff3-8829-6dc764cc9779",
   "metadata": {},
   "outputs": [
    {
     "name": "stdout",
     "output_type": "stream",
     "text": [
      "Hello world\n"
     ]
    },
    {
     "data": {
      "text/plain": [
       "5"
      ]
     },
     "execution_count": 33,
     "metadata": {},
     "output_type": "execute_result"
    }
   ],
   "source": [
    "%run run_section/hello.py\n",
    "add_two_numbers(2, 3)"
   ]
  },
  {
   "cell_type": "markdown",
   "id": "e0c032a9-7656-4b3c-a3f5-5d0ae209ef1a",
   "metadata": {},
   "source": [
    "Add 2, 3, 4 using add_three_numbers from hello_nb.ipynb"
   ]
  },
  {
   "cell_type": "code",
   "execution_count": 44,
   "id": "9ba02af6-0c70-432c-ba44-be0752214a93",
   "metadata": {},
   "outputs": [
    {
     "name": "stdout",
     "output_type": "stream",
     "text": [
      "Hello World\n"
     ]
    },
    {
     "data": {
      "text/plain": [
       "9"
      ]
     },
     "execution_count": 44,
     "metadata": {},
     "output_type": "execute_result"
    }
   ],
   "source": [
    "%run run_section/hello_nb.ipynb\n",
    "add_three_numbers(2,3,4)"
   ]
  },
  {
   "cell_type": "markdown",
   "id": "5c011ea0-e6ac-4e4c-8ad6-ce4a1e6f7955",
   "metadata": {},
   "source": [
    "Multiply 5 and 6 using multiply_two_numbers from hello_nb.ipynb"
   ]
  },
  {
   "cell_type": "code",
   "execution_count": 45,
   "id": "6fc66d8c-b1c6-4ed3-9444-0f7126e69f2e",
   "metadata": {},
   "outputs": [
    {
     "name": "stdout",
     "output_type": "stream",
     "text": [
      "Hello World\n"
     ]
    },
    {
     "data": {
      "text/plain": [
       "30"
      ]
     },
     "execution_count": 45,
     "metadata": {},
     "output_type": "execute_result"
    }
   ],
   "source": [
    "%run run_section/hello_nb.ipynb\n",
    "multiply_two_numbers(5,6)"
   ]
  },
  {
   "cell_type": "markdown",
   "id": "67e8dd59-2e4e-4860-81c5-e92822f16b3a",
   "metadata": {},
   "source": [
    "## Accessing Parts of Another Notebook\n",
    "\n",
    "In this section, we will learn how to access parts of another notebook without executing the whole notebook.\n",
    "A python library called `import_ipynb` can do this by essentially treating the notebook as a python module.\n",
    "This allows us to reuse code from another notebook without executing all the cells. \n",
    "`import_ipynb` module exracts only the relevant Python cells from the notebook ignoring markdown cells. "
   ]
  },
  {
   "cell_type": "markdown",
   "id": "7566d36d-00fb-495c-800e-124999b65e99",
   "metadata": {},
   "source": [
    "**Example** import hello_nb.ipynb and display `name`"
   ]
  },
  {
   "cell_type": "code",
   "execution_count": 47,
   "id": "27213982-767c-4b18-a803-b75d77e08a9e",
   "metadata": {},
   "outputs": [
    {
     "data": {
      "text/plain": [
       "'John Doe'"
      ]
     },
     "execution_count": 47,
     "metadata": {},
     "output_type": "execute_result"
    }
   ],
   "source": [
    "import import_ipynb\n",
    "import run_section.hello_nb as nb\n",
    "nb.name"
   ]
  },
  {
   "cell_type": "markdown",
   "id": "e84f482c-b9df-443f-815d-4ae91ea0bca2",
   "metadata": {},
   "source": [
    "import hello_nb.ipynb and display `age`"
   ]
  },
  {
   "cell_type": "code",
   "execution_count": 48,
   "id": "033fedb1-f5f0-498c-ba43-bf6c3befa718",
   "metadata": {},
   "outputs": [
    {
     "data": {
      "text/plain": [
       "100"
      ]
     },
     "execution_count": 48,
     "metadata": {},
     "output_type": "execute_result"
    }
   ],
   "source": [
    "import import_ipynb\n",
    "import run_section.hello_nb as nb\n",
    "nb.age"
   ]
  },
  {
   "cell_type": "markdown",
   "id": "fd6b465a-7858-4a94-928b-9974d5cea180",
   "metadata": {},
   "source": [
    "import hello_nb.ipynb and display location"
   ]
  },
  {
   "cell_type": "code",
   "execution_count": 49,
   "id": "cbfee43a-dc52-42a1-9096-c1f95537f1b0",
   "metadata": {},
   "outputs": [
    {
     "data": {
      "text/plain": [
       "'Earth'"
      ]
     },
     "execution_count": 49,
     "metadata": {},
     "output_type": "execute_result"
    }
   ],
   "source": [
    "import import_ipynb\n",
    "import run_section.hello_nb as nb\n",
    "nb.location"
   ]
  },
  {
   "cell_type": "markdown",
   "id": "d1060d8d-d0c8-4e52-b994-3953aefb32ad",
   "metadata": {},
   "source": [
    "We can also import only some variables.\n",
    "\n",
    "**Example** import only name"
   ]
  },
  {
   "cell_type": "code",
   "execution_count": 50,
   "id": "71a975a3-f48d-4500-953b-6e263f79089f",
   "metadata": {},
   "outputs": [
    {
     "data": {
      "text/plain": [
       "'John Doe'"
      ]
     },
     "execution_count": 50,
     "metadata": {},
     "output_type": "execute_result"
    }
   ],
   "source": [
    "import import_ipynb\n",
    "from run_section.hello_nb import name\n",
    "name"
   ]
  },
  {
   "cell_type": "markdown",
   "id": "fb259ddc-26e3-4b0f-b4cf-468af2c0f46f",
   "metadata": {},
   "source": [
    "import only age"
   ]
  },
  {
   "cell_type": "code",
   "execution_count": 51,
   "id": "ef4763c2-013f-4828-b1a8-39f8532fe830",
   "metadata": {},
   "outputs": [
    {
     "data": {
      "text/plain": [
       "100"
      ]
     },
     "execution_count": 51,
     "metadata": {},
     "output_type": "execute_result"
    }
   ],
   "source": [
    "import import_ipynb\n",
    "from run_section.hello_nb import age\n",
    "age"
   ]
  },
  {
   "cell_type": "markdown",
   "id": "d97dfd62-147e-41a1-9b42-e3d21481be0c",
   "metadata": {},
   "source": [
    "import only location"
   ]
  },
  {
   "cell_type": "code",
   "execution_count": 52,
   "id": "34231eda-d53f-413a-ba37-02792808fc20",
   "metadata": {},
   "outputs": [
    {
     "data": {
      "text/plain": [
       "'Earth'"
      ]
     },
     "execution_count": 52,
     "metadata": {},
     "output_type": "execute_result"
    }
   ],
   "source": [
    "import import_ipynb\n",
    "from run_section.hello_nb import location\n",
    "location"
   ]
  },
  {
   "cell_type": "markdown",
   "id": "83384dec-fce9-468a-a2b9-062a411a688e",
   "metadata": {},
   "source": [
    "**Example** Add 1, 2, 3 by importing only add_three_numbers"
   ]
  },
  {
   "cell_type": "code",
   "execution_count": 53,
   "id": "70e32390-937a-474b-ba4c-bd5c11a952a4",
   "metadata": {},
   "outputs": [
    {
     "data": {
      "text/plain": [
       "6"
      ]
     },
     "execution_count": 53,
     "metadata": {},
     "output_type": "execute_result"
    }
   ],
   "source": [
    "import import_ipynb\n",
    "from run_section.hello_nb import add_three_numbers\n",
    "add_three_numbers(1,2,3)"
   ]
  },
  {
   "cell_type": "markdown",
   "id": "f3a5df1e-7152-4ab6-bcc0-41237ca83c9e",
   "metadata": {},
   "source": [
    "Multiply 8 and 9 by importing only multiply_two_numbers"
   ]
  },
  {
   "cell_type": "code",
   "execution_count": 54,
   "id": "b947dd15-8aa9-43e6-ab42-3049da7cc985",
   "metadata": {},
   "outputs": [
    {
     "data": {
      "text/plain": [
       "72"
      ]
     },
     "execution_count": 54,
     "metadata": {},
     "output_type": "execute_result"
    }
   ],
   "source": [
    "import import_ipynb\n",
    "from run_section.hello_nb import multiply_two_numbers\n",
    "multiply_two_numbers(8,9)"
   ]
  },
  {
   "cell_type": "markdown",
   "id": "e24508e5-f796-4332-98d9-c5a785dd45d1",
   "metadata": {},
   "source": [
    "We can also import python scripts!\n",
    "\n",
    "Add 1 and 2 by importing only add_two_numbers from hello.py"
   ]
  },
  {
   "cell_type": "code",
   "execution_count": 56,
   "id": "41e84aa5-0ebd-4791-8a6f-d19e7cb03afe",
   "metadata": {},
   "outputs": [
    {
     "data": {
      "text/plain": [
       "3"
      ]
     },
     "execution_count": 56,
     "metadata": {},
     "output_type": "execute_result"
    }
   ],
   "source": [
    "import import_ipynb\n",
    "from run_section.hello import add_two_numbers\n",
    "add_two_numbers(1,2)"
   ]
  },
  {
   "cell_type": "markdown",
   "id": "9ed8779c-debf-4e7e-9196-0686cce6ce5f",
   "metadata": {},
   "source": [
    "## Access only configurations from another notebook"
   ]
  },
  {
   "cell_type": "markdown",
   "id": "76b6c5b7-1f46-43f5-be6d-7153b4b3b3e4",
   "metadata": {},
   "source": [
    "."
   ]
  }
 ],
 "metadata": {
  "kernelspec": {
   "display_name": "Python 3 (ipykernel)",
   "language": "python",
   "name": "python3"
  },
  "language_info": {
   "codemirror_mode": {
    "name": "ipython",
    "version": 3
   },
   "file_extension": ".py",
   "mimetype": "text/x-python",
   "name": "python",
   "nbconvert_exporter": "python",
   "pygments_lexer": "ipython3",
   "version": "3.12.7"
  }
 },
 "nbformat": 4,
 "nbformat_minor": 5
}
