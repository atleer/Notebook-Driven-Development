{
 "cells": [
  {
   "cell_type": "markdown",
   "id": "86a1b096-60b7-4470-aeb6-8d13b412891d",
   "metadata": {},
   "source": [
    "# Workflow Integration in Jupyter\n",
    "\n",
    "Research projects are often involve complex processes with multiple steps that are interconnected. \n",
    "Each of these steps might focus on a specific part of the analysis, such as data cleaning, model building, or visualization.\n",
    "While these steps can be developed and run separately, they are usually not independent; one step may depend on the outcome of a previous step.\n",
    "For instance, before you can build a model, you might need results from data preprocessing or specific configuration settings.\n",
    "\n",
    "In Jupyter notebooks, there are various scenarios where one notebook might need to use content from another notebook.\n",
    "Sometimes, you might want to run an entire notebook to make sure everything works in sequence.\n",
    "At other times, you may only need to pull in specific parts of another notebook, such as a function, a configuration setting, or a block of code.\n",
    "Jupyter provides several built-in and external tools to handle these scenarios efficiently.\n",
    "In this notebook, we will explore how to use these tools to manage complex workflows such that notebooks can either run entire sequences or access just the specific content they need, making the research process more efficient and organized.\n",
    "\n",
    "We start by looking at magic commands to manage notebooks, how to sequence of notebooks from another notebook, how to import contents of notebook like it was a script, and end by practicing setting up a configuration notebook. "
   ]
  },
  {
   "cell_type": "markdown",
   "id": "93ab7c45-c42a-4d6a-9acb-c9586dca7012",
   "metadata": {},
   "source": [
    "\n",
    "## Magic commands\n",
    "\n",
    "Magic commands in Jupyter notebooks are special commands that provide a convenient way to perform certain tasks and control the behavior of the Jupyter environment. They start with a % (for line magics, which affect a single line) or %% (for cell magics, which affect the entire cell). These commands are designed to facilitate tasks such as running scripts, profiling code, timing execution, and integrating with other environments or languages.\n",
    "\n",
    "When we are developing an code as researchers, we are mainly concerned with how long an analysis runs and how to store and load results. In this section, let's focus on some of Jupyter magic commands that let's us do just that.\n",
    "\n",
    "**Example** Measure how long it takes to sum numbers from 1 to 100"
   ]
  },
  {
   "cell_type": "code",
   "execution_count": 2,
   "id": "713afd69-2451-43d9-8418-2e5bf66ba209",
   "metadata": {},
   "outputs": [
    {
     "name": "stdout",
     "output_type": "stream",
     "text": [
      "651 ns ± 11.4 ns per loop (mean ± std. dev. of 7 runs, 1,000,000 loops each)\n"
     ]
    }
   ],
   "source": [
    "%timeit sum(range(100))"
   ]
  },
  {
   "cell_type": "markdown",
   "id": "b6550185-f3d7-4af1-908d-e923c6980b9c",
   "metadata": {},
   "source": [
    "You might be surprised that it took longer than to just run the code. That is because %timeit runs the line of code multiple times with a lot of iterations in each run to get a reliable estimation of the execution time. The output you see here will look something like this\n",
    "\n",
    "`651 ns ± 11.4 ns per loop (mean ± std. dev. of 7 runs, 1,000,000 loops each)`\n",
    "\n",
    "Here's what it means:\n",
    "\n",
    "| **Number/Value**      | **Explanation**                                                                                                                                   |\n",
    "|-----------------------|---------------------------------------------------------------------------------------------------------------------------------------------------|\n",
    "| `651 ns`              | The mean (average) execution time of the code per loop. The unit here is nanoseconds (ns), meaning it took an average of 651 nanoseconds per loop. |\n",
    "| `± 11.4 ns`           | The standard deviation of the execution time. It indicates the variability in the execution time across different runs. In this case, it varies by 11.4 nanoseconds. |\n",
    "| `7 runs`              | The number of times `%timeit` ran the test. In this case, the test was executed 7 times to gather the statistics for the mean and standard deviation. |\n",
    "| `1,000,000 loops each`| The number of iterations (loops) that were executed per run. Here, the code was repeated 1,000,000 times in each of the 7 runs to get a more accurate timing. |\n",
    "\n",
    "\n",
    "Measure how long it takes to sum numbers from 1 to 1000"
   ]
  },
  {
   "cell_type": "code",
   "execution_count": 3,
   "id": "dc3548c0-b98f-4df1-9ca6-a85dda1009ad",
   "metadata": {},
   "outputs": [
    {
     "name": "stdout",
     "output_type": "stream",
     "text": [
      "15 μs ± 426 ns per loop (mean ± std. dev. of 7 runs, 100,000 loops each)\n"
     ]
    }
   ],
   "source": [
    "%timeit sum(range(1000))"
   ]
  },
  {
   "cell_type": "markdown",
   "id": "432c9640-6275-49d2-a0cf-ea5852e93e70",
   "metadata": {},
   "source": [
    "Let's take this further. \n",
    "Measure how long it takes to sum numbers from 1 to 100000"
   ]
  },
  {
   "cell_type": "code",
   "execution_count": 4,
   "id": "60dab7b5-a063-4f4e-b1df-ef234c32e360",
   "metadata": {},
   "outputs": [
    {
     "name": "stdout",
     "output_type": "stream",
     "text": [
      "1.71 ms ± 32.7 μs per loop (mean ± std. dev. of 7 runs, 1,000 loops each)\n"
     ]
    }
   ],
   "source": [
    "%timeit sum(range(100000))"
   ]
  },
  {
   "cell_type": "markdown",
   "id": "fc4b0ba1-cfea-4993-8ac1-f420452f76b2",
   "metadata": {},
   "source": [
    "Do you notice that number of loops reduced as the code took longer to execute? This is because %timeit automatically adjusts the number of loops to ensure an accurate measurement based on the how quickly the code being tested runs. \n",
    "\n",
    "**Example** Measure how long it takes to sum numbers from 1 to 100 with 1000 loops per iteration"
   ]
  },
  {
   "cell_type": "code",
   "execution_count": 5,
   "id": "a224ca60-064b-46d1-9635-15f0524859b1",
   "metadata": {},
   "outputs": [
    {
     "name": "stdout",
     "output_type": "stream",
     "text": [
      "745 ns ± 11.2 ns per loop (mean ± std. dev. of 7 runs, 1,000 loops each)\n"
     ]
    }
   ],
   "source": [
    "%timeit -n 1000 sum(range(100))"
   ]
  },
  {
   "cell_type": "markdown",
   "id": "51beacc5-bc37-4a35-b5b5-f49a164bdeb7",
   "metadata": {},
   "source": [
    "Measure how long it takes to sum numbers from 1 to 100 with 10000 loops per iteration"
   ]
  },
  {
   "cell_type": "code",
   "execution_count": 6,
   "id": "d26b3720-a26d-49bd-b8e7-5a9c9395596f",
   "metadata": {},
   "outputs": [
    {
     "name": "stdout",
     "output_type": "stream",
     "text": [
      "746 ns ± 158 ns per loop (mean ± std. dev. of 7 runs, 10,000 loops each)\n"
     ]
    }
   ],
   "source": [
    "%timeit -n 10000 sum(range(100))"
   ]
  },
  {
   "cell_type": "markdown",
   "id": "73edb727-c44d-4fec-8ac4-17ef8acfebc6",
   "metadata": {},
   "source": [
    "Measure how long it takes to sum numbers from 1 to 100 with 5 iterations.\n",
    "\n",
    "Hint: Use -r to set number of iterations"
   ]
  },
  {
   "cell_type": "code",
   "execution_count": 7,
   "id": "c39d065e-1d53-4410-aa7d-c465a7083a9f",
   "metadata": {},
   "outputs": [
    {
     "name": "stdout",
     "output_type": "stream",
     "text": [
      "564 ns ± 9.04 ns per loop (mean ± std. dev. of 5 runs, 1,000,000 loops each)\n"
     ]
    }
   ],
   "source": [
    "%timeit -r 5 sum(range(100))"
   ]
  },
  {
   "cell_type": "markdown",
   "id": "0bad507d-d823-4111-be85-5721094d0b99",
   "metadata": {},
   "source": [
    "Measure how long it takes to sum numbers from 1 to 100 with 5 iterations and 1000 loops per iteration"
   ]
  },
  {
   "cell_type": "code",
   "execution_count": 8,
   "id": "fed0d9b9-009d-41ce-a0cb-661829b4da55",
   "metadata": {},
   "outputs": [
    {
     "name": "stdout",
     "output_type": "stream",
     "text": [
      "533 ns ± 153 ns per loop (mean ± std. dev. of 5 runs, 1,000 loops each)\n"
     ]
    }
   ],
   "source": [
    "%timeit -r 5 -n 1000 sum(range(100))"
   ]
  },
  {
   "cell_type": "markdown",
   "id": "685207a9-b8fe-4666-a730-67162e626801",
   "metadata": {},
   "source": [
    "In the below exercises, let's practice loading contents of another file. \n",
    "\n",
    "**Example** Load contents of `text_config` file"
   ]
  },
  {
   "cell_type": "code",
   "execution_count": 11,
   "id": "3e9d49a5-dad8-4c70-be84-af0e10b9bdf3",
   "metadata": {},
   "outputs": [],
   "source": [
    "%load data/text_config.txt"
   ]
  },
  {
   "cell_type": "markdown",
   "id": "436177fd-3bba-4cd9-9fa2-b725f20fb567",
   "metadata": {},
   "source": [
    "As soon as you execute the cell with %load, the following happens\n",
    "\n",
    "1. %load command itself is turned into a comment\n",
    "2. Below the comment, the contents of the file gets loaded\n",
    "3. You can edit it and then execute the line\n",
    "\n",
    "Load contents of `python_config` file"
   ]
  },
  {
   "cell_type": "code",
   "execution_count": 13,
   "id": "c9f394a1-89d5-4817-b493-f2f486444488",
   "metadata": {},
   "outputs": [],
   "source": [
    "# %load data/python_config.py\n",
    "num_exp=10 # number of experiments\n",
    "scientist=\"John Doe\" # name of the scientist"
   ]
  },
  {
   "cell_type": "markdown",
   "id": "6acc1156-f16d-4e20-8e1f-9de91b743742",
   "metadata": {},
   "source": [
    "It can also work with other notebooks. It loads the whole notebook.\n",
    "\n",
    "Load contents of notebook_config.file"
   ]
  },
  {
   "cell_type": "code",
   "execution_count": 14,
   "id": "9f4c0bfc-17be-4a8e-a250-6675b4e32b4e",
   "metadata": {},
   "outputs": [],
   "source": [
    "# %load data/notebook_config.ipynb\n",
    "{\n",
    " \"cells\": [\n",
    "  {\n",
    "   \"cell_type\": \"markdown\",\n",
    "   \"id\": \"4241faf6-feb5-404f-a227-369aa7057d93\",\n",
    "   \"metadata\": {},\n",
    "   \"source\": [\n",
    "    \"These values were changed on 2024-10-11\\n\",\n",
    "    \"\\n\",\n",
    "    \"Parameter `num_exp` describes how many experiments were conducted.\"\n",
    "   ]\n",
    "  },\n",
    "  {\n",
    "   \"cell_type\": \"code\",\n",
    "   \"execution_count\": 3,\n",
    "   \"id\": \"c20776fc-d2bf-4e4c-933d-6a0816dc0492\",\n",
    "   \"metadata\": {},\n",
    "   \"outputs\": [],\n",
    "   \"source\": [\n",
    "    \"num_exp = 10\"\n",
    "   ]\n",
    "  },\n",
    "  {\n",
    "   \"cell_type\": \"markdown\",\n",
    "   \"id\": \"41be7a78-31b2-47de-8fc4-22fd6867e29c\",\n",
    "   \"metadata\": {},\n",
    "   \"source\": [\n",
    "    \"Parameter `scientist` is the name of the person who conducted the series of experiments\"\n",
    "   ]\n",
    "  },\n",
    "  {\n",
    "   \"cell_type\": \"code\",\n",
    "   \"execution_count\": 4,\n",
    "   \"id\": \"cb3b0e40-77ad-4911-8671-ee719c2da1cf\",\n",
    "   \"metadata\": {},\n",
    "   \"outputs\": [],\n",
    "   \"source\": [\n",
    "    \"scientist = \\\"John Doe\\\"\"\n",
    "   ]\n",
    "  }\n",
    " ],\n",
    " \"metadata\": {\n",
    "  \"kernelspec\": {\n",
    "   \"display_name\": \"Python 3 (ipykernel)\",\n",
    "   \"language\": \"python\",\n",
    "   \"name\": \"python3\"\n",
    "  },\n",
    "  \"language_info\": {\n",
    "   \"codemirror_mode\": {\n",
    "    \"name\": \"ipython\",\n",
    "    \"version\": 3\n",
    "   },\n",
    "   \"file_extension\": \".py\",\n",
    "   \"mimetype\": \"text/x-python\",\n",
    "   \"name\": \"python\",\n",
    "   \"nbconvert_exporter\": \"python\",\n",
    "   \"pygments_lexer\": \"ipython3\",\n",
    "   \"version\": \"3.12.7\"\n",
    "  }\n",
    " },\n",
    " \"nbformat\": 4,\n",
    " \"nbformat_minor\": 5\n",
    "}\n"
   ]
  },
  {
   "cell_type": "markdown",
   "id": "5a543595-389c-4b72-8d94-a7f700faf3a4",
   "metadata": {},
   "source": [
    "**Example** Store \"Mice Visual Cortex Analysis\" as `project_name` so any notebook can access it"
   ]
  },
  {
   "cell_type": "code",
   "execution_count": 17,
   "id": "9cbe63fa-5b50-4d83-9816-94f25ea969cc",
   "metadata": {},
   "outputs": [
    {
     "name": "stdout",
     "output_type": "stream",
     "text": [
      "Stored 'project_name' (str)\n"
     ]
    }
   ],
   "source": [
    "project_name = 'Mice Visual Cortex Analysis'\n",
    "%store project_name"
   ]
  },
  {
   "cell_type": "markdown",
   "id": "e665341c-a031-416b-8f22-59cda6aebb5a",
   "metadata": {},
   "source": [
    "Now this variable is stored on the disk in ~/.ipython. It will be available to all jupyter notebooks as long as the notebooks are run in same environment\n",
    "\n",
    "Store 123456 as `project_id` so any notebook can access it"
   ]
  },
  {
   "cell_type": "code",
   "execution_count": 19,
   "id": "7c08f9e2-c5c0-48e8-8e26-5ae21c723691",
   "metadata": {},
   "outputs": [
    {
     "name": "stdout",
     "output_type": "stream",
     "text": [
      "Stored 'project_id' (int)\n"
     ]
    }
   ],
   "source": [
    "project_id = 123456\n",
    "%store project_id"
   ]
  },
  {
   "cell_type": "markdown",
   "id": "6c453fd8-efbc-44e9-b66f-8554ee555f5b",
   "metadata": {},
   "source": [
    "Store \"Genius Lab\" as `lab_name` so any notebook can access it."
   ]
  },
  {
   "cell_type": "code",
   "execution_count": 20,
   "id": "3dffae10-b061-4f51-9383-6c468806369b",
   "metadata": {},
   "outputs": [
    {
     "name": "stdout",
     "output_type": "stream",
     "text": [
      "Stored 'lab_name' (str)\n"
     ]
    }
   ],
   "source": [
    "lab_name = \"Genius lab\"\n",
    "%store lab_name"
   ]
  },
  {
   "cell_type": "markdown",
   "id": "10451d96-21b9-4409-8265-769c87ef52a2",
   "metadata": {},
   "source": [
    "**Example** In another notebook, retrieve `project_name`"
   ]
  },
  {
   "cell_type": "code",
   "execution_count": 22,
   "id": "499a3f5f-ad41-4ee3-ab3d-4c32b225c350",
   "metadata": {},
   "outputs": [
    {
     "data": {
      "text/plain": [
       "'Mice Visual Cortex Analysis'"
      ]
     },
     "execution_count": 22,
     "metadata": {},
     "output_type": "execute_result"
    }
   ],
   "source": [
    "%store -r project_name\n",
    "project_name"
   ]
  },
  {
   "cell_type": "markdown",
   "id": "7e9d5c42-9022-4d78-a534-28f2ef3c1584",
   "metadata": {},
   "source": [
    "In another notebook, retrieve project_id"
   ]
  },
  {
   "cell_type": "code",
   "execution_count": 25,
   "id": "236bf6bd-7b27-4b6c-a111-3d892121076d",
   "metadata": {},
   "outputs": [
    {
     "data": {
      "text/plain": [
       "123456"
      ]
     },
     "execution_count": 25,
     "metadata": {},
     "output_type": "execute_result"
    }
   ],
   "source": [
    "%store -r project_id\n",
    "project_id"
   ]
  },
  {
   "cell_type": "markdown",
   "id": "f19db7bd-dd21-4fe4-bbbe-56d71bc12e6a",
   "metadata": {},
   "source": [
    "In another notebook, retrieve lab_name"
   ]
  },
  {
   "cell_type": "code",
   "execution_count": 26,
   "id": "39abe16f-a447-4545-8e67-f1eef667163f",
   "metadata": {},
   "outputs": [
    {
     "data": {
      "text/plain": [
       "'Genius lab'"
      ]
     },
     "execution_count": 26,
     "metadata": {},
     "output_type": "execute_result"
    }
   ],
   "source": [
    "%store -r lab_name\n",
    "lab_name"
   ]
  },
  {
   "cell_type": "markdown",
   "id": "26b51d65-117a-408f-8606-c1c401cfcdd7",
   "metadata": {},
   "source": [
    "So far we only saw magic commands that run on a single line of code. Let's look into some cell magic commands that run on entire cell\n",
    "\n",
    "**Example** Measure how long it takes to sum numbers upto 1000 with loop. "
   ]
  },
  {
   "cell_type": "code",
   "execution_count": 30,
   "id": "0fa27ecb-aae1-4533-ba94-d49c2ca9afac",
   "metadata": {},
   "outputs": [
    {
     "name": "stdout",
     "output_type": "stream",
     "text": [
      "CPU times: total: 0 ns\n",
      "Wall time: 0 ns\n"
     ]
    }
   ],
   "source": [
    "%%time\n",
    "result = 0\n",
    "for i in range(1000):\n",
    "    result += i"
   ]
  },
  {
   "cell_type": "markdown",
   "id": "63d4b4bd-19ec-4a7b-ab5b-ee1eac7d3562",
   "metadata": {},
   "source": [
    "Measure how long it takes to sum numbers upto 10000000 with loop."
   ]
  },
  {
   "cell_type": "code",
   "execution_count": 31,
   "id": "84ab4a55-2b33-4b6b-a2f4-4a1685c83029",
   "metadata": {},
   "outputs": [
    {
     "name": "stdout",
     "output_type": "stream",
     "text": [
      "CPU times: total: 500 ms\n",
      "Wall time: 1.07 s\n"
     ]
    }
   ],
   "source": [
    "%%time\n",
    "result = 0\n",
    "for i in range(10000000):\n",
    "    result += i"
   ]
  },
  {
   "cell_type": "markdown",
   "id": "38a9a1da-bc15-452b-92e8-029c0156c076",
   "metadata": {},
   "source": [
    "You can also use it for single line of code as long as the code is below %%time\n",
    "\n",
    "Measure how long it takes to sum numbers upto 10000000 without loop."
   ]
  },
  {
   "cell_type": "code",
   "execution_count": 33,
   "id": "aea1e330-1593-416f-8e8b-c3f9d0e59eed",
   "metadata": {},
   "outputs": [
    {
     "name": "stdout",
     "output_type": "stream",
     "text": [
      "CPU times: total: 46.9 ms\n",
      "Wall time: 183 ms\n"
     ]
    },
    {
     "data": {
      "text/plain": [
       "49999995000000"
      ]
     },
     "execution_count": 33,
     "metadata": {},
     "output_type": "execute_result"
    }
   ],
   "source": [
    "%%time \n",
    "sum(range(10000000))"
   ]
  },
  {
   "cell_type": "markdown",
   "id": "c904a177-8ba6-4f5b-b083-8d4d30b3c36c",
   "metadata": {},
   "source": [
    "We might also want to write contents of a single cell into a file of its own. This can be useful when you write functions or have a list of variables that you want to store as a python script to access later on.\n",
    "\n",
    "**Example** Store `experiment_name`, `num_mice`, `num_neuropixels` in a file called `experiment_info.txt`"
   ]
  },
  {
   "cell_type": "code",
   "execution_count": 34,
   "id": "0e462185-2d45-41b8-8a11-9a97bd09d016",
   "metadata": {},
   "outputs": [
    {
     "name": "stdout",
     "output_type": "stream",
     "text": [
      "Writing experiment_info.txt\n"
     ]
    }
   ],
   "source": [
    "%%writefile experiment_info.txt\n",
    "experiment_name = \"Mice Visual Cortex\"\n",
    "num_mice = 25\n",
    "num_neuropixels = 300"
   ]
  },
  {
   "cell_type": "markdown",
   "id": "55e240ba-4e2c-4acb-85d8-83e51ed484d4",
   "metadata": {},
   "source": [
    "Store `experiment_name`, `num_mice`, `num_neuropixels` in a file called `experiment_info.py`"
   ]
  },
  {
   "cell_type": "code",
   "execution_count": 35,
   "id": "ccfbef95-a19f-4667-9b48-90b3ed7f37a6",
   "metadata": {},
   "outputs": [
    {
     "name": "stdout",
     "output_type": "stream",
     "text": [
      "Writing experiment_info.py\n"
     ]
    }
   ],
   "source": [
    "%%writefile experiment_info.py\n",
    "experiment_name = \"Mice Visual Cortex\"\n",
    "num_mice = 25\n",
    "num_neuropixels = 300"
   ]
  },
  {
   "cell_type": "markdown",
   "id": "ee3b7b56-a7d2-454a-9a00-d70ef2ade840",
   "metadata": {},
   "source": [
    "Add `num_electrodes` to `experiment_info.py`\n",
    "\n",
    "Hint: Use -a"
   ]
  },
  {
   "cell_type": "code",
   "execution_count": 37,
   "id": "d75effd6-758b-4364-b89d-476905cb6eb7",
   "metadata": {},
   "outputs": [
    {
     "name": "stdout",
     "output_type": "stream",
     "text": [
      "Appending to experiment_info.py\n"
     ]
    }
   ],
   "source": [
    "%%writefile -a experiment_info.py\n",
    "num_electrodes = 100"
   ]
  },
  {
   "cell_type": "markdown",
   "id": "f8f3b191-2d49-42eb-9f98-87f358f97492",
   "metadata": {},
   "source": [
    "## Run a whole notebook from here %run"
   ]
  },
  {
   "cell_type": "markdown",
   "id": "9ed8779c-debf-4e7e-9196-0686cce6ce5f",
   "metadata": {},
   "source": [
    "## Access only configurations from another notebook"
   ]
  },
  {
   "cell_type": "markdown",
   "id": "67e8dd59-2e4e-4860-81c5-e92822f16b3a",
   "metadata": {},
   "source": [
    "## import_ipynb module"
   ]
  },
  {
   "cell_type": "markdown",
   "id": "76b6c5b7-1f46-43f5-be6d-7153b4b3b3e4",
   "metadata": {},
   "source": [
    "."
   ]
  }
 ],
 "metadata": {
  "kernelspec": {
   "display_name": "Python 3 (ipykernel)",
   "language": "python",
   "name": "python3"
  },
  "language_info": {
   "codemirror_mode": {
    "name": "ipython",
    "version": 3
   },
   "file_extension": ".py",
   "mimetype": "text/x-python",
   "name": "python",
   "nbconvert_exporter": "python",
   "pygments_lexer": "ipython3",
   "version": "3.12.7"
  }
 },
 "nbformat": 4,
 "nbformat_minor": 5
}
