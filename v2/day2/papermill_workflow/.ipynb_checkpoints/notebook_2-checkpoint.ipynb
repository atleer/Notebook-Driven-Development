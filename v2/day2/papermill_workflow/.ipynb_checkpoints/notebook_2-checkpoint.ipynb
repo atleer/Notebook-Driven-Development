{
 "cells": [
  {
   "cell_type": "code",
   "execution_count": null,
   "id": "af60cfaf-0c7a-4e5f-bca5-7bc2af30b6fc",
   "metadata": {
    "editable": true,
    "slideshow": {
     "slide_type": ""
    },
    "tags": []
   },
   "outputs": [],
   "source": [
    "import pandas as pd"
   ]
  },
  {
   "cell_type": "markdown",
   "id": "9813cb06-dd6c-4952-89ab-a53513c87e2c",
   "metadata": {},
   "source": [
    "Parameters"
   ]
  },
  {
   "cell_type": "code",
   "execution_count": null,
   "id": "e672756b-dfcf-4603-a682-c958b66193dd",
   "metadata": {
    "editable": true,
    "slideshow": {
     "slide_type": ""
    },
    "tags": [
     "parameters"
    ]
   },
   "outputs": [],
   "source": [
    "# Parameters\n",
    "processed_csv = \"processed.csv\""
   ]
  },
  {
   "cell_type": "markdown",
   "id": "d19a8728-f888-40f8-9513-af38bc3e81cb",
   "metadata": {},
   "source": [
    "Read the processed CSV file"
   ]
  },
  {
   "cell_type": "code",
   "execution_count": null,
   "id": "23701b3b-51bc-4a2e-8c89-7be29bb0eacf",
   "metadata": {},
   "outputs": [],
   "source": [
    "df = pd.read_csv(processed_csv)"
   ]
  },
  {
   "cell_type": "markdown",
   "id": "72135a18-3c31-4238-8526-1046ac6757f8",
   "metadata": {},
   "source": [
    "Perform analysis (e.g., calculate mean of 'num_trials')"
   ]
  },
  {
   "cell_type": "code",
   "execution_count": null,
   "id": "b6d16fe8-5d9d-4e77-87b2-d94fbf3424ae",
   "metadata": {},
   "outputs": [],
   "source": [
    "mean_value = df['num_trials'].mean()\n",
    "\n",
    "print(f\"Mean value of 'num_trials': {mean_value}\")"
   ]
  }
 ],
 "metadata": {
  "kernelspec": {
   "display_name": "Python 3 (ipykernel)",
   "language": "python",
   "name": "python3"
  },
  "language_info": {
   "codemirror_mode": {
    "name": "ipython",
    "version": 3
   },
   "file_extension": ".py",
   "mimetype": "text/x-python",
   "name": "python",
   "nbconvert_exporter": "python",
   "pygments_lexer": "ipython3",
   "version": "3.12.7"
  }
 },
 "nbformat": 4,
 "nbformat_minor": 5
}
