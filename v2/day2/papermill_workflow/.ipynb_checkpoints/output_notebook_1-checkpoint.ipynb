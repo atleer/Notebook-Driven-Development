{
 "cells": [
  {
   "cell_type": "code",
   "execution_count": 1,
   "id": "ba992094-6901-412c-8cdf-520444d57ab3",
   "metadata": {
    "editable": true,
    "execution": {
     "iopub.execute_input": "2024-10-11T17:04:56.891767Z",
     "iopub.status.busy": "2024-10-11T17:04:56.891767Z",
     "iopub.status.idle": "2024-10-11T17:04:57.606888Z",
     "shell.execute_reply": "2024-10-11T17:04:57.606888Z"
    },
    "papermill": {
     "duration": 0.722357,
     "end_time": "2024-10-11T17:04:57.607902",
     "exception": false,
     "start_time": "2024-10-11T17:04:56.885545",
     "status": "completed"
    },
    "slideshow": {
     "slide_type": ""
    },
    "tags": []
   },
   "outputs": [],
   "source": [
    "import pandas as pd\n",
    "import papermill as pm"
   ]
  },
  {
   "cell_type": "markdown",
   "id": "a16e75c3-b736-4806-b8a7-1060dc291aa6",
   "metadata": {
    "papermill": {
     "duration": 0.006005,
     "end_time": "2024-10-11T17:04:57.616301",
     "exception": false,
     "start_time": "2024-10-11T17:04:57.610296",
     "status": "completed"
    },
    "tags": []
   },
   "source": [
    "Parameters"
   ]
  },
  {
   "cell_type": "code",
   "execution_count": 2,
   "id": "6b11a11a-253d-4ef6-8bf1-68d514b2a6ac",
   "metadata": {
    "editable": true,
    "execution": {
     "iopub.execute_input": "2024-10-11T17:04:57.621868Z",
     "iopub.status.busy": "2024-10-11T17:04:57.621868Z",
     "iopub.status.idle": "2024-10-11T17:04:57.624656Z",
     "shell.execute_reply": "2024-10-11T17:04:57.624656Z"
    },
    "papermill": {
     "duration": 0.005908,
     "end_time": "2024-10-11T17:04:57.625723",
     "exception": false,
     "start_time": "2024-10-11T17:04:57.619815",
     "status": "completed"
    },
    "slideshow": {
     "slide_type": ""
    },
    "tags": [
     "parameters"
    ]
   },
   "outputs": [],
   "source": [
    "# Parameters\n",
    "input_csv_url = \"https://uni-bonn.sciebo.de/s/FYJPmdTyPo1qwRX/download\"\n",
    "output_csv = \"processed.csv\""
   ]
  },
  {
   "cell_type": "code",
   "execution_count": 3,
   "id": "5d4654dc",
   "metadata": {
    "editable": true,
    "execution": {
     "iopub.execute_input": "2024-10-11T17:04:57.629615Z",
     "iopub.status.busy": "2024-10-11T17:04:57.628615Z",
     "iopub.status.idle": "2024-10-11T17:04:57.630941Z",
     "shell.execute_reply": "2024-10-11T17:04:57.630941Z"
    },
    "papermill": {
     "duration": 0.003833,
     "end_time": "2024-10-11T17:04:57.630941",
     "exception": false,
     "start_time": "2024-10-11T17:04:57.627108",
     "status": "completed"
    },
    "slideshow": {
     "slide_type": ""
    },
    "tags": [
     "injected-parameters"
    ]
   },
   "outputs": [],
   "source": [
    "# Parameters\n",
    "output_csv = \"processed_1.csv\"\n"
   ]
  },
  {
   "cell_type": "markdown",
   "id": "161b2d4e-6858-418e-9530-ee53694d6742",
   "metadata": {
    "papermill": {
     "duration": 0.001411,
     "end_time": "2024-10-11T17:04:57.634356",
     "exception": false,
     "start_time": "2024-10-11T17:04:57.632945",
     "status": "completed"
    },
    "tags": []
   },
   "source": [
    "Read the CSV file"
   ]
  },
  {
   "cell_type": "code",
   "execution_count": 4,
   "id": "766cb135-b6b3-47de-bf26-ae1c85c81c72",
   "metadata": {
    "execution": {
     "iopub.execute_input": "2024-10-11T17:04:57.637462Z",
     "iopub.status.busy": "2024-10-11T17:04:57.637462Z",
     "iopub.status.idle": "2024-10-11T17:04:58.057983Z",
     "shell.execute_reply": "2024-10-11T17:04:58.057983Z"
    },
    "papermill": {
     "duration": 0.425047,
     "end_time": "2024-10-11T17:04:58.061000",
     "exception": false,
     "start_time": "2024-10-11T17:04:57.635953",
     "status": "completed"
    },
    "tags": []
   },
   "outputs": [],
   "source": [
    "df = pd.read_csv(input_csv_url)"
   ]
  },
  {
   "cell_type": "markdown",
   "id": "46698dd5-fcd9-4ab0-8f9c-b67aac4273cb",
   "metadata": {
    "papermill": {
     "duration": 0.005983,
     "end_time": "2024-10-11T17:04:58.071998",
     "exception": false,
     "start_time": "2024-10-11T17:04:58.066015",
     "status": "completed"
    },
    "tags": []
   },
   "source": [
    "Process the data (in this case, we'll just double a numerical column)"
   ]
  },
  {
   "cell_type": "code",
   "execution_count": 5,
   "id": "5c524725-be97-433a-9b68-3d08bee40bca",
   "metadata": {
    "execution": {
     "iopub.execute_input": "2024-10-11T17:04:58.082073Z",
     "iopub.status.busy": "2024-10-11T17:04:58.082073Z",
     "iopub.status.idle": "2024-10-11T17:04:58.085915Z",
     "shell.execute_reply": "2024-10-11T17:04:58.085915Z"
    },
    "papermill": {
     "duration": 0.014473,
     "end_time": "2024-10-11T17:04:58.091505",
     "exception": false,
     "start_time": "2024-10-11T17:04:58.077032",
     "status": "completed"
    },
    "tags": []
   },
   "outputs": [],
   "source": [
    "df['num_trials'] = df['count'] * 2"
   ]
  },
  {
   "cell_type": "markdown",
   "id": "eb2b8aff-0705-48e4-aef9-e8af281d8aa0",
   "metadata": {
    "papermill": {
     "duration": 0.002017,
     "end_time": "2024-10-11T17:04:58.098505",
     "exception": false,
     "start_time": "2024-10-11T17:04:58.096488",
     "status": "completed"
    },
    "tags": []
   },
   "source": [
    "Save the processed data to the output CSV"
   ]
  },
  {
   "cell_type": "code",
   "execution_count": 6,
   "id": "e0d28b77-8a64-42cf-8c5b-c548938dcbe2",
   "metadata": {
    "execution": {
     "iopub.execute_input": "2024-10-11T17:04:58.111492Z",
     "iopub.status.busy": "2024-10-11T17:04:58.110494Z",
     "iopub.status.idle": "2024-10-11T17:04:58.120848Z",
     "shell.execute_reply": "2024-10-11T17:04:58.120848Z"
    },
    "papermill": {
     "duration": 0.019719,
     "end_time": "2024-10-11T17:04:58.123227",
     "exception": false,
     "start_time": "2024-10-11T17:04:58.103508",
     "status": "completed"
    },
    "tags": []
   },
   "outputs": [
    {
     "data": {
      "text/plain": [
       "'Processed data saved to processed_1.csv'"
      ]
     },
     "execution_count": 6,
     "metadata": {},
     "output_type": "execute_result"
    }
   ],
   "source": [
    "df.to_csv(output_csv, index=False)\n",
    "\n",
    "f\"Processed data saved to {output_csv}\""
   ]
  }
 ],
 "metadata": {
  "kernelspec": {
   "display_name": "Python 3 (ipykernel)",
   "language": "python",
   "name": "python3"
  },
  "language_info": {
   "codemirror_mode": {
    "name": "ipython",
    "version": 3
   },
   "file_extension": ".py",
   "mimetype": "text/x-python",
   "name": "python",
   "nbconvert_exporter": "python",
   "pygments_lexer": "ipython3",
   "version": "3.12.7"
  },
  "papermill": {
   "default_parameters": {},
   "duration": 2.869993,
   "end_time": "2024-10-11T17:04:58.373266",
   "environment_variables": {},
   "exception": null,
   "input_path": "papermill_workflow/notebook_1.ipynb",
   "output_path": "papermill_workflow/output_notebook_1.ipynb",
   "parameters": {
    "output_csv": "processed_1.csv"
   },
   "start_time": "2024-10-11T17:04:55.503273",
   "version": "2.6.0"
  }
 },
 "nbformat": 4,
 "nbformat_minor": 5
}
