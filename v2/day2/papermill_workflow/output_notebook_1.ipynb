{
 "cells": [
  {
   "cell_type": "code",
   "execution_count": 1,
   "id": "ba992094-6901-412c-8cdf-520444d57ab3",
   "metadata": {
    "editable": true,
    "execution": {
     "iopub.execute_input": "2024-10-11T17:23:13.451465Z",
     "iopub.status.busy": "2024-10-11T17:23:13.450464Z",
     "iopub.status.idle": "2024-10-11T17:23:14.123880Z",
     "shell.execute_reply": "2024-10-11T17:23:14.123804Z"
    },
    "papermill": {
     "duration": 0.681526,
     "end_time": "2024-10-11T17:23:14.125003",
     "exception": false,
     "start_time": "2024-10-11T17:23:13.443477",
     "status": "completed"
    },
    "slideshow": {
     "slide_type": ""
    },
    "tags": []
   },
   "outputs": [],
   "source": [
    "import pandas as pd\n",
    "import papermill as pm"
   ]
  },
  {
   "cell_type": "markdown",
   "id": "a16e75c3-b736-4806-b8a7-1060dc291aa6",
   "metadata": {
    "papermill": {
     "duration": 0.0,
     "end_time": "2024-10-11T17:23:14.127239",
     "exception": false,
     "start_time": "2024-10-11T17:23:14.127239",
     "status": "completed"
    },
    "tags": []
   },
   "source": [
    "Parameters"
   ]
  },
  {
   "cell_type": "code",
   "execution_count": 2,
   "id": "6b11a11a-253d-4ef6-8bf1-68d514b2a6ac",
   "metadata": {
    "editable": true,
    "execution": {
     "iopub.execute_input": "2024-10-11T17:23:14.133563Z",
     "iopub.status.busy": "2024-10-11T17:23:14.132558Z",
     "iopub.status.idle": "2024-10-11T17:23:14.135538Z",
     "shell.execute_reply": "2024-10-11T17:23:14.135379Z"
    },
    "papermill": {
     "duration": 0.006181,
     "end_time": "2024-10-11T17:23:14.136347",
     "exception": false,
     "start_time": "2024-10-11T17:23:14.130166",
     "status": "completed"
    },
    "slideshow": {
     "slide_type": ""
    },
    "tags": [
     "parameters"
    ]
   },
   "outputs": [],
   "source": [
    "# Parameters\n",
    "input_csv_url = \"https://uni-bonn.sciebo.de/s/FYJPmdTyPo1qwRX/download\"\n",
    "output_csv = \"processed.csv\"\n",
    "num_rows_display = 5"
   ]
  },
  {
   "cell_type": "markdown",
   "id": "161b2d4e-6858-418e-9530-ee53694d6742",
   "metadata": {
    "papermill": {
     "duration": 0.002002,
     "end_time": "2024-10-11T17:23:14.139373",
     "exception": false,
     "start_time": "2024-10-11T17:23:14.137371",
     "status": "completed"
    },
    "tags": []
   },
   "source": [
    "Read the CSV file"
   ]
  },
  {
   "cell_type": "code",
   "execution_count": 3,
   "id": "766cb135-b6b3-47de-bf26-ae1c85c81c72",
   "metadata": {
    "execution": {
     "iopub.execute_input": "2024-10-11T17:23:14.143372Z",
     "iopub.status.busy": "2024-10-11T17:23:14.143372Z",
     "iopub.status.idle": "2024-10-11T17:23:14.543307Z",
     "shell.execute_reply": "2024-10-11T17:23:14.542287Z"
    },
    "papermill": {
     "duration": 0.404935,
     "end_time": "2024-10-11T17:23:14.545306",
     "exception": false,
     "start_time": "2024-10-11T17:23:14.140371",
     "status": "completed"
    },
    "tags": []
   },
   "outputs": [],
   "source": [
    "df = pd.read_csv(input_csv_url)"
   ]
  },
  {
   "cell_type": "markdown",
   "id": "fc564c40-7e75-4055-aa5a-41f489a8e40b",
   "metadata": {
    "papermill": {
     "duration": 0.002953,
     "end_time": "2024-10-11T17:23:14.552259",
     "exception": false,
     "start_time": "2024-10-11T17:23:14.549306",
     "status": "completed"
    },
    "tags": []
   },
   "source": [
    "Number of rows"
   ]
  },
  {
   "cell_type": "code",
   "execution_count": 4,
   "id": "ee0617b3-60f8-48a7-aed0-846e560ff0bd",
   "metadata": {
    "execution": {
     "iopub.execute_input": "2024-10-11T17:23:14.567606Z",
     "iopub.status.busy": "2024-10-11T17:23:14.566605Z",
     "iopub.status.idle": "2024-10-11T17:23:14.577833Z",
     "shell.execute_reply": "2024-10-11T17:23:14.577833Z"
    },
    "papermill": {
     "duration": 0.018266,
     "end_time": "2024-10-11T17:23:14.578838",
     "exception": false,
     "start_time": "2024-10-11T17:23:14.560572",
     "status": "completed"
    },
    "tags": []
   },
   "outputs": [
    {
     "data": {
      "text/html": [
       "<div>\n",
       "<style scoped>\n",
       "    .dataframe tbody tr th:only-of-type {\n",
       "        vertical-align: middle;\n",
       "    }\n",
       "\n",
       "    .dataframe tbody tr th {\n",
       "        vertical-align: top;\n",
       "    }\n",
       "\n",
       "    .dataframe thead th {\n",
       "        text-align: right;\n",
       "    }\n",
       "</style>\n",
       "<table border=\"1\" class=\"dataframe\">\n",
       "  <thead>\n",
       "    <tr style=\"text-align: right;\">\n",
       "      <th></th>\n",
       "      <th>mouse</th>\n",
       "      <th>count</th>\n",
       "    </tr>\n",
       "  </thead>\n",
       "  <tbody>\n",
       "    <tr>\n",
       "      <th>0</th>\n",
       "      <td>Lederberg</td>\n",
       "      <td>2132</td>\n",
       "    </tr>\n",
       "    <tr>\n",
       "      <th>1</th>\n",
       "      <td>Hench</td>\n",
       "      <td>1411</td>\n",
       "    </tr>\n",
       "    <tr>\n",
       "      <th>2</th>\n",
       "      <td>Richards</td>\n",
       "      <td>1127</td>\n",
       "    </tr>\n",
       "    <tr>\n",
       "      <th>3</th>\n",
       "      <td>Forssmann</td>\n",
       "      <td>1045</td>\n",
       "    </tr>\n",
       "    <tr>\n",
       "      <th>4</th>\n",
       "      <td>Radnitz</td>\n",
       "      <td>962</td>\n",
       "    </tr>\n",
       "  </tbody>\n",
       "</table>\n",
       "</div>"
      ],
      "text/plain": [
       "       mouse  count\n",
       "0  Lederberg   2132\n",
       "1      Hench   1411\n",
       "2   Richards   1127\n",
       "3  Forssmann   1045\n",
       "4    Radnitz    962"
      ]
     },
     "execution_count": 4,
     "metadata": {},
     "output_type": "execute_result"
    }
   ],
   "source": [
    "df.head(num_rows_display)"
   ]
  },
  {
   "cell_type": "markdown",
   "id": "46698dd5-fcd9-4ab0-8f9c-b67aac4273cb",
   "metadata": {
    "papermill": {
     "duration": 0.003983,
     "end_time": "2024-10-11T17:23:14.586383",
     "exception": false,
     "start_time": "2024-10-11T17:23:14.582400",
     "status": "completed"
    },
    "tags": []
   },
   "source": [
    "Process the data (in this case, we'll just double a numerical column)"
   ]
  },
  {
   "cell_type": "code",
   "execution_count": 5,
   "id": "5c524725-be97-433a-9b68-3d08bee40bca",
   "metadata": {
    "execution": {
     "iopub.execute_input": "2024-10-11T17:23:14.597402Z",
     "iopub.status.busy": "2024-10-11T17:23:14.597402Z",
     "iopub.status.idle": "2024-10-11T17:23:14.602962Z",
     "shell.execute_reply": "2024-10-11T17:23:14.602962Z"
    },
    "papermill": {
     "duration": 0.015584,
     "end_time": "2024-10-11T17:23:14.605984",
     "exception": false,
     "start_time": "2024-10-11T17:23:14.590400",
     "status": "completed"
    },
    "tags": []
   },
   "outputs": [],
   "source": [
    "df['num_trials'] = df['count'] * 2"
   ]
  },
  {
   "cell_type": "markdown",
   "id": "eb2b8aff-0705-48e4-aef9-e8af281d8aa0",
   "metadata": {
    "papermill": {
     "duration": 0.005005,
     "end_time": "2024-10-11T17:23:14.615677",
     "exception": false,
     "start_time": "2024-10-11T17:23:14.610672",
     "status": "completed"
    },
    "tags": []
   },
   "source": [
    "Save the processed data to the output CSV"
   ]
  },
  {
   "cell_type": "code",
   "execution_count": 6,
   "id": "e0d28b77-8a64-42cf-8c5b-c548938dcbe2",
   "metadata": {
    "execution": {
     "iopub.execute_input": "2024-10-11T17:23:14.626205Z",
     "iopub.status.busy": "2024-10-11T17:23:14.625185Z",
     "iopub.status.idle": "2024-10-11T17:23:14.633392Z",
     "shell.execute_reply": "2024-10-11T17:23:14.633392Z"
    },
    "papermill": {
     "duration": 0.015724,
     "end_time": "2024-10-11T17:23:14.634433",
     "exception": false,
     "start_time": "2024-10-11T17:23:14.618709",
     "status": "completed"
    },
    "tags": []
   },
   "outputs": [
    {
     "data": {
      "text/plain": [
       "'Processed data saved to processed.csv'"
      ]
     },
     "execution_count": 6,
     "metadata": {},
     "output_type": "execute_result"
    }
   ],
   "source": [
    "df.to_csv(output_csv, index=False)\n",
    "\n",
    "f\"Processed data saved to {output_csv}\""
   ]
  }
 ],
 "metadata": {
  "kernelspec": {
   "display_name": "Python 3 (ipykernel)",
   "language": "python",
   "name": "python3"
  },
  "language_info": {
   "codemirror_mode": {
    "name": "ipython",
    "version": 3
   },
   "file_extension": ".py",
   "mimetype": "text/x-python",
   "name": "python",
   "nbconvert_exporter": "python",
   "pygments_lexer": "ipython3",
   "version": "3.12.7"
  },
  "papermill": {
   "default_parameters": {},
   "duration": 2.746694,
   "end_time": "2024-10-11T17:23:14.887222",
   "environment_variables": {},
   "exception": null,
   "input_path": "papermill_workflow/notebook_1.ipynb",
   "output_path": "papermill_workflow/output_notebook_1.ipynb",
   "parameters": {},
   "start_time": "2024-10-11T17:23:12.140528",
   "version": "2.6.0"
  }
 },
 "nbformat": 4,
 "nbformat_minor": 5
}