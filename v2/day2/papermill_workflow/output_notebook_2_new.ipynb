{
 "cells": [
  {
   "cell_type": "code",
   "execution_count": 1,
   "id": "af60cfaf-0c7a-4e5f-bca5-7bc2af30b6fc",
   "metadata": {
    "editable": true,
    "execution": {
     "iopub.execute_input": "2024-10-11T17:24:44.340625Z",
     "iopub.status.busy": "2024-10-11T17:24:44.339619Z",
     "iopub.status.idle": "2024-10-11T17:24:44.639144Z",
     "shell.execute_reply": "2024-10-11T17:24:44.639144Z"
    },
    "papermill": {
     "duration": 0.308905,
     "end_time": "2024-10-11T17:24:44.642174",
     "exception": false,
     "start_time": "2024-10-11T17:24:44.333269",
     "status": "completed"
    },
    "slideshow": {
     "slide_type": ""
    },
    "tags": []
   },
   "outputs": [],
   "source": [
    "import pandas as pd"
   ]
  },
  {
   "cell_type": "markdown",
   "id": "9813cb06-dd6c-4952-89ab-a53513c87e2c",
   "metadata": {
    "papermill": {
     "duration": 0.003003,
     "end_time": "2024-10-11T17:24:44.648588",
     "exception": false,
     "start_time": "2024-10-11T17:24:44.645585",
     "status": "completed"
    },
    "tags": []
   },
   "source": [
    "Parameters"
   ]
  },
  {
   "cell_type": "code",
   "execution_count": 2,
   "id": "e672756b-dfcf-4603-a682-c958b66193dd",
   "metadata": {
    "editable": true,
    "execution": {
     "iopub.execute_input": "2024-10-11T17:24:44.659609Z",
     "iopub.status.busy": "2024-10-11T17:24:44.659609Z",
     "iopub.status.idle": "2024-10-11T17:24:44.662072Z",
     "shell.execute_reply": "2024-10-11T17:24:44.662072Z"
    },
    "papermill": {
     "duration": 0.00952,
     "end_time": "2024-10-11T17:24:44.663110",
     "exception": false,
     "start_time": "2024-10-11T17:24:44.653590",
     "status": "completed"
    },
    "slideshow": {
     "slide_type": ""
    },
    "tags": [
     "parameters"
    ]
   },
   "outputs": [],
   "source": [
    "# Parameters\n",
    "processed_csv = \"processed.csv\""
   ]
  },
  {
   "cell_type": "markdown",
   "id": "d19a8728-f888-40f8-9513-af38bc3e81cb",
   "metadata": {
    "papermill": {
     "duration": 0.003985,
     "end_time": "2024-10-11T17:24:44.671122",
     "exception": false,
     "start_time": "2024-10-11T17:24:44.667137",
     "status": "completed"
    },
    "tags": []
   },
   "source": [
    "Read the processed CSV file"
   ]
  },
  {
   "cell_type": "code",
   "execution_count": 3,
   "id": "23701b3b-51bc-4a2e-8c89-7be29bb0eacf",
   "metadata": {
    "execution": {
     "iopub.execute_input": "2024-10-11T17:24:44.678648Z",
     "iopub.status.busy": "2024-10-11T17:24:44.678648Z",
     "iopub.status.idle": "2024-10-11T17:24:44.685473Z",
     "shell.execute_reply": "2024-10-11T17:24:44.685473Z"
    },
    "papermill": {
     "duration": 0.014918,
     "end_time": "2024-10-11T17:24:44.688056",
     "exception": false,
     "start_time": "2024-10-11T17:24:44.673138",
     "status": "completed"
    },
    "tags": []
   },
   "outputs": [],
   "source": [
    "df = pd.read_csv(processed_csv)"
   ]
  },
  {
   "cell_type": "markdown",
   "id": "72135a18-3c31-4238-8526-1046ac6757f8",
   "metadata": {
    "papermill": {
     "duration": 0.004044,
     "end_time": "2024-10-11T17:24:44.697185",
     "exception": false,
     "start_time": "2024-10-11T17:24:44.693141",
     "status": "completed"
    },
    "tags": []
   },
   "source": [
    "Perform analysis (e.g., calculate mean of 'num_trials')"
   ]
  },
  {
   "cell_type": "code",
   "execution_count": 4,
   "id": "b6d16fe8-5d9d-4e77-87b2-d94fbf3424ae",
   "metadata": {
    "execution": {
     "iopub.execute_input": "2024-10-11T17:24:44.707719Z",
     "iopub.status.busy": "2024-10-11T17:24:44.706681Z",
     "iopub.status.idle": "2024-10-11T17:24:44.711178Z",
     "shell.execute_reply": "2024-10-11T17:24:44.711178Z"
    },
    "papermill": {
     "duration": 0.01321,
     "end_time": "2024-10-11T17:24:44.714404",
     "exception": false,
     "start_time": "2024-10-11T17:24:44.701194",
     "status": "completed"
    },
    "tags": []
   },
   "outputs": [
    {
     "name": "stdout",
     "output_type": "stream",
     "text": [
      "Mean value of 'num_trials': 2670.8\n"
     ]
    }
   ],
   "source": [
    "mean_value = df['num_trials'].mean()\n",
    "\n",
    "print(f\"Mean value of 'num_trials': {mean_value}\")"
   ]
  }
 ],
 "metadata": {
  "kernelspec": {
   "display_name": "Python 3 (ipykernel)",
   "language": "python",
   "name": "python3"
  },
  "language_info": {
   "codemirror_mode": {
    "name": "ipython",
    "version": 3
   },
   "file_extension": ".py",
   "mimetype": "text/x-python",
   "name": "python",
   "nbconvert_exporter": "python",
   "pygments_lexer": "ipython3",
   "version": "3.12.7"
  },
  "papermill": {
   "default_parameters": {},
   "duration": 1.918726,
   "end_time": "2024-10-11T17:24:44.963586",
   "environment_variables": {},
   "exception": null,
   "input_path": "papermill_workflow/notebook_2.ipynb",
   "output_path": "papermill_workflow/output_notebook_2_new.ipynb",
   "parameters": {},
   "start_time": "2024-10-11T17:24:43.044860",
   "version": "2.6.0"
  }
 },
 "nbformat": 4,
 "nbformat_minor": 5
}