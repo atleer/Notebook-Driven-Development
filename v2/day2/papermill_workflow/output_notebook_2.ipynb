{
 "cells": [
  {
   "cell_type": "code",
   "execution_count": 1,
   "id": "af60cfaf-0c7a-4e5f-bca5-7bc2af30b6fc",
   "metadata": {
    "editable": true,
    "execution": {
     "iopub.execute_input": "2024-10-11T17:23:15.864722Z",
     "iopub.status.busy": "2024-10-11T17:23:15.864722Z",
     "iopub.status.idle": "2024-10-11T17:23:16.136659Z",
     "shell.execute_reply": "2024-10-11T17:23:16.136659Z"
    },
    "papermill": {
     "duration": 0.28031,
     "end_time": "2024-10-11T17:23:16.137693",
     "exception": false,
     "start_time": "2024-10-11T17:23:15.857383",
     "status": "completed"
    },
    "slideshow": {
     "slide_type": ""
    },
    "tags": []
   },
   "outputs": [],
   "source": [
    "import pandas as pd"
   ]
  },
  {
   "cell_type": "markdown",
   "id": "9813cb06-dd6c-4952-89ab-a53513c87e2c",
   "metadata": {
    "papermill": {
     "duration": 0.002001,
     "end_time": "2024-10-11T17:23:16.141693",
     "exception": false,
     "start_time": "2024-10-11T17:23:16.139692",
     "status": "completed"
    },
    "tags": []
   },
   "source": [
    "Parameters"
   ]
  },
  {
   "cell_type": "code",
   "execution_count": 2,
   "id": "e672756b-dfcf-4603-a682-c958b66193dd",
   "metadata": {
    "editable": true,
    "execution": {
     "iopub.execute_input": "2024-10-11T17:23:16.145694Z",
     "iopub.status.busy": "2024-10-11T17:23:16.145694Z",
     "iopub.status.idle": "2024-10-11T17:23:16.148056Z",
     "shell.execute_reply": "2024-10-11T17:23:16.148056Z"
    },
    "papermill": {
     "duration": 0.005389,
     "end_time": "2024-10-11T17:23:16.149081",
     "exception": false,
     "start_time": "2024-10-11T17:23:16.143692",
     "status": "completed"
    },
    "slideshow": {
     "slide_type": ""
    },
    "tags": [
     "parameters"
    ]
   },
   "outputs": [],
   "source": [
    "# Parameters\n",
    "processed_csv = \"processed.csv\""
   ]
  },
  {
   "cell_type": "markdown",
   "id": "d19a8728-f888-40f8-9513-af38bc3e81cb",
   "metadata": {
    "papermill": {
     "duration": 0.00199,
     "end_time": "2024-10-11T17:23:16.153080",
     "exception": false,
     "start_time": "2024-10-11T17:23:16.151090",
     "status": "completed"
    },
    "tags": []
   },
   "source": [
    "Read the processed CSV file"
   ]
  },
  {
   "cell_type": "code",
   "execution_count": 3,
   "id": "23701b3b-51bc-4a2e-8c89-7be29bb0eacf",
   "metadata": {
    "execution": {
     "iopub.execute_input": "2024-10-11T17:23:16.162169Z",
     "iopub.status.busy": "2024-10-11T17:23:16.162169Z",
     "iopub.status.idle": "2024-10-11T17:23:16.167676Z",
     "shell.execute_reply": "2024-10-11T17:23:16.167676Z"
    },
    "papermill": {
     "duration": 0.012539,
     "end_time": "2024-10-11T17:23:16.169710",
     "exception": false,
     "start_time": "2024-10-11T17:23:16.157171",
     "status": "completed"
    },
    "tags": []
   },
   "outputs": [],
   "source": [
    "df = pd.read_csv(processed_csv)"
   ]
  },
  {
   "cell_type": "markdown",
   "id": "72135a18-3c31-4238-8526-1046ac6757f8",
   "metadata": {
    "papermill": {
     "duration": 0.004001,
     "end_time": "2024-10-11T17:23:16.177712",
     "exception": false,
     "start_time": "2024-10-11T17:23:16.173711",
     "status": "completed"
    },
    "tags": []
   },
   "source": [
    "Perform analysis (e.g., calculate mean of 'num_trials')"
   ]
  },
  {
   "cell_type": "code",
   "execution_count": 4,
   "id": "b6d16fe8-5d9d-4e77-87b2-d94fbf3424ae",
   "metadata": {
    "execution": {
     "iopub.execute_input": "2024-10-11T17:23:16.187271Z",
     "iopub.status.busy": "2024-10-11T17:23:16.187271Z",
     "iopub.status.idle": "2024-10-11T17:23:16.190787Z",
     "shell.execute_reply": "2024-10-11T17:23:16.190787Z"
    },
    "papermill": {
     "duration": 0.012112,
     "end_time": "2024-10-11T17:23:16.192821",
     "exception": false,
     "start_time": "2024-10-11T17:23:16.180709",
     "status": "completed"
    },
    "tags": []
   },
   "outputs": [
    {
     "name": "stdout",
     "output_type": "stream",
     "text": [
      "Mean value of 'num_trials': 2670.8\n"
     ]
    }
   ],
   "source": [
    "mean_value = df['num_trials'].mean()\n",
    "\n",
    "print(f\"Mean value of 'num_trials': {mean_value}\")"
   ]
  }
 ],
 "metadata": {
  "kernelspec": {
   "display_name": "Python 3 (ipykernel)",
   "language": "python",
   "name": "python3"
  },
  "language_info": {
   "codemirror_mode": {
    "name": "ipython",
    "version": 3
   },
   "file_extension": ".py",
   "mimetype": "text/x-python",
   "name": "python",
   "nbconvert_exporter": "python",
   "pygments_lexer": "ipython3",
   "version": "3.12.7"
  },
  "papermill": {
   "default_parameters": {},
   "duration": 1.436699,
   "end_time": "2024-10-11T17:23:16.340067",
   "environment_variables": {},
   "exception": null,
   "input_path": "papermill_workflow/notebook_2.ipynb",
   "output_path": "papermill_workflow/output_notebook_2.ipynb",
   "parameters": {},
   "start_time": "2024-10-11T17:23:14.903368",
   "version": "2.6.0"
  }
 },
 "nbformat": 4,
 "nbformat_minor": 5
}