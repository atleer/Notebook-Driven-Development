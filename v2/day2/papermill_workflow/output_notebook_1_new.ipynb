{
 "cells": [
  {
   "cell_type": "code",
   "execution_count": 1,
   "id": "ba992094-6901-412c-8cdf-520444d57ab3",
   "metadata": {
    "editable": true,
    "execution": {
     "iopub.execute_input": "2024-10-11T17:24:38.293976Z",
     "iopub.status.busy": "2024-10-11T17:24:38.292684Z",
     "iopub.status.idle": "2024-10-11T17:24:38.996331Z",
     "shell.execute_reply": "2024-10-11T17:24:38.996331Z"
    },
    "papermill": {
     "duration": 0.713096,
     "end_time": "2024-10-11T17:24:38.997345",
     "exception": false,
     "start_time": "2024-10-11T17:24:38.284249",
     "status": "completed"
    },
    "slideshow": {
     "slide_type": ""
    },
    "tags": []
   },
   "outputs": [],
   "source": [
    "import pandas as pd\n",
    "import papermill as pm"
   ]
  },
  {
   "cell_type": "markdown",
   "id": "a16e75c3-b736-4806-b8a7-1060dc291aa6",
   "metadata": {
    "papermill": {
     "duration": 0.002974,
     "end_time": "2024-10-11T17:24:39.003346",
     "exception": false,
     "start_time": "2024-10-11T17:24:39.000372",
     "status": "completed"
    },
    "tags": []
   },
   "source": [
    "Parameters"
   ]
  },
  {
   "cell_type": "code",
   "execution_count": 2,
   "id": "6b11a11a-253d-4ef6-8bf1-68d514b2a6ac",
   "metadata": {
    "editable": true,
    "execution": {
     "iopub.execute_input": "2024-10-11T17:24:39.011663Z",
     "iopub.status.busy": "2024-10-11T17:24:39.011160Z",
     "iopub.status.idle": "2024-10-11T17:24:39.013784Z",
     "shell.execute_reply": "2024-10-11T17:24:39.013784Z"
    },
    "papermill": {
     "duration": 0.009449,
     "end_time": "2024-10-11T17:24:39.015815",
     "exception": false,
     "start_time": "2024-10-11T17:24:39.006366",
     "status": "completed"
    },
    "slideshow": {
     "slide_type": ""
    },
    "tags": [
     "parameters"
    ]
   },
   "outputs": [],
   "source": [
    "# Parameters\n",
    "input_csv_url = \"https://uni-bonn.sciebo.de/s/FYJPmdTyPo1qwRX/download\"\n",
    "output_csv = \"processed.csv\"\n",
    "num_rows_display = 5"
   ]
  },
  {
   "cell_type": "markdown",
   "id": "161b2d4e-6858-418e-9530-ee53694d6742",
   "metadata": {
    "papermill": {
     "duration": 0.004,
     "end_time": "2024-10-11T17:24:39.022797",
     "exception": false,
     "start_time": "2024-10-11T17:24:39.018797",
     "status": "completed"
    },
    "tags": []
   },
   "source": [
    "Read the CSV file"
   ]
  },
  {
   "cell_type": "code",
   "execution_count": 3,
   "id": "766cb135-b6b3-47de-bf26-ae1c85c81c72",
   "metadata": {
    "execution": {
     "iopub.execute_input": "2024-10-11T17:24:39.031298Z",
     "iopub.status.busy": "2024-10-11T17:24:39.031298Z",
     "iopub.status.idle": "2024-10-11T17:24:39.833049Z",
     "shell.execute_reply": "2024-10-11T17:24:39.832544Z"
    },
    "papermill": {
     "duration": 0.808326,
     "end_time": "2024-10-11T17:24:39.835124",
     "exception": false,
     "start_time": "2024-10-11T17:24:39.026798",
     "status": "completed"
    },
    "tags": []
   },
   "outputs": [],
   "source": [
    "df = pd.read_csv(input_csv_url)"
   ]
  },
  {
   "cell_type": "markdown",
   "id": "fc564c40-7e75-4055-aa5a-41f489a8e40b",
   "metadata": {
    "papermill": {
     "duration": 0.002998,
     "end_time": "2024-10-11T17:24:39.843130",
     "exception": false,
     "start_time": "2024-10-11T17:24:39.840132",
     "status": "completed"
    },
    "tags": []
   },
   "source": [
    "Number of rows"
   ]
  },
  {
   "cell_type": "code",
   "execution_count": 4,
   "id": "ee0617b3-60f8-48a7-aed0-846e560ff0bd",
   "metadata": {
    "execution": {
     "iopub.execute_input": "2024-10-11T17:24:39.851877Z",
     "iopub.status.busy": "2024-10-11T17:24:39.851877Z",
     "iopub.status.idle": "2024-10-11T17:24:39.859288Z",
     "shell.execute_reply": "2024-10-11T17:24:39.859288Z"
    },
    "papermill": {
     "duration": 0.014445,
     "end_time": "2024-10-11T17:24:39.860303",
     "exception": false,
     "start_time": "2024-10-11T17:24:39.845858",
     "status": "completed"
    },
    "tags": []
   },
   "outputs": [
    {
     "data": {
      "text/html": [
       "<div>\n",
       "<style scoped>\n",
       "    .dataframe tbody tr th:only-of-type {\n",
       "        vertical-align: middle;\n",
       "    }\n",
       "\n",
       "    .dataframe tbody tr th {\n",
       "        vertical-align: top;\n",
       "    }\n",
       "\n",
       "    .dataframe thead th {\n",
       "        text-align: right;\n",
       "    }\n",
       "</style>\n",
       "<table border=\"1\" class=\"dataframe\">\n",
       "  <thead>\n",
       "    <tr style=\"text-align: right;\">\n",
       "      <th></th>\n",
       "      <th>mouse</th>\n",
       "      <th>count</th>\n",
       "    </tr>\n",
       "  </thead>\n",
       "  <tbody>\n",
       "    <tr>\n",
       "      <th>0</th>\n",
       "      <td>Lederberg</td>\n",
       "      <td>2132</td>\n",
       "    </tr>\n",
       "    <tr>\n",
       "      <th>1</th>\n",
       "      <td>Hench</td>\n",
       "      <td>1411</td>\n",
       "    </tr>\n",
       "    <tr>\n",
       "      <th>2</th>\n",
       "      <td>Richards</td>\n",
       "      <td>1127</td>\n",
       "    </tr>\n",
       "    <tr>\n",
       "      <th>3</th>\n",
       "      <td>Forssmann</td>\n",
       "      <td>1045</td>\n",
       "    </tr>\n",
       "    <tr>\n",
       "      <th>4</th>\n",
       "      <td>Radnitz</td>\n",
       "      <td>962</td>\n",
       "    </tr>\n",
       "  </tbody>\n",
       "</table>\n",
       "</div>"
      ],
      "text/plain": [
       "       mouse  count\n",
       "0  Lederberg   2132\n",
       "1      Hench   1411\n",
       "2   Richards   1127\n",
       "3  Forssmann   1045\n",
       "4    Radnitz    962"
      ]
     },
     "execution_count": 4,
     "metadata": {},
     "output_type": "execute_result"
    }
   ],
   "source": [
    "df.head(num_rows_display)"
   ]
  },
  {
   "cell_type": "markdown",
   "id": "46698dd5-fcd9-4ab0-8f9c-b67aac4273cb",
   "metadata": {
    "papermill": {
     "duration": 0.003984,
     "end_time": "2024-10-11T17:24:39.868302",
     "exception": false,
     "start_time": "2024-10-11T17:24:39.864318",
     "status": "completed"
    },
    "tags": []
   },
   "source": [
    "Process the data (in this case, we'll just double a numerical column)"
   ]
  },
  {
   "cell_type": "code",
   "execution_count": 5,
   "id": "5c524725-be97-433a-9b68-3d08bee40bca",
   "metadata": {
    "execution": {
     "iopub.execute_input": "2024-10-11T17:24:39.879317Z",
     "iopub.status.busy": "2024-10-11T17:24:39.879317Z",
     "iopub.status.idle": "2024-10-11T17:24:39.884181Z",
     "shell.execute_reply": "2024-10-11T17:24:39.884181Z"
    },
    "papermill": {
     "duration": 0.012383,
     "end_time": "2024-10-11T17:24:39.886210",
     "exception": false,
     "start_time": "2024-10-11T17:24:39.873827",
     "status": "completed"
    },
    "tags": []
   },
   "outputs": [],
   "source": [
    "df['num_trials'] = df['count'] * 2"
   ]
  },
  {
   "cell_type": "markdown",
   "id": "eb2b8aff-0705-48e4-aef9-e8af281d8aa0",
   "metadata": {
    "papermill": {
     "duration": 0.005336,
     "end_time": "2024-10-11T17:24:39.895532",
     "exception": false,
     "start_time": "2024-10-11T17:24:39.890196",
     "status": "completed"
    },
    "tags": []
   },
   "source": [
    "Save the processed data to the output CSV"
   ]
  },
  {
   "cell_type": "code",
   "execution_count": 6,
   "id": "e0d28b77-8a64-42cf-8c5b-c548938dcbe2",
   "metadata": {
    "execution": {
     "iopub.execute_input": "2024-10-11T17:24:39.904113Z",
     "iopub.status.busy": "2024-10-11T17:24:39.904113Z",
     "iopub.status.idle": "2024-10-11T17:24:39.912375Z",
     "shell.execute_reply": "2024-10-11T17:24:39.912375Z"
    },
    "papermill": {
     "duration": 0.015533,
     "end_time": "2024-10-11T17:24:39.914078",
     "exception": false,
     "start_time": "2024-10-11T17:24:39.898545",
     "status": "completed"
    },
    "tags": []
   },
   "outputs": [
    {
     "data": {
      "text/plain": [
       "'Processed data saved to processed.csv'"
      ]
     },
     "execution_count": 6,
     "metadata": {},
     "output_type": "execute_result"
    }
   ],
   "source": [
    "df.to_csv(output_csv, index=False)\n",
    "\n",
    "f\"Processed data saved to {output_csv}\""
   ]
  }
 ],
 "metadata": {
  "kernelspec": {
   "display_name": "Python 3 (ipykernel)",
   "language": "python",
   "name": "python3"
  },
  "language_info": {
   "codemirror_mode": {
    "name": "ipython",
    "version": 3
   },
   "file_extension": ".py",
   "mimetype": "text/x-python",
   "name": "python",
   "nbconvert_exporter": "python",
   "pygments_lexer": "ipython3",
   "version": "3.12.7"
  },
  "papermill": {
   "default_parameters": {},
   "duration": 6.181006,
   "end_time": "2024-10-11T17:24:43.029946",
   "environment_variables": {},
   "exception": null,
   "input_path": "papermill_workflow/notebook_1.ipynb",
   "output_path": "papermill_workflow/output_notebook_1_new.ipynb",
   "parameters": {},
   "start_time": "2024-10-11T17:24:36.848940",
   "version": "2.6.0"
  }
 },
 "nbformat": 4,
 "nbformat_minor": 5
}