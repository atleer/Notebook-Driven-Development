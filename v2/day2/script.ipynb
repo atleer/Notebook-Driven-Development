{
 "cells": [
  {
   "cell_type": "markdown",
   "id": "0ed1afbe",
   "metadata": {},
   "source": [
    "# Title"
   ]
  },
  {
   "cell_type": "code",
   "execution_count": null,
   "id": "75eb86f5",
   "metadata": {},
   "outputs": [],
   "source": [
    "a = 10"
   ]
  }
 ],
 "metadata": {
  "jupytext": {
   "cell_metadata_filter": "-all",
   "main_language": "python",
   "notebook_metadata_filter": "-all"
  }
 },
 "nbformat": 4,
 "nbformat_minor": 5
}
