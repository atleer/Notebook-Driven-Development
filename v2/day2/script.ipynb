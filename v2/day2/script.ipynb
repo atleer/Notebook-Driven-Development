{
 "cells": [
  {
   "cell_type": "code",
   "execution_count": null,
   "id": "734b12cb",
   "metadata": {},
   "outputs": [],
   "source": [
    "import pandas as pd\n",
    "import hvplot.pandas\n",
    "url = \"https://uni-bonn.sciebo.de/s/3ZbmkolHLQu1ADa/download\"\n",
    "df = pd.read_csv(url)\n",
    "df.head()\n",
    "df['mouse'].value_counts()\n",
    "df['contrast_left'].value_counts()\n",
    "df['contrast_right'].value_counts()\n",
    "df['response_time'].hvplot.hist()\n",
    "df['feedback_time'].hvplot.hist()"
   ]
  }
 ],
 "metadata": {
  "jupytext": {
   "cell_metadata_filter": "-all",
   "main_language": "python",
   "notebook_metadata_filter": "-all"
  }
 },
 "nbformat": 4,
 "nbformat_minor": 5
}
