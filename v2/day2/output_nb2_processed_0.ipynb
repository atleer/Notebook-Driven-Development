{
 "cells": [
  {
   "cell_type": "code",
   "execution_count": 1,
   "id": "af60cfaf-0c7a-4e5f-bca5-7bc2af30b6fc",
   "metadata": {
    "editable": true,
    "execution": {
     "iopub.execute_input": "2024-10-11T18:46:02.552572Z",
     "iopub.status.busy": "2024-10-11T18:46:02.552572Z",
     "iopub.status.idle": "2024-10-11T18:46:02.859711Z",
     "shell.execute_reply": "2024-10-11T18:46:02.859711Z"
    },
    "papermill": {
     "duration": 0.314008,
     "end_time": "2024-10-11T18:46:02.860788",
     "exception": false,
     "start_time": "2024-10-11T18:46:02.546780",
     "status": "completed"
    },
    "slideshow": {
     "slide_type": ""
    },
    "tags": []
   },
   "outputs": [],
   "source": [
    "import pandas as pd"
   ]
  },
  {
   "cell_type": "markdown",
   "id": "9813cb06-dd6c-4952-89ab-a53513c87e2c",
   "metadata": {
    "papermill": {
     "duration": 0.002196,
     "end_time": "2024-10-11T18:46:02.868333",
     "exception": false,
     "start_time": "2024-10-11T18:46:02.866137",
     "status": "completed"
    },
    "tags": []
   },
   "source": [
    "Parameters"
   ]
  },
  {
   "cell_type": "code",
   "execution_count": 2,
   "id": "e672756b-dfcf-4603-a682-c958b66193dd",
   "metadata": {
    "editable": true,
    "execution": {
     "iopub.execute_input": "2024-10-11T18:46:02.878336Z",
     "iopub.status.busy": "2024-10-11T18:46:02.878336Z",
     "iopub.status.idle": "2024-10-11T18:46:02.880763Z",
     "shell.execute_reply": "2024-10-11T18:46:02.880763Z"
    },
    "papermill": {
     "duration": 0.009446,
     "end_time": "2024-10-11T18:46:02.881799",
     "exception": false,
     "start_time": "2024-10-11T18:46:02.872353",
     "status": "completed"
    },
    "slideshow": {
     "slide_type": ""
    },
    "tags": [
     "parameters"
    ]
   },
   "outputs": [],
   "source": [
    "# Parameters\n",
    "processed_csv = \"processed.csv\""
   ]
  },
  {
   "cell_type": "code",
   "execution_count": 3,
   "id": "f43166b8",
   "metadata": {
    "execution": {
     "iopub.execute_input": "2024-10-11T18:46:02.890782Z",
     "iopub.status.busy": "2024-10-11T18:46:02.890782Z",
     "iopub.status.idle": "2024-10-11T18:46:02.892855Z",
     "shell.execute_reply": "2024-10-11T18:46:02.892855Z"
    },
    "papermill": {
     "duration": 0.009111,
     "end_time": "2024-10-11T18:46:02.894886",
     "exception": false,
     "start_time": "2024-10-11T18:46:02.885775",
     "status": "completed"
    },
    "tags": [
     "injected-parameters"
    ]
   },
   "outputs": [],
   "source": [
    "# Parameters\n",
    "processed_csv = \"processed\\\\processed_1.csv\"\n"
   ]
  },
  {
   "cell_type": "markdown",
   "id": "d19a8728-f888-40f8-9513-af38bc3e81cb",
   "metadata": {
    "papermill": {
     "duration": 0.005003,
     "end_time": "2024-10-11T18:46:02.901889",
     "exception": false,
     "start_time": "2024-10-11T18:46:02.896886",
     "status": "completed"
    },
    "tags": []
   },
   "source": [
    "Read the processed CSV file"
   ]
  },
  {
   "cell_type": "code",
   "execution_count": 4,
   "id": "23701b3b-51bc-4a2e-8c89-7be29bb0eacf",
   "metadata": {
    "execution": {
     "iopub.execute_input": "2024-10-11T18:46:02.910869Z",
     "iopub.status.busy": "2024-10-11T18:46:02.910869Z",
     "iopub.status.idle": "2024-10-11T18:46:02.916260Z",
     "shell.execute_reply": "2024-10-11T18:46:02.916260Z"
    },
    "papermill": {
     "duration": 0.011403,
     "end_time": "2024-10-11T18:46:02.917273",
     "exception": false,
     "start_time": "2024-10-11T18:46:02.905870",
     "status": "completed"
    },
    "tags": []
   },
   "outputs": [],
   "source": [
    "df = pd.read_csv(processed_csv)"
   ]
  },
  {
   "cell_type": "markdown",
   "id": "72135a18-3c31-4238-8526-1046ac6757f8",
   "metadata": {
    "papermill": {
     "duration": 0.003999,
     "end_time": "2024-10-11T18:46:02.925272",
     "exception": false,
     "start_time": "2024-10-11T18:46:02.921273",
     "status": "completed"
    },
    "tags": []
   },
   "source": [
    "Perform analysis (e.g., calculate mean of 'num_trials')"
   ]
  },
  {
   "cell_type": "code",
   "execution_count": 5,
   "id": "b6d16fe8-5d9d-4e77-87b2-d94fbf3424ae",
   "metadata": {
    "execution": {
     "iopub.execute_input": "2024-10-11T18:46:02.933878Z",
     "iopub.status.busy": "2024-10-11T18:46:02.933878Z",
     "iopub.status.idle": "2024-10-11T18:46:02.937129Z",
     "shell.execute_reply": "2024-10-11T18:46:02.937129Z"
    },
    "papermill": {
     "duration": 0.010281,
     "end_time": "2024-10-11T18:46:02.939159",
     "exception": false,
     "start_time": "2024-10-11T18:46:02.928878",
     "status": "completed"
    },
    "tags": []
   },
   "outputs": [
    {
     "name": "stdout",
     "output_type": "stream",
     "text": [
      "Mean value of 'num_trials': 2670.8\n"
     ]
    }
   ],
   "source": [
    "mean_value = df['num_trials'].mean()\n",
    "\n",
    "print(f\"Mean value of 'num_trials': {mean_value}\")"
   ]
  }
 ],
 "metadata": {
  "kernelspec": {
   "display_name": "Python 3 (ipykernel)",
   "language": "python",
   "name": "python3"
  },
  "language_info": {
   "codemirror_mode": {
    "name": "ipython",
    "version": 3
   },
   "file_extension": ".py",
   "mimetype": "text/x-python",
   "name": "python",
   "nbconvert_exporter": "python",
   "pygments_lexer": "ipython3",
   "version": "3.12.7"
  },
  "papermill": {
   "default_parameters": {},
   "duration": 1.954123,
   "end_time": "2024-10-11T18:46:03.196479",
   "environment_variables": {},
   "exception": null,
   "input_path": "papermill_workflow/notebook_2.ipynb",
   "output_path": "output_nb2_processed_0.ipynb",
   "parameters": {
    "processed_csv": "processed\\processed_1.csv"
   },
   "start_time": "2024-10-11T18:46:01.242356",
   "version": "2.6.0"
  }
 },
 "nbformat": 4,
 "nbformat_minor": 5
}