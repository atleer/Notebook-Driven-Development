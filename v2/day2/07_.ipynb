{
 "cells": [
  {
   "cell_type": "code",
   "execution_count": null,
   "id": "dd4081f4-809e-4b6f-8301-6b3f2e6a9f65",
   "metadata": {},
   "outputs": [],
   "source": [
    "# !pip install papermill"
   ]
  },
  {
   "cell_type": "code",
   "execution_count": 1,
   "id": "16742525-d5ce-4301-b501-142a23439364",
   "metadata": {},
   "outputs": [],
   "source": [
    "import papermill as pm"
   ]
  },
  {
   "cell_type": "markdown",
   "id": "f635df5b-946d-4819-8119-e1371c8a2c74",
   "metadata": {},
   "source": [
    "## Parameterization of Jupyter Notebooks with Papermill\n",
    "\n",
    "Parameterizing Jupyter notebooks means making them flexible so you can easily change input values, like datasets, without having to edit the code each time. This is helpful when you need to run the same analysis or process with different data. It saves time and avoids mistakes because you don’t have to rewrite anything. Instead, you can just set the new inputs and run the notebook again for different tasks or data."
   ]
  },
  {
   "cell_type": "markdown",
   "id": "bf37e320-be25-48de-876a-6fff6d1f6f11",
   "metadata": {
    "editable": true,
    "slideshow": {
     "slide_type": ""
    },
    "tags": []
   },
   "source": [
    "## Passing in Parameters To Jupyter Notebooks\n",
    "\n",
    "Papermill helps with parameterizing Jupyter notebooks by allowing you to inject new inputs (parameters) into a notebook before running it. You define placeholders for these parameters in the notebook, and when you run Papermill, it fills those placeholders with the actual values you provide. Papermill then executes the entire notebook with the new inputs, saving the results in a new output notebook. This makes it easy to reuse the same notebook for different data or settings, automating tasks like batch processing, reporting, or experimentation with different variables.\n",
    "\n",
    "For this example we will use two notebooks: notebook_1.ipynb (access csv from a remote url and prepares a processed csv) and notebook_2.ipynb (needs processed csv for analysis)\n",
    "\n",
    "We will parameterize the following\n",
    "\n",
    "**Notebook 1**\n",
    "\n",
    "| **Parameter**   | **Description**                   | **Type**  |\n",
    "|-----------------|-----------------------------------|-----------|\n",
    "| `input_csv_url`     | url of input CSV file        | String    |\n",
    "| `output_csv`    | Path to save the processed CSV    | String    |\n",
    "| `num_rows_display`    | Number of rows to display    | Integer    |\n",
    "\n",
    "| **Output**      | **Description**                   | **Type**  |\n",
    "|-----------------|-----------------------------------|-----------|\n",
    "| `Processed CSV` | CSV file with processed data      | CSV File  |\n",
    "\n",
    "\n",
    "\n",
    "**Notebook 2**\n",
    "\n",
    "| **Parameter**      | **Description**                   | **Type**  |\n",
    "|--------------------|-----------------------------------|-----------|\n",
    "| `processed_csv`    | Path to the processed CSV file    | String    |\n",
    "\n",
    "\n",
    "**Example** To make papermill know that a cell contains parameters\n",
    "1. Put all parameters in a single cell before any other cell that uses them\n",
    "2. Click on the cell and then the gear icon next to the notebook\n",
    "3. Type `parameters` within Cell Tags\n",
    "\n",
    "We have done that for `notebook_1`. Can you do the same for `notebook_2` "
   ]
  },
  {
   "cell_type": "markdown",
   "id": "3c889227-3393-4636-b18a-a371bee5928f",
   "metadata": {
    "editable": true,
    "slideshow": {
     "slide_type": ""
    },
    "tags": []
   },
   "source": [
    "**Example** Execute papermill injecting output_csv called \"processed_1.csv\" "
   ]
  },
  {
   "cell_type": "code",
   "execution_count": 6,
   "id": "c5409088-9fe1-4497-96b7-66bc793fca95",
   "metadata": {
    "editable": true,
    "slideshow": {
     "slide_type": ""
    },
    "tags": []
   },
   "outputs": [
    {
     "name": "stderr",
     "output_type": "stream",
     "text": [
      "Executing: 100%|███████████████████████████████████████████████████████████████| 10/10 [00:02<00:00,  3.49cell/s]\n"
     ]
    }
   ],
   "source": [
    "params = dict(output_csv = \"processed_1.csv\")\n",
    "pm.execute_notebook(\n",
    "    'papermill_workflow/notebook_1.ipynb',\n",
    "    'papermill_workflow/output_notebook_1.ipynb',\n",
    "    parameters = params\n",
    ");"
   ]
  },
  {
   "cell_type": "markdown",
   "id": "e0214df5-414f-4d15-b999-2da4e24cbb90",
   "metadata": {
    "editable": true,
    "slideshow": {
     "slide_type": ""
    },
    "tags": []
   },
   "source": [
    "When you open output_notebook_1.ipynb, you will see that it is the same as the input notebook with an addition of one more cell with our injected parameters right beneath the cell tagged as parameters."
   ]
  },
  {
   "cell_type": "markdown",
   "id": "d549a8cf-d5e5-4624-87ab-5742ccaad231",
   "metadata": {
    "editable": true,
    "slideshow": {
     "slide_type": ""
    },
    "tags": []
   },
   "source": [
    "Execute papermill injecting output_csv called \"processed_1_new.csv\""
   ]
  },
  {
   "cell_type": "code",
   "execution_count": 8,
   "id": "96d30e07-4834-4d7c-b781-4fa2089ea7dd",
   "metadata": {
    "editable": true,
    "slideshow": {
     "slide_type": ""
    },
    "tags": []
   },
   "outputs": [
    {
     "name": "stderr",
     "output_type": "stream",
     "text": [
      "Executing: 100%|███████████████████████████████████████████████████████████████| 10/10 [00:02<00:00,  3.43cell/s]\n"
     ]
    }
   ],
   "source": [
    "params = dict(output_csv = \"processed_1_new.csv\")\n",
    "pm.execute_notebook(\n",
    "    'papermill_workflow/notebook_1.ipynb',\n",
    "    'papermill_workflow/output_notebook_1.ipynb',\n",
    "    parameters = \n",
    ");"
   ]
  },
  {
   "cell_type": "markdown",
   "id": "b212158f-b759-4a23-9793-6f22da8b3cb7",
   "metadata": {
    "editable": true,
    "slideshow": {
     "slide_type": ""
    },
    "tags": []
   },
   "source": [
    "Execute papermill injecting \"https://uni-bonn.sciebo.de/s/O1ybfiVcqROP00W/download\" as input_csv_url"
   ]
  },
  {
   "cell_type": "code",
   "execution_count": 9,
   "id": "23f56e82-e5cc-484c-94b7-a96ea6efb10b",
   "metadata": {
    "editable": true,
    "slideshow": {
     "slide_type": ""
    },
    "tags": []
   },
   "outputs": [
    {
     "name": "stderr",
     "output_type": "stream",
     "text": [
      "Executing: 100%|███████████████████████████████████████████████████████████████| 10/10 [00:02<00:00,  3.42cell/s]\n"
     ]
    }
   ],
   "source": [
    "params = dict(input_csv_url = \"https://uni-bonn.sciebo.de/s/O1ybfiVcqROP00W/download\")\n",
    "pm.execute_notebook(\n",
    "    'papermill_workflow/notebook_1.ipynb',\n",
    "    'papermill_workflow/output_notebook_1.ipynb',\n",
    "    parameters = params\n",
    ");"
   ]
  },
  {
   "cell_type": "markdown",
   "id": "cf1f8496-812b-4046-b829-7c10aaa33a2b",
   "metadata": {
    "editable": true,
    "slideshow": {
     "slide_type": ""
    },
    "tags": []
   },
   "source": [
    "**Example** Inject \"https://uni-bonn.sciebo.de/s/O1ybfiVcqROP00W/download\" for input url and processed_mul_1.csv as output"
   ]
  },
  {
   "cell_type": "code",
   "execution_count": 10,
   "id": "67eff23a-8daa-43fe-803b-713c747b2e7b",
   "metadata": {
    "editable": true,
    "slideshow": {
     "slide_type": ""
    },
    "tags": []
   },
   "outputs": [
    {
     "name": "stderr",
     "output_type": "stream",
     "text": [
      "Executing: 100%|███████████████████████████████████████████████████████████████| 10/10 [00:02<00:00,  3.58cell/s]\n"
     ]
    }
   ],
   "source": [
    "params = dict(input_csv_url = \"https://uni-bonn.sciebo.de/s/O1ybfiVcqROP00W/download\", output_csv = \"processed_mul_1.csv\")\n",
    "pm.execute_notebook(\n",
    "    'papermill_workflow/notebook_1.ipynb',\n",
    "    'papermill_workflow/output_notebook_1.ipynb',\n",
    "    parameters = params\n",
    ");"
   ]
  },
  {
   "cell_type": "markdown",
   "id": "7f2231e0-9693-4fbe-9942-333052d0bf53",
   "metadata": {},
   "source": [
    "Inject \"https://uni-bonn.sciebo.de/s/O1ybfiVcqROP00W/download\" for input url and processed_mul_1_new.csv as output"
   ]
  },
  {
   "cell_type": "code",
   "execution_count": 12,
   "id": "4e278561-2ccd-4c46-8edf-5f98e8eae043",
   "metadata": {},
   "outputs": [
    {
     "name": "stderr",
     "output_type": "stream",
     "text": [
      "Executing: 100%|███████████████████████████████████████████████████████████████| 12/12 [00:02<00:00,  4.15cell/s]\n"
     ]
    }
   ],
   "source": [
    "params = dict(input_csv_url = \"https://uni-bonn.sciebo.de/s/O1ybfiVcqROP00W/download\", output_csv = \"processed_mul_1_new.csv\")\n",
    "pm.execute_notebook(\n",
    "    'papermill_workflow/notebook_1.ipynb',\n",
    "    'papermill_workflow/output_notebook_1.ipynb',\n",
    "    parameters = params\n",
    ");"
   ]
  },
  {
   "cell_type": "markdown",
   "id": "d591bd14-151f-40a3-988b-1e39b123aac1",
   "metadata": {},
   "source": [
    "Inject \"https://uni-bonn.sciebo.de/s/O1ybfiVcqROP00W/download\" for input url, processed_mul_1_new.csv as output, and display 3 rows"
   ]
  },
  {
   "cell_type": "code",
   "execution_count": null,
   "id": "14ffd1fd-19b2-4021-9ff3-62aa3ffecb24",
   "metadata": {},
   "outputs": [],
   "source": [
    "params = dict(input_csv_url = \"https://uni-bonn.sciebo.de/s/O1ybfiVcqROP00W/download\", output_csv = \"processed_mul_1_new.csv\")\n",
    "pm.execute_notebook(\n",
    "    'papermill_workflow/notebook_1.ipynb',\n",
    "    'papermill_workflow/output_notebook_1.ipynb',\n",
    "    parameters = params\n",
    ");"
   ]
  },
  {
   "cell_type": "markdown",
   "id": "53e529f2-2750-4ae2-a41f-e9faab8c84ad",
   "metadata": {},
   "source": [
    "## Looping Through Parameters\n",
    "\n",
    "We saw how to parameterize one notebook. Now let's loop through parameters.\n",
    "\n",
    "Let's start with a small example with loops"
   ]
  },
  {
   "cell_type": "markdown",
   "id": "0c6f71f7-e4b1-404c-b5bb-8834729f3745",
   "metadata": {},
   "source": [
    "**Example** Use a for-loop to iterate over \n",
    "\n",
    "```python\n",
    "input_csv_urls = [\"https://uni-bonn.sciebo.de/s/FYJPmdTyPo1qwRX/download\", \"https://uni-bonn.sciebo.de/s/O1ybfiVcqROP00W/download\"]\n",
    "```"
   ]
  },
  {
   "cell_type": "code",
   "execution_count": 18,
   "id": "c737fe42-f9c8-4041-81e4-cfd443a8bc9d",
   "metadata": {},
   "outputs": [
    {
     "name": "stdout",
     "output_type": "stream",
     "text": [
      "0 https://uni-bonn.sciebo.de/s/FYJPmdTyPo1qwRX/download\n",
      "1 https://uni-bonn.sciebo.de/s/O1ybfiVcqROP00W/download\n"
     ]
    }
   ],
   "source": [
    "input_csv_urls = [\"https://uni-bonn.sciebo.de/s/FYJPmdTyPo1qwRX/download\", \"https://uni-bonn.sciebo.de/s/O1ybfiVcqROP00W/download\"]\n",
    "for i, input_csv_url in enumerate(input_csv_urls):\n",
    "    print(i, input_csv_url)"
   ]
  },
  {
   "cell_type": "markdown",
   "id": "1e0cedcb-39b8-4318-8fe0-37fe57f1a9f9",
   "metadata": {},
   "source": [
    "Here, for loop is printing every input_csv_url along with its index in the list."
   ]
  },
  {
   "cell_type": "markdown",
   "id": "76cc3309-4a1f-4a14-8feb-833615dad94d",
   "metadata": {},
   "source": [
    "Use a for-loop to iterate over \n",
    "\n",
    "```python\n",
    "num_rows = [5, 10]\n",
    "```"
   ]
  },
  {
   "cell_type": "code",
   "execution_count": 20,
   "id": "6686fafc-04d4-4be1-844d-f08a7237fd09",
   "metadata": {},
   "outputs": [
    {
     "name": "stdout",
     "output_type": "stream",
     "text": [
      "0 5\n",
      "1 10\n"
     ]
    }
   ],
   "source": [
    "num_rows = [5, 10]\n",
    "for i, num_row in enumerate(num_rows):\n",
    "    print(i, num_row)"
   ]
  },
  {
   "cell_type": "markdown",
   "id": "267084be-d3b1-4422-aad6-34c24ad9b458",
   "metadata": {},
   "source": [
    "Use a for-loop to iterate over \n",
    "\n",
    "```python\n",
    "processed_files = [\"processed_1.csv\", \"processed_2.csv\"]\n",
    "```"
   ]
  },
  {
   "cell_type": "code",
   "execution_count": 21,
   "id": "96905bf6-d5be-4dcd-bf48-fba68f478038",
   "metadata": {},
   "outputs": [
    {
     "name": "stdout",
     "output_type": "stream",
     "text": [
      "0 processed_1.csv\n",
      "1 processed_2.csv\n"
     ]
    }
   ],
   "source": [
    "processed_files = [\"processed_1.csv\", \"processed_2.csv\"]\n",
    "for i, processed_file in enumerate(processed_files):\n",
    "    print(i, processed_file)"
   ]
  },
  {
   "cell_type": "markdown",
   "id": "e3115a6e-6b78-4956-b757-f0ade6c2fd7c",
   "metadata": {},
   "source": [
    "**Example** Use a for-loop to iterate over \n",
    "\n",
    "```python\n",
    "input_csv_urls = [\"https://uni-bonn.sciebo.de/s/FYJPmdTyPo1qwRX/download\", \"https://uni-bonn.sciebo.de/s/O1ybfiVcqROP00W/download\"]\n",
    "num_rows = [5, 10]\n",
    "```"
   ]
  },
  {
   "cell_type": "code",
   "execution_count": 22,
   "id": "d8566d94-c96b-4fdf-84c3-a86f8afad874",
   "metadata": {},
   "outputs": [
    {
     "name": "stdout",
     "output_type": "stream",
     "text": [
      "0 https://uni-bonn.sciebo.de/s/FYJPmdTyPo1qwRX/download 5\n",
      "1 https://uni-bonn.sciebo.de/s/O1ybfiVcqROP00W/download 10\n"
     ]
    }
   ],
   "source": [
    "input_csv_urls = [\"https://uni-bonn.sciebo.de/s/FYJPmdTyPo1qwRX/download\", \"https://uni-bonn.sciebo.de/s/O1ybfiVcqROP00W/download\"]\n",
    "num_rows = [5, 10]\n",
    "for i, input_csv_url in enumerate(input_csv_urls):\n",
    "    print(i, input_csv_url, num_rows[i])"
   ]
  },
  {
   "cell_type": "markdown",
   "id": "3b626def-49c8-42d2-b762-c60510a73a2c",
   "metadata": {},
   "source": [
    "Use a for-loop to iterate over \n",
    "\n",
    "```python\n",
    "num_rows = [5, 10]\n",
    "processed_files = [\"processed_1.csv\", \"processed_2.csv\"]\n",
    "```"
   ]
  },
  {
   "cell_type": "code",
   "execution_count": 23,
   "id": "d665289a-7389-4900-8f68-d12be0df65c5",
   "metadata": {},
   "outputs": [
    {
     "name": "stdout",
     "output_type": "stream",
     "text": [
      "0 5 processed_1.csv\n",
      "1 10 processed_2.csv\n"
     ]
    }
   ],
   "source": [
    "num_rows = [5, 10]\n",
    "processed_files = [\"processed_1.csv\", \"processed_2.csv\"]\n",
    "for i, num_row in enumerate(num_rows):\n",
    "    print(i, num_row, processed_files[i])"
   ]
  },
  {
   "cell_type": "markdown",
   "id": "adaf2196-d12c-4371-b557-b6b7874b4347",
   "metadata": {},
   "source": [
    "Use a for-loop to iterate over \n",
    "\n",
    "```python\n",
    "input_csv_urls = [\"https://uni-bonn.sciebo.de/s/FYJPmdTyPo1qwRX/download\", \"https://uni-bonn.sciebo.de/s/O1ybfiVcqROP00W/download\"]\n",
    "num_rows = [5, 10]\n",
    "processed_files = [\"processed_1.csv\", \"processed_2.csv\"]\n",
    "```"
   ]
  },
  {
   "cell_type": "code",
   "execution_count": 24,
   "id": "3fca3212-e0ce-4682-b897-517067d45c87",
   "metadata": {},
   "outputs": [
    {
     "name": "stdout",
     "output_type": "stream",
     "text": [
      "0 https://uni-bonn.sciebo.de/s/FYJPmdTyPo1qwRX/download 5 processed_1.csv\n",
      "1 https://uni-bonn.sciebo.de/s/O1ybfiVcqROP00W/download 10 processed_2.csv\n"
     ]
    }
   ],
   "source": [
    "input_csv_urls = [\"https://uni-bonn.sciebo.de/s/FYJPmdTyPo1qwRX/download\", \"https://uni-bonn.sciebo.de/s/O1ybfiVcqROP00W/download\"]\n",
    "num_rows = [5, 10]\n",
    "processed_files = [\"processed_1.csv\", \"processed_2.csv\"]\n",
    "\n",
    "for i, input_csv_url in enumerate(input_csv_urls):\n",
    "    print(i, input_csv_url, num_rows[i], processed_files[i])"
   ]
  },
  {
   "cell_type": "markdown",
   "id": "882a99ba-372f-48da-921c-55eaf8e6f7f1",
   "metadata": {},
   "source": [
    "**Example** Run papermill on notebook_1.ipynb with the below parameters\n",
    "\n",
    "```python\n",
    "input_csv_urls = [\"https://uni-bonn.sciebo.de/s/FYJPmdTyPo1qwRX/download\", \"https://uni-bonn.sciebo.de/s/O1ybfiVcqROP00W/download\"]\n",
    "num_rows = [5, 10]\n",
    "```"
   ]
  },
  {
   "cell_type": "code",
   "execution_count": 26,
   "id": "7c3445f9-c9ef-4887-adba-afd0ef775091",
   "metadata": {},
   "outputs": [
    {
     "name": "stderr",
     "output_type": "stream",
     "text": [
      "Executing: 100%|███████████████████████████████████████████████████████████████| 12/12 [00:02<00:00,  4.27cell/s]\n",
      "Executing: 100%|███████████████████████████████████████████████████████████████| 12/12 [00:02<00:00,  4.39cell/s]\n"
     ]
    }
   ],
   "source": [
    "input_csv_urls = [\"https://uni-bonn.sciebo.de/s/FYJPmdTyPo1qwRX/download\", \"https://uni-bonn.sciebo.de/s/O1ybfiVcqROP00W/download\"]\n",
    "num_rows = [5, 10]\n",
    "\n",
    "for i, input_csv_url in enumerate(input_csv_urls):\n",
    "    params = dict(input_csv_url=input_file, num_rows_display=num_rows[i])\n",
    "    pm.execute_notebook(\n",
    "        'papermill_workflow/notebook_1.ipynb',\n",
    "        'papermill_workflow/output_notebook1.ipynb',\n",
    "        parameters = params\n",
    "    )\n"
   ]
  },
  {
   "cell_type": "markdown",
   "id": "690c4652-a18c-41e5-8dc3-da68508c9c66",
   "metadata": {},
   "source": [
    "Run papermill on notebook_1.ipynb with the below parameters\n",
    "\n",
    "```python\n",
    "input_csv_urls = [\"https://uni-bonn.sciebo.de/s/FYJPmdTyPo1qwRX/download\", \"https://uni-bonn.sciebo.de/s/O1ybfiVcqROP00W/download\"]\n",
    "processed_files = [\"processed_1.csv\", \"processed_2.csv\"]\n",
    "```"
   ]
  },
  {
   "cell_type": "code",
   "execution_count": 27,
   "id": "e567dfb6-ee98-4b6c-a64e-1221947de107",
   "metadata": {},
   "outputs": [
    {
     "name": "stderr",
     "output_type": "stream",
     "text": [
      "Executing: 100%|███████████████████████████████████████████████████████████████| 12/12 [00:06<00:00,  1.96cell/s]\n",
      "Executing: 100%|███████████████████████████████████████████████████████████████| 12/12 [00:02<00:00,  4.10cell/s]\n"
     ]
    }
   ],
   "source": [
    "input_csv_urls = [\"https://uni-bonn.sciebo.de/s/FYJPmdTyPo1qwRX/download\", \"https://uni-bonn.sciebo.de/s/O1ybfiVcqROP00W/download\"]\n",
    "processed_files = [\"processed_1.csv\", \"processed_2.csv\"]\n",
    "\n",
    "for i, input_csv_url in enumerate(input_csv_urls):\n",
    "    params = dict(input_csv_url=input_file, output_csv=processed_files[i])\n",
    "    pm.execute_notebook(\n",
    "        'papermill_workflow/notebook_1.ipynb',\n",
    "        'papermill_workflow/output_notebook1.ipynb',\n",
    "        parameters = params\n",
    "    )\n"
   ]
  },
  {
   "cell_type": "markdown",
   "id": "c33a4e5c-e685-4c05-b06f-606a42cdf74f",
   "metadata": {},
   "source": [
    "Run papermill on notebook_1.ipynb with the below parameters\n",
    "\n",
    "```python\n",
    "input_csv_urls = [\"https://uni-bonn.sciebo.de/s/FYJPmdTyPo1qwRX/download\", \"https://uni-bonn.sciebo.de/s/O1ybfiVcqROP00W/download\"]\n",
    "num_rows = [5, 10]\n",
    "processed_files = [\"processed_1.csv\", \"processed_2.csv\"]\n",
    "```"
   ]
  },
  {
   "cell_type": "code",
   "execution_count": 28,
   "id": "1c5d1a71-3d24-43db-af62-c4f17c753f84",
   "metadata": {},
   "outputs": [
    {
     "name": "stderr",
     "output_type": "stream",
     "text": [
      "Executing: 100%|███████████████████████████████████████████████████████████████| 12/12 [00:02<00:00,  4.23cell/s]\n",
      "Executing: 100%|███████████████████████████████████████████████████████████████| 12/12 [00:02<00:00,  4.33cell/s]\n"
     ]
    }
   ],
   "source": [
    "input_csv_urls = [\"https://uni-bonn.sciebo.de/s/FYJPmdTyPo1qwRX/download\", \"https://uni-bonn.sciebo.de/s/O1ybfiVcqROP00W/download\"]\n",
    "num_rows = [5, 10]\n",
    "processed_files = [\"processed_1.csv\", \"processed_2.csv\"]\n",
    "\n",
    "for i, input_csv_url in enumerate(input_csv_urls):\n",
    "    params = dict(input_csv_url=input_file, output_csv=processed_files[i], num_rows_display=num_rows[i])\n",
    "    pm.execute_notebook(\n",
    "        'papermill_workflow/notebook_1.ipynb',\n",
    "        'papermill_workflow/output_notebook1.ipynb',\n",
    "        parameters = params\n",
    "    )\n"
   ]
  },
  {
   "cell_type": "markdown",
   "id": "fc3381fd-f0c0-4e60-9343-a4bfb6790d83",
   "metadata": {},
   "source": [
    "Run papermill on notebook_1.ipynb with the below parameters\n",
    "\n",
    "```python\n",
    "input_csv_urls = [\"https://uni-bonn.sciebo.de/s/FYJPmdTyPo1qwRX/download\", \"https://uni-bonn.sciebo.de/s/O1ybfiVcqROP00W/download\"]\n",
    "num_rows = [5, 10]\n",
    "processed_files = [\"processed_1.csv\", \"processed_2.csv\"]\n",
    "ouput_notebooks = [\"papermill_workflow/o1.csv\", \"papermill_workflow/o2.csv\"]\n",
    "```"
   ]
  },
  {
   "cell_type": "code",
   "execution_count": 32,
   "id": "8bf5f2d1-61ba-49c4-9f90-b6da16107620",
   "metadata": {},
   "outputs": [
    {
     "name": "stderr",
     "output_type": "stream",
     "text": [
      "Executing: 100%|███████████████████████████████████████████████████████████████| 12/12 [00:02<00:00,  4.80cell/s]\n",
      "Executing: 100%|███████████████████████████████████████████████████████████████| 12/12 [00:02<00:00,  4.28cell/s]\n"
     ]
    }
   ],
   "source": [
    "input_csv_urls = [\"https://uni-bonn.sciebo.de/s/FYJPmdTyPo1qwRX/download\", \"https://uni-bonn.sciebo.de/s/O1ybfiVcqROP00W/download\"]\n",
    "num_rows = [5, 10]\n",
    "processed_files = [\"processed_1.csv\", \"processed_2.csv\"]\n",
    "output_notebooks = [\"papermill_workflow/o1.ipynb\", \"papermill_workflow/o2.ipynb\"]\n",
    "\n",
    "\n",
    "for i, input_csv_url in enumerate(input_csv_urls):\n",
    "    params = dict(input_csv_url=input_file, output_csv=processed_files[i], num_rows_display=num_rows[i])\n",
    "    pm.execute_notebook(\n",
    "        'papermill_workflow/notebook_1.ipynb',\n",
    "        output_notebooks[i],\n",
    "        parameters = params\n",
    "    )\n"
   ]
  },
  {
   "cell_type": "markdown",
   "id": "afbea501-3893-4116-a5c5-62b23556bb58",
   "metadata": {},
   "source": [
    "## Naming Ouput Notebooks with f-strings\n",
    "\n",
    "As you saw in the previous section, using for-loop can automate notebook execution workflow. \n",
    "We used only one output file for all the iterations.\n",
    "But it is important to keep separate notebook for each iteration to go back and look at issues and/or analysis.\n",
    "Here, let's learn a way to create new output notebooks automatically without having to create another list."
   ]
  },
  {
   "cell_type": "markdown",
   "id": "b296f24e-e6cd-444f-a78f-f4ba272ff90e",
   "metadata": {},
   "source": [
    "**Example** Display \"Hello, John Doe\" with f-string"
   ]
  },
  {
   "cell_type": "code",
   "execution_count": 33,
   "id": "aa323c52-bd47-404a-950a-587c51e637c4",
   "metadata": {},
   "outputs": [
    {
     "data": {
      "text/plain": [
       "'Hello, John Doe'"
      ]
     },
     "execution_count": 33,
     "metadata": {},
     "output_type": "execute_result"
    }
   ],
   "source": [
    "name = \"John Doe\"\n",
    "f\"Hello, {name}\""
   ]
  },
  {
   "cell_type": "markdown",
   "id": "08e65be7-c13d-4920-9aa6-651d97818fbd",
   "metadata": {},
   "source": [
    "Display \"Hello, Jane Doe\" with f-string"
   ]
  },
  {
   "cell_type": "code",
   "execution_count": 34,
   "id": "26f8aa95-be6e-4e6e-96ce-a4cfceff78a3",
   "metadata": {},
   "outputs": [
    {
     "data": {
      "text/plain": [
       "'Hello, Jane Doe'"
      ]
     },
     "execution_count": 34,
     "metadata": {},
     "output_type": "execute_result"
    }
   ],
   "source": [
    "name = \"Jane Doe\"\n",
    "f\"Hello, {name}\""
   ]
  },
  {
   "cell_type": "markdown",
   "id": "393c563c-bd33-4148-8b76-aa321833d630",
   "metadata": {},
   "source": [
    "Display \"Hello, John Doe and Jane Doe\""
   ]
  },
  {
   "cell_type": "code",
   "execution_count": 35,
   "id": "cf112d0e-a151-4068-b42f-e22fc2f2ca55",
   "metadata": {},
   "outputs": [
    {
     "data": {
      "text/plain": [
       "'Hello, John Doe and Jane Doe'"
      ]
     },
     "execution_count": 35,
     "metadata": {},
     "output_type": "execute_result"
    }
   ],
   "source": [
    "name_1 = \"John Doe\"\n",
    "name_2 = \"Jane Doe\"\n",
    "f\"Hello, {name_1} and {name_2}\""
   ]
  },
  {
   "cell_type": "markdown",
   "id": "5263c64c-5a99-4fb3-8c8a-0d3eeab195b0",
   "metadata": {},
   "source": [
    "**Example** Set output_file_1.csv as output_name where 1 is a variable "
   ]
  },
  {
   "cell_type": "code",
   "execution_count": 36,
   "id": "9a9ed0dc-509f-4f8b-a4cb-f746a291a988",
   "metadata": {},
   "outputs": [
    {
     "data": {
      "text/plain": [
       "'output_file_1'"
      ]
     },
     "execution_count": 36,
     "metadata": {},
     "output_type": "execute_result"
    }
   ],
   "source": [
    "num = 1\n",
    "output_name = f\"output_file_{num}\"\n",
    "output_name"
   ]
  },
  {
   "cell_type": "markdown",
   "id": "2ee77e49-8d86-4e27-96b4-1b19a3a8f836",
   "metadata": {},
   "source": [
    "Set output_file_5.csv as output_name where 5 is a variable"
   ]
  },
  {
   "cell_type": "code",
   "execution_count": 37,
   "id": "06ef5988-4422-42ca-a2e3-aaea144f348b",
   "metadata": {},
   "outputs": [
    {
     "data": {
      "text/plain": [
       "'output_file_5'"
      ]
     },
     "execution_count": 37,
     "metadata": {},
     "output_type": "execute_result"
    }
   ],
   "source": [
    "num = 5\n",
    "output_name = f\"output_file_{num}\"\n",
    "output_name"
   ]
  },
  {
   "cell_type": "markdown",
   "id": "bfa7e008-2969-42ed-a6ba-89d0380d1076",
   "metadata": {},
   "source": [
    "Set output_file_01.csv as output_name where \"01\" is a variable"
   ]
  },
  {
   "cell_type": "code",
   "execution_count": 38,
   "id": "54fbd224-d330-4291-ae16-926f8e452832",
   "metadata": {},
   "outputs": [
    {
     "data": {
      "text/plain": [
       "'output_file_01'"
      ]
     },
     "execution_count": 38,
     "metadata": {},
     "output_type": "execute_result"
    }
   ],
   "source": [
    "num = \"01\"\n",
    "output_name = f\"output_file_{num}\"\n",
    "output_name"
   ]
  },
  {
   "cell_type": "markdown",
   "id": "0cbfe4a5-6ce8-4125-ae10-0173bd533343",
   "metadata": {},
   "source": [
    "**Example** f-string with for loop"
   ]
  },
  {
   "cell_type": "code",
   "execution_count": null,
   "id": "5da5791f-f0da-485a-8b20-afd54717a0fb",
   "metadata": {},
   "outputs": [],
   "source": []
  },
  {
   "cell_type": "code",
   "execution_count": null,
   "id": "61226a62-5eca-4b66-bc05-9e0148548b45",
   "metadata": {},
   "outputs": [],
   "source": []
  },
  {
   "cell_type": "code",
   "execution_count": null,
   "id": "37fe5aaa-37cb-40a0-8295-72121f432e66",
   "metadata": {},
   "outputs": [],
   "source": []
  },
  {
   "cell_type": "markdown",
   "id": "ba2c78c1-dc26-44aa-ab20-6706ea371e70",
   "metadata": {},
   "source": [
    "**Example** f-string with for-loop with papermill"
   ]
  },
  {
   "cell_type": "code",
   "execution_count": null,
   "id": "ece021a6-bfbc-4bd3-bfc4-e02ad59bfd58",
   "metadata": {},
   "outputs": [],
   "source": []
  },
  {
   "cell_type": "code",
   "execution_count": null,
   "id": "3f135380-f7fe-4e2d-af61-4bba8b338918",
   "metadata": {},
   "outputs": [],
   "source": []
  },
  {
   "cell_type": "code",
   "execution_count": null,
   "id": "c65b8145-3a03-4bd5-a4dd-efd5b586c65a",
   "metadata": {},
   "outputs": [],
   "source": []
  },
  {
   "cell_type": "markdown",
   "id": "32e80274-83f1-464f-a71d-e865bb9b8afe",
   "metadata": {},
   "source": [
    "## glob.glob"
   ]
  }
 ],
 "metadata": {
  "kernelspec": {
   "display_name": "Python 3 (ipykernel)",
   "language": "python",
   "name": "python3"
  },
  "language_info": {
   "codemirror_mode": {
    "name": "ipython",
    "version": 3
   },
   "file_extension": ".py",
   "mimetype": "text/x-python",
   "name": "python",
   "nbconvert_exporter": "python",
   "pygments_lexer": "ipython3",
   "version": "3.12.7"
  }
 },
 "nbformat": 4,
 "nbformat_minor": 5
}
