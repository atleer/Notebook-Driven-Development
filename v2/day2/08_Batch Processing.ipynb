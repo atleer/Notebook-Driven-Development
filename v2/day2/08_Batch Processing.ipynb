{
 "cells": [
  {
   "cell_type": "markdown",
   "id": "d6bb265b-6061-496a-be80-2ebf4211a18b",
   "metadata": {},
   "source": [
    "# PROJECTS: Batch Processing"
   ]
  },
  {
   "cell_type": "markdown",
   "id": "2368c293-6665-4264-837a-cc7aa4669c83",
   "metadata": {},
   "source": [
    "[Download the data](\"https://uni-bonn.sciebo.de/s/tNXQwYqxYSULSVP\")"
   ]
  },
  {
   "cell_type": "markdown",
   "id": "389f32b4-7eaa-4ac3-b17b-0e6fbb3c0405",
   "metadata": {},
   "source": [
    "### Project 1\n",
    "\n",
    "Create a template notebook that\n",
    "1. Reads the csv file \n",
    "2. Selects only rows where mouse name is the name given by the user (parameter)\n",
    "3. Saves the resulting table as a csv file (parameter)\n",
    "\n",
    "\n",
    "Use a for loop to create output notebooks and csv files for two mice\n",
    "\n",
    "Criteria:\n",
    "1. Output notebooks must have unique descriptive names.\n",
    "2. Output csv files must have unique names too"
   ]
  },
  {
   "cell_type": "markdown",
   "id": "5f0ea2c8-8b5b-4c9b-8252-280a8f725d7d",
   "metadata": {},
   "source": [
    "## Project 2\n",
    "\n",
    "Create a template notebook that\n",
    "\n",
    "1. Reads the processed csv file (parameter)\n",
    "2. Plots a visualization\n",
    "\n",
    "Use a for loop to create visualizations for csv files generated from project 1\n",
    "\n",
    "Criteria:\n",
    "\n",
    "1. Output notebooks must have unique descriptive names"
   ]
  },
  {
   "cell_type": "markdown",
   "id": "359ba0ef-3085-4a5c-8a45-bff2566795b2",
   "metadata": {},
   "source": [
    "## Project 3\n",
    "\n",
    "Use a for loop that\n",
    "\n",
    "1. Runs template 1 for a given mouse\n",
    "2. Runs template 2 for the output from step-1.\n",
    "3. Repeats for another mouse"
   ]
  }
 ],
 "metadata": {
  "kernelspec": {
   "display_name": "Python 3 (ipykernel)",
   "language": "python",
   "name": "python3"
  },
  "language_info": {
   "codemirror_mode": {
    "name": "ipython",
    "version": 3
   },
   "file_extension": ".py",
   "mimetype": "text/x-python",
   "name": "python",
   "nbconvert_exporter": "python",
   "pygments_lexer": "ipython3",
   "version": "3.12.7"
  }
 },
 "nbformat": 4,
 "nbformat_minor": 5
}
