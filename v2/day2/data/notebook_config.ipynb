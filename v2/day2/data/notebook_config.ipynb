{
 "cells": [
  {
   "cell_type": "markdown",
   "id": "4241faf6-feb5-404f-a227-369aa7057d93",
   "metadata": {},
   "source": [
    "These values were changed on 2024-10-11\n",
    "\n",
    "Parameter `num_exp` describes how many experiments were conducted."
   ]
  },
  {
   "cell_type": "code",
   "execution_count": 3,
   "id": "c20776fc-d2bf-4e4c-933d-6a0816dc0492",
   "metadata": {},
   "outputs": [],
   "source": [
    "num_exp = 10"
   ]
  },
  {
   "cell_type": "markdown",
   "id": "41be7a78-31b2-47de-8fc4-22fd6867e29c",
   "metadata": {},
   "source": [
    "Parameter `scientist` is the name of the person who conducted the series of experiments"
   ]
  },
  {
   "cell_type": "code",
   "execution_count": 4,
   "id": "cb3b0e40-77ad-4911-8671-ee719c2da1cf",
   "metadata": {},
   "outputs": [],
   "source": [
    "scientist = \"John Doe\""
   ]
  },
  {
   "cell_type": "markdown",
   "id": "cef1b066-9179-496c-b401-c2e20e258369",
   "metadata": {},
   "source": [
    "`project_id` is a global parameter used in all analysis. Please only use this for all cases"
   ]
  },
  {
   "cell_type": "code",
   "execution_count": 5,
   "id": "afd03bdf-2765-453f-a463-b88d10b87a4f",
   "metadata": {},
   "outputs": [
    {
     "name": "stdout",
     "output_type": "stream",
     "text": [
      "Stored 'project_id' (int)\n"
     ]
    }
   ],
   "source": [
    "project_id = 123456\n",
    "%store project_id"
   ]
  }
 ],
 "metadata": {
  "kernelspec": {
   "display_name": "Python 3 (ipykernel)",
   "language": "python",
   "name": "python3"
  },
  "language_info": {
   "codemirror_mode": {
    "name": "ipython",
    "version": 3
   },
   "file_extension": ".py",
   "mimetype": "text/x-python",
   "name": "python",
   "nbconvert_exporter": "python",
   "pygments_lexer": "ipython3",
   "version": "3.12.7"
  }
 },
 "nbformat": 4,
 "nbformat_minor": 5
}
