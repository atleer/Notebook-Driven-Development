{
 "cells": [
  {
   "cell_type": "markdown",
   "id": "4241faf6-feb5-404f-a227-369aa7057d93",
   "metadata": {},
   "source": [
    "These values were changed on 2024-10-11\n",
    "\n",
    "Parameter `num_exp` describes how many experiments were conducted."
   ]
  },
  {
   "cell_type": "code",
   "execution_count": 3,
   "id": "c20776fc-d2bf-4e4c-933d-6a0816dc0492",
   "metadata": {},
   "outputs": [],
   "source": [
    "num_exp = 10"
   ]
  },
  {
   "cell_type": "markdown",
   "id": "41be7a78-31b2-47de-8fc4-22fd6867e29c",
   "metadata": {},
   "source": [
    "Parameter `scientist` is the name of the person who conducted the series of experiments"
   ]
  },
  {
   "cell_type": "code",
   "execution_count": 4,
   "id": "cb3b0e40-77ad-4911-8671-ee719c2da1cf",
   "metadata": {},
   "outputs": [],
   "source": [
    "scientist = \"John Doe\""
   ]
  },
  {
   "cell_type": "markdown",
   "id": "68409304-8485-4c5b-9cc3-6db1e8066aab",
   "metadata": {},
   "source": [
    "We have 100 mice in our lab"
   ]
  },
  {
   "cell_type": "code",
   "execution_count": 6,
   "id": "fbefbc56-c0d4-4f83-ae2b-bd63758233af",
   "metadata": {},
   "outputs": [],
   "source": [
    "num_mice = 100"
   ]
  },
  {
   "cell_type": "markdown",
   "id": "6c52afae-eba1-47cd-9a34-541bd4624c4d",
   "metadata": {},
   "source": [
    "Our lab is called \"Genius Lab\" because we have amazing experiments"
   ]
  },
  {
   "cell_type": "code",
   "execution_count": 7,
   "id": "95dfa39e-1dc2-4767-8f71-b2cfa570f606",
   "metadata": {},
   "outputs": [],
   "source": [
    "lab_name = \"Genius lab\""
   ]
  },
  {
   "cell_type": "markdown",
   "id": "0adba006-69e6-4d69-8256-af48653a6cdc",
   "metadata": {},
   "source": [
    "---\n",
    "\n",
    "Our experimental setup is like this\n",
    "\n"
   ]
  },
  {
   "cell_type": "code",
   "execution_count": null,
   "id": "9003a395-ec77-40da-a156-eb80d6b959f8",
   "metadata": {},
   "outputs": [],
   "source": []
  }
 ],
 "metadata": {
  "kernelspec": {
   "display_name": "Python 3 (ipykernel)",
   "language": "python",
   "name": "python3"
  },
  "language_info": {
   "codemirror_mode": {
    "name": "ipython",
    "version": 3
   },
   "file_extension": ".py",
   "mimetype": "text/x-python",
   "name": "python",
   "nbconvert_exporter": "python",
   "pygments_lexer": "ipython3",
   "version": "3.12.7"
  }
 },
 "nbformat": 4,
 "nbformat_minor": 5
}
