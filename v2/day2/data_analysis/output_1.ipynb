{
 "cells": [
  {
   "cell_type": "code",
   "execution_count": 1,
   "id": "7f85a112-6b2f-4019-8e7c-1657c92081b8",
   "metadata": {
    "execution": {
     "iopub.execute_input": "2024-10-11T14:57:07.939348Z",
     "iopub.status.busy": "2024-10-11T14:57:07.939348Z",
     "iopub.status.idle": "2024-10-11T14:57:07.946143Z",
     "shell.execute_reply": "2024-10-11T14:57:07.946143Z"
    },
    "papermill": {
     "duration": 0.017975,
     "end_time": "2024-10-11T14:57:07.949477",
     "exception": false,
     "start_time": "2024-10-11T14:57:07.931502",
     "status": "completed"
    },
    "tags": []
   },
   "outputs": [],
   "source": [
    "# !pip install pandas"
   ]
  },
  {
   "cell_type": "code",
   "execution_count": 2,
   "id": "cfc38b3e-231b-4924-9186-a46e83c5456a",
   "metadata": {
    "execution": {
     "iopub.execute_input": "2024-10-11T14:57:07.960670Z",
     "iopub.status.busy": "2024-10-11T14:57:07.960670Z",
     "iopub.status.idle": "2024-10-11T14:57:08.565021Z",
     "shell.execute_reply": "2024-10-11T14:57:08.565021Z"
    },
    "papermill": {
     "duration": 0.611638,
     "end_time": "2024-10-11T14:57:08.567267",
     "exception": false,
     "start_time": "2024-10-11T14:57:07.955629",
     "status": "completed"
    },
    "tags": []
   },
   "outputs": [],
   "source": [
    "import pandas as pd"
   ]
  },
  {
   "cell_type": "markdown",
   "id": "ec7c5a58-72b4-4283-b240-143eaee7a328",
   "metadata": {
    "papermill": {
     "duration": 0.002552,
     "end_time": "2024-10-11T14:57:08.573687",
     "exception": false,
     "start_time": "2024-10-11T14:57:08.571135",
     "status": "completed"
    },
    "tags": []
   },
   "source": [
    "## Data Access\n",
    "\n",
    "In the experiment reported in by [Steinmetz et al, 2019](https://www.nature.com/articles/s41586-019-1787-x) in Nature, mice were tasked with turning a wheel to the left or right based on the relative contrast levels of two simultaneously-presented gradient stimuli. \n",
    "\n",
    "The data is curated and available on iBOTS Sciebo. "
   ]
  },
  {
   "cell_type": "code",
   "execution_count": 3,
   "id": "e6fbd39f-b529-4d47-9811-d52728967c06",
   "metadata": {
    "execution": {
     "iopub.execute_input": "2024-10-11T14:57:08.579879Z",
     "iopub.status.busy": "2024-10-11T14:57:08.579879Z",
     "iopub.status.idle": "2024-10-11T14:57:10.112941Z",
     "shell.execute_reply": "2024-10-11T14:57:10.111905Z"
    },
    "papermill": {
     "duration": 1.538086,
     "end_time": "2024-10-11T14:57:10.113972",
     "exception": false,
     "start_time": "2024-10-11T14:57:08.575886",
     "status": "completed"
    },
    "tags": []
   },
   "outputs": [
    {
     "data": {
      "text/html": [
       "<div>\n",
       "<style scoped>\n",
       "    .dataframe tbody tr th:only-of-type {\n",
       "        vertical-align: middle;\n",
       "    }\n",
       "\n",
       "    .dataframe tbody tr th {\n",
       "        vertical-align: top;\n",
       "    }\n",
       "\n",
       "    .dataframe thead th {\n",
       "        text-align: right;\n",
       "    }\n",
       "</style>\n",
       "<table border=\"1\" class=\"dataframe\">\n",
       "  <thead>\n",
       "    <tr style=\"text-align: right;\">\n",
       "      <th></th>\n",
       "      <th>Unnamed: 0</th>\n",
       "      <th>trial</th>\n",
       "      <th>active_trials</th>\n",
       "      <th>contrast_left</th>\n",
       "      <th>contrast_right</th>\n",
       "      <th>stim_onset</th>\n",
       "      <th>gocue_time</th>\n",
       "      <th>response_type</th>\n",
       "      <th>response_time</th>\n",
       "      <th>feedback_time</th>\n",
       "      <th>feedback_type</th>\n",
       "      <th>reaction_time</th>\n",
       "      <th>reaction_type</th>\n",
       "      <th>mouse</th>\n",
       "      <th>session_date</th>\n",
       "      <th>session_id</th>\n",
       "    </tr>\n",
       "  </thead>\n",
       "  <tbody>\n",
       "    <tr>\n",
       "      <th>0</th>\n",
       "      <td>0</td>\n",
       "      <td>1</td>\n",
       "      <td>True</td>\n",
       "      <td>100</td>\n",
       "      <td>0</td>\n",
       "      <td>0.5</td>\n",
       "      <td>1.027216</td>\n",
       "      <td>1.0</td>\n",
       "      <td>1.150204</td>\n",
       "      <td>1.186819</td>\n",
       "      <td>1.0</td>\n",
       "      <td>170.0</td>\n",
       "      <td>1.0</td>\n",
       "      <td>Cori</td>\n",
       "      <td>2016-12-14</td>\n",
       "      <td>5dd41e</td>\n",
       "    </tr>\n",
       "    <tr>\n",
       "      <th>1</th>\n",
       "      <td>1</td>\n",
       "      <td>2</td>\n",
       "      <td>True</td>\n",
       "      <td>0</td>\n",
       "      <td>50</td>\n",
       "      <td>0.5</td>\n",
       "      <td>0.874414</td>\n",
       "      <td>-1.0</td>\n",
       "      <td>1.399503</td>\n",
       "      <td>1.437623</td>\n",
       "      <td>1.0</td>\n",
       "      <td>230.0</td>\n",
       "      <td>-1.0</td>\n",
       "      <td>Cori</td>\n",
       "      <td>2016-12-14</td>\n",
       "      <td>5dd41e</td>\n",
       "    </tr>\n",
       "    <tr>\n",
       "      <th>2</th>\n",
       "      <td>2</td>\n",
       "      <td>3</td>\n",
       "      <td>True</td>\n",
       "      <td>100</td>\n",
       "      <td>50</td>\n",
       "      <td>0.5</td>\n",
       "      <td>0.825213</td>\n",
       "      <td>1.0</td>\n",
       "      <td>0.949291</td>\n",
       "      <td>0.986016</td>\n",
       "      <td>1.0</td>\n",
       "      <td>200.0</td>\n",
       "      <td>1.0</td>\n",
       "      <td>Cori</td>\n",
       "      <td>2016-12-14</td>\n",
       "      <td>5dd41e</td>\n",
       "    </tr>\n",
       "    <tr>\n",
       "      <th>3</th>\n",
       "      <td>3</td>\n",
       "      <td>4</td>\n",
       "      <td>True</td>\n",
       "      <td>0</td>\n",
       "      <td>0</td>\n",
       "      <td>0.5</td>\n",
       "      <td>0.761612</td>\n",
       "      <td>0.0</td>\n",
       "      <td>2.266802</td>\n",
       "      <td>2.296436</td>\n",
       "      <td>1.0</td>\n",
       "      <td>860.0</td>\n",
       "      <td>1.0</td>\n",
       "      <td>Cori</td>\n",
       "      <td>2016-12-14</td>\n",
       "      <td>5dd41e</td>\n",
       "    </tr>\n",
       "    <tr>\n",
       "      <th>4</th>\n",
       "      <td>4</td>\n",
       "      <td>5</td>\n",
       "      <td>True</td>\n",
       "      <td>50</td>\n",
       "      <td>100</td>\n",
       "      <td>0.5</td>\n",
       "      <td>0.662010</td>\n",
       "      <td>1.0</td>\n",
       "      <td>0.816776</td>\n",
       "      <td>0.827613</td>\n",
       "      <td>-1.0</td>\n",
       "      <td>140.0</td>\n",
       "      <td>1.0</td>\n",
       "      <td>Cori</td>\n",
       "      <td>2016-12-14</td>\n",
       "      <td>5dd41e</td>\n",
       "    </tr>\n",
       "  </tbody>\n",
       "</table>\n",
       "</div>"
      ],
      "text/plain": [
       "   Unnamed: 0  trial  active_trials  contrast_left  contrast_right  \\\n",
       "0           0      1           True            100               0   \n",
       "1           1      2           True              0              50   \n",
       "2           2      3           True            100              50   \n",
       "3           3      4           True              0               0   \n",
       "4           4      5           True             50             100   \n",
       "\n",
       "   stim_onset  gocue_time  response_type  response_time  feedback_time  \\\n",
       "0         0.5    1.027216            1.0       1.150204       1.186819   \n",
       "1         0.5    0.874414           -1.0       1.399503       1.437623   \n",
       "2         0.5    0.825213            1.0       0.949291       0.986016   \n",
       "3         0.5    0.761612            0.0       2.266802       2.296436   \n",
       "4         0.5    0.662010            1.0       0.816776       0.827613   \n",
       "\n",
       "   feedback_type  reaction_time  reaction_type mouse session_date session_id  \n",
       "0            1.0          170.0            1.0  Cori   2016-12-14     5dd41e  \n",
       "1            1.0          230.0           -1.0  Cori   2016-12-14     5dd41e  \n",
       "2            1.0          200.0            1.0  Cori   2016-12-14     5dd41e  \n",
       "3            1.0          860.0            1.0  Cori   2016-12-14     5dd41e  \n",
       "4           -1.0          140.0            1.0  Cori   2016-12-14     5dd41e  "
      ]
     },
     "execution_count": 3,
     "metadata": {},
     "output_type": "execute_result"
    }
   ],
   "source": [
    "url = \"https://uni-bonn.sciebo.de/s/3ZbmkolHLQu1ADa/download\"\n",
    "df = pd.read_csv(url)\n",
    "df.head()"
   ]
  },
  {
   "cell_type": "markdown",
   "id": "1f0a11a1-85b4-40ca-b3ad-f32119f32f38",
   "metadata": {
    "papermill": {
     "duration": 0.004729,
     "end_time": "2024-10-11T14:57:10.126873",
     "exception": false,
     "start_time": "2024-10-11T14:57:10.122144",
     "status": "completed"
    },
    "tags": []
   },
   "source": [
    "Some information about the columns"
   ]
  },
  {
   "cell_type": "code",
   "execution_count": 4,
   "id": "c8c17287-875f-4cb1-80df-b6b8c9550f49",
   "metadata": {
    "execution": {
     "iopub.execute_input": "2024-10-11T14:57:10.136463Z",
     "iopub.status.busy": "2024-10-11T14:57:10.136463Z",
     "iopub.status.idle": "2024-10-11T14:57:10.143009Z",
     "shell.execute_reply": "2024-10-11T14:57:10.143009Z"
    },
    "papermill": {
     "duration": 0.014046,
     "end_time": "2024-10-11T14:57:10.145024",
     "exception": false,
     "start_time": "2024-10-11T14:57:10.130978",
     "status": "completed"
    },
    "tags": []
   },
   "outputs": [
    {
     "data": {
      "text/plain": [
       "Index(['Unnamed: 0', 'trial', 'active_trials', 'contrast_left',\n",
       "       'contrast_right', 'stim_onset', 'gocue_time', 'response_type',\n",
       "       'response_time', 'feedback_time', 'feedback_type', 'reaction_time',\n",
       "       'reaction_type', 'mouse', 'session_date', 'session_id'],\n",
       "      dtype='object')"
      ]
     },
     "execution_count": 4,
     "metadata": {},
     "output_type": "execute_result"
    }
   ],
   "source": [
    "df.columns"
   ]
  },
  {
   "cell_type": "markdown",
   "id": "e2200a63-ce4d-4d06-ab7f-c0c051fa5d1d",
   "metadata": {
    "papermill": {
     "duration": 0.003,
     "end_time": "2024-10-11T14:57:10.151570",
     "exception": false,
     "start_time": "2024-10-11T14:57:10.148570",
     "status": "completed"
    },
    "tags": []
   },
   "source": [
    "Dropping 'Unnamed: 0' column"
   ]
  },
  {
   "cell_type": "code",
   "execution_count": 5,
   "id": "9dd1a677-2473-4eda-b97f-601452c583c2",
   "metadata": {
    "execution": {
     "iopub.execute_input": "2024-10-11T14:57:10.159636Z",
     "iopub.status.busy": "2024-10-11T14:57:10.159636Z",
     "iopub.status.idle": "2024-10-11T14:57:10.177599Z",
     "shell.execute_reply": "2024-10-11T14:57:10.177599Z"
    },
    "papermill": {
     "duration": 0.02355,
     "end_time": "2024-10-11T14:57:10.177599",
     "exception": false,
     "start_time": "2024-10-11T14:57:10.154049",
     "status": "completed"
    },
    "tags": []
   },
   "outputs": [
    {
     "data": {
      "text/html": [
       "<div>\n",
       "<style scoped>\n",
       "    .dataframe tbody tr th:only-of-type {\n",
       "        vertical-align: middle;\n",
       "    }\n",
       "\n",
       "    .dataframe tbody tr th {\n",
       "        vertical-align: top;\n",
       "    }\n",
       "\n",
       "    .dataframe thead th {\n",
       "        text-align: right;\n",
       "    }\n",
       "</style>\n",
       "<table border=\"1\" class=\"dataframe\">\n",
       "  <thead>\n",
       "    <tr style=\"text-align: right;\">\n",
       "      <th></th>\n",
       "      <th>trial</th>\n",
       "      <th>active_trials</th>\n",
       "      <th>contrast_left</th>\n",
       "      <th>contrast_right</th>\n",
       "      <th>stim_onset</th>\n",
       "      <th>gocue_time</th>\n",
       "      <th>response_type</th>\n",
       "      <th>response_time</th>\n",
       "      <th>feedback_time</th>\n",
       "      <th>feedback_type</th>\n",
       "      <th>reaction_time</th>\n",
       "      <th>reaction_type</th>\n",
       "      <th>mouse</th>\n",
       "      <th>session_date</th>\n",
       "      <th>session_id</th>\n",
       "    </tr>\n",
       "  </thead>\n",
       "  <tbody>\n",
       "    <tr>\n",
       "      <th>0</th>\n",
       "      <td>1</td>\n",
       "      <td>True</td>\n",
       "      <td>100</td>\n",
       "      <td>0</td>\n",
       "      <td>0.5</td>\n",
       "      <td>1.027216</td>\n",
       "      <td>1.0</td>\n",
       "      <td>1.150204</td>\n",
       "      <td>1.186819</td>\n",
       "      <td>1.0</td>\n",
       "      <td>170.0</td>\n",
       "      <td>1.0</td>\n",
       "      <td>Cori</td>\n",
       "      <td>2016-12-14</td>\n",
       "      <td>5dd41e</td>\n",
       "    </tr>\n",
       "    <tr>\n",
       "      <th>1</th>\n",
       "      <td>2</td>\n",
       "      <td>True</td>\n",
       "      <td>0</td>\n",
       "      <td>50</td>\n",
       "      <td>0.5</td>\n",
       "      <td>0.874414</td>\n",
       "      <td>-1.0</td>\n",
       "      <td>1.399503</td>\n",
       "      <td>1.437623</td>\n",
       "      <td>1.0</td>\n",
       "      <td>230.0</td>\n",
       "      <td>-1.0</td>\n",
       "      <td>Cori</td>\n",
       "      <td>2016-12-14</td>\n",
       "      <td>5dd41e</td>\n",
       "    </tr>\n",
       "    <tr>\n",
       "      <th>2</th>\n",
       "      <td>3</td>\n",
       "      <td>True</td>\n",
       "      <td>100</td>\n",
       "      <td>50</td>\n",
       "      <td>0.5</td>\n",
       "      <td>0.825213</td>\n",
       "      <td>1.0</td>\n",
       "      <td>0.949291</td>\n",
       "      <td>0.986016</td>\n",
       "      <td>1.0</td>\n",
       "      <td>200.0</td>\n",
       "      <td>1.0</td>\n",
       "      <td>Cori</td>\n",
       "      <td>2016-12-14</td>\n",
       "      <td>5dd41e</td>\n",
       "    </tr>\n",
       "    <tr>\n",
       "      <th>3</th>\n",
       "      <td>4</td>\n",
       "      <td>True</td>\n",
       "      <td>0</td>\n",
       "      <td>0</td>\n",
       "      <td>0.5</td>\n",
       "      <td>0.761612</td>\n",
       "      <td>0.0</td>\n",
       "      <td>2.266802</td>\n",
       "      <td>2.296436</td>\n",
       "      <td>1.0</td>\n",
       "      <td>860.0</td>\n",
       "      <td>1.0</td>\n",
       "      <td>Cori</td>\n",
       "      <td>2016-12-14</td>\n",
       "      <td>5dd41e</td>\n",
       "    </tr>\n",
       "    <tr>\n",
       "      <th>4</th>\n",
       "      <td>5</td>\n",
       "      <td>True</td>\n",
       "      <td>50</td>\n",
       "      <td>100</td>\n",
       "      <td>0.5</td>\n",
       "      <td>0.662010</td>\n",
       "      <td>1.0</td>\n",
       "      <td>0.816776</td>\n",
       "      <td>0.827613</td>\n",
       "      <td>-1.0</td>\n",
       "      <td>140.0</td>\n",
       "      <td>1.0</td>\n",
       "      <td>Cori</td>\n",
       "      <td>2016-12-14</td>\n",
       "      <td>5dd41e</td>\n",
       "    </tr>\n",
       "  </tbody>\n",
       "</table>\n",
       "</div>"
      ],
      "text/plain": [
       "   trial  active_trials  contrast_left  contrast_right  stim_onset  \\\n",
       "0      1           True            100               0         0.5   \n",
       "1      2           True              0              50         0.5   \n",
       "2      3           True            100              50         0.5   \n",
       "3      4           True              0               0         0.5   \n",
       "4      5           True             50             100         0.5   \n",
       "\n",
       "   gocue_time  response_type  response_time  feedback_time  feedback_type  \\\n",
       "0    1.027216            1.0       1.150204       1.186819            1.0   \n",
       "1    0.874414           -1.0       1.399503       1.437623            1.0   \n",
       "2    0.825213            1.0       0.949291       0.986016            1.0   \n",
       "3    0.761612            0.0       2.266802       2.296436            1.0   \n",
       "4    0.662010            1.0       0.816776       0.827613           -1.0   \n",
       "\n",
       "   reaction_time  reaction_type mouse session_date session_id  \n",
       "0          170.0            1.0  Cori   2016-12-14     5dd41e  \n",
       "1          230.0           -1.0  Cori   2016-12-14     5dd41e  \n",
       "2          200.0            1.0  Cori   2016-12-14     5dd41e  \n",
       "3          860.0            1.0  Cori   2016-12-14     5dd41e  \n",
       "4          140.0            1.0  Cori   2016-12-14     5dd41e  "
      ]
     },
     "execution_count": 5,
     "metadata": {},
     "output_type": "execute_result"
    }
   ],
   "source": [
    "df = df.drop(columns=['Unnamed: 0'])\n",
    "df.head()"
   ]
  },
  {
   "cell_type": "markdown",
   "id": "45ed38e5-e52e-4e08-8735-b0cf23b1ef11",
   "metadata": {
    "papermill": {
     "duration": 0.003562,
     "end_time": "2024-10-11T14:57:10.186701",
     "exception": false,
     "start_time": "2024-10-11T14:57:10.183139",
     "status": "completed"
    },
    "tags": []
   },
   "source": [
    "We are only selecting active trials"
   ]
  },
  {
   "cell_type": "code",
   "execution_count": 6,
   "id": "fcc30535-b401-4079-8cd7-796e56b45014",
   "metadata": {
    "execution": {
     "iopub.execute_input": "2024-10-11T14:57:10.197237Z",
     "iopub.status.busy": "2024-10-11T14:57:10.197237Z",
     "iopub.status.idle": "2024-10-11T14:57:10.217887Z",
     "shell.execute_reply": "2024-10-11T14:57:10.217887Z"
    },
    "papermill": {
     "duration": 0.024222,
     "end_time": "2024-10-11T14:57:10.217887",
     "exception": false,
     "start_time": "2024-10-11T14:57:10.193665",
     "status": "completed"
    },
    "tags": []
   },
   "outputs": [
    {
     "data": {
      "text/html": [
       "<div>\n",
       "<style scoped>\n",
       "    .dataframe tbody tr th:only-of-type {\n",
       "        vertical-align: middle;\n",
       "    }\n",
       "\n",
       "    .dataframe tbody tr th {\n",
       "        vertical-align: top;\n",
       "    }\n",
       "\n",
       "    .dataframe thead th {\n",
       "        text-align: right;\n",
       "    }\n",
       "</style>\n",
       "<table border=\"1\" class=\"dataframe\">\n",
       "  <thead>\n",
       "    <tr style=\"text-align: right;\">\n",
       "      <th></th>\n",
       "      <th>trial</th>\n",
       "      <th>active_trials</th>\n",
       "      <th>contrast_left</th>\n",
       "      <th>contrast_right</th>\n",
       "      <th>stim_onset</th>\n",
       "      <th>gocue_time</th>\n",
       "      <th>response_type</th>\n",
       "      <th>response_time</th>\n",
       "      <th>feedback_time</th>\n",
       "      <th>feedback_type</th>\n",
       "      <th>reaction_time</th>\n",
       "      <th>reaction_type</th>\n",
       "      <th>mouse</th>\n",
       "      <th>session_date</th>\n",
       "      <th>session_id</th>\n",
       "    </tr>\n",
       "  </thead>\n",
       "  <tbody>\n",
       "    <tr>\n",
       "      <th>0</th>\n",
       "      <td>1</td>\n",
       "      <td>True</td>\n",
       "      <td>100</td>\n",
       "      <td>0</td>\n",
       "      <td>0.5</td>\n",
       "      <td>1.027216</td>\n",
       "      <td>1.0</td>\n",
       "      <td>1.150204</td>\n",
       "      <td>1.186819</td>\n",
       "      <td>1.0</td>\n",
       "      <td>170.0</td>\n",
       "      <td>1.0</td>\n",
       "      <td>Cori</td>\n",
       "      <td>2016-12-14</td>\n",
       "      <td>5dd41e</td>\n",
       "    </tr>\n",
       "    <tr>\n",
       "      <th>1</th>\n",
       "      <td>2</td>\n",
       "      <td>True</td>\n",
       "      <td>0</td>\n",
       "      <td>50</td>\n",
       "      <td>0.5</td>\n",
       "      <td>0.874414</td>\n",
       "      <td>-1.0</td>\n",
       "      <td>1.399503</td>\n",
       "      <td>1.437623</td>\n",
       "      <td>1.0</td>\n",
       "      <td>230.0</td>\n",
       "      <td>-1.0</td>\n",
       "      <td>Cori</td>\n",
       "      <td>2016-12-14</td>\n",
       "      <td>5dd41e</td>\n",
       "    </tr>\n",
       "    <tr>\n",
       "      <th>2</th>\n",
       "      <td>3</td>\n",
       "      <td>True</td>\n",
       "      <td>100</td>\n",
       "      <td>50</td>\n",
       "      <td>0.5</td>\n",
       "      <td>0.825213</td>\n",
       "      <td>1.0</td>\n",
       "      <td>0.949291</td>\n",
       "      <td>0.986016</td>\n",
       "      <td>1.0</td>\n",
       "      <td>200.0</td>\n",
       "      <td>1.0</td>\n",
       "      <td>Cori</td>\n",
       "      <td>2016-12-14</td>\n",
       "      <td>5dd41e</td>\n",
       "    </tr>\n",
       "    <tr>\n",
       "      <th>3</th>\n",
       "      <td>4</td>\n",
       "      <td>True</td>\n",
       "      <td>0</td>\n",
       "      <td>0</td>\n",
       "      <td>0.5</td>\n",
       "      <td>0.761612</td>\n",
       "      <td>0.0</td>\n",
       "      <td>2.266802</td>\n",
       "      <td>2.296436</td>\n",
       "      <td>1.0</td>\n",
       "      <td>860.0</td>\n",
       "      <td>1.0</td>\n",
       "      <td>Cori</td>\n",
       "      <td>2016-12-14</td>\n",
       "      <td>5dd41e</td>\n",
       "    </tr>\n",
       "    <tr>\n",
       "      <th>4</th>\n",
       "      <td>5</td>\n",
       "      <td>True</td>\n",
       "      <td>50</td>\n",
       "      <td>100</td>\n",
       "      <td>0.5</td>\n",
       "      <td>0.662010</td>\n",
       "      <td>1.0</td>\n",
       "      <td>0.816776</td>\n",
       "      <td>0.827613</td>\n",
       "      <td>-1.0</td>\n",
       "      <td>140.0</td>\n",
       "      <td>1.0</td>\n",
       "      <td>Cori</td>\n",
       "      <td>2016-12-14</td>\n",
       "      <td>5dd41e</td>\n",
       "    </tr>\n",
       "  </tbody>\n",
       "</table>\n",
       "</div>"
      ],
      "text/plain": [
       "   trial  active_trials  contrast_left  contrast_right  stim_onset  \\\n",
       "0      1           True            100               0         0.5   \n",
       "1      2           True              0              50         0.5   \n",
       "2      3           True            100              50         0.5   \n",
       "3      4           True              0               0         0.5   \n",
       "4      5           True             50             100         0.5   \n",
       "\n",
       "   gocue_time  response_type  response_time  feedback_time  feedback_type  \\\n",
       "0    1.027216            1.0       1.150204       1.186819            1.0   \n",
       "1    0.874414           -1.0       1.399503       1.437623            1.0   \n",
       "2    0.825213            1.0       0.949291       0.986016            1.0   \n",
       "3    0.761612            0.0       2.266802       2.296436            1.0   \n",
       "4    0.662010            1.0       0.816776       0.827613           -1.0   \n",
       "\n",
       "   reaction_time  reaction_type mouse session_date session_id  \n",
       "0          170.0            1.0  Cori   2016-12-14     5dd41e  \n",
       "1          230.0           -1.0  Cori   2016-12-14     5dd41e  \n",
       "2          200.0            1.0  Cori   2016-12-14     5dd41e  \n",
       "3          860.0            1.0  Cori   2016-12-14     5dd41e  \n",
       "4          140.0            1.0  Cori   2016-12-14     5dd41e  "
      ]
     },
     "execution_count": 6,
     "metadata": {},
     "output_type": "execute_result"
    }
   ],
   "source": [
    "df = df[df[\"active_trials\"]]\n",
    "df.head()"
   ]
  },
  {
   "cell_type": "markdown",
   "id": "7a0c5817-5ef4-4340-ad82-4a082035aa34",
   "metadata": {
    "papermill": {
     "duration": 0.005622,
     "end_time": "2024-10-11T14:57:10.228532",
     "exception": false,
     "start_time": "2024-10-11T14:57:10.222910",
     "status": "completed"
    },
    "tags": []
   },
   "source": [
    "Saving to a file called 'steinmetz_active.csv'"
   ]
  },
  {
   "cell_type": "code",
   "execution_count": 7,
   "id": "af9930f5-9e34-4d81-bf52-7bbf5aaee93b",
   "metadata": {
    "execution": {
     "iopub.execute_input": "2024-10-11T14:57:10.238641Z",
     "iopub.status.busy": "2024-10-11T14:57:10.238641Z",
     "iopub.status.idle": "2024-10-11T14:57:10.332890Z",
     "shell.execute_reply": "2024-10-11T14:57:10.332890Z"
    },
    "papermill": {
     "duration": 0.099802,
     "end_time": "2024-10-11T14:57:10.332890",
     "exception": false,
     "start_time": "2024-10-11T14:57:10.233088",
     "status": "completed"
    },
    "tags": []
   },
   "outputs": [],
   "source": [
    "df.to_csv('data_analysis/steinmetz_active.csv', index=False)"
   ]
  }
 ],
 "metadata": {
  "kernelspec": {
   "display_name": "Python 3 (ipykernel)",
   "language": "python",
   "name": "python3"
  },
  "language_info": {
   "codemirror_mode": {
    "name": "ipython",
    "version": 3
   },
   "file_extension": ".py",
   "mimetype": "text/x-python",
   "name": "python",
   "nbconvert_exporter": "python",
   "pygments_lexer": "ipython3",
   "version": "3.12.7"
  },
  "papermill": {
   "default_parameters": {},
   "duration": 7.801501,
   "end_time": "2024-10-11T14:57:13.256513",
   "environment_variables": {},
   "exception": null,
   "input_path": "analysis_workflow/1_data_access.ipynb",
   "output_path": "data_analysis/output_1.ipynb",
   "parameters": {},
   "start_time": "2024-10-11T14:57:05.455012",
   "version": "2.6.0"
  }
 },
 "nbformat": 4,
 "nbformat_minor": 5
}