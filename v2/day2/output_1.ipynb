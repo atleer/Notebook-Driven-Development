{
 "cells": [
  {
   "cell_type": "code",
   "execution_count": 1,
   "id": "ba992094-6901-412c-8cdf-520444d57ab3",
   "metadata": {
    "editable": true,
    "execution": {
     "iopub.execute_input": "2024-10-11T18:21:44.169085Z",
     "iopub.status.busy": "2024-10-11T18:21:44.168829Z",
     "iopub.status.idle": "2024-10-11T18:21:44.903413Z",
     "shell.execute_reply": "2024-10-11T18:21:44.903413Z"
    },
    "papermill": {
     "duration": 0.74415,
     "end_time": "2024-10-11T18:21:44.904459",
     "exception": false,
     "start_time": "2024-10-11T18:21:44.160309",
     "status": "completed"
    },
    "slideshow": {
     "slide_type": ""
    },
    "tags": []
   },
   "outputs": [],
   "source": [
    "import pandas as pd\n",
    "import papermill as pm"
   ]
  },
  {
   "cell_type": "markdown",
   "id": "a16e75c3-b736-4806-b8a7-1060dc291aa6",
   "metadata": {
    "papermill": {
     "duration": 0.002697,
     "end_time": "2024-10-11T18:21:44.909846",
     "exception": false,
     "start_time": "2024-10-11T18:21:44.907149",
     "status": "completed"
    },
    "tags": []
   },
   "source": [
    "Parameters"
   ]
  },
  {
   "cell_type": "code",
   "execution_count": 2,
   "id": "6b11a11a-253d-4ef6-8bf1-68d514b2a6ac",
   "metadata": {
    "editable": true,
    "execution": {
     "iopub.execute_input": "2024-10-11T18:21:44.918069Z",
     "iopub.status.busy": "2024-10-11T18:21:44.918069Z",
     "iopub.status.idle": "2024-10-11T18:21:44.920770Z",
     "shell.execute_reply": "2024-10-11T18:21:44.920682Z"
    },
    "papermill": {
     "duration": 0.008813,
     "end_time": "2024-10-11T18:21:44.921903",
     "exception": false,
     "start_time": "2024-10-11T18:21:44.913090",
     "status": "completed"
    },
    "slideshow": {
     "slide_type": ""
    },
    "tags": [
     "parameters"
    ]
   },
   "outputs": [],
   "source": [
    "# Parameters\n",
    "input_csv_url = \"https://uni-bonn.sciebo.de/s/FYJPmdTyPo1qwRX/download\"\n",
    "output_csv = \"processed.csv\"\n",
    "num_rows_display = 5"
   ]
  },
  {
   "cell_type": "code",
   "execution_count": 3,
   "id": "d7755405",
   "metadata": {
    "execution": {
     "iopub.execute_input": "2024-10-11T18:21:44.925520Z",
     "iopub.status.busy": "2024-10-11T18:21:44.925520Z",
     "iopub.status.idle": "2024-10-11T18:21:44.928056Z",
     "shell.execute_reply": "2024-10-11T18:21:44.927745Z"
    },
    "papermill": {
     "duration": 0.005561,
     "end_time": "2024-10-11T18:21:44.929076",
     "exception": false,
     "start_time": "2024-10-11T18:21:44.923515",
     "status": "completed"
    },
    "tags": [
     "injected-parameters"
    ]
   },
   "outputs": [],
   "source": [
    "# Parameters\n",
    "input_csv_url = \"https://uni-bonn.sciebo.de/s/O1ybfiVcqROP00W/download\"\n",
    "num_rows_display = 5\n"
   ]
  },
  {
   "cell_type": "markdown",
   "id": "161b2d4e-6858-418e-9530-ee53694d6742",
   "metadata": {
    "papermill": {
     "duration": 0.002003,
     "end_time": "2024-10-11T18:21:44.934076",
     "exception": false,
     "start_time": "2024-10-11T18:21:44.932073",
     "status": "completed"
    },
    "tags": []
   },
   "source": [
    "Read the CSV file"
   ]
  },
  {
   "cell_type": "code",
   "execution_count": 4,
   "id": "766cb135-b6b3-47de-bf26-ae1c85c81c72",
   "metadata": {
    "execution": {
     "iopub.execute_input": "2024-10-11T18:21:44.940083Z",
     "iopub.status.busy": "2024-10-11T18:21:44.940083Z",
     "iopub.status.idle": "2024-10-11T18:21:45.356916Z",
     "shell.execute_reply": "2024-10-11T18:21:45.356916Z"
    },
    "papermill": {
     "duration": 0.453311,
     "end_time": "2024-10-11T18:21:45.389472",
     "exception": false,
     "start_time": "2024-10-11T18:21:44.936161",
     "status": "completed"
    },
    "tags": []
   },
   "outputs": [],
   "source": [
    "df = pd.read_csv(input_csv_url)"
   ]
  },
  {
   "cell_type": "markdown",
   "id": "fc564c40-7e75-4055-aa5a-41f489a8e40b",
   "metadata": {
    "papermill": {
     "duration": 0.005986,
     "end_time": "2024-10-11T18:21:45.401473",
     "exception": false,
     "start_time": "2024-10-11T18:21:45.395487",
     "status": "completed"
    },
    "tags": []
   },
   "source": [
    "Number of rows"
   ]
  },
  {
   "cell_type": "code",
   "execution_count": 5,
   "id": "ee0617b3-60f8-48a7-aed0-846e560ff0bd",
   "metadata": {
    "execution": {
     "iopub.execute_input": "2024-10-11T18:21:45.417355Z",
     "iopub.status.busy": "2024-10-11T18:21:45.417355Z",
     "iopub.status.idle": "2024-10-11T18:21:45.430452Z",
     "shell.execute_reply": "2024-10-11T18:21:45.430452Z"
    },
    "papermill": {
     "duration": 0.02401,
     "end_time": "2024-10-11T18:21:45.432482",
     "exception": false,
     "start_time": "2024-10-11T18:21:45.408472",
     "status": "completed"
    },
    "tags": []
   },
   "outputs": [
    {
     "data": {
      "text/html": [
       "<div>\n",
       "<style scoped>\n",
       "    .dataframe tbody tr th:only-of-type {\n",
       "        vertical-align: middle;\n",
       "    }\n",
       "\n",
       "    .dataframe tbody tr th {\n",
       "        vertical-align: top;\n",
       "    }\n",
       "\n",
       "    .dataframe thead th {\n",
       "        text-align: right;\n",
       "    }\n",
       "</style>\n",
       "<table border=\"1\" class=\"dataframe\">\n",
       "  <thead>\n",
       "    <tr style=\"text-align: right;\">\n",
       "      <th></th>\n",
       "      <th>mouse</th>\n",
       "      <th>count</th>\n",
       "    </tr>\n",
       "  </thead>\n",
       "  <tbody>\n",
       "    <tr>\n",
       "      <th>0</th>\n",
       "      <td>Tatum</td>\n",
       "      <td>949</td>\n",
       "    </tr>\n",
       "    <tr>\n",
       "      <th>1</th>\n",
       "      <td>Muller</td>\n",
       "      <td>782</td>\n",
       "    </tr>\n",
       "    <tr>\n",
       "      <th>2</th>\n",
       "      <td>Cori</td>\n",
       "      <td>693</td>\n",
       "    </tr>\n",
       "    <tr>\n",
       "      <th>3</th>\n",
       "      <td>Moniz</td>\n",
       "      <td>606</td>\n",
       "    </tr>\n",
       "    <tr>\n",
       "      <th>4</th>\n",
       "      <td>Theiler</td>\n",
       "      <td>343</td>\n",
       "    </tr>\n",
       "  </tbody>\n",
       "</table>\n",
       "</div>"
      ],
      "text/plain": [
       "     mouse  count\n",
       "0    Tatum    949\n",
       "1   Muller    782\n",
       "2     Cori    693\n",
       "3    Moniz    606\n",
       "4  Theiler    343"
      ]
     },
     "execution_count": 5,
     "metadata": {},
     "output_type": "execute_result"
    }
   ],
   "source": [
    "df.head(num_rows_display)"
   ]
  },
  {
   "cell_type": "markdown",
   "id": "46698dd5-fcd9-4ab0-8f9c-b67aac4273cb",
   "metadata": {
    "papermill": {
     "duration": 0.00301,
     "end_time": "2024-10-11T18:21:45.438474",
     "exception": false,
     "start_time": "2024-10-11T18:21:45.435464",
     "status": "completed"
    },
    "tags": []
   },
   "source": [
    "Process the data (in this case, we'll just double a numerical column)"
   ]
  },
  {
   "cell_type": "code",
   "execution_count": 6,
   "id": "5c524725-be97-433a-9b68-3d08bee40bca",
   "metadata": {
    "execution": {
     "iopub.execute_input": "2024-10-11T18:21:45.449320Z",
     "iopub.status.busy": "2024-10-11T18:21:45.449320Z",
     "iopub.status.idle": "2024-10-11T18:21:45.453095Z",
     "shell.execute_reply": "2024-10-11T18:21:45.453095Z"
    },
    "papermill": {
     "duration": 0.010822,
     "end_time": "2024-10-11T18:21:45.454117",
     "exception": false,
     "start_time": "2024-10-11T18:21:45.443295",
     "status": "completed"
    },
    "tags": []
   },
   "outputs": [],
   "source": [
    "df['num_trials'] = df['count'] * 2"
   ]
  },
  {
   "cell_type": "markdown",
   "id": "eb2b8aff-0705-48e4-aef9-e8af281d8aa0",
   "metadata": {
    "papermill": {
     "duration": 0.003009,
     "end_time": "2024-10-11T18:21:45.460619",
     "exception": false,
     "start_time": "2024-10-11T18:21:45.457610",
     "status": "completed"
    },
    "tags": []
   },
   "source": [
    "Save the processed data to the output CSV"
   ]
  },
  {
   "cell_type": "code",
   "execution_count": 7,
   "id": "e0d28b77-8a64-42cf-8c5b-c548938dcbe2",
   "metadata": {
    "execution": {
     "iopub.execute_input": "2024-10-11T18:21:45.470621Z",
     "iopub.status.busy": "2024-10-11T18:21:45.470621Z",
     "iopub.status.idle": "2024-10-11T18:21:45.476548Z",
     "shell.execute_reply": "2024-10-11T18:21:45.476548Z"
    },
    "papermill": {
     "duration": 0.012952,
     "end_time": "2024-10-11T18:21:45.477571",
     "exception": false,
     "start_time": "2024-10-11T18:21:45.464619",
     "status": "completed"
    },
    "tags": []
   },
   "outputs": [
    {
     "data": {
      "text/plain": [
       "'Processed data saved to processed.csv'"
      ]
     },
     "execution_count": 7,
     "metadata": {},
     "output_type": "execute_result"
    }
   ],
   "source": [
    "df.to_csv(output_csv, index=False)\n",
    "\n",
    "f\"Processed data saved to {output_csv}\""
   ]
  }
 ],
 "metadata": {
  "kernelspec": {
   "display_name": "Python 3 (ipykernel)",
   "language": "python",
   "name": "python3"
  },
  "language_info": {
   "codemirror_mode": {
    "name": "ipython",
    "version": 3
   },
   "file_extension": ".py",
   "mimetype": "text/x-python",
   "name": "python",
   "nbconvert_exporter": "python",
   "pygments_lexer": "ipython3",
   "version": "3.12.7"
  },
  "papermill": {
   "default_parameters": {},
   "duration": 3.015797,
   "end_time": "2024-10-11T18:21:45.710667",
   "environment_variables": {},
   "exception": null,
   "input_path": "papermill_workflow/notebook_1.ipynb",
   "output_path": "output_1.ipynb",
   "parameters": {
    "input_csv_url": "https://uni-bonn.sciebo.de/s/O1ybfiVcqROP00W/download",
    "num_rows_display": 5
   },
   "start_time": "2024-10-11T18:21:42.694870",
   "version": "2.6.0"
  }
 },
 "nbformat": 4,
 "nbformat_minor": 5
}