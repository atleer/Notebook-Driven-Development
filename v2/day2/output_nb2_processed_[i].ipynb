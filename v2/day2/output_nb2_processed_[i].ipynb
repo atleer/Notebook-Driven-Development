{
 "cells": [
  {
   "cell_type": "code",
   "execution_count": 1,
   "id": "af60cfaf-0c7a-4e5f-bca5-7bc2af30b6fc",
   "metadata": {
    "editable": true,
    "execution": {
     "iopub.execute_input": "2024-10-11T18:45:39.482911Z",
     "iopub.status.busy": "2024-10-11T18:45:39.482911Z",
     "iopub.status.idle": "2024-10-11T18:45:39.782104Z",
     "shell.execute_reply": "2024-10-11T18:45:39.781088Z"
    },
    "papermill": {
     "duration": 0.304786,
     "end_time": "2024-10-11T18:45:39.782104",
     "exception": false,
     "start_time": "2024-10-11T18:45:39.477318",
     "status": "completed"
    },
    "slideshow": {
     "slide_type": ""
    },
    "tags": []
   },
   "outputs": [],
   "source": [
    "import pandas as pd"
   ]
  },
  {
   "cell_type": "markdown",
   "id": "9813cb06-dd6c-4952-89ab-a53513c87e2c",
   "metadata": {
    "papermill": {
     "duration": 0.001508,
     "end_time": "2024-10-11T18:45:39.786810",
     "exception": false,
     "start_time": "2024-10-11T18:45:39.785302",
     "status": "completed"
    },
    "tags": []
   },
   "source": [
    "Parameters"
   ]
  },
  {
   "cell_type": "code",
   "execution_count": 2,
   "id": "e672756b-dfcf-4603-a682-c958b66193dd",
   "metadata": {
    "editable": true,
    "execution": {
     "iopub.execute_input": "2024-10-11T18:45:39.789815Z",
     "iopub.status.busy": "2024-10-11T18:45:39.789815Z",
     "iopub.status.idle": "2024-10-11T18:45:39.792194Z",
     "shell.execute_reply": "2024-10-11T18:45:39.792194Z"
    },
    "papermill": {
     "duration": 0.005441,
     "end_time": "2024-10-11T18:45:39.793256",
     "exception": false,
     "start_time": "2024-10-11T18:45:39.787815",
     "status": "completed"
    },
    "slideshow": {
     "slide_type": ""
    },
    "tags": [
     "parameters"
    ]
   },
   "outputs": [],
   "source": [
    "# Parameters\n",
    "processed_csv = \"processed.csv\""
   ]
  },
  {
   "cell_type": "code",
   "execution_count": 3,
   "id": "b09cb683",
   "metadata": {
    "execution": {
     "iopub.execute_input": "2024-10-11T18:45:39.796214Z",
     "iopub.status.busy": "2024-10-11T18:45:39.796214Z",
     "iopub.status.idle": "2024-10-11T18:45:39.798587Z",
     "shell.execute_reply": "2024-10-11T18:45:39.798587Z"
    },
    "papermill": {
     "duration": 0.005917,
     "end_time": "2024-10-11T18:45:39.800129",
     "exception": false,
     "start_time": "2024-10-11T18:45:39.794212",
     "status": "completed"
    },
    "tags": [
     "injected-parameters"
    ]
   },
   "outputs": [],
   "source": [
    "# Parameters\n",
    "processed_csv = \"processed\\\\processed_2.csv\"\n"
   ]
  },
  {
   "cell_type": "markdown",
   "id": "d19a8728-f888-40f8-9513-af38bc3e81cb",
   "metadata": {
    "papermill": {
     "duration": 0.001002,
     "end_time": "2024-10-11T18:45:39.802239",
     "exception": false,
     "start_time": "2024-10-11T18:45:39.801237",
     "status": "completed"
    },
    "tags": []
   },
   "source": [
    "Read the processed CSV file"
   ]
  },
  {
   "cell_type": "code",
   "execution_count": 4,
   "id": "23701b3b-51bc-4a2e-8c89-7be29bb0eacf",
   "metadata": {
    "execution": {
     "iopub.execute_input": "2024-10-11T18:45:39.807730Z",
     "iopub.status.busy": "2024-10-11T18:45:39.806723Z",
     "iopub.status.idle": "2024-10-11T18:45:39.812865Z",
     "shell.execute_reply": "2024-10-11T18:45:39.812632Z"
    },
    "papermill": {
     "duration": 0.010189,
     "end_time": "2024-10-11T18:45:39.813889",
     "exception": false,
     "start_time": "2024-10-11T18:45:39.803700",
     "status": "completed"
    },
    "tags": []
   },
   "outputs": [],
   "source": [
    "df = pd.read_csv(processed_csv)"
   ]
  },
  {
   "cell_type": "markdown",
   "id": "72135a18-3c31-4238-8526-1046ac6757f8",
   "metadata": {
    "papermill": {
     "duration": 0.002003,
     "end_time": "2024-10-11T18:45:39.816891",
     "exception": false,
     "start_time": "2024-10-11T18:45:39.814888",
     "status": "completed"
    },
    "tags": []
   },
   "source": [
    "Perform analysis (e.g., calculate mean of 'num_trials')"
   ]
  },
  {
   "cell_type": "code",
   "execution_count": 5,
   "id": "b6d16fe8-5d9d-4e77-87b2-d94fbf3424ae",
   "metadata": {
    "execution": {
     "iopub.execute_input": "2024-10-11T18:45:39.820607Z",
     "iopub.status.busy": "2024-10-11T18:45:39.820607Z",
     "iopub.status.idle": "2024-10-11T18:45:39.823271Z",
     "shell.execute_reply": "2024-10-11T18:45:39.823271Z"
    },
    "papermill": {
     "duration": 0.006395,
     "end_time": "2024-10-11T18:45:39.824286",
     "exception": false,
     "start_time": "2024-10-11T18:45:39.817891",
     "status": "completed"
    },
    "tags": []
   },
   "outputs": [
    {
     "name": "stdout",
     "output_type": "stream",
     "text": [
      "Mean value of 'num_trials': 1349.2\n"
     ]
    }
   ],
   "source": [
    "mean_value = df['num_trials'].mean()\n",
    "\n",
    "print(f\"Mean value of 'num_trials': {mean_value}\")"
   ]
  }
 ],
 "metadata": {
  "kernelspec": {
   "display_name": "Python 3 (ipykernel)",
   "language": "python",
   "name": "python3"
  },
  "language_info": {
   "codemirror_mode": {
    "name": "ipython",
    "version": 3
   },
   "file_extension": ".py",
   "mimetype": "text/x-python",
   "name": "python",
   "nbconvert_exporter": "python",
   "pygments_lexer": "ipython3",
   "version": "3.12.7"
  },
  "papermill": {
   "default_parameters": {},
   "duration": 2.012365,
   "end_time": "2024-10-11T18:45:40.068604",
   "environment_variables": {},
   "exception": null,
   "input_path": "papermill_workflow/notebook_2.ipynb",
   "output_path": "output_nb2_processed_[i].ipynb",
   "parameters": {
    "processed_csv": "processed\\processed_2.csv"
   },
   "start_time": "2024-10-11T18:45:38.056239",
   "version": "2.6.0"
  }
 },
 "nbformat": 4,
 "nbformat_minor": 5
}