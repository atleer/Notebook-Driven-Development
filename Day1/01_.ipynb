{
 "cells": [
  {
   "cell_type": "code",
   "execution_count": null,
   "id": "7a684dc1-c209-44de-8102-2cd1ee7f557c",
   "metadata": {},
   "outputs": [],
   "source": [
    "# !pip install pandas hvplot"
   ]
  },
  {
   "cell_type": "code",
   "execution_count": null,
   "id": "bc8e78b6-1aed-4cd1-8ce9-d90005747ef9",
   "metadata": {},
   "outputs": [],
   "source": [
    "import pandas as pd\n",
    "import hvplot.pandas"
   ]
  },
  {
   "cell_type": "code",
   "execution_count": null,
   "id": "06d21dfd-a609-433f-b071-0da91b97a20e",
   "metadata": {},
   "outputs": [],
   "source": [
    "import sys\n",
    "sys.path.append('src')\n",
    "import sciebo\n",
    "\n",
    "sciebo.download_file('https://uni-bonn.sciebo.de/s/G5rdvTsoESXolF4', 'data/steinmetz_winter2017.csv')"
   ]
  },
  {
   "cell_type": "markdown",
   "id": "58f5ca4b-6f46-40d8-8144-1b64e267eec4",
   "metadata": {},
   "source": [
    "# Jupyter Notebooks To Make Advanced Analysis Documents\n",
    "\n",
    "Jupyter Notebooks are a powerful tool to combine your code and add analysis documentation all in the same document.\n",
    "In this session, we start by understanding different types of basic unit of a Jupyter notebook known as cell starting with Code cell.\n",
    "Then we look into some of ways to integrate text based explanations into analysis document with Markdown and Raw cells.\n",
    "Now that we are familiar with the structure of Jupyter notebook, we move on to looking at the data itself within a notebook using `Pandas`.\n",
    "Finally, we use `hvPlot` to add visualizations.\n",
    "\n",
    "To make things easier, you can use the following shortcut table to quickly navigate and edit Jupyter notebook.\n",
    "\n",
    "| **Category**               | **Shortcut**              | **Action**                                         |\n",
    "|----------------------------|---------------------------|---------------------------------------------------|\n",
    "| **Cell Operations**         | `Shift + Enter`           | Run the current cell and move to the next         |\n",
    "|                            | `Ctrl + Enter`            | Run the current cell but stay on the same cell    |\n",
    "|                            | `Ctrl + Shift + -`        | Split the current cell at the cursor              |\n",
    "| **Cell Insertion and Deletion** | `Esc + A`             | Insert a new cell above                           |\n",
    "|                            | `Esc + B`                 | Insert a new cell below                           |\n",
    "|                            | `Esc + D + D`             | Delete the current cell                           |\n",
    "|                            | `Esc + Z`                 | Undo cell deletion                                |\n",
    "| **Cell Type Conversion**    | `Esc + M`                 | Convert the current cell to Markdown              |\n",
    "|                            | `Esc + Y`                 | Convert the current cell to Code                  |\n",
    "|                            | `Esc + R`                 | Convert the current cell to Raw                   |\n",
    "| **Editing and Saving**      | `Ctrl + S`                | Save the notebook                                 |\n",
    "|                            | `Ctrl + /`                | Toggle comment on the selected code line(s)       |\n",
    "\n",
    "---\n"
   ]
  },
  {
   "cell_type": "markdown",
   "id": "12744b45-5e92-420c-96cc-4ee407e9747a",
   "metadata": {},
   "source": [
    "## Code Cell\n",
    "\n",
    "Cell is a basic unit of Jupyter notebook. It is where we write, execute, and organize our code and notes. There are three types of cells in Jupyter: Code, Markdown, and Raw cells.\n",
    "\n",
    "![Cell Type](img/cell_mode.png)\n",
    "\n",
    "A code cell is to write and execute code. It allows us to enter code in programming languages like Python, R, or Julia and execute it directly within the notebook. When executed, the code cell displays the output below it, such as printed results, visualizations, or even errors."
   ]
  },
  {
   "cell_type": "markdown",
   "id": "a82f21a1-d7bd-415b-a8ad-670642a35756",
   "metadata": {},
   "source": [
    "Arithmetic expressions are computed and displayed directly in the output.\n",
    "\n",
    "**Example** In a code cell, type 1+1 and execute the cell (Ctrl+Enter). What do you see?"
   ]
  },
  {
   "cell_type": "code",
   "execution_count": null,
   "id": "04516e89-1219-4687-a883-ca8d9442dc29",
   "metadata": {},
   "outputs": [],
   "source": [
    "1 + 1"
   ]
  },
  {
   "cell_type": "code",
   "execution_count": null,
   "id": "485eff62-c472-4209-b9a4-1b34623c4081",
   "metadata": {},
   "outputs": [],
   "source": [
    "10.5 * 6.0"
   ]
  },
  {
   "cell_type": "code",
   "execution_count": null,
   "id": "1cb7cb24-733a-4c4f-9e98-a85e7d50ece5",
   "metadata": {},
   "outputs": [],
   "source": [
    "100 / 10"
   ]
  },
  {
   "cell_type": "markdown",
   "id": "a45a8773-6745-4fae-9efe-4ec41c5032ca",
   "metadata": {},
   "source": [
    "Assigining a value to a variable does not produce an output. It just stores the variable.\n",
    "\n",
    "**Example** Assign 10 to a"
   ]
  },
  {
   "cell_type": "code",
   "execution_count": null,
   "id": "6a0d1bfe-8f22-4ff7-b5dd-8cd0d4263d5a",
   "metadata": {},
   "outputs": [],
   "source": [
    "a = 10"
   ]
  },
  {
   "cell_type": "markdown",
   "id": "997fcdb7-ba83-4a2c-a3f5-4bc513a82f60",
   "metadata": {},
   "source": [
    "Assign \"hello\" to greet"
   ]
  },
  {
   "cell_type": "code",
   "execution_count": null,
   "id": "854246e1-7d1c-4c50-991f-bf8fdc08129d",
   "metadata": {},
   "outputs": [],
   "source": [
    "greet = \"hello\""
   ]
  },
  {
   "cell_type": "markdown",
   "id": "bab2de6f-8c1e-4bb6-be4c-e5ead505679d",
   "metadata": {},
   "source": [
    "Assign c to sum of 10 and 100."
   ]
  },
  {
   "cell_type": "code",
   "execution_count": null,
   "id": "9505cdd1-acfc-40a1-9a3b-314393747f63",
   "metadata": {},
   "outputs": [],
   "source": [
    "c = 10 + 100"
   ]
  },
  {
   "cell_type": "markdown",
   "id": "08890d7a-9f23-47ff-ac01-dfac751fab8e",
   "metadata": {},
   "source": [
    "If you want to display the value of a variable, you need to reference the.\n",
    "\n",
    "**Example** Assign 10 to a and display a."
   ]
  },
  {
   "cell_type": "code",
   "execution_count": null,
   "id": "001af207-c550-4867-97c3-b0271acfbb1e",
   "metadata": {},
   "outputs": [],
   "source": [
    "a = 10\n",
    "a"
   ]
  },
  {
   "cell_type": "markdown",
   "id": "97eafda7-e55a-4ac5-8489-da8b59196874",
   "metadata": {},
   "source": [
    "Assign \"hello\" to greet and display it."
   ]
  },
  {
   "cell_type": "code",
   "execution_count": null,
   "id": "91de50c5-72ce-4684-bd5d-933ee4b8f707",
   "metadata": {},
   "outputs": [],
   "source": [
    "greet = \"hello\"\n",
    "greet"
   ]
  },
  {
   "cell_type": "markdown",
   "id": "2b3b8869-ace2-40ba-a686-1c2cceb4852e",
   "metadata": {},
   "source": [
    "Assign c to sum of 10 and 100 and display c"
   ]
  },
  {
   "cell_type": "code",
   "execution_count": null,
   "id": "3929ecbb-39b6-41db-9f40-1f7bcc824551",
   "metadata": {},
   "outputs": [],
   "source": [
    "c = 10 + 100\n",
    "c"
   ]
  },
  {
   "cell_type": "markdown",
   "id": "8ac6d95f-eb57-4924-ba80-9b8178b7a729",
   "metadata": {},
   "source": [
    "Print statements are widely used in almost all languages for debugging, displaying outputs, tracking program flow, etc. Let's understand the behaviour of a code cell for print statements.\n",
    "\n",
    "**Example** print \"hello\"."
   ]
  },
  {
   "cell_type": "code",
   "execution_count": null,
   "id": "0d5412c4-05db-42d3-ad4c-4b6e2a60964b",
   "metadata": {},
   "outputs": [],
   "source": [
    "print(\"hello\")"
   ]
  },
  {
   "cell_type": "markdown",
   "id": "c674054e-4a4b-4e19-82fc-fe41c8c40703",
   "metadata": {},
   "source": [
    "print \"hello\" and assign it to a variable called \"print_result\" and print print_result. What do you see?"
   ]
  },
  {
   "cell_type": "code",
   "execution_count": null,
   "id": "95855696-3265-455a-843f-e017ffec7a0f",
   "metadata": {},
   "outputs": [],
   "source": [
    "print_result = print(\"hello\")\n",
    "print(print_result)"
   ]
  },
  {
   "cell_type": "markdown",
   "id": "f93f1daf-ffd5-4560-a552-594a987b3463",
   "metadata": {},
   "source": [
    "print \"hello\" and assign it to a variable called \"print_result\" and display print_result. What do you see? How is it different from the above output?"
   ]
  },
  {
   "cell_type": "code",
   "execution_count": null,
   "id": "3c8978ee-c1fa-4464-950c-f44045e9d532",
   "metadata": {},
   "outputs": [],
   "source": [
    "print_result = print(\"hello\")\n",
    "print_result"
   ]
  },
  {
   "cell_type": "markdown",
   "id": "2a56e63a-d6e8-4b90-a0e2-d312a796fac9",
   "metadata": {},
   "source": [
    "If you make a mistake in your code (such as dividing by zero or using an undefined variable), the code cell will return an error message:\n",
    "\n",
    "**Example** Divide 5 by 0."
   ]
  },
  {
   "cell_type": "code",
   "execution_count": null,
   "id": "403fc041-9056-459d-807e-451bf485c9ba",
   "metadata": {},
   "outputs": [],
   "source": [
    "# 5 / 0"
   ]
  },
  {
   "cell_type": "markdown",
   "id": "33b55914-afcf-41e6-9a05-0226a87f1c8f",
   "metadata": {},
   "source": [
    "Add 10 to \"hello\""
   ]
  },
  {
   "cell_type": "code",
   "execution_count": null,
   "id": "55ffffe7-5a25-4414-b7cd-f550c3736457",
   "metadata": {},
   "outputs": [],
   "source": [
    "# \"hello\" + 10"
   ]
  },
  {
   "cell_type": "markdown",
   "id": "dc7d6caa-578f-446a-847e-5f4cd4ca1ec3",
   "metadata": {},
   "source": [
    "print variable_does_not_exist"
   ]
  },
  {
   "cell_type": "code",
   "execution_count": null,
   "id": "5d28df8d-12ee-419d-affb-676ffd231461",
   "metadata": {},
   "outputs": [],
   "source": [
    "# print(variable_does_not_exist)"
   ]
  },
  {
   "cell_type": "markdown",
   "id": "416d5dda-a161-42a1-bedf-0b6fbc41531a",
   "metadata": {},
   "source": [
    "Plots will appear right below the code. For the below exercises, do not worry about understanding the code. \n",
    "\n",
    "**Example** Plot histogram of 'response_time' variable from Winter 2017 data."
   ]
  },
  {
   "cell_type": "code",
   "execution_count": null,
   "id": "709f9434-90b1-4836-b5b9-29c2529f1a94",
   "metadata": {},
   "outputs": [],
   "source": [
    "df = pd.read_csv('data/steinmetz_winter2017.csv')\n",
    "df['response_time'].hvplot.hist()"
   ]
  },
  {
   "cell_type": "markdown",
   "id": "e0a250af-b87a-4fc6-a894-7a4afafdec35",
   "metadata": {},
   "source": [
    "Plot histogram of 'feedback_time' variable from Winter 2017 data."
   ]
  },
  {
   "cell_type": "code",
   "execution_count": null,
   "id": "b2617370-c1bc-4672-aeca-dd2517972812",
   "metadata": {},
   "outputs": [],
   "source": [
    "df = pd.read_csv('data/steinmetz_winter2017.csv')\n",
    "df['feedback_time'].hvplot.hist()"
   ]
  },
  {
   "cell_type": "markdown",
   "id": "ed6f33b3-ee2b-4a5d-b541-3a3edc4eba95",
   "metadata": {},
   "source": [
    "Plot box plot of 'response_time' variable from Winter 2017 data."
   ]
  },
  {
   "cell_type": "code",
   "execution_count": null,
   "id": "99afc572-7a0a-4de7-9b56-106aad44b979",
   "metadata": {},
   "outputs": [],
   "source": [
    "df = pd.read_csv('data/steinmetz_winter2017.csv')\n",
    "df['response_time'].hvplot.box()"
   ]
  },
  {
   "cell_type": "markdown",
   "id": "6340e1c7-5890-4fbf-8033-f88b1038f2a6",
   "metadata": {},
   "source": [
    "## Markdown Cell\n",
    "\n",
    "Markdown cells render formatted text for documentation, using Markdown syntax. Markdown in Jupyter Notebooks is a great tool for formatting text, embedding images, and organizing information.\n",
    "\n",
    "We can create headings using # symbols. More number of # preceding the heading text, smaller is the font size.\n",
    "\n",
    "**Example** Create a markdown cell that looks like this\n",
    "# This is level 1 heading\n",
    "\n",
    "Hint: \n",
    "```markdown\n",
    "# This is level 1 heading\n",
    "```"
   ]
  },
  {
   "cell_type": "markdown",
   "id": "b65295d3-d87c-414e-ada5-39e04ed0b66f",
   "metadata": {},
   "source": [
    "--- your code here"
   ]
  },
  {
   "cell_type": "markdown",
   "id": "0d5b6569-4914-4fb6-8e35-baa6939ba4a1",
   "metadata": {},
   "source": [
    "Create a level 2 heading that looks like this\n",
    "\n",
    "<h2>This is a level 2 heading</h2>"
   ]
  },
  {
   "cell_type": "markdown",
   "id": "305e6701-af18-4c72-98b9-bd2eb3d03f6f",
   "metadata": {},
   "source": [
    "--- your code here"
   ]
  },
  {
   "cell_type": "markdown",
   "id": "716f198d-898a-4ff4-8fd5-c8b21bc7e242",
   "metadata": {},
   "source": [
    "Create a level 6 heading that looks like this\n",
    "\n",
    "<h2>This is a level 6 heading</h2>"
   ]
  },
  {
   "cell_type": "markdown",
   "id": "aecfd296-632d-461b-9ea2-401c9970690b",
   "metadata": {},
   "source": [
    "--- your code here"
   ]
  },
  {
   "cell_type": "markdown",
   "id": "d1cad8c5-a6a0-4e46-944a-a27118f06834",
   "metadata": {},
   "source": [
    "You can also make the text bold, italics, or both.\n",
    "\n",
    "**Example** Make text bold\n",
    "\n",
    "```markdown\n",
    "**This is Bold**\n",
    "```"
   ]
  },
  {
   "cell_type": "markdown",
   "id": "8cd6b8ee-18b2-4d1e-a5d1-127552c81b33",
   "metadata": {},
   "source": [
    "--- your code here"
   ]
  },
  {
   "cell_type": "markdown",
   "id": "6516087a-44b0-4c31-9ddb-ec7a4276bdad",
   "metadata": {},
   "source": [
    "Display below text by using only one `*` instead of two on either side of the text.\n",
    "\n",
    "<i>This is italics</i>"
   ]
  },
  {
   "cell_type": "markdown",
   "id": "b394cda9-a31a-41d5-a05c-e4b36bac894f",
   "metadata": {},
   "source": [
    "--- your code here"
   ]
  },
  {
   "cell_type": "markdown",
   "id": "f7718484-84fc-4435-81cb-625120aed954",
   "metadata": {},
   "source": [
    "Display below text by using *** on either side of the text\n",
    "\n",
    "<b><i>This is bold and italics</b></i>"
   ]
  },
  {
   "cell_type": "markdown",
   "id": "bbe61dc2-6189-453a-84c6-703a6d2913a8",
   "metadata": {},
   "source": [
    "Making ordered and unordered lists in Jupyter notebook is quite simple.\n",
    "\n",
    "**Example** Make an unordered list of three programming languages\n",
    "```markdown\n",
    "- Python\n",
    "- Julia\n",
    "- R\n",
    "```"
   ]
  },
  {
   "cell_type": "markdown",
   "id": "175bcdc5-b933-4c25-a517-d79964b19c44",
   "metadata": {},
   "source": [
    "--- your code here"
   ]
  },
  {
   "cell_type": "markdown",
   "id": "9bbea89c-f29e-48e9-8ad0-d5c1bf7278ae",
   "metadata": {},
   "source": [
    "You can also use *, or + to create unordered lists. \n",
    "Make an unordered list of your three favorite fruits using `*`"
   ]
  },
  {
   "cell_type": "markdown",
   "id": "37e16022-ace8-4ed6-a970-1765e07fcb43",
   "metadata": {},
   "source": [
    "--- your code here"
   ]
  },
  {
   "cell_type": "markdown",
   "id": "f09da6c6-8e51-4364-877f-7ba3e3f620f5",
   "metadata": {},
   "source": [
    "Make an unordered list of your favorite vegetables using +"
   ]
  },
  {
   "cell_type": "markdown",
   "id": "81ef7419-8f31-47b6-a8a6-28f6432deeec",
   "metadata": {},
   "source": [
    "--- your code here"
   ]
  },
  {
   "cell_type": "markdown",
   "id": "2a6d9139-8868-4d12-b788-fa54837e3aea",
   "metadata": {},
   "source": [
    "Order your favorite vegetables starting from most favorite using `1` to `3` to number your list."
   ]
  },
  {
   "cell_type": "markdown",
   "id": "0a381c0b-6f9a-40ad-a3dc-b5d69a2573b0",
   "metadata": {},
   "source": [
    "--- your code here"
   ]
  },
  {
   "cell_type": "markdown",
   "id": "68529c8d-f2da-486d-9ac4-e3011f4a6746",
   "metadata": {},
   "source": [
    "You can add hyperlinks\n",
    "\n",
    "**Example**\n",
    "\n",
    "```markdown\n",
    "[The Name You Want To See](https://abc.com)\n",
    "```\n",
    "\n",
    "Add a link to your favorite website"
   ]
  },
  {
   "cell_type": "markdown",
   "id": "e1155059-ee57-4dc3-b9e2-b2afca5cc72d",
   "metadata": {},
   "source": [
    "--- your code here"
   ]
  },
  {
   "cell_type": "markdown",
   "id": "de10f769-0197-42f5-bb35-6c507fafbff6",
   "metadata": {},
   "source": [
    "Adding images is almost the same syntax\n",
    "\n",
    "```markdown\n",
    "![Sample Image](path/to/image.png)\n",
    "```\n",
    "\n",
    "Display iBehave_Logo from img folder."
   ]
  },
  {
   "cell_type": "markdown",
   "id": "95c72b92-855b-42ac-ba93-1ba649707836",
   "metadata": {},
   "source": [
    "--- your code here"
   ]
  },
  {
   "cell_type": "markdown",
   "id": "6d080ee9-6707-4424-8123-5a1d27965a1a",
   "metadata": {},
   "source": [
    "Have a mathematical equation? No problem. You can use latex to write equations. Type the below code into markdown and see how it renders\n",
    "\n",
    "```markdown\n",
    "$E = mc^2$\n",
    "```"
   ]
  },
  {
   "cell_type": "markdown",
   "id": "210b76c0-5b6f-4676-b4d4-c21ddbf9ddda",
   "metadata": {},
   "source": [
    "--- your code"
   ]
  },
  {
   "cell_type": "markdown",
   "id": "09ed17fd-1686-4dcf-9c20-68263682137e",
   "metadata": {},
   "source": [
    "Want to display a block of code in markdown? You can do so by enclosing your code within ```\n",
    "\n",
    "**Example** Show syntax of printing hello world in Python (Press enter on this cell to see the code)\n",
    "```python\n",
    "print(\"Hello, world!\")\n",
    "```"
   ]
  },
  {
   "cell_type": "markdown",
   "id": "562c2c74-9f61-4800-ba5c-4111c6f08bf8",
   "metadata": {},
   "source": [
    "---your code"
   ]
  },
  {
   "cell_type": "markdown",
   "id": "7258340b-bbde-4086-a32d-6c36acb55f4c",
   "metadata": {},
   "source": [
    "Want to make a table?\n",
    "\n",
    "```markdown\n",
    "| Column 1 | Column 2 |\n",
    "|----------|----------|\n",
    "| Value 1  | Value 2  |\n",
    "| Value 3  | Value 4  |\n",
    "```\n",
    "\n",
    "Make a table in the below cell with two columns and three rows"
   ]
  },
  {
   "cell_type": "markdown",
   "id": "bd84ce93-36c8-4a61-afe9-cf282d459c66",
   "metadata": {},
   "source": [
    "## Raw Cell"
   ]
  },
  {
   "cell_type": "raw",
   "id": "d79a2092-9de6-4975-b463-dc873251a310",
   "metadata": {
    "editable": true,
    "raw_mimetype": "",
    "slideshow": {
     "slide_type": ""
    },
    "tags": []
   },
   "source": [
    "E=mc^2"
   ]
  },
  {
   "cell_type": "markdown",
   "id": "58bcf1ff-f855-4d00-b31c-258acfc29720",
   "metadata": {},
   "source": [
    "## Jupyter Notebooks for More"
   ]
  }
 ],
 "metadata": {
  "kernelspec": {
   "display_name": "ndd",
   "language": "python",
   "name": "ndd"
  },
  "language_info": {
   "codemirror_mode": {
    "name": "ipython",
    "version": 3
   },
   "file_extension": ".py",
   "mimetype": "text/x-python",
   "name": "python",
   "nbconvert_exporter": "python",
   "pygments_lexer": "ipython3",
   "version": "3.12.7"
  }
 },
 "nbformat": 4,
 "nbformat_minor": 5
}
