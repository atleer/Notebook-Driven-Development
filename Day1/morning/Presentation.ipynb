{
 "cells": [
  {
   "cell_type": "code",
   "execution_count": 1,
   "id": "b6e99d14-b38c-417e-b947-bca76387b3e7",
   "metadata": {
    "editable": true,
    "slideshow": {
     "slide_type": ""
    },
    "tags": []
   },
   "outputs": [],
   "source": [
    "# Data Analysis\n",
    "# Date\n",
    "# Name\n",
    "# Research group\n",
    "# Table of contents: add contents of the slide\n",
    "\n",
    "# Importing data\n",
    "import pandas as pd\n",
    "import hvplot.pandas\n",
    "\n",
    "# Downloading data\n",
    "import sys\n",
    "sys.path.append('src')\n",
    "import sciebo\n",
    "sciebo.download_file('https://uni-bonn.sciebo.de/s/G5rdvTsoESXolF4', 'data/steinmetz_winter2017.csv')\n",
    "\n",
    "# Reading data\n",
    "df = pd.read_csv(\"data/steinmetz_winter2017.csv\")\n",
    "df.head(10)\n",
    "\n",
    "# Statistics\n",
    "# Some code to calculate statistics\n",
    "\n",
    "# Plotting\n",
    "# Plot 1\n",
    "# Plot 2\n",
    "# Plot 3\n"
   ]
  }
 ],
 "metadata": {
  "kernelspec": {
   "display_name": "Python 3 (ipykernel)",
   "language": "python",
   "name": "python3"
  },
  "language_info": {
   "codemirror_mode": {
    "name": "ipython",
    "version": 3
   },
   "file_extension": ".py",
   "mimetype": "text/x-python",
   "name": "python",
   "nbconvert_exporter": "python",
   "pygments_lexer": "ipython3",
   "version": "3.12.7"
  }
 },
 "nbformat": 4,
 "nbformat_minor": 5
}
