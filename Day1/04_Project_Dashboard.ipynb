{
 "cells": [
  {
   "cell_type": "markdown",
   "id": "7d0d6491-c47d-4ae0-b55f-98b37d7ca22f",
   "metadata": {},
   "source": [
    "# Sharing Dashboards Built In Jupyter Notebooks\n",
    "\n",
    "\n",
    "| **Pandas Command**           | **What It Does**                                      | **Example with Output**                                                                                                                                 |\n",
    "|------------------------------|------------------------------------------------------|--------------------------------------------------------------------------------------------------------------------------------------------------------|\n",
    "| `pd.read_csv('file.csv')`     | Reads a CSV file into a DataFrame.                   | `df = pd.read_csv('data.csv')`<br> Output: A DataFrame with the contents of the CSV.                                                                  |\n",
    "| `df.head()`                   | Displays the first 5 rows of the DataFrame.          | `df.head()`<br> Output: The first 5 rows of the DataFrame.                                                                                            |\n",
    "| `df.info()`                   | Provides summary information about the DataFrame.    | `df.info()`<br> Output: Data types, non-null counts, and memory usage.                                                                                |\n",
    "| `df.describe()`               | Generates descriptive statistics.                    | `df.describe()`<br> Output: Count, mean, std, min, 25%, 50%, 75%, max for numerical columns.                                                          |\n",
    "| `df['col']`                   | Accesses a single column as a Series.                | `df['Age']`<br> Output: Series of values in the 'Age' column.                                                                                         |\n",
    "| `df[['col1', 'col2']]`        | Accesses multiple columns as a DataFrame.            | `df[['Name', 'Age']]`<br> Output: DataFrame with 'Name' and 'Age' columns.                                                                                    |\n",
    "| `df['col'].unique()`          | Returns unique values of a column.                   | `df['Country'].unique()`<br> Output: Array of unique values from the 'Country' column.                                                                |\n",
    "| `df['col'].value_counts()`    | Counts the occurrences of each unique value.         | `df['Gender'].value_counts()`<br> Output: Count of unique values in the 'Gender' column.                                            s or additional commands!\n",
    "\n",
    "---\n",
    "\n",
    "\n",
    "| **hvPlot Command**                        | **What It Does**                                                    | **Example with Output**                                                                                                                       |\n",
    "|-------------------------------------------|---------------------------------------------------------------------|-----------------------------------------------------------------------------------------------------------------------------------------------|\n",
    "| `df.hvplot.line(x='col1', y='col2')`      | Creates a line plot.                                                | `df.hvplot.line(x='Year', y='Sales')`<br> Output: A line plot with 'Year' on the x-axis and 'Sales' on the y-axis.                            |\n",
    "| `df.hvplot.scatter(x='col1', y='col2')`   | Creates a scatter plot.                                             | `df.hvplot.scatter(x='Height', y='Weight')`<br> Output: A scatter plot of 'Height' vs 'Weight'.                                                |\n",
    "| `df.hvplot.bar(x='col1', y='col2')`       | Creates a bar plot.                                                 | `df.hvplot.bar(x='Country', y='GDP')`<br> Output: A bar plot showing 'Country' on the x-axis and 'GDP' on the y-axis.                          |\n",
    "| `df.hvplot.hist('col')`                   | Creates a histogram.                                                | `df.hvplot.hist('Age')`<br> Output: A histogram of 'Age' with bin frequencies.                                                                 |\n",
    "| `df.hvplot.area(x='col1', y='col2')`      | Creates an area plot.                                               | `df.hvplot.area(x='Year', y='Revenue')`<br> Output: An area plot showing the 'Revenue' over 'Year'.                                            |\n",
    "| `df.hvplot.box(y='col')`                  | Creates a box plot.                                                 | `df.hvplot.box(y='Age')`<br> Output: A box plot for 'Age' distribution.                                                                       |\n",
    "| `df.hvplot.violin(y='col')`               | Creates a violin plot.                                              | `df.hvplot.violin(y='Income')`<br> Output: A violin plot showing the distribution of 'Income'.                                                 |\n",
    "| `df.hvplot.hexbin(x='col1', y='col2')`    | Creates a hexbin plot (2D histogram).                               | `df.hvplot.hexbin(x='Longitude', y='Latitude')`<br> Output: A hexbin plot showing density of points across 'Longitude' and 'Latitude'.          |\n",
    "| `df.hvplot.heatmap(x='col1', y='col2')`   | Creates a heatmap.                                                  | `df.hvplot.heatmap(x='Month', y='Product', C='Sales')`<br> Output: A heatmap showing 'Sales' for different 'Months' and 'Products'.            |\n",
    "| `df.hvplot.kde(y='col')`                  | Creates a kernel density estimate (KDE) plot.                       | `df.hvplot.kde(y='Salary')`<br> Output: A KDE plot showing the probability density of 'Salary'.                                                |\n",
    "| `df.hvplot.bivariate(x='col1', y='col2')` | Creates a bivariate distribution plot.                              | `df.hvplot.bivariate(x='Income', y='Expenditure')`<br> Output: A bivariate plot showing the joint distribution of 'Income' and 'Expls or specific examples!"
   ]
  },
  {
   "cell_type": "code",
   "execution_count": null,
   "id": "0458bd64-3b2d-47e7-8c62-92b890ccb15c",
   "metadata": {},
   "outputs": [],
   "source": [
    "import panel as pn\n",
    "pn.extension()\n",
    "\n",
    "import pandas as pd\n",
    "import hvplot.pandas\n",
    "import panel.widgets as pnw"
   ]
  },
  {
   "cell_type": "code",
   "execution_count": null,
   "id": "f64a77e7-ab68-4b67-8009-02e442384ed3",
   "metadata": {},
   "outputs": [],
   "source": [
    "df = pd.read_csv(\"https://uni-bonn.sciebo.de/s/QcC6e3LXiNlNl0X/download\")"
   ]
  }
 ],
 "metadata": {
  "kernelspec": {
   "display_name": "Python 3 (ipykernel)",
   "language": "python",
   "name": "python3"
  },
  "language_info": {
   "codemirror_mode": {
    "name": "ipython",
    "version": 3
   },
   "file_extension": ".py",
   "mimetype": "text/x-python",
   "name": "python",
   "nbconvert_exporter": "python",
   "pygments_lexer": "ipython3",
   "version": "3.12.7"
  }
 },
 "nbformat": 4,
 "nbformat_minor": 5
}
