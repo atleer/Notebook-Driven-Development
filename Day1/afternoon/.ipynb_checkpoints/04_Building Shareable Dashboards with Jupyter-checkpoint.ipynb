{
 "cells": [
  {
   "cell_type": "markdown",
   "id": "7d0d6491-c47d-4ae0-b55f-98b37d7ca22f",
   "metadata": {},
   "source": [
    "# Sharing Dashboards Built In Jupyter Notebooks"
   ]
  },
  {
   "cell_type": "markdown",
   "id": "6435b24d-ac6c-404b-816d-e731d70336a3",
   "metadata": {},
   "source": [
    "**Exercise 1**"
   ]
  },
  {
   "cell_type": "markdown",
   "id": "0db54d2f-d41e-4215-928d-4de66d4dc3e2",
   "metadata": {},
   "source": [
    "Launch a new terminal \n",
    "\n",
    "1. **File -> New -> Terminal**.\n",
    "2. If Windows, type `cmd` and Enter.\n",
    "3. Type `git clone https://github.com/sangeethankumar/ndd_app_exercise.git`"
   ]
  },
  {
   "cell_type": "markdown",
   "id": "0c256497-eac1-4b03-97db-70c7e150cacc",
   "metadata": {},
   "source": [
    "In the File Explorer, \n",
    "\n",
    "1. Open `app.ipynb`\n",
    "2. Run all the cells\n",
    "3. Preview with Panel"
   ]
  },
  {
   "cell_type": "markdown",
   "id": "3eda5fbd-da94-491d-a014-1a55de10f23c",
   "metadata": {},
   "source": [
    "In the terminal type\n",
    "\n",
    "1. Navigate to where you cloned the repo by `cd path/to/ndd_exercise`\n",
    "2. Serve the app \n",
    "```bash\n",
    "panel serve app.ipynb\n",
    "```\n",
    "3. In the terminal, you will see a link next to `Bokeh app running at`. If you click on it, you can see the app on your browser."
   ]
  },
  {
   "cell_type": "markdown",
   "id": "8a34961e-ac02-4f1d-b801-03ca05c4efba",
   "metadata": {},
   "source": [
    "---"
   ]
  },
  {
   "cell_type": "markdown",
   "id": "3285d510-033d-4cf2-a2fa-014c158fb9d0",
   "metadata": {},
   "source": [
    "**Exercise 2**\n",
    "\n",
    "1. Create a notebook called `app_name.ipynb` where `name` is your name.\n",
    "2. Add the below code to read the dataset and confirm that it runs.\n",
    "```python\n",
    "\n",
    "import panel as pn\n",
    "pn.extension()\n",
    "\n",
    "import pandas as pd\n",
    "import hvplot.pandas\n",
    "import panel.widgets as pnw\n",
    "\n",
    "df = pd.read_csv(\"https://uni-bonn.sciebo.de/s/QcC6e3LXiNlNl0X/download\")\n",
    "df.head()\n",
    "```\n",
    "3. Create a dashboard such that (Helpful pandas and hvplot commands are given at the end of the document)\n",
    "    1. Layout has three tabs\n",
    "    2. First tab shows data table\n",
    "    3. Second tab shows some statistics\n",
    "    4. Third tab shows some visualization\n",
    "\n",
    "4. Preview the dashboard within Notebook\n",
    "\n",
    "5. Serve the app from the terminal,\n",
    "```bash\n",
    "panel serve app_name.ipynb\n",
    "```\n",
    "6. At the top of the notebook, describe how to serve the app in a markdown cell"
   ]
  },
  {
   "cell_type": "markdown",
   "id": "266bba29-acd2-4d1f-b806-9dc355e6c745",
   "metadata": {},
   "source": [
    "**Exercise 3**\n",
    "\n",
    "1. Create a public github repo\n",
    "2. Upload `app_name.ipynb` to the repo\n",
    "3. Share the link to the repo with your breakout room"
   ]
  },
  {
   "cell_type": "markdown",
   "id": "42943532-ca8c-4d77-8182-b4741caf351e",
   "metadata": {},
   "source": [
    "**Exercise 4**\n",
    "\n",
    "1. Obtain a link for an app on github repo from your breakout room partner.\n",
    "2. Type `git clone repo_link` where `repo_link` is the link to the repo.\n",
    "3. Run their `app_name.ipynb` in your jupyter lab environment.\n",
    "4. Preview with panel\n",
    "5. Based on the instructions on their notebook, use the terminal to serve their app."
   ]
  },
  {
   "cell_type": "markdown",
   "id": "5e656567-327b-443e-838e-6a0b3a466321",
   "metadata": {},
   "source": [
    "### Pandas commands\n",
    "\n",
    "\n",
    "| **Pandas Command**           | **What It Does**                                      | **Example with Output**                                                                                                                                 |\n",
    "|------------------------------|------------------------------------------------------|--------------------------------------------------------------------------------------------------------------------------------------------------------|\n",
    "| `pd.read_csv('file.csv')`     | Reads a CSV file into a DataFrame.                   | `df = pd.read_csv('data.csv')`<br> Output: A DataFrame with the contents of the CSV.                                                                  |\n",
    "| `df.head()`                   | Displays the first 5 rows of the DataFrame.          | `df.head()`<br> Output: The first 5 rows of the DataFrame.                                                                                            |\n",
    "| `df.info()`                   | Provides summary information about the DataFrame.    | `df.info()`<br> Output: Data types, non-null counts, and memory usage.                                                                                |\n",
    "| `df.describe()`               | Generates descriptive statistics.                    | `df.describe()`<br> Output: Count, mean, std, min, 25%, 50%, 75%, max for numerical columns.                                                          |\n",
    "| `df['col']`                   | Accesses a single column as a Series.                | `df['Age']`<br> Output: Series of values in the 'Age' column.                                                                                         |\n",
    "| `df[['col1', 'col2']]`        | Accesses multiple columns as a DataFrame.            | `df[['Name', 'Age']]`<br> Output: DataFrame with 'Name' and 'Age' columns.                                                                                    |\n",
    "| `df['col'].unique()`          | Returns unique values of a column.                   | `df['Country'].unique()`<br> Output: Array of unique values from the 'Country' column.                                                                |\n",
    "| `df['col'].value_counts()`    | Counts the occurrences of each unique value.         | `df['Gender'].value_counts()`<br> Output: Count of unique values in the 'Gender' column.                                            s or additional commands!"
   ]
  },
  {
   "cell_type": "markdown",
   "id": "4c65d4a1-1ae2-401d-8923-acf232cc6a72",
   "metadata": {},
   "source": [
    "### `hvplot` commands\n",
    "\n",
    "\n",
    "\n",
    "| **hvPlot Command**                        | **What It Does**                                                    | **Example with Output**                                                                                                                       |\n",
    "|-------------------------------------------|---------------------------------------------------------------------|-----------------------------------------------------------------------------------------------------------------------------------------------|\n",
    "| `df.hvplot.line(x='col1', y='col2')`      | Creates a line plot.                                                | `df.hvplot.line(x='Year', y='Sales')`<br> Output: A line plot with 'Year' on the x-axis and 'Sales' on the y-axis.                            |\n",
    "| `df.hvplot.scatter(x='col1', y='col2')`   | Creates a scatter plot.                                             | `df.hvplot.scatter(x='Height', y='Weight')`<br> Output: A scatter plot of 'Height' vs 'Weight'.                                                |\n",
    "| `df.hvplot.bar(x='col1', y='col2')`       | Creates a bar plot.                                                 | `df.hvplot.bar(x='Country', y='GDP')`<br> Output: A bar plot showing 'Country' on the x-axis and 'GDP' on the y-axis.                          |\n",
    "| `df.hvplot.hist('col')`                   | Creates a histogram.                                                | `df.hvplot.hist('Age')`<br> Output: A histogram of 'Age' with bin frequencies.                                                                 |\n",
    "| `df.hvplot.area(x='col1', y='col2')`      | Creates an area plot.                                               | `df.hvplot.area(x='Year', y='Revenue')`<br> Output: An area plot showing the 'Revenue' over 'Year'.                                            |\n",
    "| `df.hvplot.box(y='col')`                  | Creates a box plot.                                                 | `df.hvplot.box(y='Age')`<br> Output: A box plot for 'Age' distribution.                                                                       |\n",
    "| `df.hvplot.violin(y='col')`               | Creates a violin plot.                                              | `df.hvplot.violin(y='Income')`<br> Output: A violin plot showing the distribution of 'Income'.                                                 |\n",
    "| `df.hvplot.hexbin(x='col1', y='col2')`    | Creates a hexbin plot (2D histogram).                               | `df.hvplot.hexbin(x='Longitude', y='Latitude')`<br> Output: A hexbin plot showing density of points across 'Longitude' and 'Latitude'.          |\n",
    "| `df.hvplot.heatmap(x='col1', y='col2')`   | Creates a heatmap.                                                  | `df.hvplot.heatmap(x='Month', y='Product', C='Sales')`<br> Output: A heatmap showing 'Sales' for different 'Months' and 'Products'.            |\n",
    "| `df.hvplot.kde(y='col')`                  | Creates a kernel density estimate (KDE) plot.                       | `df.hvplot.kde(y='Salary')`<br> Output: A KDE plot showing the probability density of 'Salary'.                                                |\n",
    "| `df.hvplot.bivariate(x='col1', y='col2')` | Creates a bivariate distribution plot.                              | `df.hvplot.bivariate(x='Income', y='Expenditure')`<br> Output: A bivariate plot showing the joint distribution of 'Income' and 'Expls or specific examples!"
   ]
  }
 ],
 "metadata": {
  "kernelspec": {
   "display_name": "Python 3 (ipykernel)",
   "language": "python",
   "name": "python3"
  },
  "language_info": {
   "codemirror_mode": {
    "name": "ipython",
    "version": 3
   },
   "file_extension": ".py",
   "mimetype": "text/x-python",
   "name": "python",
   "nbconvert_exporter": "python",
   "pygments_lexer": "ipython3",
   "version": "3.12.7"
  }
 },
 "nbformat": 4,
 "nbformat_minor": 5
}
