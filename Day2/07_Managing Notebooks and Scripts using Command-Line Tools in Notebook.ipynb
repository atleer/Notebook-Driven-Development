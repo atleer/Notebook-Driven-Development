{
 "cells": [
  {
   "cell_type": "code",
   "execution_count": null,
   "id": "42876d32-5d40-40f4-abad-ce46f1e23851",
   "metadata": {},
   "outputs": [],
   "source": [
    "# !pip install papermill nbconvert jupytext pandoc"
   ]
  },
  {
   "cell_type": "code",
   "execution_count": null,
   "id": "c7396ea5-e22d-4568-bcc6-c949dd7204fd",
   "metadata": {},
   "outputs": [],
   "source": [
    "import pandas as pd"
   ]
  },
  {
   "cell_type": "markdown",
   "id": "8bcc4f64-54d2-4b67-8810-18214284da75",
   "metadata": {},
   "source": [
    "# Managing Notebooks and Scripts using Command-Line Tools in Jupyter\n",
    "\n",
    "In this notebook we learn how to use command-line tools inside Jupyter notebooks to make our work easier and more efficient. \n",
    "We start by learning how to run command-line commands, like managing files or installing software, directly from the notebook. \n",
    "Then, we explore how to run entire notebooks from the command line, which helps when we need to automate tasks. \n",
    "We also see how to turn regular Python scripts into notebooks, making them easier version control with Git. \n",
    "Lastly, we see how to convert notebooks into other formats, like HTML or PDF from command line tools, so they can be shared with others."
   ]
  },
  {
   "cell_type": "markdown",
   "id": "e8a26f42-2c0e-4757-a4be-6896a9abceb4",
   "metadata": {},
   "source": [
    "## Running Command-Line Commands in Jupyter\n",
    "\n",
    "A command line is a text-based interface that allows users to interact with their computer’s operating system by typing commands, rather than using graphical interfaces.\n",
    "In this interface, users can navigate directories, manage files, run programs, and perform a wide range of tasks by typing specific commands.\n",
    "Popular command-line environments include Bash (common in Linux and macOS) and the Windows Command Prompt or PowerShell.\n",
    "\n",
    "As researchers we may need to use command-line for file management (move, rename, delete, or organize datasets), automate repeating tasks that may involve external tools, install software etc. \n",
    "\n",
    "Incorporating command-line commands into our analysis notebooks allows us to integrate external tools, automate repeating tasks, and manage data all within the same environment. \n",
    "\n",
    "**Run below code to downlaod data for this section. You do not have to know the contents of the file as we are only learning how to manage files**"
   ]
  },
  {
   "cell_type": "code",
   "execution_count": null,
   "id": "1996a51c-b4c8-4170-8893-c19d40b24163",
   "metadata": {},
   "outputs": [],
   "source": [
    "import sys\n",
    "sys.path.append('src')\n",
    "import sciebo\n",
    "\n",
    "sciebo.download_file('https://uni-bonn.sciebo.de/s/yDiGZT44SXLvK5r', 'command_line/text_config.txt')\n",
    "sciebo.download_file('https://uni-bonn.sciebo.de/s/apw9RMXjgfhQaK5', 'command_line/python_config.py')\n",
    "sciebo.download_file('https://uni-bonn.sciebo.de/s/lwVMGbzKQXFuIax', 'command_line/notebook_config.ipynb')"
   ]
  },
  {
   "cell_type": "markdown",
   "id": "a605215f-2769-4b39-bb7f-4b0b113e8f8d",
   "metadata": {},
   "source": [
    "**Example** Install `pandas`"
   ]
  },
  {
   "cell_type": "code",
   "execution_count": null,
   "id": "5fe656bc-129a-41f2-8a69-b4ae6b943f1c",
   "metadata": {},
   "outputs": [],
   "source": [
    "# !pip install pandas"
   ]
  },
  {
   "cell_type": "markdown",
   "id": "0d956b96-f449-44b9-bab6-871bb1abc912",
   "metadata": {},
   "source": [
    "Install `numpy`"
   ]
  },
  {
   "cell_type": "code",
   "execution_count": null,
   "id": "02b334e3-29c7-49d6-889a-7b2287dd78f0",
   "metadata": {},
   "outputs": [],
   "source": [
    "# !pip install numpy"
   ]
  },
  {
   "cell_type": "markdown",
   "id": "8b5edc6a-f6ed-4b54-a6b4-ca74a531a502",
   "metadata": {},
   "source": [
    "Install seaborn"
   ]
  },
  {
   "cell_type": "code",
   "execution_count": null,
   "id": "21ed7160-20d1-46e9-93f8-d2c70f4f2782",
   "metadata": {},
   "outputs": [],
   "source": [
    "# !pip install seaborn"
   ]
  },
  {
   "cell_type": "markdown",
   "id": "bfc7c6b2-c365-4a5b-80d1-640d6d8fcc18",
   "metadata": {},
   "source": [
    "You can use any option that comes along with the command-line command"
   ]
  },
  {
   "cell_type": "markdown",
   "id": "7a2569b3-858d-40b0-9c91-1d8fc62e3cec",
   "metadata": {},
   "source": [
    "**Example** Upgrade matplotlib"
   ]
  },
  {
   "cell_type": "code",
   "execution_count": null,
   "id": "351bb5ba-89eb-44ac-b1bd-333264432974",
   "metadata": {},
   "outputs": [],
   "source": [
    "# !pip install --upgrade matplotlib"
   ]
  },
  {
   "cell_type": "markdown",
   "id": "48fdf38d-e7c9-465d-9632-ba157c52181f",
   "metadata": {},
   "source": [
    "Upgrade seaborn"
   ]
  },
  {
   "cell_type": "code",
   "execution_count": null,
   "id": "a2ecb8b4-6ff4-42e1-ad95-9813bab29e72",
   "metadata": {},
   "outputs": [],
   "source": [
    "# !pip install --upgrade seaborn"
   ]
  },
  {
   "cell_type": "markdown",
   "id": "b1368d5c-e13c-4fbc-a85f-ec7230137931",
   "metadata": {},
   "source": [
    "Upgrade nbformat"
   ]
  },
  {
   "cell_type": "code",
   "execution_count": null,
   "id": "43aa83ed-1111-424e-92d9-bde1bdc61365",
   "metadata": {},
   "outputs": [],
   "source": [
    "# !pip install --upgrade nbformat"
   ]
  },
  {
   "cell_type": "markdown",
   "id": "437b2134-9d62-47cb-8b45-a67164de0c97",
   "metadata": {},
   "source": [
    "**Example** Create a new directory called `data_1`"
   ]
  },
  {
   "cell_type": "code",
   "execution_count": null,
   "id": "3c1ddcdf-9e9d-4aa9-9cee-bd744f176f7e",
   "metadata": {},
   "outputs": [],
   "source": [
    "!mkdir data_1"
   ]
  },
  {
   "cell_type": "markdown",
   "id": "7876eec0-cf45-49ae-89a9-9b375043a221",
   "metadata": {},
   "source": [
    "Create a new directory `data_2`"
   ]
  },
  {
   "cell_type": "code",
   "execution_count": null,
   "id": "ae8bff92-d2cd-416e-8e72-011b9bc796dc",
   "metadata": {},
   "outputs": [],
   "source": [
    "!mkdir data_2"
   ]
  },
  {
   "cell_type": "markdown",
   "id": "dd185198-f5b6-4e25-a003-2a6e362057de",
   "metadata": {},
   "source": [
    "Create a new directory `data_1/data_1_sub`\n",
    "\n",
    "(`data_1\\data_1_sub` for windows machines)"
   ]
  },
  {
   "cell_type": "code",
   "execution_count": null,
   "id": "359f1dc0-ed2a-4ca5-9324-db1e5e6195ce",
   "metadata": {},
   "outputs": [],
   "source": [
    "!mkdir data_1\\data_1_sub"
   ]
  },
  {
   "cell_type": "markdown",
   "id": "5a54e792-8afb-4963-8b88-84475be0c969",
   "metadata": {},
   "source": [
    "We can run Linux command-line commands within a cell using %%bash\n",
    "\n",
    "**Example** Copy `magic_commands/hello.py` to `data_1` directory"
   ]
  },
  {
   "cell_type": "code",
   "execution_count": null,
   "id": "af6b8ae4-4cde-4530-ab03-9ce13e3edcba",
   "metadata": {},
   "outputs": [],
   "source": [
    "%%bash\n",
    "cp magic_commands/python_config.py data_1/python_config.py"
   ]
  },
  {
   "cell_type": "markdown",
   "id": "654ba857-6673-499a-811a-902f492f3cea",
   "metadata": {},
   "source": [
    "Copy `magic_commands/text_config.txt` to `data_1`"
   ]
  },
  {
   "cell_type": "code",
   "execution_count": null,
   "id": "a41c71d7-7416-4c4b-b8a0-70fac5e764bb",
   "metadata": {},
   "outputs": [],
   "source": [
    "%%bash\n",
    "cp magic_commands/text_config.txt data_1/text_config.txt"
   ]
  },
  {
   "cell_type": "markdown",
   "id": "5b0872bb-66eb-4ceb-ada0-3f43a0e05b05",
   "metadata": {},
   "source": [
    "Copy `magic_commands/notebook_config.ipynb` to `data_1/data_1_sub` with a name `nb_config.ipynb`"
   ]
  },
  {
   "cell_type": "code",
   "execution_count": null,
   "id": "a57def14-dbd1-4168-b266-b4ee6f82abc8",
   "metadata": {},
   "outputs": [],
   "source": [
    "%%bash\n",
    "cp magic_commands/notebook_config.ipynb data_1/data_1_sub/nb_config.ipynb"
   ]
  },
  {
   "cell_type": "markdown",
   "id": "15ac97a7-8355-44ea-9d9f-9a44844f0923",
   "metadata": {},
   "source": [
    "Let's practice deleting files and folders. **Always be cautious when deleting any file**\n",
    "\n",
    "**Example** Delete `data_1/text_config.txt` file. (Only file)"
   ]
  },
  {
   "cell_type": "code",
   "execution_count": null,
   "id": "4a18a6a1-e4ce-48a0-97ce-50b5e95694e5",
   "metadata": {},
   "outputs": [],
   "source": [
    "%%bash\n",
    "rm data_1/text_config.txt"
   ]
  },
  {
   "cell_type": "markdown",
   "id": "f48aefca-d19d-4e41-835f-a3890787f98f",
   "metadata": {},
   "source": [
    "Delete `data_1/python_config.txt` (Only file)"
   ]
  },
  {
   "cell_type": "code",
   "execution_count": null,
   "id": "14c573a0-7d5e-416c-8868-71a74dbb9b7f",
   "metadata": {},
   "outputs": [],
   "source": [
    "%%bash\n",
    "rm data_1/python_config.py"
   ]
  },
  {
   "cell_type": "markdown",
   "id": "ab460ad8-1e82-4ef0-aef7-ebe0ad8edbae",
   "metadata": {},
   "source": [
    "Delete `data_2` directory"
   ]
  },
  {
   "cell_type": "code",
   "execution_count": null,
   "id": "e027268a-a966-4877-a3de-d660e49b4501",
   "metadata": {},
   "outputs": [],
   "source": [
    "%%bash\n",
    "rmdir data_2"
   ]
  },
  {
   "cell_type": "markdown",
   "id": "508613d6-3805-4ca4-8731-b444134799da",
   "metadata": {},
   "source": [
    "Delete `data_1` including sub-directories"
   ]
  },
  {
   "cell_type": "markdown",
   "id": "2224c9ef-cc94-4100-956f-b2a12edc7c89",
   "metadata": {},
   "source": [
    "---"
   ]
  },
  {
   "cell_type": "markdown",
   "id": "e22ef9d2-cd30-4e92-8b44-c0608f9416ea",
   "metadata": {},
   "source": [
    "**Run below code to download data for this section**"
   ]
  },
  {
   "cell_type": "code",
   "execution_count": 6,
   "id": "bcb7e55d-e19f-44a0-8384-f8642189e7b8",
   "metadata": {},
   "outputs": [
    {
     "name": "stderr",
     "output_type": "stream",
     "text": [
      "Downloading data/2016-12-14_Cori.csv: 100%|██████████████████████████████████████████████████| 25.5M/25.5M [00:08<00:00, 3.04MB/s]\n",
      "Downloading parameterization/01_notebook_brain_area.ipynb: 100%|█████████████████████████████████████| 4.29k/4.29k [00:00<?, ?B/s]\n",
      "Downloading parameterization/02_notebook_fixed_response.ipynb: 100%|█████████████████████████████████| 2.36k/2.36k [00:00<?, ?B/s]\n",
      "Downloading parameterization/03_notebook_fixed_feedback.ipynb: 100%|█████████████████████████████████| 2.37k/2.37k [00:00<?, ?B/s]\n"
     ]
    }
   ],
   "source": [
    "import sys\n",
    "sys.path.append('src')\n",
    "import sciebo\n",
    "\n",
    "sciebo.download_file('https://uni-bonn.sciebo.de/s/nih6mIiDSLOlPHU', 'data/2016-12-14_Cori.csv')\n",
    "sciebo.download_file('https://uni-bonn.sciebo.de/s/dkPOipzGNjkBiXQ', 'parameterization/01_notebook_brain_area.ipynb')\n",
    "sciebo.download_file('https://uni-bonn.sciebo.de/s/WReS5HIxAK8cws4', 'parameterization/02_notebook_fixed_response.ipynb')\n",
    "sciebo.download_file('https://uni-bonn.sciebo.de/s/QxcX90gL9B7paar', 'parameterization/03_notebook_fixed_feedback.ipynb')"
   ]
  },
  {
   "cell_type": "markdown",
   "id": "d7e2ddba-c6b7-484b-bf92-7b83518ae117",
   "metadata": {},
   "source": [
    "## Executing Notebooks from Command Line\n",
    "\n",
    "Running a notebook from command-line can be useful to automate execution of Jupyter notebook as part of a workflow or pipeline.\n",
    "It can help us integrate it with task scheduling tools to perform routine tasks without manually opening and running the notebook.\n",
    "Another use would be when dealing with multiple notebooks, running from command-line allows for batch processing enabling us to execute several notebooks sequentially without manually interacting with each one.\n",
    "\n",
    "Here we will look into a tool called `papermill` that can execute notebooks from command-line. For this, we use three notebooks\n",
    "\n",
    "1. `parameterization/01_notebook_brain_area.ipynb`: Filters 2016-12-14_Cori.csv to a selected brain area to make a processed csv file. By default, it will be `VISp`\n",
    "2. `parameterization/02_notebook_fixed_response.ipynb`: Based on the selected response type, it examines how feedback affects LFP signals in the brain area using the processed csv.\n",
    "3. `parameterization/03_notebook_fixed_feedback.ipynb`: Based on the selected feedback type, it examines how mice's response affects LFP signals in the brain area using the processed csv.\n",
    "\n",
    "\n",
    "Notebooks 2 and 3 are not dependent on each other.\n",
    "Both use the output from `notebook 1` for their analysis. "
   ]
  },
  {
   "cell_type": "markdown",
   "id": "dabf7941-b2a7-44e2-b79a-f3dc0a074ea0",
   "metadata": {},
   "source": [
    "**Example** Execute notebook1 as `output.ipynb` and examine it. Was any other file generated from this?"
   ]
  },
  {
   "cell_type": "code",
   "execution_count": 7,
   "id": "431aebbe-757c-4ba5-8eac-cb380f3f5484",
   "metadata": {},
   "outputs": [
    {
     "name": "stderr",
     "output_type": "stream",
     "text": [
      "Input Notebook:  parameterization/01_notebook_brain_area.ipynb\n",
      "Output Notebook: output.ipynb\n",
      "\n",
      "Executing:   0%|          | 0/18 [00:00<?, ?cell/s]Executing notebook with kernel: python3\n",
      "\n",
      "Executing:   6%|5         | 1/18 [00:02<00:36,  2.15s/cell]\n",
      "Executing:  11%|#1        | 2/18 [00:02<00:18,  1.17s/cell]\n",
      "Executing:  33%|###3      | 6/18 [00:02<00:03,  3.05cell/s]\n",
      "Executing:  56%|#####5    | 10/18 [00:03<00:01,  5.84cell/s]\n",
      "Executing: 100%|##########| 18/18 [00:03<00:00, 10.46cell/s]\n",
      "Executing: 100%|##########| 18/18 [00:03<00:00,  4.92cell/s]\n"
     ]
    }
   ],
   "source": [
    "!papermill parameterization/01_notebook_brain_area.ipynb output.ipynb"
   ]
  },
  {
   "cell_type": "markdown",
   "id": "3b2c4268-79ad-4d47-a09c-6dd13a61462b",
   "metadata": {},
   "source": [
    "Execute notebook 2 as `output.ipynb` and examine the output."
   ]
  },
  {
   "cell_type": "code",
   "execution_count": 8,
   "id": "1328b0b1-57ba-428c-ab39-fcf727f9e590",
   "metadata": {},
   "outputs": [
    {
     "name": "stderr",
     "output_type": "stream",
     "text": [
      "Input Notebook:  parameterization/02_notebook_fixed_response.ipynb\n",
      "Output Notebook: output.ipynb\n",
      "\n",
      "Executing:   0%|          | 0/8 [00:00<?, ?cell/s]Executing notebook with kernel: python3\n",
      "\n",
      "Executing:  12%|#2        | 1/8 [00:03<00:21,  3.14s/cell]\n",
      "Executing: 100%|##########| 8/8 [00:03<00:00,  2.57cell/s]\n",
      "Executing: 100%|##########| 8/8 [00:04<00:00,  1.87cell/s]\n"
     ]
    }
   ],
   "source": [
    "!papermill parameterization/02_notebook_fixed_response.ipynb output.ipynb"
   ]
  },
  {
   "cell_type": "markdown",
   "id": "1ac9c23d-51d3-4a5e-bb9f-18c90d3e2907",
   "metadata": {},
   "source": [
    "Execute notebook 3 as `output.ipynb` and examine the output."
   ]
  },
  {
   "cell_type": "code",
   "execution_count": 9,
   "id": "31d82c8d-d817-4b36-9966-3a8e4b2fb713",
   "metadata": {},
   "outputs": [
    {
     "name": "stderr",
     "output_type": "stream",
     "text": [
      "Input Notebook:  parameterization/03_notebook_fixed_feedback.ipynb\n",
      "Output Notebook: output.ipynb\n",
      "\n",
      "Executing:   0%|          | 0/8 [00:00<?, ?cell/s]Executing notebook with kernel: python3\n",
      "\n",
      "Executing:  12%|#2        | 1/8 [00:03<00:21,  3.01s/cell]\n",
      "Executing: 100%|##########| 8/8 [00:04<00:00,  2.37cell/s]\n",
      "Executing: 100%|##########| 8/8 [00:04<00:00,  1.78cell/s]\n"
     ]
    }
   ],
   "source": [
    "!papermill parameterization/03_notebook_fixed_feedback.ipynb output.ipynb"
   ]
  },
  {
   "cell_type": "markdown",
   "id": "baf4edfe-c280-42e0-ac2c-5ee1730077dc",
   "metadata": {},
   "source": [
    "Delete `output_data/processed_brain_area.csv` file.\n",
    "\n",
    "Execute notebook 3 as `output.ipynb` and examine it. What do you see?"
   ]
  },
  {
   "cell_type": "code",
   "execution_count": 12,
   "id": "979869f4-055a-43de-94ce-a8459d53d91a",
   "metadata": {},
   "outputs": [],
   "source": [
    "# !papermill parameterization/03_notebook_fixed_feedback.ipynb output.ipynb"
   ]
  },
  {
   "cell_type": "markdown",
   "id": "f515468a-f138-4460-b9ab-89797378c391",
   "metadata": {},
   "source": [
    "It gives an error in the output of the cell. \n",
    "In `data_analysis/output.ipynb`, you will see a huge error in red on top of the notebook and another red text before the cell where it encountered an error."
   ]
  },
  {
   "cell_type": "markdown",
   "id": "aa9c2208-8268-42f2-9ca9-7ca2ee3bb4d1",
   "metadata": {},
   "source": [
    "Let's see how to execute them sequentially\n",
    "\n",
    "**Example** Execute notebooks 1 and 2 one after the other."
   ]
  },
  {
   "cell_type": "code",
   "execution_count": 13,
   "id": "55f4a798-2f8b-4f8c-8fe5-2780ec64c1c0",
   "metadata": {},
   "outputs": [
    {
     "name": "stderr",
     "output_type": "stream",
     "text": [
      "Input Notebook:  parameterization/01_notebook_brain_area.ipynb\n",
      "Output Notebook: output_1.ipynb\n",
      "\n",
      "Executing:   0%|          | 0/18 [00:00<?, ?cell/s]Executing notebook with kernel: python3\n",
      "\n",
      "Executing:   6%|5         | 1/18 [00:02<00:37,  2.19s/cell]\n",
      "Executing:  11%|#1        | 2/18 [00:02<00:20,  1.26s/cell]\n",
      "Executing:  33%|###3      | 6/18 [00:03<00:04,  2.86cell/s]\n",
      "Executing:  56%|#####5    | 10/18 [00:03<00:01,  5.49cell/s]\n",
      "Executing:  94%|#########4| 17/18 [00:03<00:00, 11.45cell/s]\n",
      "Executing: 100%|##########| 18/18 [00:03<00:00,  4.68cell/s]\n",
      "Input Notebook:  parameterization/02_notebook_fixed_response.ipynb\n",
      "Output Notebook: output_2.ipynb\n",
      "\n",
      "Executing:   0%|          | 0/8 [00:00<?, ?cell/s]Executing notebook with kernel: python3\n",
      "\n",
      "Executing:  12%|#2        | 1/8 [00:03<00:22,  3.15s/cell]\n",
      "Executing: 100%|##########| 8/8 [00:04<00:00,  2.51cell/s]\n",
      "Executing: 100%|##########| 8/8 [00:04<00:00,  1.83cell/s]\n"
     ]
    }
   ],
   "source": [
    "!papermill parameterization/01_notebook_brain_area.ipynb output_1.ipynb\n",
    "!papermill parameterization/02_notebook_fixed_response.ipynb output_2.ipynb"
   ]
  },
  {
   "cell_type": "markdown",
   "id": "7d981c37-f314-4d72-be5f-8989362249b4",
   "metadata": {},
   "source": [
    "Execute notebooks 1 and 3 one after the other."
   ]
  },
  {
   "cell_type": "code",
   "execution_count": 15,
   "id": "2679ec8f-4169-430f-bde4-45bf2fa1fdc0",
   "metadata": {},
   "outputs": [
    {
     "name": "stderr",
     "output_type": "stream",
     "text": [
      "Input Notebook:  parameterization/01_notebook_brain_area.ipynb\n",
      "Output Notebook: output_1.ipynb\n",
      "\n",
      "Executing:   0%|          | 0/18 [00:00<?, ?cell/s]Executing notebook with kernel: python3\n",
      "\n",
      "Executing:   6%|5         | 1/18 [00:01<00:33,  1.98s/cell]\n",
      "Executing:  11%|#1        | 2/18 [00:02<00:17,  1.12s/cell]\n",
      "Executing:  33%|###3      | 6/18 [00:02<00:03,  3.15cell/s]\n",
      "Executing:  56%|#####5    | 10/18 [00:02<00:01,  6.09cell/s]\n",
      "Executing: 100%|##########| 18/18 [00:03<00:00, 10.70cell/s]\n",
      "Executing: 100%|##########| 18/18 [00:06<00:00,  2.72cell/s]\n",
      "Input Notebook:  parameterization/03_notebook_fixed_feedback.ipynb\n",
      "Output Notebook: output_3.ipynb\n",
      "\n",
      "Executing:   0%|          | 0/8 [00:00<?, ?cell/s]Executing notebook with kernel: python3\n",
      "\n",
      "Executing:  12%|#2        | 1/8 [00:03<00:23,  3.31s/cell]\n",
      "Executing: 100%|##########| 8/8 [00:04<00:00,  2.30cell/s]\n",
      "Executing: 100%|##########| 8/8 [00:04<00:00,  1.74cell/s]\n"
     ]
    }
   ],
   "source": [
    "!papermill parameterization/01_notebook_brain_area.ipynb output_1.ipynb\n",
    "!papermill parameterization/03_notebook_fixed_feedback.ipynb output_3.ipynb"
   ]
  },
  {
   "cell_type": "markdown",
   "id": "b80e51f8-7596-4f7a-871a-270abcdd0eb4",
   "metadata": {},
   "source": [
    "Execute all the three notebooks one after the other"
   ]
  },
  {
   "cell_type": "code",
   "execution_count": 16,
   "id": "5d550f71-4317-4a74-b9eb-f19c3d53729c",
   "metadata": {},
   "outputs": [
    {
     "name": "stderr",
     "output_type": "stream",
     "text": [
      "Input Notebook:  parameterization/01_notebook_brain_area.ipynb\n",
      "Output Notebook: output_1.ipynb\n",
      "\n",
      "Executing:   0%|          | 0/18 [00:00<?, ?cell/s]Executing notebook with kernel: python3\n",
      "\n",
      "Executing:   6%|5         | 1/18 [00:02<00:36,  2.15s/cell]\n",
      "Executing:  11%|#1        | 2/18 [00:02<00:18,  1.19s/cell]\n",
      "Executing:  33%|###3      | 6/18 [00:02<00:03,  3.02cell/s]\n",
      "Executing:  56%|#####5    | 10/18 [00:03<00:01,  5.84cell/s]\n",
      "Executing: 100%|##########| 18/18 [00:03<00:00, 10.50cell/s]\n",
      "Executing: 100%|##########| 18/18 [00:03<00:00,  4.92cell/s]\n",
      "Input Notebook:  parameterization/02_notebook_fixed_response.ipynb\n",
      "Output Notebook: output_2.ipynb\n",
      "\n",
      "Executing:   0%|          | 0/8 [00:00<?, ?cell/s]Executing notebook with kernel: python3\n",
      "\n",
      "Executing:  12%|#2        | 1/8 [00:03<00:22,  3.24s/cell]\n",
      "Executing:  75%|#######5  | 6/8 [00:03<00:00,  2.40cell/s]\n",
      "Executing: 100%|##########| 8/8 [00:04<00:00,  1.80cell/s]\n",
      "Input Notebook:  parameterization/03_notebook_fixed_feedback.ipynb\n",
      "Output Notebook: output_3.ipynb\n",
      "\n",
      "Executing:   0%|          | 0/8 [00:00<?, ?cell/s]Executing notebook with kernel: python3\n",
      "\n",
      "Executing:  12%|#2        | 1/8 [00:03<00:22,  3.21s/cell]\n",
      "Executing: 100%|##########| 8/8 [00:04<00:00,  2.28cell/s]\n",
      "Executing: 100%|##########| 8/8 [00:04<00:00,  1.71cell/s]\n"
     ]
    }
   ],
   "source": [
    "!papermill parameterization/01_notebook_brain_area.ipynb output_1.ipynb\n",
    "!papermill parameterization/02_notebook_fixed_response.ipynb output_2.ipynb\n",
    "!papermill parameterization/03_notebook_fixed_feedback.ipynb output_3.ipynb"
   ]
  },
  {
   "cell_type": "markdown",
   "id": "f98c2cce-9d6c-487a-baa5-d4dbfed03747",
   "metadata": {},
   "source": [
    "---"
   ]
  },
  {
   "cell_type": "markdown",
   "id": "366d26c6-537d-4d4f-abee-d02a523f4684",
   "metadata": {},
   "source": [
    "## Passing in Parameters To Notebooks With Papermill\n",
    "\n",
    "Papermill helps with parameterizing Jupyter notebooks by allowing us to inject new inputs (parameters) into a notebook before running it. \n",
    "Parameters have placeholders in the template notebook, and when we run Papermill, it fills those placeholders with the actual values we provide. \n",
    "Papermill then executes the entire notebook with the new inputs, saving the results in a new output notebook. \n",
    "This makes it easy to reuse the same notebook as a template for different data or settings essentially creating an analysis report for different parameter.\n",
    "\n",
    "For this example we will use two same notebooks as the previous section and get some practice with passing parameters to template notebooks."
   ]
  },
  {
   "cell_type": "markdown",
   "id": "55ed37e2-db49-43f9-84e6-b6be920d0de2",
   "metadata": {
    "editable": true,
    "slideshow": {
     "slide_type": ""
    },
    "tags": []
   },
   "source": [
    "**Setting Parameters**\n",
    "\n",
    "To make papermill know that a cell contains parameters\n",
    "\n",
    "1. Put all parameters in a single cell before any other cell that uses them\n",
    "2. Click on the cell and then the gear icon next to the notebook\n",
    "3. Type `parameters` within Cell Tags\n",
    "\n",
    "Do this for all the three notebooks\n",
    "\n",
    "With papermill, we can pass different values for any variable inside the cell tagged as `parameters` by adding a `-p` for each parameter.\n",
    "\n",
    "In this section, let us use the three notebooks as templates and make reports for different brain areas, responses, and feedbacks to learn how papermill works. Same technique can be applied to complex problems as well. "
   ]
  },
  {
   "cell_type": "markdown",
   "id": "2ba7ca64-42ed-42f6-a681-7e835babe504",
   "metadata": {},
   "source": [
    "**Example** Run notebook 1 specifying that the output should be called `processed_VISp.csv`"
   ]
  },
  {
   "cell_type": "code",
   "execution_count": 25,
   "id": "0b572a2c-1ff4-45ab-9a5d-d6497ac57198",
   "metadata": {},
   "outputs": [
    {
     "name": "stderr",
     "output_type": "stream",
     "text": [
      "Input Notebook:  parameterization/01_notebook_brain_area.ipynb\n",
      "Output Notebook: 01_notebook_visp.ipynb\n",
      "\n",
      "Executing:   0%|          | 0/19 [00:00<?, ?cell/s]Executing notebook with kernel: python3\n",
      "\n",
      "Executing:   5%|5         | 1/19 [00:02<00:43,  2.39s/cell]\n",
      "Executing:  11%|#         | 2/19 [00:02<00:22,  1.33s/cell]\n",
      "Executing:  37%|###6      | 7/19 [00:03<00:03,  3.13cell/s]\n",
      "Executing:  58%|#####7    | 11/19 [00:03<00:01,  5.44cell/s]\n",
      "Executing:  79%|#######8  | 15/19 [00:03<00:00,  8.36cell/s]\n",
      "Executing: 100%|##########| 19/19 [00:03<00:00,  9.21cell/s]\n",
      "Executing: 100%|##########| 19/19 [00:04<00:00,  4.41cell/s]\n"
     ]
    }
   ],
   "source": [
    "!papermill parameterization/01_notebook_brain_area.ipynb -p output_csv output_data/processed_visp.csv 01_notebook_visp.ipynb"
   ]
  },
  {
   "cell_type": "markdown",
   "id": "641a0964-05ed-40ba-8289-a1eee5d1ad7a",
   "metadata": {},
   "source": [
    "Run notebook 2 specifying that the input csv is now called `output_data/processed_VISp.csv`"
   ]
  },
  {
   "cell_type": "code",
   "execution_count": 24,
   "id": "355c5f7a-ca8c-471c-85c5-7c80a751700e",
   "metadata": {},
   "outputs": [
    {
     "name": "stderr",
     "output_type": "stream",
     "text": [
      "Input Notebook:  parameterization/02_notebook_fixed_response.ipynb\n",
      "Output Notebook: 02_notebook_fixed_response_visp.ipynb\n",
      "\n",
      "Executing:   0%|          | 0/9 [00:00<?, ?cell/s]Executing notebook with kernel: python3\n",
      "\n",
      "Executing:  11%|#1        | 1/9 [00:04<00:32,  4.03s/cell]\n",
      "Executing:  78%|#######7  | 7/9 [00:04<00:00,  2.29cell/s]\n",
      "Executing: 100%|##########| 9/9 [00:05<00:00,  1.73cell/s]\n"
     ]
    }
   ],
   "source": [
    "!papermill parameterization/02_notebook_fixed_response.ipynb -p input_csv output_data/processed_VISp.csv 02_notebook_fixed_response_visp.ipynb"
   ]
  },
  {
   "cell_type": "markdown",
   "id": "6308b763-6f76-4397-985c-0806bd1a2101",
   "metadata": {},
   "source": [
    "Run notebook 3 specifying that the input csv is now called `output_data/processed_VISp.csv`"
   ]
  },
  {
   "cell_type": "code",
   "execution_count": 36,
   "id": "ccd02c05-b9ca-47f0-85c7-5d79ddfe70ec",
   "metadata": {},
   "outputs": [
    {
     "name": "stderr",
     "output_type": "stream",
     "text": [
      "Input Notebook:  parameterization/03_notebook_fixed_feedback.ipynb\n",
      "Output Notebook: 03_notebook_fixed_feedback_visp.ipynb\n",
      "\n",
      "Executing:   0%|          | 0/9 [00:00<?, ?cell/s]Executing notebook with kernel: python3\n",
      "\n",
      "Executing:  11%|#1        | 1/9 [00:03<00:29,  3.69s/cell]\n",
      "Executing:  67%|######6   | 6/9 [00:03<00:01,  2.12cell/s]\n",
      "Executing: 100%|##########| 9/9 [00:04<00:00,  2.35cell/s]\n",
      "Executing: 100%|##########| 9/9 [00:05<00:00,  1.73cell/s]\n"
     ]
    }
   ],
   "source": [
    "!papermill parameterization/03_notebook_fixed_feedback.ipynb -p input_csv output_data/processed_VISp.csv 03_notebook_fixed_feedback_visp.ipynb"
   ]
  },
  {
   "cell_type": "markdown",
   "id": "fc163e84-a4b3-4450-993b-53bc977366eb",
   "metadata": {},
   "source": [
    "Run notebook 3 specifying that the input csv is now called `output_data/processed_ACA.csv`. Examine the output notebook. What information do you get?"
   ]
  },
  {
   "cell_type": "code",
   "execution_count": 39,
   "id": "6c346024-3df2-4aae-91ef-6003a8c3c696",
   "metadata": {},
   "outputs": [],
   "source": [
    "# !papermill parameterization/03_notebook_fixed_feedback.ipynb -p input_csv output_data/processed_ACA.csv 03_notebook_fixed_feedback_aca.ipynb"
   ]
  },
  {
   "cell_type": "markdown",
   "id": "ed20e804-c87d-4111-9890-9357c2412d46",
   "metadata": {},
   "source": [
    "**Example** Run `notebook 1` specifying that the brain area is `ACA` and output should be called `processed_ACA.csv`"
   ]
  },
  {
   "cell_type": "code",
   "execution_count": 40,
   "id": "31fcf525-84d3-45b6-b1e5-7c98eed1c7ea",
   "metadata": {},
   "outputs": [
    {
     "name": "stderr",
     "output_type": "stream",
     "text": [
      "Input Notebook:  parameterization/01_notebook_brain_area.ipynb\n",
      "Output Notebook: 01_notebook_aca.ipynb\n",
      "\n",
      "Executing:   0%|          | 0/19 [00:00<?, ?cell/s]Executing notebook with kernel: python3\n",
      "\n",
      "Executing:   5%|5         | 1/19 [00:02<00:44,  2.49s/cell]\n",
      "Executing:  11%|#         | 2/19 [00:03<00:23,  1.37s/cell]\n",
      "Executing:  37%|###6      | 7/19 [00:03<00:03,  3.09cell/s]\n",
      "Executing:  58%|#####7    | 11/19 [00:03<00:01,  5.50cell/s]\n",
      "Executing:  89%|########9 | 17/19 [00:03<00:00, 10.07cell/s]\n",
      "Executing: 100%|##########| 19/19 [00:06<00:00,  2.79cell/s]\n"
     ]
    }
   ],
   "source": [
    "!papermill parameterization/01_notebook_brain_area.ipynb -p brain_area ACA -p output_csv output_data/processed_ACA.csv 01_notebook_aca.ipynb"
   ]
  },
  {
   "cell_type": "markdown",
   "id": "b0070d28-7082-46c6-a5a8-b1a36603621c",
   "metadata": {},
   "source": [
    "Run `notebook 2` specifying that the input file is `output_data/processed_ACA.csv` and response_type as 0"
   ]
  },
  {
   "cell_type": "code",
   "execution_count": 31,
   "id": "d59639cb-64b2-4f4b-9dad-15649fbfdcb6",
   "metadata": {},
   "outputs": [
    {
     "name": "stderr",
     "output_type": "stream",
     "text": [
      "Input Notebook:  parameterization/02_notebook_fixed_response.ipynb\n",
      "Output Notebook: 02_notebook_response_0_aca.ipynb\n",
      "\n",
      "Executing:   0%|          | 0/9 [00:00<?, ?cell/s]Executing notebook with kernel: python3\n",
      "\n",
      "Executing:  11%|#1        | 1/9 [00:02<00:19,  2.40s/cell]\n",
      "Executing: 100%|##########| 9/9 [00:02<00:00,  4.00cell/s]\n",
      "Executing: 100%|##########| 9/9 [00:03<00:00,  2.89cell/s]\n"
     ]
    }
   ],
   "source": [
    "!papermill parameterization/02_notebook_fixed_response.ipynb -p input_csv output_data/processed_ACA.csv -p response_type 0 02_notebook_response_0_aca.ipynb"
   ]
  },
  {
   "cell_type": "markdown",
   "id": "37b2d1ce-efc6-4cdd-afde-1a5a22932194",
   "metadata": {},
   "source": [
    "Run `notebook 2` specifying that the input file is `output_data/processed_ACA.csv` and response_type as -1. Compare with previous report (output notebook)"
   ]
  },
  {
   "cell_type": "code",
   "execution_count": 35,
   "id": "0573532e-51ee-44ca-9821-28a39d1406ff",
   "metadata": {},
   "outputs": [
    {
     "name": "stderr",
     "output_type": "stream",
     "text": [
      "Input Notebook:  parameterization/02_notebook_fixed_response.ipynb\n",
      "Output Notebook: 02_notebook_response_min_1_aca.ipynb\n",
      "\n",
      "Executing:   0%|          | 0/9 [00:00<?, ?cell/s]Executing notebook with kernel: python3\n",
      "\n",
      "Executing:  11%|#1        | 1/9 [00:03<00:25,  3.16s/cell]\n",
      "Executing:  89%|########8 | 8/9 [00:03<00:00,  3.33cell/s]\n",
      "Executing: 100%|##########| 9/9 [00:04<00:00,  2.09cell/s]\n"
     ]
    }
   ],
   "source": [
    "!papermill parameterization/02_notebook_fixed_response.ipynb -p input_csv output_data/processed_ACA.csv -p response_type -1 02_notebook_response_min_1_aca.ipynb"
   ]
  },
  {
   "cell_type": "markdown",
   "id": "43a14706-9994-4246-b92a-340a367c948d",
   "metadata": {},
   "source": [
    "Run all three notebooks one after the other for brain area `SUB`, response type 0, and feedback type -1."
   ]
  },
  {
   "cell_type": "code",
   "execution_count": 41,
   "id": "16289881-b168-4bc5-9250-6e34dc67238f",
   "metadata": {},
   "outputs": [
    {
     "name": "stderr",
     "output_type": "stream",
     "text": [
      "Input Notebook:  parameterization/01_notebook_brain_area.ipynb\n",
      "Output Notebook: 01_notebook_sub.ipynb\n",
      "\n",
      "Executing:   0%|          | 0/19 [00:00<?, ?cell/s]Executing notebook with kernel: python3\n",
      "\n",
      "Executing:   5%|5         | 1/19 [00:02<00:42,  2.33s/cell]\n",
      "Executing:  11%|#         | 2/19 [00:02<00:21,  1.29s/cell]\n",
      "Executing:  37%|###6      | 7/19 [00:03<00:03,  3.29cell/s]\n",
      "Executing:  58%|#####7    | 11/19 [00:03<00:01,  5.83cell/s]\n",
      "Executing:  95%|#########4| 18/19 [00:03<00:00, 11.58cell/s]\n",
      "Executing: 100%|##########| 19/19 [00:06<00:00,  2.78cell/s]\n",
      "Input Notebook:  parameterization/02_notebook_fixed_response.ipynb\n",
      "Output Notebook: 02_notebook_response_0_sub.ipynb\n",
      "\n",
      "Executing:   0%|          | 0/9 [00:00<?, ?cell/s]Executing notebook with kernel: python3\n",
      "\n",
      "Executing:  11%|#1        | 1/9 [00:03<00:27,  3.48s/cell]\n",
      "Executing:  67%|######6   | 6/9 [00:03<00:01,  2.24cell/s]\n",
      "Executing: 100%|##########| 9/9 [00:04<00:00,  2.70cell/s]\n",
      "Executing: 100%|##########| 9/9 [00:04<00:00,  1.90cell/s]\n",
      "Input Notebook:  parameterization/03_notebook_fixed_feedback.ipynb\n",
      "Output Notebook: 03_notebook_fixed_feedback_sub.ipynb\n",
      "\n",
      "Executing:   0%|          | 0/9 [00:00<?, ?cell/s]Executing notebook with kernel: python3\n",
      "\n",
      "Executing:  11%|#1        | 1/9 [00:03<00:26,  3.34s/cell]\n",
      "Executing:  67%|######6   | 6/9 [00:03<00:01,  2.34cell/s]\n",
      "Executing: 100%|##########| 9/9 [00:04<00:00,  2.41cell/s]\n",
      "Executing: 100%|##########| 9/9 [00:04<00:00,  1.81cell/s]\n"
     ]
    }
   ],
   "source": [
    "!papermill parameterization/01_notebook_brain_area.ipynb -p brain_area SUB -p output_csv output_data/processed_SUB.csv 01_notebook_sub.ipynb\n",
    "!papermill parameterization/02_notebook_fixed_response.ipynb -p input_csv output_data/processed_SUB.csv -p response_type 0 02_notebook_response_0_sub.ipynb\n",
    "!papermill parameterization/03_notebook_fixed_feedback.ipynb -p input_csv output_data/processed_SUB.csv -p feedback_type -1 03_notebook_fixed_feedback_sub.ipynb"
   ]
  }
 ],
 "metadata": {
  "kernelspec": {
   "display_name": "Python 3 (ipykernel)",
   "language": "python",
   "name": "python3"
  },
  "language_info": {
   "codemirror_mode": {
    "name": "ipython",
    "version": 3
   },
   "file_extension": ".py",
   "mimetype": "text/x-python",
   "name": "python",
   "nbconvert_exporter": "python",
   "pygments_lexer": "ipython3",
   "version": "3.12.7"
  }
 },
 "nbformat": 4,
 "nbformat_minor": 5
}
