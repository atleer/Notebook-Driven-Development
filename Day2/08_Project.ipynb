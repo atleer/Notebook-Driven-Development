{
 "cells": [
  {
   "cell_type": "code",
   "execution_count": null,
   "id": "590edc4e-528a-4894-a57f-e453414dd7fe",
   "metadata": {},
   "outputs": [],
   "source": [
    "# !pip install pandas hvplot"
   ]
  },
  {
   "cell_type": "code",
   "execution_count": null,
   "id": "7a09b36f-1c95-4736-a574-bc1270c9718e",
   "metadata": {},
   "outputs": [],
   "source": [
    "import pandas as pd\n",
    "import hvplot.pandas"
   ]
  },
  {
   "cell_type": "code",
   "execution_count": null,
   "id": "5701bea9-cafa-40d6-9c5c-58b954caeb21",
   "metadata": {},
   "outputs": [],
   "source": [
    "import sys\n",
    "sys.path.append('src')\n",
    "import sciebo\n",
    "\n",
    "sciebo.download_file('https://uni-bonn.sciebo.de/s/G5rdvTsoESXolF4', 'data/steinmetz_winter2017.csv')\n",
    "sciebo.download_file('https://uni-bonn.sciebo.de/s/xKAG9nqHyWmXBBI', 'data/steinmetz_winter2016.csv')\n",
    "sciebo.download_file('https://uni-bonn.sciebo.de/s/XLDoTQQoDdFLhlz', 'data/steinmetz_summer2017.csv')"
   ]
  },
  {
   "cell_type": "markdown",
   "id": "a6d82c44-53e8-4eeb-9f2c-92bcc3be3fb6",
   "metadata": {},
   "source": [
    "## Basic Data Processing"
   ]
  },
  {
   "cell_type": "markdown",
   "id": "70b01a6a-32d7-427f-bcd4-d68d1e4e79da",
   "metadata": {},
   "source": [
    "Reading data **(data can be `data/steinmetz_winter2017.csv`, `data/steinmetz_winter2016.csv`, `data/steinmetz_summer2017.csv`. By default, it is `data/steinmetz_winter2017.csv`).**"
   ]
  },
  {
   "cell_type": "code",
   "execution_count": null,
   "id": "9a621802-deae-4581-a70c-9fce3ebe462d",
   "metadata": {},
   "outputs": [],
   "source": [
    "input_csv = 'data/steinmetz_winter2017.csv'\n",
    "df = pd.read_csv(input_csv)\n",
    "df.head()"
   ]
  },
  {
   "cell_type": "markdown",
   "id": "31cbed53-ec0d-4c21-9cf4-22f18781cc03",
   "metadata": {},
   "source": [
    "Filtering to get only active trials"
   ]
  },
  {
   "cell_type": "code",
   "execution_count": null,
   "id": "3d83024f-db62-45df-b3ae-63d266384c83",
   "metadata": {},
   "outputs": [],
   "source": [
    "df = df[df['active_trials'] == True]\n",
    "df.head()"
   ]
  },
  {
   "cell_type": "markdown",
   "id": "c2da55ea-6c2d-4fe2-8697-0c36b3428708",
   "metadata": {},
   "source": [
    "Writing to a new csv file **(by default, it will be named winter_2017_active.csv. But it will depend on the original dataset used)**"
   ]
  },
  {
   "cell_type": "code",
   "execution_count": null,
   "id": "0a3cf60c-985d-4f30-a7db-025ac77f925a",
   "metadata": {},
   "outputs": [],
   "source": [
    "output_csv_name = 'winter_2017_active.csv'\n",
    "output_active_trials = df.drop(columns=['active_trials']).to_csv(output_csv_name, index=False)"
   ]
  },
  {
   "cell_type": "markdown",
   "id": "e492f5e1-2913-41b7-8288-e8e7b673c1e0",
   "metadata": {},
   "source": [
    "Reading in active trials csv"
   ]
  },
  {
   "cell_type": "code",
   "execution_count": null,
   "id": "f3b946e2-8b1c-496f-8d6b-efc5e39dcc12",
   "metadata": {},
   "outputs": [],
   "source": [
    "input_active_csv = 'winter_2017_active.csv'\n",
    "df = pd.read_csv(input_active_csv)\n",
    "df.head()"
   ]
  },
  {
   "cell_type": "markdown",
   "id": "c9701d63-fdb5-4fd2-b2f3-1a2354c34b69",
   "metadata": {},
   "source": [
    "---"
   ]
  },
  {
   "cell_type": "markdown",
   "id": "3b0326b8-4c6f-4358-8d35-295c669d329c",
   "metadata": {},
   "source": [
    "## Analysis - Mouse Performance "
   ]
  },
  {
   "cell_type": "markdown",
   "id": "8c8bff7a-fa44-492e-8173-e72f0403fe39",
   "metadata": {},
   "source": [
    "Setting mouse name for analysis **(mouse name can be changed in the cell below)**"
   ]
  },
  {
   "cell_type": "code",
   "execution_count": null,
   "id": "6fb8f42c-0748-43fd-852f-925207c60eaa",
   "metadata": {},
   "outputs": [],
   "source": [
    "mouse_name = 'Lederberg'"
   ]
  },
  {
   "cell_type": "markdown",
   "id": "2b3adb62-9210-4c82-8068-04b77724bebb",
   "metadata": {},
   "source": [
    "Filtering data for a given mouse (Mice name can be anything from the dataset)"
   ]
  },
  {
   "cell_type": "code",
   "execution_count": null,
   "id": "465c3775-d235-4d6e-8849-b6071a46fe5c",
   "metadata": {},
   "outputs": [],
   "source": [
    "df_mouse = df[df[\"mouse\"] == mouse_name]\n",
    "df_mouse.head()"
   ]
  },
  {
   "cell_type": "markdown",
   "id": "eccb9afa-91e5-40e7-bc2d-a0fcb2c5f918",
   "metadata": {},
   "source": [
    "Descriptive statistics of response time and feedback time for a given mouse"
   ]
  },
  {
   "cell_type": "code",
   "execution_count": null,
   "id": "efa35107-02de-45a0-9a21-447576944dbd",
   "metadata": {},
   "outputs": [],
   "source": [
    "df_mouse[['feedback_time', 'response_time']].agg(['mean', 'std', 'median']).round(2)"
   ]
  },
  {
   "cell_type": "markdown",
   "id": "fcd06075-330d-4c5d-828c-d555bea86ab2",
   "metadata": {},
   "source": [
    "Responses and feedbacks"
   ]
  },
  {
   "cell_type": "code",
   "execution_count": null,
   "id": "f9f76c7c-b9cf-4657-b3df-1defe035f4d8",
   "metadata": {},
   "outputs": [],
   "source": [
    "pd.DataFrame(df_mouse.groupby(['response_type', 'feedback_type'])['feedback_type'].count()).rename(columns={'feedback_type': 'Counts'})"
   ]
  },
  {
   "cell_type": "markdown",
   "id": "ea37b38f-52ba-43c3-9828-ebae9b558ef5",
   "metadata": {},
   "source": [
    "Response time variation with response or feedback type **(effect type can be either response_type or feedback_type)**"
   ]
  },
  {
   "cell_type": "code",
   "execution_count": null,
   "id": "e2944a8d-14f1-4811-8718-c542491db8a9",
   "metadata": {},
   "outputs": [],
   "source": [
    "effect_type = 'response_type'\n",
    "df.hvplot.box(y='response_time', by=effect_type)"
   ]
  }
 ],
 "metadata": {
  "kernelspec": {
   "display_name": "Python 3 (ipykernel)",
   "language": "python",
   "name": "python3"
  },
  "language_info": {
   "codemirror_mode": {
    "name": "ipython",
    "version": 3
   },
   "file_extension": ".py",
   "mimetype": "text/x-python",
   "name": "python",
   "nbconvert_exporter": "python",
   "pygments_lexer": "ipython3",
   "version": "3.12.7"
  }
 },
 "nbformat": 4,
 "nbformat_minor": 5
}
