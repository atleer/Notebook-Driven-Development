{
 "cells": [
  {
   "cell_type": "code",
   "execution_count": 1,
   "id": "a8d976d0-d627-4681-8df7-32f0b1ab9724",
   "metadata": {
    "execution": {
     "iopub.execute_input": "2024-10-21T11:26:31.436898Z",
     "iopub.status.busy": "2024-10-21T11:26:31.435898Z",
     "iopub.status.idle": "2024-10-21T11:26:31.440982Z",
     "shell.execute_reply": "2024-10-21T11:26:31.440982Z"
    },
    "papermill": {
     "duration": 0.012032,
     "end_time": "2024-10-21T11:26:31.441989",
     "exception": false,
     "start_time": "2024-10-21T11:26:31.429957",
     "status": "completed"
    },
    "tags": []
   },
   "outputs": [],
   "source": [
    "# !pip install papermill"
   ]
  },
  {
   "cell_type": "code",
   "execution_count": 2,
   "id": "ba992094-6901-412c-8cdf-520444d57ab3",
   "metadata": {
    "editable": true,
    "execution": {
     "iopub.execute_input": "2024-10-21T11:26:31.449681Z",
     "iopub.status.busy": "2024-10-21T11:26:31.448441Z",
     "iopub.status.idle": "2024-10-21T11:26:31.992903Z",
     "shell.execute_reply": "2024-10-21T11:26:31.992903Z"
    },
    "papermill": {
     "duration": 0.550618,
     "end_time": "2024-10-21T11:26:31.995591",
     "exception": false,
     "start_time": "2024-10-21T11:26:31.444973",
     "status": "completed"
    },
    "slideshow": {
     "slide_type": ""
    },
    "tags": []
   },
   "outputs": [],
   "source": [
    "import pandas as pd\n",
    "import os"
   ]
  },
  {
   "cell_type": "markdown",
   "id": "a16e75c3-b736-4806-b8a7-1060dc291aa6",
   "metadata": {
    "papermill": {
     "duration": 0.003056,
     "end_time": "2024-10-21T11:26:32.002158",
     "exception": false,
     "start_time": "2024-10-21T11:26:31.999102",
     "status": "completed"
    },
    "tags": []
   },
   "source": [
    "Parameters"
   ]
  },
  {
   "cell_type": "code",
   "execution_count": 3,
   "id": "6b11a11a-253d-4ef6-8bf1-68d514b2a6ac",
   "metadata": {
    "editable": true,
    "execution": {
     "iopub.execute_input": "2024-10-21T11:26:32.003168Z",
     "iopub.status.busy": "2024-10-21T11:26:32.003168Z",
     "iopub.status.idle": "2024-10-21T11:26:32.013503Z",
     "shell.execute_reply": "2024-10-21T11:26:32.013503Z"
    },
    "papermill": {
     "duration": 0.01183,
     "end_time": "2024-10-21T11:26:32.014998",
     "exception": false,
     "start_time": "2024-10-21T11:26:32.003168",
     "status": "completed"
    },
    "slideshow": {
     "slide_type": ""
    },
    "tags": [
     "parameters"
    ]
   },
   "outputs": [],
   "source": [
    "input_csv = \"data/2016-12-14_Cori.csv\"  \n",
    "output_csv = \"output_data/processed_brain_area.csv\"  \n",
    "brain_area = \"VISp\""
   ]
  },
  {
   "cell_type": "code",
   "execution_count": 4,
   "id": "75068974",
   "metadata": {
    "execution": {
     "iopub.execute_input": "2024-10-21T11:26:32.022487Z",
     "iopub.status.busy": "2024-10-21T11:26:32.022487Z",
     "iopub.status.idle": "2024-10-21T11:26:32.025100Z",
     "shell.execute_reply": "2024-10-21T11:26:32.025100Z"
    },
    "papermill": {
     "duration": 0.008628,
     "end_time": "2024-10-21T11:26:32.027107",
     "exception": false,
     "start_time": "2024-10-21T11:26:32.018479",
     "status": "completed"
    },
    "tags": [
     "injected-parameters"
    ]
   },
   "outputs": [],
   "source": [
    "# Parameters\n",
    "output_csv = \"output_data/processed_visp.csv\"\n"
   ]
  },
  {
   "cell_type": "markdown",
   "id": "161b2d4e-6858-418e-9530-ee53694d6742",
   "metadata": {
    "papermill": {
     "duration": 0.003008,
     "end_time": "2024-10-21T11:26:32.033115",
     "exception": false,
     "start_time": "2024-10-21T11:26:32.030107",
     "status": "completed"
    },
    "tags": []
   },
   "source": [
    "Read the CSV file"
   ]
  },
  {
   "cell_type": "code",
   "execution_count": 5,
   "id": "766cb135-b6b3-47de-bf26-ae1c85c81c72",
   "metadata": {
    "execution": {
     "iopub.execute_input": "2024-10-21T11:26:32.039642Z",
     "iopub.status.busy": "2024-10-21T11:26:32.039642Z",
     "iopub.status.idle": "2024-10-21T11:26:32.322469Z",
     "shell.execute_reply": "2024-10-21T11:26:32.322469Z"
    },
    "papermill": {
     "duration": 0.288336,
     "end_time": "2024-10-21T11:26:32.324002",
     "exception": false,
     "start_time": "2024-10-21T11:26:32.035666",
     "status": "completed"
    },
    "tags": []
   },
   "outputs": [
    {
     "data": {
      "text/html": [
       "<div>\n",
       "<style scoped>\n",
       "    .dataframe tbody tr th:only-of-type {\n",
       "        vertical-align: middle;\n",
       "    }\n",
       "\n",
       "    .dataframe tbody tr th {\n",
       "        vertical-align: top;\n",
       "    }\n",
       "\n",
       "    .dataframe thead th {\n",
       "        text-align: right;\n",
       "    }\n",
       "</style>\n",
       "<table border=\"1\" class=\"dataframe\">\n",
       "  <thead>\n",
       "    <tr style=\"text-align: right;\">\n",
       "      <th></th>\n",
       "      <th>brain_area_lfp</th>\n",
       "      <th>trial</th>\n",
       "      <th>time</th>\n",
       "      <th>lfp</th>\n",
       "      <th>response_type</th>\n",
       "      <th>feedback_type</th>\n",
       "    </tr>\n",
       "  </thead>\n",
       "  <tbody>\n",
       "    <tr>\n",
       "      <th>0</th>\n",
       "      <td>ACA</td>\n",
       "      <td>1</td>\n",
       "      <td>0.01</td>\n",
       "      <td>-2.850794</td>\n",
       "      <td>1.0</td>\n",
       "      <td>1.0</td>\n",
       "    </tr>\n",
       "    <tr>\n",
       "      <th>1</th>\n",
       "      <td>ACA</td>\n",
       "      <td>1</td>\n",
       "      <td>0.02</td>\n",
       "      <td>-4.039683</td>\n",
       "      <td>1.0</td>\n",
       "      <td>1.0</td>\n",
       "    </tr>\n",
       "    <tr>\n",
       "      <th>2</th>\n",
       "      <td>ACA</td>\n",
       "      <td>1</td>\n",
       "      <td>0.03</td>\n",
       "      <td>-4.195238</td>\n",
       "      <td>1.0</td>\n",
       "      <td>1.0</td>\n",
       "    </tr>\n",
       "    <tr>\n",
       "      <th>3</th>\n",
       "      <td>ACA</td>\n",
       "      <td>1</td>\n",
       "      <td>0.04</td>\n",
       "      <td>-3.228571</td>\n",
       "      <td>1.0</td>\n",
       "      <td>1.0</td>\n",
       "    </tr>\n",
       "    <tr>\n",
       "      <th>4</th>\n",
       "      <td>ACA</td>\n",
       "      <td>1</td>\n",
       "      <td>0.05</td>\n",
       "      <td>0.460317</td>\n",
       "      <td>1.0</td>\n",
       "      <td>1.0</td>\n",
       "    </tr>\n",
       "  </tbody>\n",
       "</table>\n",
       "</div>"
      ],
      "text/plain": [
       "  brain_area_lfp  trial  time       lfp  response_type  feedback_type\n",
       "0            ACA      1  0.01 -2.850794            1.0            1.0\n",
       "1            ACA      1  0.02 -4.039683            1.0            1.0\n",
       "2            ACA      1  0.03 -4.195238            1.0            1.0\n",
       "3            ACA      1  0.04 -3.228571            1.0            1.0\n",
       "4            ACA      1  0.05  0.460317            1.0            1.0"
      ]
     },
     "execution_count": 5,
     "metadata": {},
     "output_type": "execute_result"
    }
   ],
   "source": [
    "df = pd.read_csv(input_csv)\n",
    "df.head()"
   ]
  },
  {
   "cell_type": "markdown",
   "id": "46698dd5-fcd9-4ab0-8f9c-b67aac4273cb",
   "metadata": {
    "papermill": {
     "duration": 0.003001,
     "end_time": "2024-10-21T11:26:32.331010",
     "exception": false,
     "start_time": "2024-10-21T11:26:32.328009",
     "status": "completed"
    },
    "tags": []
   },
   "source": [
    "Filter data based on response type"
   ]
  },
  {
   "cell_type": "code",
   "execution_count": 6,
   "id": "5c524725-be97-433a-9b68-3d08bee40bca",
   "metadata": {
    "execution": {
     "iopub.execute_input": "2024-10-21T11:26:32.334450Z",
     "iopub.status.busy": "2024-10-21T11:26:32.334450Z",
     "iopub.status.idle": "2024-10-21T11:26:32.381002Z",
     "shell.execute_reply": "2024-10-21T11:26:32.381002Z"
    },
    "papermill": {
     "duration": 0.049059,
     "end_time": "2024-10-21T11:26:32.381002",
     "exception": false,
     "start_time": "2024-10-21T11:26:32.331943",
     "status": "completed"
    },
    "tags": []
   },
   "outputs": [],
   "source": [
    "df_filtered = df[df['brain_area_lfp'] == brain_area]"
   ]
  },
  {
   "cell_type": "markdown",
   "id": "5b4272cb-04d5-4853-a549-e1a0e990ea42",
   "metadata": {
    "papermill": {
     "duration": 0.002082,
     "end_time": "2024-10-21T11:26:32.387778",
     "exception": false,
     "start_time": "2024-10-21T11:26:32.385696",
     "status": "completed"
    },
    "tags": []
   },
   "source": [
    "Original data"
   ]
  },
  {
   "cell_type": "code",
   "execution_count": 7,
   "id": "05fd0416-2f02-48a4-83b5-455d6e6eeeaf",
   "metadata": {
    "execution": {
     "iopub.execute_input": "2024-10-21T11:26:32.396130Z",
     "iopub.status.busy": "2024-10-21T11:26:32.396130Z",
     "iopub.status.idle": "2024-10-21T11:26:32.432345Z",
     "shell.execute_reply": "2024-10-21T11:26:32.431841Z"
    },
    "papermill": {
     "duration": 0.041561,
     "end_time": "2024-10-21T11:26:32.433349",
     "exception": false,
     "start_time": "2024-10-21T11:26:32.391788",
     "status": "completed"
    },
    "tags": []
   },
   "outputs": [
    {
     "name": "stdout",
     "output_type": "stream",
     "text": [
      "<class 'pandas.core.frame.DataFrame'>\n",
      "RangeIndex: 637000 entries, 0 to 636999\n",
      "Data columns (total 6 columns):\n",
      " #   Column          Non-Null Count   Dtype  \n",
      "---  ------          --------------   -----  \n",
      " 0   brain_area_lfp  637000 non-null  object \n",
      " 1   trial           637000 non-null  int64  \n",
      " 2   time            637000 non-null  float64\n",
      " 3   lfp             637000 non-null  float64\n",
      " 4   response_type   374500 non-null  float64\n",
      " 5   feedback_type   374500 non-null  float64\n",
      "dtypes: float64(4), int64(1), object(1)\n",
      "memory usage: 29.2+ MB\n"
     ]
    }
   ],
   "source": [
    "df.info()"
   ]
  },
  {
   "cell_type": "code",
   "execution_count": 8,
   "id": "680d0c39-44d9-4efe-b5bb-5ca6665d0a37",
   "metadata": {
    "execution": {
     "iopub.execute_input": "2024-10-21T11:26:32.441860Z",
     "iopub.status.busy": "2024-10-21T11:26:32.440861Z",
     "iopub.status.idle": "2024-10-21T11:26:32.469173Z",
     "shell.execute_reply": "2024-10-21T11:26:32.469173Z"
    },
    "papermill": {
     "duration": 0.033146,
     "end_time": "2024-10-21T11:26:32.470496",
     "exception": false,
     "start_time": "2024-10-21T11:26:32.437350",
     "status": "completed"
    },
    "tags": []
   },
   "outputs": [
    {
     "data": {
      "text/plain": [
       "array(['ACA', 'LS', 'MOs', 'CA3', 'DG', 'SUB', 'VISp'], dtype=object)"
      ]
     },
     "execution_count": 8,
     "metadata": {},
     "output_type": "execute_result"
    }
   ],
   "source": [
    "df['brain_area_lfp'].unique()"
   ]
  },
  {
   "cell_type": "markdown",
   "id": "0a1358b0-ef66-4d28-9596-aa6ae1d25501",
   "metadata": {
    "papermill": {
     "duration": 0.00364,
     "end_time": "2024-10-21T11:26:32.478148",
     "exception": false,
     "start_time": "2024-10-21T11:26:32.474508",
     "status": "completed"
    },
    "tags": []
   },
   "source": [
    "Filtered data for the given brain area"
   ]
  },
  {
   "cell_type": "code",
   "execution_count": 9,
   "id": "047ceff8-fe3b-4cae-831d-8db2411a145e",
   "metadata": {
    "execution": {
     "iopub.execute_input": "2024-10-21T11:26:32.486257Z",
     "iopub.status.busy": "2024-10-21T11:26:32.485260Z",
     "iopub.status.idle": "2024-10-21T11:26:32.495713Z",
     "shell.execute_reply": "2024-10-21T11:26:32.495713Z"
    },
    "papermill": {
     "duration": 0.015984,
     "end_time": "2024-10-21T11:26:32.496721",
     "exception": false,
     "start_time": "2024-10-21T11:26:32.480737",
     "status": "completed"
    },
    "tags": []
   },
   "outputs": [
    {
     "name": "stdout",
     "output_type": "stream",
     "text": [
      "<class 'pandas.core.frame.DataFrame'>\n",
      "Index: 91000 entries, 546000 to 636999\n",
      "Data columns (total 6 columns):\n",
      " #   Column          Non-Null Count  Dtype  \n",
      "---  ------          --------------  -----  \n",
      " 0   brain_area_lfp  91000 non-null  object \n",
      " 1   trial           91000 non-null  int64  \n",
      " 2   time            91000 non-null  float64\n",
      " 3   lfp             91000 non-null  float64\n",
      " 4   response_type   53500 non-null  float64\n",
      " 5   feedback_type   53500 non-null  float64\n",
      "dtypes: float64(4), int64(1), object(1)\n",
      "memory usage: 4.9+ MB\n"
     ]
    }
   ],
   "source": [
    "df_filtered.info()"
   ]
  },
  {
   "cell_type": "code",
   "execution_count": 10,
   "id": "be1d6b17-5faf-4e84-b79c-41212fdb3d9b",
   "metadata": {
    "execution": {
     "iopub.execute_input": "2024-10-21T11:26:32.505233Z",
     "iopub.status.busy": "2024-10-21T11:26:32.505233Z",
     "iopub.status.idle": "2024-10-21T11:26:32.512622Z",
     "shell.execute_reply": "2024-10-21T11:26:32.512622Z"
    },
    "papermill": {
     "duration": 0.0144,
     "end_time": "2024-10-21T11:26:32.514629",
     "exception": false,
     "start_time": "2024-10-21T11:26:32.500229",
     "status": "completed"
    },
    "tags": []
   },
   "outputs": [
    {
     "data": {
      "text/plain": [
       "array(['VISp'], dtype=object)"
      ]
     },
     "execution_count": 10,
     "metadata": {},
     "output_type": "execute_result"
    }
   ],
   "source": [
    "df_filtered['brain_area_lfp'].unique()"
   ]
  },
  {
   "cell_type": "markdown",
   "id": "eb2b8aff-0705-48e4-aef9-e8af281d8aa0",
   "metadata": {
    "papermill": {
     "duration": 0.003312,
     "end_time": "2024-10-21T11:26:32.522244",
     "exception": false,
     "start_time": "2024-10-21T11:26:32.518932",
     "status": "completed"
    },
    "tags": []
   },
   "source": [
    "Create output directory if it does not exist"
   ]
  },
  {
   "cell_type": "code",
   "execution_count": 11,
   "id": "ebf79943-b086-4da8-a4b5-15afc88e2934",
   "metadata": {
    "execution": {
     "iopub.execute_input": "2024-10-21T11:26:32.530242Z",
     "iopub.status.busy": "2024-10-21T11:26:32.530242Z",
     "iopub.status.idle": "2024-10-21T11:26:32.533366Z",
     "shell.execute_reply": "2024-10-21T11:26:32.533366Z"
    },
    "papermill": {
     "duration": 0.009118,
     "end_time": "2024-10-21T11:26:32.534374",
     "exception": false,
     "start_time": "2024-10-21T11:26:32.525256",
     "status": "completed"
    },
    "tags": []
   },
   "outputs": [],
   "source": [
    "output_dir = os.path.dirname(output_csv)\n",
    "if not os.path.exists(output_dir):\n",
    "    os.makedirs(output_dir)"
   ]
  },
  {
   "cell_type": "markdown",
   "id": "114fd219-cab5-489d-b88e-3f83236724e1",
   "metadata": {
    "papermill": {
     "duration": 0.003948,
     "end_time": "2024-10-21T11:26:32.542321",
     "exception": false,
     "start_time": "2024-10-21T11:26:32.538373",
     "status": "completed"
    },
    "tags": []
   },
   "source": [
    "Write to output_csv"
   ]
  },
  {
   "cell_type": "code",
   "execution_count": 12,
   "id": "e0d28b77-8a64-42cf-8c5b-c548938dcbe2",
   "metadata": {
    "execution": {
     "iopub.execute_input": "2024-10-21T11:26:32.548894Z",
     "iopub.status.busy": "2024-10-21T11:26:32.548894Z",
     "iopub.status.idle": "2024-10-21T11:26:32.810343Z",
     "shell.execute_reply": "2024-10-21T11:26:32.810343Z"
    },
    "papermill": {
     "duration": 0.266814,
     "end_time": "2024-10-21T11:26:32.812261",
     "exception": false,
     "start_time": "2024-10-21T11:26:32.545447",
     "status": "completed"
    },
    "tags": []
   },
   "outputs": [],
   "source": [
    "df_filtered = df_filtered.drop(columns=['brain_area_lfp'])\n",
    "df_filtered.to_csv(output_csv, index=False)"
   ]
  }
 ],
 "metadata": {
  "kernelspec": {
   "display_name": "Python 3 (ipykernel)",
   "language": "python",
   "name": "python3"
  },
  "language_info": {
   "codemirror_mode": {
    "name": "ipython",
    "version": 3
   },
   "file_extension": ".py",
   "mimetype": "text/x-python",
   "name": "python",
   "nbconvert_exporter": "python",
   "pygments_lexer": "ipython3",
   "version": "3.12.7"
  },
  "papermill": {
   "default_parameters": {},
   "duration": 3.782965,
   "end_time": "2024-10-21T11:26:33.049490",
   "environment_variables": {},
   "exception": null,
   "input_path": "parameterization/01_notebook_brain_area.ipynb",
   "output_path": "01_notebook_visp.ipynb",
   "parameters": {
    "output_csv": "output_data/processed_visp.csv"
   },
   "start_time": "2024-10-21T11:26:29.266525",
   "version": "2.6.0"
  }
 },
 "nbformat": 4,
 "nbformat_minor": 5
}